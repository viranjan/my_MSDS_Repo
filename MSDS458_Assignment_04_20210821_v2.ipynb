{
  "nbformat": 4,
  "nbformat_minor": 0,
  "metadata": {
    "accelerator": "GPU",
    "colab": {
      "name": "MSDS458_Assignment_04_20210821_v2.ipynb",
      "provenance": [],
      "collapsed_sections": [],
      "toc_visible": true,
      "machine_shape": "hm",
      "include_colab_link": true
    },
    "kernelspec": {
      "display_name": "Python 3",
      "language": "python",
      "name": "python3"
    },
    "language_info": {
      "codemirror_mode": {
        "name": "ipython",
        "version": 3
      },
      "file_extension": ".py",
      "mimetype": "text/x-python",
      "name": "python",
      "nbconvert_exporter": "python",
      "pygments_lexer": "ipython3",
      "version": "3.6.9"
    },
    "toc": {
      "base_numbering": 1,
      "nav_menu": {},
      "number_sections": false,
      "sideBar": true,
      "skip_h1_title": false,
      "title_cell": "Table of Contents",
      "title_sidebar": "Contents",
      "toc_cell": false,
      "toc_position": {},
      "toc_section_display": true,
      "toc_window_display": false
    }
  },
  "cells": [
    {
      "cell_type": "markdown",
      "metadata": {
        "id": "view-in-github",
        "colab_type": "text"
      },
      "source": [
        "<a href=\"https://colab.research.google.com/github/viranjan/my_MSDS_Repo/blob/main/MSDS458_Assignment_04_20210821_v2.ipynb\" target=\"_parent\"><img src=\"https://colab.research.google.com/assets/colab-badge.svg\" alt=\"Open In Colab\"/></a>"
      ]
    },
    {
      "cell_type": "markdown",
      "metadata": {
        "id": "Cfh9kVB-rpjo"
      },
      "source": [
        "<img src=\"https://github.com/djp840/MSDS_458_Public/blob/master/images/NorthwesternHeader.png?raw=1\">"
      ]
    },
    {
      "cell_type": "markdown",
      "metadata": {
        "id": "pRAx1f1ir1St"
      },
      "source": [
        "## MSDS458 Research Assignment 4"
      ]
    },
    {
      "cell_type": "markdown",
      "metadata": {
        "id": "jQnyR1_aFk-t"
      },
      "source": [
        "### Analyze IMDB Movie Review Data Set <br>\n",
        "\n",
        "Large Movie Review Dataset. This is a dataset for binary sentiment classification containing substantially more data than previous benchmark datasets. We provide a set of 25,000 highly polar movie reviews for training, and 25,000 for testing. There is additional unlabeled data for use as well.<br> \n",
        "\n",
        "For more information, please refer to the link http://ai.stanford.edu/~amaas/data/sentiment/<br> \n",
        "\n",
        "Homepage: https://arxiv.org/abs/1509.01626<br>\n",
        "\n",
        "Source code: tfds.text.IMDBReviews - https://www.tensorflow.org/datasets/catalog/imdb_reviews#:~:text=tfds.text.IMDBReviews\n",
        "\n",
        "Download size: 80.23 MiB\n"
      ]
    },
    {
      "cell_type": "markdown",
      "metadata": {
        "id": "t-Jjr3rNr5PR"
      },
      "source": [
        "## Import packages "
      ]
    },
    {
      "cell_type": "code",
      "metadata": {
        "id": "mbrX9qUZvfs1"
      },
      "source": [
        "import datetime\n",
        "from packaging import version\n",
        "from collections import Counter\n",
        "import numpy as np\n",
        "import pandas as pd\n",
        "import matplotlib.pyplot as plt\n",
        "import seaborn as sns\n",
        "\n",
        "# TensorFlow and tf.keras\n",
        "import tensorflow as tf\n",
        "from tensorflow import keras\n",
        "import tensorflow_datasets as tfds"
      ],
      "execution_count": null,
      "outputs": []
    },
    {
      "cell_type": "code",
      "metadata": {
        "id": "Rn-mj2I3yRRJ"
      },
      "source": [
        "#tf.get_logger().setLevel('INFO')"
      ],
      "execution_count": null,
      "outputs": []
    },
    {
      "cell_type": "code",
      "metadata": {
        "id": "q0H8HuzHrWwN"
      },
      "source": [
        "%matplotlib inline\n",
        "np.set_printoptions(precision=3, suppress=True)"
      ],
      "execution_count": null,
      "outputs": []
    },
    {
      "cell_type": "markdown",
      "metadata": {
        "id": "b2iqmNYKxw3A"
      },
      "source": [
        "### Create a Helper Function to Plot Graphs:"
      ]
    },
    {
      "cell_type": "code",
      "metadata": {
        "id": "gg13oDZNxxMp"
      },
      "source": [
        "def plot_graphs(history, metric):\n",
        "  plt.plot(history.history[metric])\n",
        "  plt.plot(history.history['val_'+metric], '')\n",
        "  plt.xlabel(\"Epochs\")\n",
        "  plt.ylabel(metric)\n",
        "  plt.legend([metric, 'val_'+metric])"
      ],
      "execution_count": null,
      "outputs": []
    },
    {
      "cell_type": "markdown",
      "metadata": {
        "id": "iKucNfkrsqrP"
      },
      "source": [
        "### Verify TensorFlow Version and Keras Version"
      ]
    },
    {
      "cell_type": "code",
      "metadata": {
        "colab": {
          "base_uri": "https://localhost:8080/"
        },
        "id": "g_BoGg9JrWzj",
        "outputId": "6e066ff7-7349-4853-8e7f-11dcb60b221c"
      },
      "source": [
        "print(\"This notebook requires TensorFlow 2.0 or above\")\n",
        "print(\"TensorFlow version: \", tf.__version__)\n",
        "assert version.parse(tf.__version__).release[0] >=2"
      ],
      "execution_count": null,
      "outputs": [
        {
          "output_type": "stream",
          "text": [
            "This notebook requires TensorFlow 2.0 or above\n",
            "TensorFlow version:  2.6.0\n"
          ],
          "name": "stdout"
        }
      ]
    },
    {
      "cell_type": "code",
      "metadata": {
        "colab": {
          "base_uri": "https://localhost:8080/"
        },
        "id": "U_bLWHP4rW3b",
        "outputId": "1447d9ac-0ebb-4ab9-bd0d-18b734ae73ff"
      },
      "source": [
        "print(\"Keras version: \", keras.__version__)"
      ],
      "execution_count": null,
      "outputs": [
        {
          "output_type": "stream",
          "text": [
            "Keras version:  2.6.0\n"
          ],
          "name": "stdout"
        }
      ]
    },
    {
      "cell_type": "markdown",
      "metadata": {
        "id": "-mFyXjJmtJ3E"
      },
      "source": [
        "### Mount Google Drive to Colab Environment"
      ]
    },
    {
      "cell_type": "code",
      "metadata": {
        "id": "CXm3H81YrW8-"
      },
      "source": [
        "#from google.colab import drive\n",
        "#drive.mount('/content/gdrive')"
      ],
      "execution_count": null,
      "outputs": []
    },
    {
      "cell_type": "markdown",
      "metadata": {
        "id": "X6s4xhh5ysp6"
      },
      "source": [
        "###  TensorFlow Datasets Information<br>\n",
        "<div class=\"alert alert-block alert-info\">\n",
        "    <b> IMDBReviews</b><br>\n",
        "    See https://www.tensorflow.org/datasets/catalog/imdb_reviews\n",
        "    </div>"
      ]
    },
    {
      "cell_type": "markdown",
      "metadata": {
        "id": "cL3ewSkAF4yF"
      },
      "source": [
        "Get all the words in the documents (as well as the number of words in each document) by using the encoder to get the indices associated with each token and then translating the indices to tokens. But first we need to get the \"unpadded\" new articles so that we can get their length."
      ]
    },
    {
      "cell_type": "code",
      "metadata": {
        "colab": {
          "base_uri": "https://localhost:8080/"
        },
        "id": "VNj2HSxNtTNS",
        "scrolled": false,
        "outputId": "40ee790a-bae5-4dd2-b665-1c4dd43009bd"
      },
      "source": [
        "#register  IMDBReviews so that tfds.load doesn't generate a checksum (mismatch) error\n",
        "!python -m tensorflow_datasets.scripts.download_and_prepare --register_checksums --datasets=IMDBReviews\n",
        "\n",
        "# https://www.tensorflow.org/datasets/splits\n",
        "# The full `train` and `test` splits, interleaved together.\n",
        "ri = tfds.core.ReadInstruction('train') + tfds.core.ReadInstruction('test')\n",
        "dataset_all, info = tfds.load('IMDBReviews', with_info=True,  split=ri, as_supervised=True)"
      ],
      "execution_count": null,
      "outputs": [
        {
          "output_type": "stream",
          "text": [
            "2021-08-27 09:45:30.328063: I tensorflow/stream_executor/cuda/cuda_gpu_executor.cc:937] successful NUMA node read from SysFS had negative value (-1), but there must be at least one NUMA node, so returning NUMA node zero\n",
            "2021-08-27 09:45:30.972763: I tensorflow/stream_executor/cuda/cuda_gpu_executor.cc:937] successful NUMA node read from SysFS had negative value (-1), but there must be at least one NUMA node, so returning NUMA node zero\n",
            "2021-08-27 09:45:30.973651: I tensorflow/stream_executor/cuda/cuda_gpu_executor.cc:937] successful NUMA node read from SysFS had negative value (-1), but there must be at least one NUMA node, so returning NUMA node zero\n",
            "I0827 09:45:30.974689 140073529972608 download_and_prepare.py:200] Running download_and_prepare for dataset(s):\n",
            "IMDBReviews\n",
            "I0827 09:45:30.975233 140073529972608 dataset_builder.py:811] No config specified, defaulting to first: imdb_reviews/plain_text\n",
            "2021-08-27 09:45:30.982977: I tensorflow/core/platform/cloud/google_auth_provider.cc:180] Attempting an empty bearer token since no token was retrieved from files, and GCE metadata check was skipped.\n",
            "2021-08-27 09:45:31.034839: I tensorflow/core/platform/cloud/google_auth_provider.cc:180] Attempting an empty bearer token since no token was retrieved from files, and GCE metadata check was skipped.\n",
            "2021-08-27 09:45:31.074001: I tensorflow/core/platform/cloud/google_auth_provider.cc:180] Attempting an empty bearer token since no token was retrieved from files, and GCE metadata check was skipped.\n",
            "I0827 09:45:31.107411 140073529972608 dataset_info.py:434] Load pre-computed DatasetInfo (eg: splits, num examples,...) from GCS: imdb_reviews/plain_text/1.0.0\n",
            "2021-08-27 09:45:31.115943: I tensorflow/core/platform/cloud/google_auth_provider.cc:180] Attempting an empty bearer token since no token was retrieved from files, and GCE metadata check was skipped.\n",
            "2021-08-27 09:45:31.178764: I tensorflow/core/platform/cloud/google_auth_provider.cc:180] Attempting an empty bearer token since no token was retrieved from files, and GCE metadata check was skipped.\n",
            "I0827 09:45:31.255523 140073529972608 dataset_info.py:361] Load dataset info from /tmp/tmpa00pk5y8tfds\n",
            "I0827 09:45:31.257808 140073529972608 dataset_info.py:405] Field info.config_name from disk and from code do not match. Keeping the one from code.\n",
            "I0827 09:45:31.257958 140073529972608 dataset_info.py:405] Field info.config_description from disk and from code do not match. Keeping the one from code.\n",
            "I0827 09:45:31.258075 140073529972608 dataset_info.py:405] Field info.citation from disk and from code do not match. Keeping the one from code.\n",
            "I0827 09:45:31.258995 140073529972608 dataset_info.py:434] Load pre-computed DatasetInfo (eg: splits, num examples,...) from GCS: imdb_reviews/plain_text/1.0.0\n",
            "2021-08-27 09:45:31.263406: I tensorflow/core/platform/cloud/google_auth_provider.cc:180] Attempting an empty bearer token since no token was retrieved from files, and GCE metadata check was skipped.\n",
            "2021-08-27 09:45:31.314530: I tensorflow/core/platform/cloud/google_auth_provider.cc:180] Attempting an empty bearer token since no token was retrieved from files, and GCE metadata check was skipped.\n",
            "I0827 09:45:31.362426 140073529972608 dataset_info.py:361] Load dataset info from /tmp/tmphkujd5b0tfds\n",
            "I0827 09:45:31.364753 140073529972608 dataset_info.py:405] Field info.config_name from disk and from code do not match. Keeping the one from code.\n",
            "I0827 09:45:31.364920 140073529972608 dataset_info.py:405] Field info.config_description from disk and from code do not match. Keeping the one from code.\n",
            "I0827 09:45:31.365043 140073529972608 dataset_info.py:405] Field info.citation from disk and from code do not match. Keeping the one from code.\n",
            "I0827 09:45:31.365354 140073529972608 download_and_prepare.py:138] download_and_prepare for dataset imdb_reviews/plain_text/1.0.0...\n",
            "I0827 09:45:31.365709 140073529972608 dataset_builder.py:357] Generating dataset imdb_reviews (/root/tensorflow_datasets/imdb_reviews/plain_text/1.0.0)\n",
            "\u001b[1mDownloading and preparing dataset imdb_reviews/plain_text/1.0.0 (download: 80.23 MiB, generated: Unknown size, total: 80.23 MiB) to /root/tensorflow_datasets/imdb_reviews/plain_text/1.0.0...\u001b[0m\n",
            "2021-08-27 09:45:31.550322: I tensorflow/core/platform/cloud/google_auth_provider.cc:180] Attempting an empty bearer token since no token was retrieved from files, and GCE metadata check was skipped.\n",
            "2021-08-27 09:45:31.591229: I tensorflow/core/platform/cloud/google_auth_provider.cc:180] Attempting an empty bearer token since no token was retrieved from files, and GCE metadata check was skipped.\n",
            "Dl Completed...: 0 url [00:00, ? url/s]\n",
            "Dl Size...: 0 MiB [00:00, ? MiB/s]\u001b[AI0827 09:45:31.634392 140073529972608 download_manager.py:476] Downloading http://ai.stanford.edu/~amaas/data/sentiment/aclImdb_v1.tar.gz into /root/tensorflow_datasets/downloads/ai.stanfor.edu_amaas_sentime_aclImdb_v1PaujRp-TxjBWz59jHXsMDm5WiexbxzaFQkEnXc3Tvo8.tar.gz.tmp.f12e49dcd1bd43b09819f901705f1b17...\n",
            "Dl Completed...:   0% 0/1 [00:00<?, ? url/s]\n",
            "Dl Completed...:   0% 0/1 [00:00<?, ? url/s]\n",
            "Dl Size...:   0% 0/80 [00:00<?, ? MiB/s]\u001b[A\n",
            "Dl Completed...:   0% 0/1 [00:00<?, ? url/s]\n",
            "Dl Completed...:   0% 0/1 [00:00<?, ? url/s]\n",
            "Dl Size...:   2% 2/80 [00:00<00:42,  1.85 MiB/s]\u001b[A\n",
            "Dl Completed...:   0% 0/1 [00:00<?, ? url/s]\n",
            "Dl Completed...:   0% 0/1 [00:00<?, ? url/s]\n",
            "Dl Completed...:   0% 0/1 [00:00<?, ? url/s]\n",
            "Dl Size...:   6% 5/80 [00:00<00:13,  5.55 MiB/s]\u001b[A\n",
            "Dl Completed...:   0% 0/1 [00:00<?, ? url/s]\n",
            "Dl Completed...:   0% 0/1 [00:00<?, ? url/s]\n",
            "Dl Completed...:   0% 0/1 [00:00<?, ? url/s]\n",
            "Dl Completed...:   0% 0/1 [00:00<?, ? url/s]\n",
            "Dl Size...:  11% 9/80 [00:00<00:06, 11.03 MiB/s]\u001b[A\n",
            "Dl Completed...:   0% 0/1 [00:00<?, ? url/s]\n",
            "Dl Completed...:   0% 0/1 [00:00<?, ? url/s]\n",
            "Dl Completed...:   0% 0/1 [00:00<?, ? url/s]\n",
            "Dl Completed...:   0% 0/1 [00:00<?, ? url/s]\n",
            "Dl Completed...:   0% 0/1 [00:00<?, ? url/s]\n",
            "Dl Size...:  18% 14/80 [00:00<00:03, 17.90 MiB/s]\u001b[A\n",
            "Dl Completed...:   0% 0/1 [00:00<?, ? url/s]\n",
            "Dl Completed...:   0% 0/1 [00:01<?, ? url/s]\n",
            "Dl Completed...:   0% 0/1 [00:01<?, ? url/s]\n",
            "Dl Completed...:   0% 0/1 [00:01<?, ? url/s]\n",
            "Dl Completed...:   0% 0/1 [00:01<?, ? url/s]\n",
            "Dl Size...:  24% 19/80 [00:01<00:02, 24.65 MiB/s]\u001b[A\n",
            "Dl Completed...:   0% 0/1 [00:01<?, ? url/s]\n",
            "Dl Completed...:   0% 0/1 [00:01<?, ? url/s]\n",
            "Dl Completed...:   0% 0/1 [00:01<?, ? url/s]\n",
            "Dl Completed...:   0% 0/1 [00:01<?, ? url/s]\n",
            "Dl Completed...:   0% 0/1 [00:01<?, ? url/s]\n",
            "Dl Size...:  30% 24/80 [00:01<00:01, 30.97 MiB/s]\u001b[A\n",
            "Dl Completed...:   0% 0/1 [00:01<?, ? url/s]\n",
            "Dl Completed...:   0% 0/1 [00:01<?, ? url/s]\n",
            "Dl Completed...:   0% 0/1 [00:01<?, ? url/s]\n",
            "Dl Completed...:   0% 0/1 [00:01<?, ? url/s]\n",
            "Dl Completed...:   0% 0/1 [00:01<?, ? url/s]\n",
            "Dl Completed...:   0% 0/1 [00:01<?, ? url/s]\n",
            "Dl Size...:  38% 30/80 [00:01<00:01, 35.78 MiB/s]\u001b[A\n",
            "Dl Completed...:   0% 0/1 [00:01<?, ? url/s]\n",
            "Dl Completed...:   0% 0/1 [00:01<?, ? url/s]\n",
            "Dl Completed...:   0% 0/1 [00:01<?, ? url/s]\n",
            "Dl Completed...:   0% 0/1 [00:01<?, ? url/s]\n",
            "Dl Completed...:   0% 0/1 [00:01<?, ? url/s]\n",
            "Dl Size...:  44% 35/80 [00:01<00:01, 40.74 MiB/s]\u001b[A\n",
            "Dl Completed...:   0% 0/1 [00:01<?, ? url/s]\n",
            "Dl Completed...:   0% 0/1 [00:01<?, ? url/s]\n",
            "Dl Completed...:   0% 0/1 [00:01<?, ? url/s]\n",
            "Dl Completed...:   0% 0/1 [00:01<?, ? url/s]\n",
            "Dl Completed...:   0% 0/1 [00:01<?, ? url/s]\n",
            "Dl Size...:  50% 40/80 [00:01<00:00, 43.00 MiB/s]\u001b[A\n",
            "Dl Completed...:   0% 0/1 [00:01<?, ? url/s]\n",
            "Dl Completed...:   0% 0/1 [00:01<?, ? url/s]\n",
            "Dl Completed...:   0% 0/1 [00:01<?, ? url/s]\n",
            "Dl Completed...:   0% 0/1 [00:01<?, ? url/s]\n",
            "Dl Completed...:   0% 0/1 [00:01<?, ? url/s]\n",
            "Dl Completed...:   0% 0/1 [00:01<?, ? url/s]\n",
            "Dl Size...:  57% 46/80 [00:01<00:00, 44.32 MiB/s]\u001b[A\n",
            "Dl Completed...:   0% 0/1 [00:01<?, ? url/s]\n",
            "Dl Completed...:   0% 0/1 [00:01<?, ? url/s]\n",
            "Dl Completed...:   0% 0/1 [00:01<?, ? url/s]\n",
            "Dl Completed...:   0% 0/1 [00:01<?, ? url/s]\n",
            "Dl Completed...:   0% 0/1 [00:01<?, ? url/s]\n",
            "Dl Completed...:   0% 0/1 [00:01<?, ? url/s]\n",
            "Dl Size...:  65% 52/80 [00:01<00:00, 46.94 MiB/s]\u001b[A\n",
            "Dl Completed...:   0% 0/1 [00:01<?, ? url/s]\n",
            "Dl Completed...:   0% 0/1 [00:01<?, ? url/s]\n",
            "Dl Completed...:   0% 0/1 [00:01<?, ? url/s]\n",
            "Dl Completed...:   0% 0/1 [00:01<?, ? url/s]\n",
            "Dl Completed...:   0% 0/1 [00:01<?, ? url/s]\n",
            "Dl Completed...:   0% 0/1 [00:01<?, ? url/s]\n",
            "Dl Size...:  72% 58/80 [00:01<00:00, 48.93 MiB/s]\u001b[A\n",
            "Dl Completed...:   0% 0/1 [00:01<?, ? url/s]\n",
            "Dl Completed...:   0% 0/1 [00:01<?, ? url/s]\n",
            "Dl Completed...:   0% 0/1 [00:01<?, ? url/s]\n",
            "Dl Completed...:   0% 0/1 [00:01<?, ? url/s]\n",
            "Dl Completed...:   0% 0/1 [00:01<?, ? url/s]\n",
            "Dl Completed...:   0% 0/1 [00:01<?, ? url/s]\n",
            "Dl Size...:  80% 64/80 [00:01<00:00, 50.22 MiB/s]\u001b[A\n",
            "Dl Completed...:   0% 0/1 [00:01<?, ? url/s]\n",
            "Dl Completed...:   0% 0/1 [00:01<?, ? url/s]\n",
            "Dl Completed...:   0% 0/1 [00:01<?, ? url/s]\n",
            "Dl Completed...:   0% 0/1 [00:02<?, ? url/s]\n",
            "Dl Completed...:   0% 0/1 [00:02<?, ? url/s]\n",
            "Dl Completed...:   0% 0/1 [00:02<?, ? url/s]\n",
            "Dl Size...:  88% 70/80 [00:02<00:00, 51.25 MiB/s]\u001b[A\n",
            "Dl Completed...:   0% 0/1 [00:02<?, ? url/s]\n",
            "Dl Completed...:   0% 0/1 [00:02<?, ? url/s]\n",
            "Dl Completed...:   0% 0/1 [00:02<?, ? url/s]\n",
            "Dl Completed...:   0% 0/1 [00:02<?, ? url/s]\n",
            "Dl Completed...:   0% 0/1 [00:02<?, ? url/s]\n",
            "Dl Completed...:   0% 0/1 [00:02<?, ? url/s]\n",
            "Dl Size...:  95% 76/80 [00:02<00:00, 51.76 MiB/s]\u001b[A\n",
            "Dl Completed...:   0% 0/1 [00:02<?, ? url/s]\n",
            "Dl Completed...:   0% 0/1 [00:02<?, ? url/s]\n",
            "Dl Completed...:   0% 0/1 [00:02<?, ? url/s]\n",
            "Dl Completed...:   0% 0/1 [00:02<?, ? url/s]\n",
            "Dl Completed...: 100% 1/1 [00:02<00:00,  2.24s/ url]\n",
            "Dl Size...: 100% 80/80 [00:02<00:00, 52.11 MiB/s]\u001b[A\n",
            "Dl Size...: 100% 80/80 [00:02<00:00, 35.66 MiB/s]\n",
            "\n",
            "Dl Completed...: 100% 1/1 [00:02<00:00,  2.24s/ url]\n",
            "I0827 09:45:33.878072 140073529972608 dataset_builder.py:970] Generating split train\n",
            "Shuffling and writing examples to /root/tensorflow_datasets/imdb_reviews/plain_text/1.0.0.incompleteB62QCI/imdb_reviews-train.tfrecord\n",
            " 78% 19438/25000 [00:00<00:00, 194356.09 examples/s]I0827 09:45:51.722961 140073529972608 tfrecords_writer.py:226] Done writing /root/tensorflow_datasets/imdb_reviews/plain_text/1.0.0.incompleteB62QCI/imdb_reviews-train.tfrecord. Shard lengths: [25000]\n",
            "I0827 09:45:51.723849 140073529972608 dataset_builder.py:970] Generating split test\n",
            "Shuffling and writing examples to /root/tensorflow_datasets/imdb_reviews/plain_text/1.0.0.incompleteB62QCI/imdb_reviews-test.tfrecord\n",
            " 77% 19190/25000 [00:00<00:00, 191888.75 examples/s]I0827 09:46:09.453367 140073529972608 tfrecords_writer.py:226] Done writing /root/tensorflow_datasets/imdb_reviews/plain_text/1.0.0.incompleteB62QCI/imdb_reviews-test.tfrecord. Shard lengths: [25000]\n",
            "I0827 09:46:09.454151 140073529972608 dataset_builder.py:970] Generating split unsupervised\n",
            "Shuffling and writing examples to /root/tensorflow_datasets/imdb_reviews/plain_text/1.0.0.incompleteB62QCI/imdb_reviews-unsupervised.tfrecord\n",
            " 66% 33052/50000 [00:00<00:00, 173376.32 examples/s]I0827 09:46:34.692379 140073529972608 tfrecords_writer.py:226] Done writing /root/tensorflow_datasets/imdb_reviews/plain_text/1.0.0.incompleteB62QCI/imdb_reviews-unsupervised.tfrecord. Shard lengths: [50000]\n",
            "I0827 09:46:34.694747 140073529972608 dataset_builder.py:412] Skipping computing stats for mode ComputeStatsMode.SKIP.\n",
            "W0827 09:46:34.695136 140073529972608 text_feature.py:194] Dataset is using deprecated text encoder API which will be removed soon. Please use the plain_text version of the dataset and migrate to `tensorflow_text`.\n",
            "\u001b[1mDataset imdb_reviews downloaded and prepared to /root/tensorflow_datasets/imdb_reviews/plain_text/1.0.0. Subsequent calls will reuse this data.\u001b[0m\n",
            "\u001b[1mname: \"imdb_reviews\"\n",
            "description: \"Large Movie Review Dataset.\\nThis is a dataset for binary sentiment classification containing substantially more data than previous benchmark datasets. We provide a set of 25,000 highly polar movie reviews for training, and 25,000 for testing. There is additional unlabeled data for use as well.\"\n",
            "citation: \"@InProceedings{maas-EtAl:2011:ACL-HLT2011,\\n  author    = {Maas, Andrew L.  and  Daly, Raymond E.  and  Pham, Peter T.  and  Huang, Dan  and  Ng, Andrew Y.  and  Potts, Christopher},\\n  title     = {Learning Word Vectors for Sentiment Analysis},\\n  booktitle = {Proceedings of the 49th Annual Meeting of the Association for Computational Linguistics: Human Language Technologies},\\n  month     = {June},\\n  year      = {2011},\\n  address   = {Portland, Oregon, USA},\\n  publisher = {Association for Computational Linguistics},\\n  pages     = {142--150},\\n  url       = {http://www.aclweb.org/anthology/P11-1015}\\n}\"\n",
            "size_in_bytes: 84125825\n",
            "location {\n",
            "  urls: \"http://ai.stanford.edu/~amaas/data/sentiment/\"\n",
            "}\n",
            "schema {\n",
            "  feature {\n",
            "    name: \"label\"\n",
            "    type: INT\n",
            "  }\n",
            "  feature {\n",
            "    name: \"text\"\n",
            "    type: BYTES\n",
            "  }\n",
            "}\n",
            "splits {\n",
            "  name: \"test\"\n",
            "  num_shards: 10\n",
            "  statistics {\n",
            "    num_examples: 25000\n",
            "    features {\n",
            "      name: \"label\"\n",
            "      num_stats {\n",
            "        common_stats {\n",
            "          num_non_missing: 25000\n",
            "        }\n",
            "        max: 1.0\n",
            "      }\n",
            "    }\n",
            "    features {\n",
            "      name: \"text\"\n",
            "      type: BYTES\n",
            "      bytes_stats {\n",
            "        common_stats {\n",
            "          num_non_missing: 25000\n",
            "        }\n",
            "      }\n",
            "    }\n",
            "  }\n",
            "  shard_lengths: 25000\n",
            "}\n",
            "splits {\n",
            "  name: \"train\"\n",
            "  num_shards: 10\n",
            "  statistics {\n",
            "    num_examples: 25000\n",
            "    features {\n",
            "      name: \"label\"\n",
            "      num_stats {\n",
            "        common_stats {\n",
            "          num_non_missing: 25000\n",
            "        }\n",
            "        max: 1.0\n",
            "      }\n",
            "    }\n",
            "    features {\n",
            "      name: \"text\"\n",
            "      type: BYTES\n",
            "      bytes_stats {\n",
            "        common_stats {\n",
            "          num_non_missing: 25000\n",
            "        }\n",
            "      }\n",
            "    }\n",
            "  }\n",
            "  shard_lengths: 25000\n",
            "}\n",
            "splits {\n",
            "  name: \"unsupervised\"\n",
            "  num_shards: 20\n",
            "  statistics {\n",
            "    num_examples: 50000\n",
            "    features {\n",
            "      name: \"label\"\n",
            "      num_stats {\n",
            "        common_stats {\n",
            "          num_non_missing: 50000\n",
            "        }\n",
            "        min: -1.0\n",
            "        max: -1.0\n",
            "      }\n",
            "    }\n",
            "    features {\n",
            "      name: \"text\"\n",
            "      type: BYTES\n",
            "      bytes_stats {\n",
            "        common_stats {\n",
            "          num_non_missing: 50000\n",
            "        }\n",
            "      }\n",
            "    }\n",
            "  }\n",
            "  shard_lengths: 50000\n",
            "}\n",
            "supervised_keys {\n",
            "  input: \"text\"\n",
            "  output: \"label\"\n",
            "}\n",
            "version: \"1.0.0\"\n",
            "download_size: 84125825\n",
            "config_name: \"plain_text\"\n",
            "config_description: \"Plain text\"\n",
            "\u001b[0m\n",
            "W0827 09:46:34.697335 140073529972608 text_feature.py:61] TFDS datasets with text encoding are deprecated and will be removed in a future version. Instead, you should use the plain text version and tokenize the text using `tensorflow_text` (See: https://www.tensorflow.org/tutorials/tensorflow_text/intro#tfdata_example)\n",
            "2021-08-27 09:46:34.697871: I tensorflow/core/platform/cloud/google_auth_provider.cc:180] Attempting an empty bearer token since no token was retrieved from files, and GCE metadata check was skipped.\n",
            "2021-08-27 09:46:34.738406: I tensorflow/core/platform/cloud/google_auth_provider.cc:180] Attempting an empty bearer token since no token was retrieved from files, and GCE metadata check was skipped.\n",
            "2021-08-27 09:46:34.774796: I tensorflow/core/platform/cloud/google_auth_provider.cc:180] Attempting an empty bearer token since no token was retrieved from files, and GCE metadata check was skipped.\n",
            "I0827 09:46:34.813695 140073529972608 dataset_info.py:434] Load pre-computed DatasetInfo (eg: splits, num examples,...) from GCS: imdb_reviews/bytes/1.0.0\n",
            "2021-08-27 09:46:34.822248: I tensorflow/core/platform/cloud/google_auth_provider.cc:180] Attempting an empty bearer token since no token was retrieved from files, and GCE metadata check was skipped.\n",
            "2021-08-27 09:46:34.923856: I tensorflow/core/platform/cloud/google_auth_provider.cc:180] Attempting an empty bearer token since no token was retrieved from files, and GCE metadata check was skipped.\n",
            "2021-08-27 09:46:35.030132: I tensorflow/core/platform/cloud/google_auth_provider.cc:180] Attempting an empty bearer token since no token was retrieved from files, and GCE metadata check was skipped.\n",
            "I0827 09:46:35.126237 140073529972608 dataset_info.py:361] Load dataset info from /tmp/tmpttfoilqitfds\n",
            "I0827 09:46:35.128336 140073529972608 dataset_info.py:405] Field info.config_name from disk and from code do not match. Keeping the one from code.\n",
            "I0827 09:46:35.128475 140073529972608 dataset_info.py:405] Field info.config_description from disk and from code do not match. Keeping the one from code.\n",
            "I0827 09:46:35.128601 140073529972608 dataset_info.py:405] Field info.citation from disk and from code do not match. Keeping the one from code.\n",
            "I0827 09:46:35.128886 140073529972608 download_and_prepare.py:138] download_and_prepare for dataset imdb_reviews/bytes/1.0.0...\n",
            "I0827 09:46:35.129273 140073529972608 dataset_builder.py:357] Generating dataset imdb_reviews (/root/tensorflow_datasets/imdb_reviews/bytes/1.0.0)\n",
            "\u001b[1mDownloading and preparing dataset imdb_reviews/bytes/1.0.0 (download: 80.23 MiB, generated: Unknown size, total: 80.23 MiB) to /root/tensorflow_datasets/imdb_reviews/bytes/1.0.0...\u001b[0m\n",
            "2021-08-27 09:46:35.130206: I tensorflow/core/platform/cloud/google_auth_provider.cc:180] Attempting an empty bearer token since no token was retrieved from files, and GCE metadata check was skipped.\n",
            "2021-08-27 09:46:35.173161: I tensorflow/core/platform/cloud/google_auth_provider.cc:180] Attempting an empty bearer token since no token was retrieved from files, and GCE metadata check was skipped.\n",
            "Dl Completed...: 0 url [00:00, ? url/s]\n",
            "Dl Size...: 0 MiB [00:00, ? MiB/s]\u001b[AI0827 09:46:35.206162 140073529972608 download_manager.py:465] URL http://ai.stanford.edu/~amaas/data/sentiment/aclImdb_v1.tar.gz already downloaded: reusing /root/tensorflow_datasets/downloads/ai.stanfor.edu_amaas_sentime_aclImdb_v1xA90oY07YfkP66HhdzDg046Ll8Bf3nAIlC6Rkj0WWP4.tar.gz.\n",
            "\n",
            "Dl Size...: 0 MiB [00:00, ? MiB/s]\n",
            "\n",
            "Dl Completed...: 0 url [00:00, ? url/s]\n",
            "I0827 09:46:35.207675 140073529972608 dataset_builder.py:970] Generating split train\n",
            "Shuffling and writing examples to /root/tensorflow_datasets/imdb_reviews/bytes/1.0.0.incompleteC2QTKX/imdb_reviews-train.tfrecord\n",
            " 79% 19628/25000 [00:00<00:00, 196268.49 examples/s]I0827 09:47:08.184044 140073529972608 tfrecords_writer.py:226] Done writing /root/tensorflow_datasets/imdb_reviews/bytes/1.0.0.incompleteC2QTKX/imdb_reviews-train.tfrecord. Shard lengths: [25000]\n",
            "I0827 09:47:08.185003 140073529972608 dataset_builder.py:970] Generating split test\n",
            "Shuffling and writing examples to /root/tensorflow_datasets/imdb_reviews/bytes/1.0.0.incompleteC2QTKX/imdb_reviews-test.tfrecord\n",
            " 79% 19710/25000 [00:00<00:00, 197085.62 examples/s]I0827 09:47:41.010567 140073529972608 tfrecords_writer.py:226] Done writing /root/tensorflow_datasets/imdb_reviews/bytes/1.0.0.incompleteC2QTKX/imdb_reviews-test.tfrecord. Shard lengths: [25000]\n",
            "I0827 09:47:41.011435 140073529972608 dataset_builder.py:970] Generating split unsupervised\n",
            "Shuffling and writing examples to /root/tensorflow_datasets/imdb_reviews/bytes/1.0.0.incompleteC2QTKX/imdb_reviews-unsupervised.tfrecord\n",
            " 71% 35400/50000 [00:00<00:00, 186773.68 examples/s]I0827 09:48:36.768759 140073529972608 tfrecords_writer.py:226] Done writing /root/tensorflow_datasets/imdb_reviews/bytes/1.0.0.incompleteC2QTKX/imdb_reviews-unsupervised.tfrecord. Shard lengths: [50000]\n",
            "I0827 09:48:36.770954 140073529972608 dataset_builder.py:412] Skipping computing stats for mode ComputeStatsMode.SKIP.\n",
            "W0827 09:48:36.771294 140073529972608 text_feature.py:194] Dataset is using deprecated text encoder API which will be removed soon. Please use the plain_text version of the dataset and migrate to `tensorflow_text`.\n",
            "\u001b[1mDataset imdb_reviews downloaded and prepared to /root/tensorflow_datasets/imdb_reviews/bytes/1.0.0. Subsequent calls will reuse this data.\u001b[0m\n",
            "\u001b[1mname: \"imdb_reviews\"\n",
            "description: \"Large Movie Review Dataset.\\nThis is a dataset for binary sentiment classification containing substantially more data than previous benchmark datasets. We provide a set of 25,000 highly polar movie reviews for training, and 25,000 for testing. There is additional unlabeled data for use as well.\"\n",
            "citation: \"@InProceedings{maas-EtAl:2011:ACL-HLT2011,\\n  author    = {Maas, Andrew L.  and  Daly, Raymond E.  and  Pham, Peter T.  and  Huang, Dan  and  Ng, Andrew Y.  and  Potts, Christopher},\\n  title     = {Learning Word Vectors for Sentiment Analysis},\\n  booktitle = {Proceedings of the 49th Annual Meeting of the Association for Computational Linguistics: Human Language Technologies},\\n  month     = {June},\\n  year      = {2011},\\n  address   = {Portland, Oregon, USA},\\n  publisher = {Association for Computational Linguistics},\\n  pages     = {142--150},\\n  url       = {http://www.aclweb.org/anthology/P11-1015}\\n}\"\n",
            "size_in_bytes: 84125825\n",
            "location {\n",
            "  urls: \"http://ai.stanford.edu/~amaas/data/sentiment/\"\n",
            "}\n",
            "schema {\n",
            "  feature {\n",
            "    name: \"label\"\n",
            "    type: INT\n",
            "  }\n",
            "  feature {\n",
            "    name: \"text\"\n",
            "    type: INT\n",
            "    shape {\n",
            "      dim {\n",
            "        size: -1\n",
            "      }\n",
            "    }\n",
            "  }\n",
            "}\n",
            "splits {\n",
            "  name: \"test\"\n",
            "  num_shards: 10\n",
            "  statistics {\n",
            "    num_examples: 25000\n",
            "    features {\n",
            "      name: \"label\"\n",
            "      num_stats {\n",
            "        common_stats {\n",
            "          num_non_missing: 25000\n",
            "        }\n",
            "        max: 1.0\n",
            "      }\n",
            "    }\n",
            "    features {\n",
            "      name: \"text\"\n",
            "      num_stats {\n",
            "        common_stats {\n",
            "          num_non_missing: 25000\n",
            "        }\n",
            "        min: 10.0\n",
            "        max: 240.0\n",
            "      }\n",
            "    }\n",
            "  }\n",
            "  shard_lengths: 25000\n",
            "}\n",
            "splits {\n",
            "  name: \"train\"\n",
            "  num_shards: 10\n",
            "  statistics {\n",
            "    num_examples: 25000\n",
            "    features {\n",
            "      name: \"label\"\n",
            "      num_stats {\n",
            "        common_stats {\n",
            "          num_non_missing: 25000\n",
            "        }\n",
            "        max: 1.0\n",
            "      }\n",
            "    }\n",
            "    features {\n",
            "      name: \"text\"\n",
            "      num_stats {\n",
            "        common_stats {\n",
            "          num_non_missing: 25000\n",
            "        }\n",
            "        min: 9.0\n",
            "        max: 240.0\n",
            "      }\n",
            "    }\n",
            "  }\n",
            "  shard_lengths: 25000\n",
            "}\n",
            "splits {\n",
            "  name: \"unsupervised\"\n",
            "  num_shards: 20\n",
            "  statistics {\n",
            "    num_examples: 50000\n",
            "    features {\n",
            "      name: \"label\"\n",
            "      num_stats {\n",
            "        common_stats {\n",
            "          num_non_missing: 50000\n",
            "        }\n",
            "        min: -1.0\n",
            "        max: -1.0\n",
            "      }\n",
            "    }\n",
            "    features {\n",
            "      name: \"text\"\n",
            "      num_stats {\n",
            "        common_stats {\n",
            "          num_non_missing: 50000\n",
            "        }\n",
            "        min: 10.0\n",
            "        max: 240.0\n",
            "      }\n",
            "    }\n",
            "  }\n",
            "  shard_lengths: 50000\n",
            "}\n",
            "supervised_keys {\n",
            "  input: \"text\"\n",
            "  output: \"label\"\n",
            "}\n",
            "version: \"1.0.0\"\n",
            "download_size: 84125825\n",
            "config_name: \"bytes\"\n",
            "config_description: \"Uses byte-level text encoding with `tfds.deprecated.text.ByteTextEncoder`\"\n",
            "\u001b[0m\n",
            "W0827 09:48:36.773743 140073529972608 text_feature.py:61] TFDS datasets with text encoding are deprecated and will be removed in a future version. Instead, you should use the plain text version and tokenize the text using `tensorflow_text` (See: https://www.tensorflow.org/tutorials/tensorflow_text/intro#tfdata_example)\n",
            "2021-08-27 09:48:36.774352: I tensorflow/core/platform/cloud/google_auth_provider.cc:180] Attempting an empty bearer token since no token was retrieved from files, and GCE metadata check was skipped.\n",
            "2021-08-27 09:48:36.812178: I tensorflow/core/platform/cloud/google_auth_provider.cc:180] Attempting an empty bearer token since no token was retrieved from files, and GCE metadata check was skipped.\n",
            "2021-08-27 09:48:36.851814: I tensorflow/core/platform/cloud/google_auth_provider.cc:180] Attempting an empty bearer token since no token was retrieved from files, and GCE metadata check was skipped.\n",
            "I0827 09:48:36.892679 140073529972608 dataset_info.py:434] Load pre-computed DatasetInfo (eg: splits, num examples,...) from GCS: imdb_reviews/subwords8k/1.0.0\n",
            "2021-08-27 09:48:36.898040: I tensorflow/core/platform/cloud/google_auth_provider.cc:180] Attempting an empty bearer token since no token was retrieved from files, and GCE metadata check was skipped.\n",
            "2021-08-27 09:48:36.966260: I tensorflow/core/platform/cloud/google_auth_provider.cc:180] Attempting an empty bearer token since no token was retrieved from files, and GCE metadata check was skipped.\n",
            "2021-08-27 09:48:37.037205: I tensorflow/core/platform/cloud/google_auth_provider.cc:180] Attempting an empty bearer token since no token was retrieved from files, and GCE metadata check was skipped.\n",
            "I0827 09:48:37.102820 140073529972608 dataset_info.py:361] Load dataset info from /tmp/tmphc85iklytfds\n",
            "I0827 09:48:37.145133 140073529972608 dataset_info.py:405] Field info.config_name from disk and from code do not match. Keeping the one from code.\n",
            "I0827 09:48:37.145339 140073529972608 dataset_info.py:405] Field info.config_description from disk and from code do not match. Keeping the one from code.\n",
            "I0827 09:48:37.145474 140073529972608 dataset_info.py:405] Field info.citation from disk and from code do not match. Keeping the one from code.\n",
            "I0827 09:48:37.145819 140073529972608 download_and_prepare.py:138] download_and_prepare for dataset imdb_reviews/subwords8k/1.0.0...\n",
            "I0827 09:48:37.146189 140073529972608 dataset_builder.py:357] Generating dataset imdb_reviews (/root/tensorflow_datasets/imdb_reviews/subwords8k/1.0.0)\n",
            "\u001b[1mDownloading and preparing dataset imdb_reviews/subwords8k/1.0.0 (download: 80.23 MiB, generated: Unknown size, total: 80.23 MiB) to /root/tensorflow_datasets/imdb_reviews/subwords8k/1.0.0...\u001b[0m\n",
            "2021-08-27 09:48:37.147180: I tensorflow/core/platform/cloud/google_auth_provider.cc:180] Attempting an empty bearer token since no token was retrieved from files, and GCE metadata check was skipped.\n",
            "2021-08-27 09:48:37.180737: I tensorflow/core/platform/cloud/google_auth_provider.cc:180] Attempting an empty bearer token since no token was retrieved from files, and GCE metadata check was skipped.\n",
            "Dl Completed...: 0 url [00:00, ? url/s]\n",
            "Dl Size...: 0 MiB [00:00, ? MiB/s]\u001b[AI0827 09:48:37.222378 140073529972608 download_manager.py:465] URL http://ai.stanford.edu/~amaas/data/sentiment/aclImdb_v1.tar.gz already downloaded: reusing /root/tensorflow_datasets/downloads/ai.stanfor.edu_amaas_sentime_aclImdb_v1xA90oY07YfkP66HhdzDg046Ll8Bf3nAIlC6Rkj0WWP4.tar.gz.\n",
            "\n",
            "Dl Size...: 0 MiB [00:00, ? MiB/s]\n",
            "\n",
            "Dl Completed...: 0 url [00:00, ? url/s]\n",
            "I0827 09:48:37.224233 140073529972608 dataset_builder.py:970] Generating split train\n",
            "Shuffling and writing examples to /root/tensorflow_datasets/imdb_reviews/subwords8k/1.0.0.incompleteTTA6XR/imdb_reviews-train.tfrecord\n",
            "  0% 0/25000 [00:00<?, ? examples/s]I0827 09:49:16.744169 140073529972608 tfrecords_writer.py:226] Done writing /root/tensorflow_datasets/imdb_reviews/subwords8k/1.0.0.incompleteTTA6XR/imdb_reviews-train.tfrecord. Shard lengths: [25000]\n",
            "I0827 09:49:16.745237 140073529972608 dataset_builder.py:970] Generating split test\n",
            "Shuffling and writing examples to /root/tensorflow_datasets/imdb_reviews/subwords8k/1.0.0.incompleteTTA6XR/imdb_reviews-test.tfrecord\n",
            "  0% 0/25000 [00:00<?, ? examples/s]I0827 09:49:54.559243 140073529972608 tfrecords_writer.py:226] Done writing /root/tensorflow_datasets/imdb_reviews/subwords8k/1.0.0.incompleteTTA6XR/imdb_reviews-test.tfrecord. Shard lengths: [25000]\n",
            "I0827 09:49:54.560326 140073529972608 dataset_builder.py:970] Generating split unsupervised\n",
            "Shuffling and writing examples to /root/tensorflow_datasets/imdb_reviews/subwords8k/1.0.0.incompleteTTA6XR/imdb_reviews-unsupervised.tfrecord\n",
            "100% 49763/50000 [00:00<00:00, 260768.77 examples/s]I0827 09:51:00.643296 140073529972608 tfrecords_writer.py:226] Done writing /root/tensorflow_datasets/imdb_reviews/subwords8k/1.0.0.incompleteTTA6XR/imdb_reviews-unsupervised.tfrecord. Shard lengths: [50000]\n",
            "I0827 09:51:00.645464 140073529972608 dataset_builder.py:412] Skipping computing stats for mode ComputeStatsMode.SKIP.\n",
            "W0827 09:51:00.645684 140073529972608 text_feature.py:194] Dataset is using deprecated text encoder API which will be removed soon. Please use the plain_text version of the dataset and migrate to `tensorflow_text`.\n",
            "\u001b[1mDataset imdb_reviews downloaded and prepared to /root/tensorflow_datasets/imdb_reviews/subwords8k/1.0.0. Subsequent calls will reuse this data.\u001b[0m\n",
            "\u001b[1mname: \"imdb_reviews\"\n",
            "description: \"Large Movie Review Dataset.\\nThis is a dataset for binary sentiment classification containing substantially more data than previous benchmark datasets. We provide a set of 25,000 highly polar movie reviews for training, and 25,000 for testing. There is additional unlabeled data for use as well.\"\n",
            "citation: \"@InProceedings{maas-EtAl:2011:ACL-HLT2011,\\n  author    = {Maas, Andrew L.  and  Daly, Raymond E.  and  Pham, Peter T.  and  Huang, Dan  and  Ng, Andrew Y.  and  Potts, Christopher},\\n  title     = {Learning Word Vectors for Sentiment Analysis},\\n  booktitle = {Proceedings of the 49th Annual Meeting of the Association for Computational Linguistics: Human Language Technologies},\\n  month     = {June},\\n  year      = {2011},\\n  address   = {Portland, Oregon, USA},\\n  publisher = {Association for Computational Linguistics},\\n  pages     = {142--150},\\n  url       = {http://www.aclweb.org/anthology/P11-1015}\\n}\"\n",
            "size_in_bytes: 84125825\n",
            "location {\n",
            "  urls: \"http://ai.stanford.edu/~amaas/data/sentiment/\"\n",
            "}\n",
            "schema {\n",
            "  feature {\n",
            "    name: \"label\"\n",
            "    type: INT\n",
            "  }\n",
            "  feature {\n",
            "    name: \"text\"\n",
            "    type: INT\n",
            "    shape {\n",
            "      dim {\n",
            "        size: -1\n",
            "      }\n",
            "    }\n",
            "  }\n",
            "}\n",
            "splits {\n",
            "  name: \"test\"\n",
            "  num_shards: 10\n",
            "  statistics {\n",
            "    num_examples: 25000\n",
            "    features {\n",
            "      name: \"label\"\n",
            "      num_stats {\n",
            "        common_stats {\n",
            "          num_non_missing: 25000\n",
            "        }\n",
            "        max: 1.0\n",
            "      }\n",
            "    }\n",
            "    features {\n",
            "      name: \"text\"\n",
            "      num_stats {\n",
            "        common_stats {\n",
            "          num_non_missing: 25000\n",
            "        }\n",
            "        min: 1.0\n",
            "        max: 8168.0\n",
            "      }\n",
            "    }\n",
            "  }\n",
            "  shard_lengths: 25000\n",
            "}\n",
            "splits {\n",
            "  name: \"train\"\n",
            "  num_shards: 10\n",
            "  statistics {\n",
            "    num_examples: 25000\n",
            "    features {\n",
            "      name: \"label\"\n",
            "      num_stats {\n",
            "        common_stats {\n",
            "          num_non_missing: 25000\n",
            "        }\n",
            "        max: 1.0\n",
            "      }\n",
            "    }\n",
            "    features {\n",
            "      name: \"text\"\n",
            "      num_stats {\n",
            "        common_stats {\n",
            "          num_non_missing: 25000\n",
            "        }\n",
            "        min: 1.0\n",
            "        max: 8168.0\n",
            "      }\n",
            "    }\n",
            "  }\n",
            "  shard_lengths: 25000\n",
            "}\n",
            "splits {\n",
            "  name: \"unsupervised\"\n",
            "  num_shards: 20\n",
            "  statistics {\n",
            "    num_examples: 50000\n",
            "    features {\n",
            "      name: \"label\"\n",
            "      num_stats {\n",
            "        common_stats {\n",
            "          num_non_missing: 50000\n",
            "        }\n",
            "        min: -1.0\n",
            "        max: -1.0\n",
            "      }\n",
            "    }\n",
            "    features {\n",
            "      name: \"text\"\n",
            "      num_stats {\n",
            "        common_stats {\n",
            "          num_non_missing: 50000\n",
            "        }\n",
            "        min: 1.0\n",
            "        max: 8168.0\n",
            "      }\n",
            "    }\n",
            "  }\n",
            "  shard_lengths: 50000\n",
            "}\n",
            "supervised_keys {\n",
            "  input: \"text\"\n",
            "  output: \"label\"\n",
            "}\n",
            "version: \"1.0.0\"\n",
            "download_size: 84125825\n",
            "config_name: \"subwords8k\"\n",
            "config_description: \"Uses `tfds.deprecated.text.SubwordTextEncoder` with 8k vocab size\"\n",
            "\u001b[0m\n",
            "W0827 09:51:00.650399 140073529972608 text_feature.py:61] TFDS datasets with text encoding are deprecated and will be removed in a future version. Instead, you should use the plain text version and tokenize the text using `tensorflow_text` (See: https://www.tensorflow.org/tutorials/tensorflow_text/intro#tfdata_example)\n",
            "2021-08-27 09:51:00.650884: I tensorflow/core/platform/cloud/google_auth_provider.cc:180] Attempting an empty bearer token since no token was retrieved from files, and GCE metadata check was skipped.\n",
            "2021-08-27 09:51:00.689218: I tensorflow/core/platform/cloud/google_auth_provider.cc:180] Attempting an empty bearer token since no token was retrieved from files, and GCE metadata check was skipped.\n",
            "2021-08-27 09:51:00.723257: I tensorflow/core/platform/cloud/google_auth_provider.cc:180] Attempting an empty bearer token since no token was retrieved from files, and GCE metadata check was skipped.\n",
            "I0827 09:51:00.761515 140073529972608 dataset_info.py:434] Load pre-computed DatasetInfo (eg: splits, num examples,...) from GCS: imdb_reviews/subwords32k/1.0.0\n",
            "2021-08-27 09:51:00.768520: I tensorflow/core/platform/cloud/google_auth_provider.cc:180] Attempting an empty bearer token since no token was retrieved from files, and GCE metadata check was skipped.\n",
            "2021-08-27 09:51:00.851067: I tensorflow/core/platform/cloud/google_auth_provider.cc:180] Attempting an empty bearer token since no token was retrieved from files, and GCE metadata check was skipped.\n",
            "2021-08-27 09:51:00.943064: I tensorflow/core/platform/cloud/google_auth_provider.cc:180] Attempting an empty bearer token since no token was retrieved from files, and GCE metadata check was skipped.\n",
            "I0827 09:51:01.044271 140073529972608 dataset_info.py:361] Load dataset info from /tmp/tmpjb6cuf57tfds\n",
            "I0827 09:51:01.211624 140073529972608 dataset_info.py:405] Field info.config_name from disk and from code do not match. Keeping the one from code.\n",
            "I0827 09:51:01.211842 140073529972608 dataset_info.py:405] Field info.config_description from disk and from code do not match. Keeping the one from code.\n",
            "I0827 09:51:01.211968 140073529972608 dataset_info.py:405] Field info.citation from disk and from code do not match. Keeping the one from code.\n",
            "I0827 09:51:01.212350 140073529972608 download_and_prepare.py:138] download_and_prepare for dataset imdb_reviews/subwords32k/1.0.0...\n",
            "I0827 09:51:01.212679 140073529972608 dataset_builder.py:357] Generating dataset imdb_reviews (/root/tensorflow_datasets/imdb_reviews/subwords32k/1.0.0)\n",
            "\u001b[1mDownloading and preparing dataset imdb_reviews/subwords32k/1.0.0 (download: 80.23 MiB, generated: Unknown size, total: 80.23 MiB) to /root/tensorflow_datasets/imdb_reviews/subwords32k/1.0.0...\u001b[0m\n",
            "2021-08-27 09:51:01.213581: I tensorflow/core/platform/cloud/google_auth_provider.cc:180] Attempting an empty bearer token since no token was retrieved from files, and GCE metadata check was skipped.\n",
            "2021-08-27 09:51:01.251651: I tensorflow/core/platform/cloud/google_auth_provider.cc:180] Attempting an empty bearer token since no token was retrieved from files, and GCE metadata check was skipped.\n",
            "Dl Completed...: 0 url [00:00, ? url/s]\n",
            "Dl Size...: 0 MiB [00:00, ? MiB/s]\u001b[AI0827 09:51:01.293708 140073529972608 download_manager.py:465] URL http://ai.stanford.edu/~amaas/data/sentiment/aclImdb_v1.tar.gz already downloaded: reusing /root/tensorflow_datasets/downloads/ai.stanfor.edu_amaas_sentime_aclImdb_v1xA90oY07YfkP66HhdzDg046Ll8Bf3nAIlC6Rkj0WWP4.tar.gz.\n",
            "\n",
            "Dl Size...: 0 MiB [00:00, ? MiB/s]\n",
            "\n",
            "Dl Completed...: 0 url [00:00, ? url/s]\n",
            "I0827 09:51:01.295341 140073529972608 dataset_builder.py:970] Generating split train\n",
            "Shuffling and writing examples to /root/tensorflow_datasets/imdb_reviews/subwords32k/1.0.0.incomplete3LTEWX/imdb_reviews-train.tfrecord\n",
            "  0% 0/25000 [00:00<?, ? examples/s]I0827 09:51:41.406892 140073529972608 tfrecords_writer.py:226] Done writing /root/tensorflow_datasets/imdb_reviews/subwords32k/1.0.0.incomplete3LTEWX/imdb_reviews-train.tfrecord. Shard lengths: [25000]\n",
            "I0827 09:51:41.408057 140073529972608 dataset_builder.py:970] Generating split test\n",
            "Shuffling and writing examples to /root/tensorflow_datasets/imdb_reviews/subwords32k/1.0.0.incomplete3LTEWX/imdb_reviews-test.tfrecord\n",
            "  0% 0/25000 [00:00<?, ? examples/s]I0827 09:52:19.806169 140073529972608 tfrecords_writer.py:226] Done writing /root/tensorflow_datasets/imdb_reviews/subwords32k/1.0.0.incomplete3LTEWX/imdb_reviews-test.tfrecord. Shard lengths: [25000]\n",
            "I0827 09:52:19.807263 140073529972608 dataset_builder.py:970] Generating split unsupervised\n",
            "Shuffling and writing examples to /root/tensorflow_datasets/imdb_reviews/subwords32k/1.0.0.incomplete3LTEWX/imdb_reviews-unsupervised.tfrecord\n",
            " 99% 49335/50000 [00:00<00:00, 258891.93 examples/s]I0827 09:53:25.891391 140073529972608 tfrecords_writer.py:226] Done writing /root/tensorflow_datasets/imdb_reviews/subwords32k/1.0.0.incomplete3LTEWX/imdb_reviews-unsupervised.tfrecord. Shard lengths: [50000]\n",
            "I0827 09:53:25.893921 140073529972608 dataset_builder.py:412] Skipping computing stats for mode ComputeStatsMode.SKIP.\n",
            "W0827 09:53:25.894156 140073529972608 text_feature.py:194] Dataset is using deprecated text encoder API which will be removed soon. Please use the plain_text version of the dataset and migrate to `tensorflow_text`.\n",
            "\u001b[1mDataset imdb_reviews downloaded and prepared to /root/tensorflow_datasets/imdb_reviews/subwords32k/1.0.0. Subsequent calls will reuse this data.\u001b[0m\n",
            "\u001b[1mname: \"imdb_reviews\"\n",
            "description: \"Large Movie Review Dataset.\\nThis is a dataset for binary sentiment classification containing substantially more data than previous benchmark datasets. We provide a set of 25,000 highly polar movie reviews for training, and 25,000 for testing. There is additional unlabeled data for use as well.\"\n",
            "citation: \"@InProceedings{maas-EtAl:2011:ACL-HLT2011,\\n  author    = {Maas, Andrew L.  and  Daly, Raymond E.  and  Pham, Peter T.  and  Huang, Dan  and  Ng, Andrew Y.  and  Potts, Christopher},\\n  title     = {Learning Word Vectors for Sentiment Analysis},\\n  booktitle = {Proceedings of the 49th Annual Meeting of the Association for Computational Linguistics: Human Language Technologies},\\n  month     = {June},\\n  year      = {2011},\\n  address   = {Portland, Oregon, USA},\\n  publisher = {Association for Computational Linguistics},\\n  pages     = {142--150},\\n  url       = {http://www.aclweb.org/anthology/P11-1015}\\n}\"\n",
            "size_in_bytes: 84125825\n",
            "location {\n",
            "  urls: \"http://ai.stanford.edu/~amaas/data/sentiment/\"\n",
            "}\n",
            "schema {\n",
            "  feature {\n",
            "    name: \"label\"\n",
            "    type: INT\n",
            "  }\n",
            "  feature {\n",
            "    name: \"text\"\n",
            "    type: INT\n",
            "    shape {\n",
            "      dim {\n",
            "        size: -1\n",
            "      }\n",
            "    }\n",
            "  }\n",
            "}\n",
            "splits {\n",
            "  name: \"test\"\n",
            "  num_shards: 10\n",
            "  statistics {\n",
            "    num_examples: 25000\n",
            "    features {\n",
            "      name: \"label\"\n",
            "      num_stats {\n",
            "        common_stats {\n",
            "          num_non_missing: 25000\n",
            "        }\n",
            "        max: 1.0\n",
            "      }\n",
            "    }\n",
            "    features {\n",
            "      name: \"text\"\n",
            "      num_stats {\n",
            "        common_stats {\n",
            "          num_non_missing: 25000\n",
            "        }\n",
            "        min: 1.0\n",
            "        max: 32633.0\n",
            "      }\n",
            "    }\n",
            "  }\n",
            "  shard_lengths: 25000\n",
            "}\n",
            "splits {\n",
            "  name: \"train\"\n",
            "  num_shards: 10\n",
            "  statistics {\n",
            "    num_examples: 25000\n",
            "    features {\n",
            "      name: \"label\"\n",
            "      num_stats {\n",
            "        common_stats {\n",
            "          num_non_missing: 25000\n",
            "        }\n",
            "        max: 1.0\n",
            "      }\n",
            "    }\n",
            "    features {\n",
            "      name: \"text\"\n",
            "      num_stats {\n",
            "        common_stats {\n",
            "          num_non_missing: 25000\n",
            "        }\n",
            "        min: 1.0\n",
            "        max: 32633.0\n",
            "      }\n",
            "    }\n",
            "  }\n",
            "  shard_lengths: 25000\n",
            "}\n",
            "splits {\n",
            "  name: \"unsupervised\"\n",
            "  num_shards: 20\n",
            "  statistics {\n",
            "    num_examples: 50000\n",
            "    features {\n",
            "      name: \"label\"\n",
            "      num_stats {\n",
            "        common_stats {\n",
            "          num_non_missing: 50000\n",
            "        }\n",
            "        min: -1.0\n",
            "        max: -1.0\n",
            "      }\n",
            "    }\n",
            "    features {\n",
            "      name: \"text\"\n",
            "      num_stats {\n",
            "        common_stats {\n",
            "          num_non_missing: 50000\n",
            "        }\n",
            "        min: 1.0\n",
            "        max: 32633.0\n",
            "      }\n",
            "    }\n",
            "  }\n",
            "  shard_lengths: 50000\n",
            "}\n",
            "supervised_keys {\n",
            "  input: \"text\"\n",
            "  output: \"label\"\n",
            "}\n",
            "version: \"1.0.0\"\n",
            "download_size: 84125825\n",
            "config_name: \"subwords32k\"\n",
            "config_description: \"Uses `tfds.deprecated.text.SubwordTextEncoder` with 32k vocab size\"\n",
            "\u001b[0m\n"
          ],
          "name": "stdout"
        }
      ]
    },
    {
      "cell_type": "markdown",
      "metadata": {
        "id": "Bzs2FWbQIf5m"
      },
      "source": [
        "###  Exploratory Analysis IMDBReviews Subset"
      ]
    },
    {
      "cell_type": "markdown",
      "metadata": {
        "id": "m7514-j4I4B-"
      },
      "source": [
        "**Get information about the ag_news_subset dataset. We combined the training and test data for a total of 127,600 news articles.**"
      ]
    },
    {
      "cell_type": "code",
      "metadata": {
        "colab": {
          "base_uri": "https://localhost:8080/"
        },
        "id": "eJNcnZbRtTQ2",
        "outputId": "c516d32d-3f64-4dbe-d200-695acb3ac3b2"
      },
      "source": [
        "print(info)"
      ],
      "execution_count": null,
      "outputs": [
        {
          "output_type": "stream",
          "text": [
            "tfds.core.DatasetInfo(\n",
            "    name='imdb_reviews',\n",
            "    version=1.0.0,\n",
            "    description='Large Movie Review Dataset.\n",
            "This is a dataset for binary sentiment classification containing substantially more data than previous benchmark datasets. We provide a set of 25,000 highly polar movie reviews for training, and 25,000 for testing. There is additional unlabeled data for use as well.',\n",
            "    homepage='http://ai.stanford.edu/~amaas/data/sentiment/',\n",
            "    features=FeaturesDict({\n",
            "        'label': ClassLabel(shape=(), dtype=tf.int64, num_classes=2),\n",
            "        'text': Text(shape=(), dtype=tf.string),\n",
            "    }),\n",
            "    total_num_examples=100000,\n",
            "    splits={\n",
            "        'test': 25000,\n",
            "        'train': 25000,\n",
            "        'unsupervised': 50000,\n",
            "    },\n",
            "    supervised_keys=('text', 'label'),\n",
            "    citation=\"\"\"@InProceedings{maas-EtAl:2011:ACL-HLT2011,\n",
            "      author    = {Maas, Andrew L.  and  Daly, Raymond E.  and  Pham, Peter T.  and  Huang, Dan  and  Ng, Andrew Y.  and  Potts, Christopher},\n",
            "      title     = {Learning Word Vectors for Sentiment Analysis},\n",
            "      booktitle = {Proceedings of the 49th Annual Meeting of the Association for Computational Linguistics: Human Language Technologies},\n",
            "      month     = {June},\n",
            "      year      = {2011},\n",
            "      address   = {Portland, Oregon, USA},\n",
            "      publisher = {Association for Computational Linguistics},\n",
            "      pages     = {142--150},\n",
            "      url       = {http://www.aclweb.org/anthology/P11-1015}\n",
            "    }\"\"\",\n",
            "    redistribution_info=,\n",
            ")\n",
            "\n"
          ],
          "name": "stdout"
        }
      ]
    },
    {
      "cell_type": "code",
      "metadata": {
        "colab": {
          "base_uri": "https://localhost:8080/",
          "height": 787
        },
        "id": "w6GaSzMRqrIR",
        "outputId": "104c17b1-b23a-43f6-8dcb-99888ac6aed5"
      },
      "source": [
        "tfds.as_dataframe(dataset_all.take(10),info)"
      ],
      "execution_count": null,
      "outputs": [
        {
          "output_type": "execute_result",
          "data": {
            "text/html": [
              "<style  type=\"text/css\" >\n",
              "</style><table id=\"T_c3ae138c_071c_11ec_a265_0242ac1c0002\" ><thead>    <tr>        <th class=\"blank level0\" ></th>        <th class=\"col_heading level0 col0\" >label</th>        <th class=\"col_heading level0 col1\" >text</th>    </tr></thead><tbody>\n",
              "                <tr>\n",
              "                        <th id=\"T_c3ae138c_071c_11ec_a265_0242ac1c0002level0_row0\" class=\"row_heading level0 row0\" >0</th>\n",
              "                        <td id=\"T_c3ae138c_071c_11ec_a265_0242ac1c0002row0_col0\" class=\"data row0 col0\" >0 (neg)</td>\n",
              "                        <td id=\"T_c3ae138c_071c_11ec_a265_0242ac1c0002row0_col1\" class=\"data row0 col1\" >This was an absolutely terrible movie. Don&#x27;t be lured in by Christopher Walken or Michael Ironside. Both are great actors, but this must simply be their worst role in history. Even their great acting could not redeem this movie&#x27;s ridiculous storyline. This movie is an early nineties US propaganda piece. The most pathetic scenes were those when the Columbian rebels were making their cases for revolutions. Maria Conchita Alonso appeared phony, and her pseudo-love affair with Walken was nothing but a pathetic emotional plug in a movie that was devoid of any real meaning. I am disappointed that there are movies like this, ruining actor&#x27;s like Christopher Walken&#x27;s good name. I could barely sit through it.</td>\n",
              "            </tr>\n",
              "            <tr>\n",
              "                        <th id=\"T_c3ae138c_071c_11ec_a265_0242ac1c0002level0_row1\" class=\"row_heading level0 row1\" >1</th>\n",
              "                        <td id=\"T_c3ae138c_071c_11ec_a265_0242ac1c0002row1_col0\" class=\"data row1 col0\" >0 (neg)</td>\n",
              "                        <td id=\"T_c3ae138c_071c_11ec_a265_0242ac1c0002row1_col1\" class=\"data row1 col1\" >I have been known to fall asleep during films, but this is usually due to a combination of things including, really tired, being warm and comfortable on the sette and having just eaten a lot. However on this occasion I fell asleep because the film was rubbish. The plot development was constant. Constantly slow and boring. Things seemed to happen, but with no explanation of what was causing them or why. I admit, I may have missed part of the film, but i watched the majority of it and everything just seemed to happen of its own accord without any real concern for anything else. I cant recommend this film at all.</td>\n",
              "            </tr>\n",
              "            <tr>\n",
              "                        <th id=\"T_c3ae138c_071c_11ec_a265_0242ac1c0002level0_row2\" class=\"row_heading level0 row2\" >2</th>\n",
              "                        <td id=\"T_c3ae138c_071c_11ec_a265_0242ac1c0002row2_col0\" class=\"data row2 col0\" >0 (neg)</td>\n",
              "                        <td id=\"T_c3ae138c_071c_11ec_a265_0242ac1c0002row2_col1\" class=\"data row2 col1\" >Mann photographs the Alberta Rocky Mountains in a superb fashion, and Jimmy Stewart and Walter Brennan give enjoyable performances as they always seem to do. &lt;br /&gt;&lt;br /&gt;But come on Hollywood - a Mountie telling the people of Dawson City, Yukon to elect themselves a marshal (yes a marshal!) and to enforce the law themselves, then gunfighters battling it out on the streets for control of the town? &lt;br /&gt;&lt;br /&gt;Nothing even remotely resembling that happened on the Canadian side of the border during the Klondike gold rush. Mr. Mann and company appear to have mistaken Dawson City for Deadwood, the Canadian North for the American Wild West.&lt;br /&gt;&lt;br /&gt;Canadian viewers be prepared for a Reefer Madness type of enjoyable howl with this ludicrous plot, or, to shake your head in disgust.</td>\n",
              "            </tr>\n",
              "            <tr>\n",
              "                        <th id=\"T_c3ae138c_071c_11ec_a265_0242ac1c0002level0_row3\" class=\"row_heading level0 row3\" >3</th>\n",
              "                        <td id=\"T_c3ae138c_071c_11ec_a265_0242ac1c0002row3_col0\" class=\"data row3 col0\" >1 (pos)</td>\n",
              "                        <td id=\"T_c3ae138c_071c_11ec_a265_0242ac1c0002row3_col1\" class=\"data row3 col1\" >This is the kind of film for a snowy Sunday afternoon when the rest of the world can go ahead with its own business as you descend into a big arm-chair and mellow for a couple of hours. Wonderful performances from Cher and Nicolas Cage (as always) gently row the plot along. There are no rapids to cross, no dangerous waters, just a warm and witty paddle through New York life at its best. A family film in every sense and one that deserves the praise it received.</td>\n",
              "            </tr>\n",
              "            <tr>\n",
              "                        <th id=\"T_c3ae138c_071c_11ec_a265_0242ac1c0002level0_row4\" class=\"row_heading level0 row4\" >4</th>\n",
              "                        <td id=\"T_c3ae138c_071c_11ec_a265_0242ac1c0002row4_col0\" class=\"data row4 col0\" >1 (pos)</td>\n",
              "                        <td id=\"T_c3ae138c_071c_11ec_a265_0242ac1c0002row4_col1\" class=\"data row4 col1\" >As others have mentioned, all the women that go nude in this film are mostly absolutely gorgeous. The plot very ably shows the hypocrisy of the female libido. When men are around they want to be pursued, but when no &quot;men&quot; are around, they become the pursuers of a 14 year old boy. And the boy becomes a man really fast (we should all be so lucky at this age!). He then gets up the courage to pursue his true love.</td>\n",
              "            </tr>\n",
              "            <tr>\n",
              "                        <th id=\"T_c3ae138c_071c_11ec_a265_0242ac1c0002level0_row5\" class=\"row_heading level0 row5\" >5</th>\n",
              "                        <td id=\"T_c3ae138c_071c_11ec_a265_0242ac1c0002row5_col0\" class=\"data row5 col0\" >1 (pos)</td>\n",
              "                        <td id=\"T_c3ae138c_071c_11ec_a265_0242ac1c0002row5_col1\" class=\"data row5 col1\" >This is a film which should be seen by anybody interested in, effected by, or suffering from an eating disorder. It is an amazingly accurate and sensitive portrayal of bulimia in a teenage girl, its causes and its symptoms. The girl is played by one of the most brilliant young actresses working in cinema today, Alison Lohman, who was later so spectacular in &#x27;Where the Truth Lies&#x27;. I would recommend that this film be shown in all schools, as you will never see a better on this subject. Alison Lohman is absolutely outstanding, and one marvels at her ability to convey the anguish of a girl suffering from this compulsive disorder. If barometers tell us the air pressure, Alison Lohman tells us the emotional pressure with the same degree of accuracy. Her emotional range is so precise, each scene could be measured microscopically for its gradations of trauma, on a scale of rising hysteria and desperation which reaches unbearable intensity. Mare Winningham is the perfect choice [...]</td>\n",
              "            </tr>\n",
              "            <tr>\n",
              "                        <th id=\"T_c3ae138c_071c_11ec_a265_0242ac1c0002level0_row6\" class=\"row_heading level0 row6\" >6</th>\n",
              "                        <td id=\"T_c3ae138c_071c_11ec_a265_0242ac1c0002row6_col0\" class=\"data row6 col0\" >0 (neg)</td>\n",
              "                        <td id=\"T_c3ae138c_071c_11ec_a265_0242ac1c0002row6_col1\" class=\"data row6 col1\" >Okay, you have:&lt;br /&gt;&lt;br /&gt;Penelope Keith as Miss Herringbone-Tweed, B.B.E. (Backbone of England.) She&#x27;s killed off in the first scene - that&#x27;s right, folks; this show has no backbone!&lt;br /&gt;&lt;br /&gt;Peter O&#x27;Toole as Ol&#x27; Colonel Cricket from The First War and now the emblazered Lord of the Manor.&lt;br /&gt;&lt;br /&gt;Joanna Lumley as the ensweatered Lady of the Manor, 20 years younger than the colonel and 20 years past her own prime but still glamourous (Brit spelling, not mine) enough to have a toy-boy on the side. It&#x27;s alright, they have Col. Cricket&#x27;s full knowledge and consent (they guy even comes &#x27;round for Christmas!) Still, she&#x27;s considerate of the colonel enough to have said toy-boy her own age (what a gal!)&lt;br /&gt;&lt;br /&gt;David McCallum as said toy-boy, equally as pointlessly glamourous as his squeeze. Pilcher couldn&#x27;t come up with any cover for him within the story, so she gave him a hush-hush [...]</td>\n",
              "            </tr>\n",
              "            <tr>\n",
              "                        <th id=\"T_c3ae138c_071c_11ec_a265_0242ac1c0002level0_row7\" class=\"row_heading level0 row7\" >7</th>\n",
              "                        <td id=\"T_c3ae138c_071c_11ec_a265_0242ac1c0002row7_col0\" class=\"data row7 col0\" >0 (neg)</td>\n",
              "                        <td id=\"T_c3ae138c_071c_11ec_a265_0242ac1c0002row7_col1\" class=\"data row7 col1\" >The film is based on a genuine 1950s novel.&lt;br /&gt;&lt;br /&gt;Journalist Colin McInnes wrote a set of three &quot;London novels&quot;: &quot;Absolute Beginners&quot;, &quot;City of Spades&quot; and &quot;Mr Love and Justice&quot;. I have read all three. The first two are excellent. The last, perhaps an experiment that did not come off. But McInnes&#x27;s work is highly acclaimed; and rightly so. This musical is the novelist&#x27;s ultimate nightmare - to see the fruits of one&#x27;s mind being turned into a glitzy, badly-acted, soporific one-dimensional apology of a film that says it captures the spirit of 1950s London, and does nothing of the sort.&lt;br /&gt;&lt;br /&gt;Thank goodness Colin McInnes wasn&#x27;t alive to witness it.</td>\n",
              "            </tr>\n",
              "            <tr>\n",
              "                        <th id=\"T_c3ae138c_071c_11ec_a265_0242ac1c0002level0_row8\" class=\"row_heading level0 row8\" >8</th>\n",
              "                        <td id=\"T_c3ae138c_071c_11ec_a265_0242ac1c0002row8_col0\" class=\"data row8 col0\" >0 (neg)</td>\n",
              "                        <td id=\"T_c3ae138c_071c_11ec_a265_0242ac1c0002row8_col1\" class=\"data row8 col1\" >I really love the sexy action and sci-fi films of the sixties and its because of the actress&#x27;s that appeared in them. They found the sexiest women to be in these films and it didn&#x27;t matter if they could act (Remember &quot;Candy&quot;?). The reason I was disappointed by this film was because it wasn&#x27;t nostalgic enough. The story here has a European sci-fi film called &quot;Dragonfly&quot; being made and the director is fired. So the producers decide to let a young aspiring filmmaker (Jeremy Davies) to complete the picture. They&#x27;re is one real beautiful woman in the film who plays Dragonfly but she&#x27;s barely in it. Film is written and directed by Roman Coppola who uses some of his fathers exploits from his early days and puts it into the script. I wish the film could have been an homage to those early films. They could have lots of cameos by actors who appeared in them. There is one actor in this film who was popular from the sixties and its John Phillip [...]</td>\n",
              "            </tr>\n",
              "            <tr>\n",
              "                        <th id=\"T_c3ae138c_071c_11ec_a265_0242ac1c0002level0_row9\" class=\"row_heading level0 row9\" >9</th>\n",
              "                        <td id=\"T_c3ae138c_071c_11ec_a265_0242ac1c0002row9_col0\" class=\"data row9 col0\" >0 (neg)</td>\n",
              "                        <td id=\"T_c3ae138c_071c_11ec_a265_0242ac1c0002row9_col1\" class=\"data row9 col1\" >Sure, this one isn&#x27;t really a blockbuster, nor does it target such a position. &quot;Dieter&quot; is the first name of a quite popular German musician, who is either loved or hated for his kind of acting and thats exactly what this movie is about. It is based on the autobiography &quot;Dieter Bohlen&quot; wrote a few years ago but isn&#x27;t meant to be accurate on that. The movie is filled with some sexual offensive content (at least for American standard) which is either amusing (not for the other &quot;actors&quot; of course) or dumb - it depends on your individual kind of humor or on you being a &quot;Bohlen&quot;-Fan or not. Technically speaking there isn&#x27;t much to criticize. Speaking of me I find this movie to be an OK-movie.</td>\n",
              "            </tr>\n",
              "    </tbody></table>"
            ],
            "text/plain": [
              "   label                                               text\n",
              "0      0  b\"This was an absolutely terrible movie. Don't...\n",
              "1      0  b'I have been known to fall asleep during film...\n",
              "2      0  b'Mann photographs the Alberta Rocky Mountains...\n",
              "3      1  b'This is the kind of film for a snowy Sunday ...\n",
              "4      1  b'As others have mentioned, all the women that...\n",
              "5      1  b\"This is a film which should be seen by anybo...\n",
              "6      0  b'Okay, you have:<br /><br />Penelope Keith as...\n",
              "7      0  b'The film is based on a genuine 1950s novel.<...\n",
              "8      0  b'I really love the sexy action and sci-fi fil...\n",
              "9      0  b'Sure, this one isn\\'t really a blockbuster, ..."
            ]
          },
          "metadata": {},
          "execution_count": 8
        }
      ]
    },
    {
      "cell_type": "markdown",
      "metadata": {
        "id": "RoG_cOcMMKgC"
      },
      "source": [
        "### Review Labels (Categories) "
      ]
    },
    {
      "cell_type": "code",
      "metadata": {
        "colab": {
          "base_uri": "https://localhost:8080/"
        },
        "id": "4uBCsL_8tTUU",
        "outputId": "bdb7ebfe-7d5c-4532-c743-83190db3c286"
      },
      "source": [
        "print(f'There are {info.features[\"label\"].num_classes} classes in the dataset.')\n",
        "print(f'The class names are {info.features[\"label\"].names}')"
      ],
      "execution_count": null,
      "outputs": [
        {
          "output_type": "stream",
          "text": [
            "There are 2 classes in the dataset.\n",
            "The class names are ['neg', 'pos']\n"
          ],
          "name": "stdout"
        }
      ]
    },
    {
      "cell_type": "code",
      "metadata": {
        "colab": {
          "base_uri": "https://localhost:8080/"
        },
        "id": "fRbULmnCtTXo",
        "outputId": "19fd99f1-48b2-41eb-f16d-c722acb8f19e"
      },
      "source": [
        "# classes dictionary\n",
        "categories =dict(enumerate(info.features[\"label\"].names))\n",
        "categories"
      ],
      "execution_count": null,
      "outputs": [
        {
          "output_type": "execute_result",
          "data": {
            "text/plain": [
              "{0: 'neg', 1: 'pos'}"
            ]
          },
          "metadata": {},
          "execution_count": 10
        }
      ]
    },
    {
      "cell_type": "markdown",
      "metadata": {
        "id": "xXQzudk9MmOs"
      },
      "source": [
        "The 25,000 movie reviews are evenly distributed among the 2 categories - Negative and Positive"
      ]
    },
    {
      "cell_type": "code",
      "metadata": {
        "colab": {
          "base_uri": "https://localhost:8080/"
        },
        "id": "PRtOaULstTbJ",
        "outputId": "53a2d7c0-3f12-42fa-c679-832fb61cb8ad"
      },
      "source": [
        "train_categories = [categories[label] for label in dataset_all.map(lambda text, label: label).as_numpy_iterator()]\n",
        "Counter(train_categories).most_common()"
      ],
      "execution_count": null,
      "outputs": [
        {
          "output_type": "execute_result",
          "data": {
            "text/plain": [
              "[('neg', 25000), ('pos', 25000)]"
            ]
          },
          "metadata": {},
          "execution_count": 11
        }
      ]
    },
    {
      "cell_type": "markdown",
      "metadata": {
        "id": "k6-1-zvxdS8f"
      },
      "source": [
        "We will use the tf.keras.layers.experimental.preprocessing.TextVectorization layer to transform each news article into a \"list\" of non-negative integers representing the tokens in the news article.\n",
        "\n",
        "For the purpose of training our models each such \"encoding\" will have a fixed length corresponding to the news article(s) with the most tokens. Shorter articles will be right-padded with zeros in the encoding. Also to speed up the training process, we will set max_tokens = 1000 so that words not in the vabulary set of top 1000 most common tokes are encoded as 1. But first we set max_tokens = None (which is the default value) in order to get the vocabulary size of the corpus.\n"
      ]
    },
    {
      "cell_type": "code",
      "metadata": {
        "colab": {
          "base_uri": "https://localhost:8080/"
        },
        "id": "WYY7P-aaeU4Z",
        "outputId": "a74e131d-b6b9-40d0-8341-1923da72e1cd"
      },
      "source": [
        "%%time\n",
        "encoder = tf.keras.layers.experimental.preprocessing.TextVectorization(max_tokens=None)\n",
        "encoder.adapt(dataset_all.map(lambda text, label: text))\n",
        "vocab = np.array(encoder.get_vocabulary())"
      ],
      "execution_count": null,
      "outputs": [
        {
          "output_type": "stream",
          "text": [
            "WARNING:tensorflow:AutoGraph could not transform <function <lambda> at 0x7f43f4874e60> and will run it as-is.\n",
            "Cause: could not parse the source code of <function <lambda> at 0x7f43f4874e60>: no matching AST found\n",
            "To silence this warning, decorate the function with @tf.autograph.experimental.do_not_convert\n"
          ],
          "name": "stdout"
        },
        {
          "output_type": "stream",
          "text": [
            "WARNING:tensorflow:AutoGraph could not transform <function <lambda> at 0x7f43f4874e60> and will run it as-is.\n",
            "Cause: could not parse the source code of <function <lambda> at 0x7f43f4874e60>: no matching AST found\n",
            "To silence this warning, decorate the function with @tf.autograph.experimental.do_not_convert\n"
          ],
          "name": "stderr"
        },
        {
          "output_type": "stream",
          "text": [
            "WARNING: AutoGraph could not transform <function <lambda> at 0x7f43f4874e60> and will run it as-is.\n",
            "Cause: could not parse the source code of <function <lambda> at 0x7f43f4874e60>: no matching AST found\n",
            "To silence this warning, decorate the function with @tf.autograph.experimental.do_not_convert\n",
            "CPU times: user 2min 46s, sys: 28.3 s, total: 3min 15s\n",
            "Wall time: 1min 51s\n"
          ],
          "name": "stdout"
        }
      ]
    },
    {
      "cell_type": "code",
      "metadata": {
        "colab": {
          "base_uri": "https://localhost:8080/"
        },
        "id": "iKGVb8_Jeyig",
        "outputId": "e8d3217e-2daa-4087-e594-53fd1b1af462"
      },
      "source": [
        "print(f\"There are {len(vocab)} vocabulary words in the corpus.\")"
      ],
      "execution_count": null,
      "outputs": [
        {
          "output_type": "stream",
          "text": [
            "There are 182738 vocabulary words in the corpus.\n"
          ],
          "name": "stdout"
        }
      ]
    },
    {
      "cell_type": "markdown",
      "metadata": {
        "id": "PlQ3s9QUe3CX"
      },
      "source": [
        "There are 182738 vocabulary words in the corpus.\n",
        "\n",
        "The .adapt method sets the layer's vocabulary. Here are the first 20 tokens. After the padding and unknown tokens they're sorted by frequency:"
      ]
    },
    {
      "cell_type": "code",
      "metadata": {
        "colab": {
          "base_uri": "https://localhost:8080/"
        },
        "id": "_Z2Io_yoe8zW",
        "outputId": "e551b3be-4136-4cbc-f2c9-654e875f2094"
      },
      "source": [
        "vocab[:20]"
      ],
      "execution_count": null,
      "outputs": [
        {
          "output_type": "execute_result",
          "data": {
            "text/plain": [
              "array(['', '[UNK]', 'the', 'and', 'a', 'of', 'to', 'is', 'in', 'it', 'i',\n",
              "       'this', 'that', 'br', 'was', 'as', 'with', 'for', 'movie', 'but'],\n",
              "      dtype='<U72')"
            ]
          },
          "metadata": {},
          "execution_count": 14
        }
      ]
    },
    {
      "cell_type": "markdown",
      "metadata": {
        "id": "wJ0MQCTAfdCL"
      },
      "source": [
        "Let us get the total number of words in the corpus and the sizes of the news articles"
      ]
    },
    {
      "cell_type": "code",
      "metadata": {
        "colab": {
          "base_uri": "https://localhost:8080/"
        },
        "id": "l3TlBRwMfXde",
        "outputId": "3fcbdf11-4dcd-4ae4-c4e6-6615123b0f68"
      },
      "source": [
        "%%time\n",
        "doc_sizes = []\n",
        "corpus = []\n",
        "for example, _ in dataset_all.as_numpy_iterator():\n",
        "  enc_example = encoder(example)\n",
        "  doc_sizes.append(len(enc_example))\n",
        "  corpus+=list(enc_example.numpy())"
      ],
      "execution_count": null,
      "outputs": [
        {
          "output_type": "stream",
          "text": [
            "CPU times: user 8min 7s, sys: 58.1 s, total: 9min 5s\n",
            "Wall time: 7min 34s\n"
          ],
          "name": "stdout"
        }
      ]
    },
    {
      "cell_type": "code",
      "metadata": {
        "colab": {
          "base_uri": "https://localhost:8080/"
        },
        "id": "XEbVpRHyfXqU",
        "outputId": "4e8a3d2b-0870-437d-87b2-c6d4bf298efb"
      },
      "source": [
        "print(f\"There are {len(corpus)} words in the corpus of {len(doc_sizes)} news articles.\")\n",
        "print(f\"Each news article has between {min(doc_sizes)} and {max(doc_sizes)} tokens in it.\")"
      ],
      "execution_count": null,
      "outputs": [
        {
          "output_type": "stream",
          "text": [
            "There are 11512672 words in the corpus of 50000 news articles.\n",
            "Each news article has between 4 and 2469 tokens in it.\n"
          ],
          "name": "stdout"
        }
      ]
    },
    {
      "cell_type": "code",
      "metadata": {
        "colab": {
          "base_uri": "https://localhost:8080/",
          "height": 551
        },
        "id": "mgtVVxL-i8Uo",
        "outputId": "2257b06a-ca13-4e74-acaa-b128fcedd803"
      },
      "source": [
        "plt.figure(figsize=(15,9))\n",
        "plt.hist(doc_sizes, bins=50,range = (0,1000))\n",
        "plt.xlabel(\"Tokens Per Document\")\n",
        "plt.ylabel(\"Number of iMDB Movie Reviews\");"
      ],
      "execution_count": null,
      "outputs": [
        {
          "output_type": "display_data",
          "data": {
            "image/png": "[encoded data removed]",
            "text/plain": [
              "<Figure size 1080x648 with 1 Axes>"
            ]
          },
          "metadata": {
            "needs_background": "light"
          }
        }
      ]
    },
    {
      "cell_type": "markdown",
      "metadata": {
        "id": "gu7roRaAjDYH"
      },
      "source": [
        "Encode the news articles using the top 1000 most common words in the corpus"
      ]
    },
    {
      "cell_type": "code",
      "metadata": {
        "colab": {
          "base_uri": "https://localhost:8080/"
        },
        "id": "Z4fN-QeAjCFZ",
        "outputId": "e33e71ef-03a2-4644-9327-5c50d8da6f93"
      },
      "source": [
        "%%time\n",
        "encoder_1000 = tf.keras.layers.experimental.preprocessing.TextVectorization(max_tokens=1000)\n",
        "encoder_1000.adapt(dataset_all.map(lambda text, label: text))\n",
        "vocab_1000 = np.array(encoder_1000.get_vocabulary());"
      ],
      "execution_count": null,
      "outputs": [
        {
          "output_type": "stream",
          "text": [
            "WARNING:tensorflow:AutoGraph could not transform <function <lambda> at 0x7f43a9cce290> and will run it as-is.\n",
            "Cause: could not parse the source code of <function <lambda> at 0x7f43a9cce290>: no matching AST found\n",
            "To silence this warning, decorate the function with @tf.autograph.experimental.do_not_convert\n"
          ],
          "name": "stdout"
        },
        {
          "output_type": "stream",
          "text": [
            "WARNING:tensorflow:AutoGraph could not transform <function <lambda> at 0x7f43a9cce290> and will run it as-is.\n",
            "Cause: could not parse the source code of <function <lambda> at 0x7f43a9cce290>: no matching AST found\n",
            "To silence this warning, decorate the function with @tf.autograph.experimental.do_not_convert\n"
          ],
          "name": "stderr"
        },
        {
          "output_type": "stream",
          "text": [
            "WARNING: AutoGraph could not transform <function <lambda> at 0x7f43a9cce290> and will run it as-is.\n",
            "Cause: could not parse the source code of <function <lambda> at 0x7f43a9cce290>: no matching AST found\n",
            "To silence this warning, decorate the function with @tf.autograph.experimental.do_not_convert\n",
            "CPU times: user 2min 46s, sys: 28 s, total: 3min 14s\n",
            "Wall time: 2min 22s\n"
          ],
          "name": "stdout"
        }
      ]
    },
    {
      "cell_type": "markdown",
      "metadata": {
        "id": "M65FlO5QjeFb"
      },
      "source": [
        "The .adapt method sets the layer's vocabulary. Here are the first 20 tokens. After the padding and unknown tokens they're sorted by frequency:"
      ]
    },
    {
      "cell_type": "code",
      "metadata": {
        "colab": {
          "base_uri": "https://localhost:8080/"
        },
        "id": "BBTFJ-RUjcug",
        "outputId": "e3a22036-c716-46b8-fe02-62fb930cdfc1"
      },
      "source": [
        "vocab_1000[:20]"
      ],
      "execution_count": null,
      "outputs": [
        {
          "output_type": "execute_result",
          "data": {
            "text/plain": [
              "array(['', '[UNK]', 'the', 'and', 'a', 'of', 'to', 'is', 'in', 'it', 'i',\n",
              "       'this', 'that', 'br', 'was', 'as', 'with', 'for', 'movie', 'but'],\n",
              "      dtype='<U14')"
            ]
          },
          "metadata": {},
          "execution_count": 20
        }
      ]
    },
    {
      "cell_type": "markdown",
      "metadata": {
        "id": "pejvLRAMjlZJ"
      },
      "source": [
        "In particular, 0 is use for padding, 1 for the unknown words, 2 for the common word, i.e. 'the', etc. Let us look at the same example we encoded previously using the encoder for all the vocabulary words. Note that there are now five 1's denoting words that are not in the top 1000 in frequency.\n",
        "\n",
        "We encode the same example as before using the new encoder. Note that there are now 5 out of vocabulary words."
      ]
    },
    {
      "cell_type": "code",
      "metadata": {
        "colab": {
          "base_uri": "https://localhost:8080/"
        },
        "id": "4Am3_fw5jqBV",
        "outputId": "886f9e81-1d37-4db9-8ceb-c643a9b30cf3"
      },
      "source": [
        "example = \"the dog ran after a red ball as it rolled by the hat on the ground.\"\n",
        "encoder_1000(example)"
      ],
      "execution_count": null,
      "outputs": [
        {
          "output_type": "execute_result",
          "data": {
            "text/plain": [
              "<tf.Tensor: shape=(16,), dtype=int64, numpy=\n",
              "array([  2, 828,   1, 101,   4, 846,   1,  15,   9,   1,  33,   2,   1,\n",
              "        21,   2,   1])>"
            ]
          },
          "metadata": {},
          "execution_count": 21
        }
      ]
    },
    {
      "cell_type": "code",
      "metadata": {
        "colab": {
          "base_uri": "https://localhost:8080/"
        },
        "id": "J4OtDWMxjuos",
        "outputId": "86aeb61f-ad01-4cb6-fe65-f82ac474d71d"
      },
      "source": [
        "for word in example.split():\n",
        "  print(f'\"{word}\" is {\"*not* \" if word not in vocab_1000  else \"\"}in the vocabulary.')"
      ],
      "execution_count": null,
      "outputs": [
        {
          "output_type": "stream",
          "text": [
            "\"the\" is in the vocabulary.\n",
            "\"dog\" is in the vocabulary.\n",
            "\"ran\" is *not* in the vocabulary.\n",
            "\"after\" is in the vocabulary.\n",
            "\"a\" is in the vocabulary.\n",
            "\"red\" is in the vocabulary.\n",
            "\"ball\" is *not* in the vocabulary.\n",
            "\"as\" is in the vocabulary.\n",
            "\"it\" is in the vocabulary.\n",
            "\"rolled\" is *not* in the vocabulary.\n",
            "\"by\" is in the vocabulary.\n",
            "\"the\" is in the vocabulary.\n",
            "\"hat\" is *not* in the vocabulary.\n",
            "\"on\" is in the vocabulary.\n",
            "\"the\" is in the vocabulary.\n",
            "\"ground.\" is *not* in the vocabulary.\n"
          ],
          "name": "stdout"
        }
      ]
    },
    {
      "cell_type": "markdown",
      "metadata": {
        "id": "DbrBW9_zjzOA"
      },
      "source": [
        "We want to determine the number of non-vocabulary words in each news articles (denoted by 1s in the encoding)"
      ]
    },
    {
      "cell_type": "code",
      "metadata": {
        "colab": {
          "base_uri": "https://localhost:8080/"
        },
        "id": "JoPf9hvsj5h0",
        "outputId": "5f960d8e-9432-4452-aa86-e84c6b8f54ed"
      },
      "source": [
        "%%time\n",
        "doc1000_sizes = []\n",
        "corpus1000 = []\n",
        "count1000=0\n",
        "useless = 0\n",
        "# stop = 0\n",
        "percents = []\n",
        "for example, _ in dataset_all.as_numpy_iterator():\n",
        "  # stop+=1\n",
        "  # if stop > 5: break\n",
        "  enc_example = encoder_1000(example)\n",
        "  num_ones = tf.math.count_nonzero(enc_example==1).numpy()\n",
        "  percent_ones = round(num_ones*100/len(enc_example))\n",
        "  # print(f\"{percent_ones}%\")\n",
        "  percents.append(percent_ones)\n",
        "\n",
        "  s = set(list(enc_example.numpy()))\n",
        "  if s == {1}: useless+=1\n",
        "\n",
        "  doc1000_sizes.append(len(enc_example))\n",
        "  corpus1000+=list(enc_example.numpy())\n",
        "\n",
        "  count1000 += tf.math.count_nonzero(enc_example>1)"
      ],
      "execution_count": null,
      "outputs": [
        {
          "output_type": "stream",
          "text": [
            "CPU times: user 9min 17s, sys: 1min 1s, total: 10min 19s\n",
            "Wall time: 9min 21s\n"
          ],
          "name": "stdout"
        }
      ]
    },
    {
      "cell_type": "code",
      "metadata": {
        "colab": {
          "base_uri": "https://localhost:8080/"
        },
        "id": "2vy5wpoAkHCQ",
        "outputId": "a5a0382e-2902-4b91-e5c3-585928f9b163"
      },
      "source": [
        "print(f\"Each movie review has between {min(doc1000_sizes)} and {max(doc1000_sizes)} tokens in it.\")"
      ],
      "execution_count": null,
      "outputs": [
        {
          "output_type": "stream",
          "text": [
            "Each movie review has between 4 and 2469 tokens in it.\n"
          ],
          "name": "stdout"
        }
      ]
    },
    {
      "cell_type": "code",
      "metadata": {
        "colab": {
          "base_uri": "https://localhost:8080/"
        },
        "id": "IZFeEWE0kXE5",
        "outputId": "9b5ce697-439a-4ee1-97cb-3a08f8e14309"
      },
      "source": [
        "Counter(percents).most_common(10)\n",
        "np.unique(percents, return_counts=True) "
      ],
      "execution_count": null,
      "outputs": [
        {
          "output_type": "execute_result",
          "data": {
            "text/plain": [
              "(array([  0,   1,   2,   3,   4,   5,   6,   7,   8,   9,  10,  11,  12,\n",
              "         13,  14,  15,  16,  17,  18,  19,  20,  21,  22,  23,  24,  25,\n",
              "         26,  27,  28,  29,  30,  31,  32,  33,  34,  35,  36,  37,  38,\n",
              "         39,  40,  41,  42,  43,  44,  45,  46,  47,  48,  49,  50,  51,\n",
              "         52,  53,  54,  55,  56,  57,  58,  59,  60,  61,  63,  65,  67,\n",
              "        100]),\n",
              " array([  10,    1,    7,   13,   28,   47,   61,  115,  213,  328,  440,\n",
              "         579,  881, 1022, 1457, 1634, 1961, 2115, 2405, 2555, 2775, 2728,\n",
              "        2921, 2819, 2688, 2532, 2476, 2237, 2097, 1760, 1634, 1376, 1172,\n",
              "         967,  829,  683,  541,  383,  365,  261,  219,  171,  100,   83,\n",
              "          61,   40,   44,   34,   29,   28,   23,   12,    5,   10,    4,\n",
              "           4,    3,    1,    2,    3,    3,    1,    1,    1,    1,    1]))"
            ]
          },
          "metadata": {},
          "execution_count": 25
        }
      ]
    },
    {
      "cell_type": "code",
      "metadata": {
        "colab": {
          "base_uri": "https://localhost:8080/",
          "height": 551
        },
        "id": "PPJDd74Hljwz",
        "outputId": "368abb5d-9717-40e9-d5fe-7fea296a5860"
      },
      "source": [
        "plt.figure(figsize=(15,9))\n",
        "plt.hist(percents, 20)\n",
        "plt.ylabel('Number of Documents')\n",
        "plt.xlabel('Percent of Non-Vocabulary Words in a Document');"
      ],
      "execution_count": null,
      "outputs": [
        {
          "output_type": "display_data",
          "data": {
            "image/png": "[encoded data removed]",
            "text/plain": [
              "<Figure size 1080x648 with 1 Axes>"
            ]
          },
          "metadata": {
            "needs_background": "light"
          }
        }
      ]
    },
    {
      "cell_type": "code",
      "metadata": {
        "colab": {
          "base_uri": "https://localhost:8080/"
        },
        "id": "AXb2Q-gVlo08",
        "outputId": "b1cba029-40d8-4d4e-dd32-ee7996abd75d"
      },
      "source": [
        "print(f\"There are {count1000} top {len(vocab_1000)} vocabulary words in the corpus.\")"
      ],
      "execution_count": null,
      "outputs": [
        {
          "output_type": "stream",
          "text": [
            "There are 8711810 top 1000 vocabulary words in the corpus.\n"
          ],
          "name": "stdout"
        }
      ]
    },
    {
      "cell_type": "markdown",
      "metadata": {
        "id": "aEPOPb63RNjv"
      },
      "source": [
        "### Preprocessing Data Create Input Pipeline"
      ]
    },
    {
      "cell_type": "code",
      "metadata": {
        "colab": {
          "base_uri": "https://localhost:8080/"
        },
        "id": "0_tU6cH0ncl0",
        "outputId": "943a60b9-b0d9-4854-a4f7-f191cd906e07"
      },
      "source": [
        "# register  ag_news_subset so that tfds.load doesn't generate a checksum (mismatch) error\n",
        "!python -m tensorflow_datasets.scripts.download_and_prepare --register_checksums --datasets=IMDBReviews\n",
        "\n",
        "# Example Approaches to Split Data Set\n",
        "# dataset, info = tfds.load('ag_news_subset', with_info=True,  split=['train[:]','test[:1000]', 'test[1000:]'],\n",
        "dataset, info = tfds.load('IMDBReviews', with_info=True,  split=['train[:95%]','train[95%:]', 'test[:]'],\n",
        "# dataset, info = tfds.load('ag_news_subset', with_info=True,  split=['train[:114000]','train[114000:]', 'test[:]'],\n",
        "                          as_supervised=True)\n",
        "train_dataset, validation_dataset, test_dataset = dataset\n",
        "# train_dataset, test_dataset = dataset['train'],dataset['test']"
      ],
      "execution_count": null,
      "outputs": [
        {
          "output_type": "stream",
          "text": [
            "2021-08-27 10:26:32.128784: I tensorflow/stream_executor/cuda/cuda_gpu_executor.cc:937] successful NUMA node read from SysFS had negative value (-1), but there must be at least one NUMA node, so returning NUMA node zero\n",
            "2021-08-27 10:26:32.138052: I tensorflow/stream_executor/cuda/cuda_gpu_executor.cc:937] successful NUMA node read from SysFS had negative value (-1), but there must be at least one NUMA node, so returning NUMA node zero\n",
            "2021-08-27 10:26:32.138845: I tensorflow/stream_executor/cuda/cuda_gpu_executor.cc:937] successful NUMA node read from SysFS had negative value (-1), but there must be at least one NUMA node, so returning NUMA node zero\n",
            "I0827 10:26:32.139790 139799616919424 download_and_prepare.py:200] Running download_and_prepare for dataset(s):\n",
            "IMDBReviews\n",
            "I0827 10:26:32.140259 139799616919424 dataset_builder.py:811] No config specified, defaulting to first: imdb_reviews/plain_text\n",
            "I0827 10:26:32.140828 139799616919424 dataset_info.py:361] Load dataset info from /root/tensorflow_datasets/imdb_reviews/plain_text/1.0.0\n",
            "I0827 10:26:32.143249 139799616919424 dataset_info.py:361] Load dataset info from /root/tensorflow_datasets/imdb_reviews/plain_text/1.0.0\n",
            "I0827 10:26:32.144785 139799616919424 download_and_prepare.py:138] download_and_prepare for dataset imdb_reviews/plain_text/1.0.0...\n",
            "I0827 10:26:32.145033 139799616919424 dataset_builder.py:299] Reusing dataset imdb_reviews (/root/tensorflow_datasets/imdb_reviews/plain_text/1.0.0)\n",
            "\u001b[1mname: \"imdb_reviews\"\n",
            "description: \"Large Movie Review Dataset.\\nThis is a dataset for binary sentiment classification containing substantially more data than previous benchmark datasets. We provide a set of 25,000 highly polar movie reviews for training, and 25,000 for testing. There is additional unlabeled data for use as well.\"\n",
            "citation: \"@InProceedings{maas-EtAl:2011:ACL-HLT2011,\\n  author    = {Maas, Andrew L.  and  Daly, Raymond E.  and  Pham, Peter T.  and  Huang, Dan  and  Ng, Andrew Y.  and  Potts, Christopher},\\n  title     = {Learning Word Vectors for Sentiment Analysis},\\n  booktitle = {Proceedings of the 49th Annual Meeting of the Association for Computational Linguistics: Human Language Technologies},\\n  month     = {June},\\n  year      = {2011},\\n  address   = {Portland, Oregon, USA},\\n  publisher = {Association for Computational Linguistics},\\n  pages     = {142--150},\\n  url       = {http://www.aclweb.org/anthology/P11-1015}\\n}\"\n",
            "size_in_bytes: 84125825\n",
            "location {\n",
            "  urls: \"http://ai.stanford.edu/~amaas/data/sentiment/\"\n",
            "}\n",
            "schema {\n",
            "  feature {\n",
            "    name: \"label\"\n",
            "    type: INT\n",
            "  }\n",
            "  feature {\n",
            "    name: \"text\"\n",
            "    type: BYTES\n",
            "  }\n",
            "}\n",
            "splits {\n",
            "  name: \"test\"\n",
            "  num_shards: 10\n",
            "  statistics {\n",
            "    num_examples: 25000\n",
            "    features {\n",
            "      name: \"label\"\n",
            "      num_stats {\n",
            "        common_stats {\n",
            "          num_non_missing: 25000\n",
            "        }\n",
            "        max: 1.0\n",
            "      }\n",
            "    }\n",
            "    features {\n",
            "      name: \"text\"\n",
            "      type: BYTES\n",
            "      bytes_stats {\n",
            "        common_stats {\n",
            "          num_non_missing: 25000\n",
            "        }\n",
            "      }\n",
            "    }\n",
            "  }\n",
            "  shard_lengths: 25000\n",
            "}\n",
            "splits {\n",
            "  name: \"train\"\n",
            "  num_shards: 10\n",
            "  statistics {\n",
            "    num_examples: 25000\n",
            "    features {\n",
            "      name: \"label\"\n",
            "      num_stats {\n",
            "        common_stats {\n",
            "          num_non_missing: 25000\n",
            "        }\n",
            "        max: 1.0\n",
            "      }\n",
            "    }\n",
            "    features {\n",
            "      name: \"text\"\n",
            "      type: BYTES\n",
            "      bytes_stats {\n",
            "        common_stats {\n",
            "          num_non_missing: 25000\n",
            "        }\n",
            "      }\n",
            "    }\n",
            "  }\n",
            "  shard_lengths: 25000\n",
            "}\n",
            "splits {\n",
            "  name: \"unsupervised\"\n",
            "  num_shards: 20\n",
            "  statistics {\n",
            "    num_examples: 50000\n",
            "    features {\n",
            "      name: \"label\"\n",
            "      num_stats {\n",
            "        common_stats {\n",
            "          num_non_missing: 50000\n",
            "        }\n",
            "        min: -1.0\n",
            "        max: -1.0\n",
            "      }\n",
            "    }\n",
            "    features {\n",
            "      name: \"text\"\n",
            "      type: BYTES\n",
            "      bytes_stats {\n",
            "        common_stats {\n",
            "          num_non_missing: 50000\n",
            "        }\n",
            "      }\n",
            "    }\n",
            "  }\n",
            "  shard_lengths: 50000\n",
            "}\n",
            "supervised_keys {\n",
            "  input: \"text\"\n",
            "  output: \"label\"\n",
            "}\n",
            "version: \"1.0.0\"\n",
            "download_size: 84125825\n",
            "config_name: \"plain_text\"\n",
            "config_description: \"Plain text\"\n",
            "\u001b[0m\n",
            "W0827 10:26:32.145918 139799616919424 text_feature.py:61] TFDS datasets with text encoding are deprecated and will be removed in a future version. Instead, you should use the plain text version and tokenize the text using `tensorflow_text` (See: https://www.tensorflow.org/tutorials/tensorflow_text/intro#tfdata_example)\n",
            "I0827 10:26:32.146291 139799616919424 dataset_info.py:361] Load dataset info from /root/tensorflow_datasets/imdb_reviews/bytes/1.0.0\n",
            "I0827 10:26:32.148833 139799616919424 download_and_prepare.py:138] download_and_prepare for dataset imdb_reviews/bytes/1.0.0...\n",
            "I0827 10:26:32.149013 139799616919424 dataset_builder.py:299] Reusing dataset imdb_reviews (/root/tensorflow_datasets/imdb_reviews/bytes/1.0.0)\n",
            "\u001b[1mname: \"imdb_reviews\"\n",
            "description: \"Large Movie Review Dataset.\\nThis is a dataset for binary sentiment classification containing substantially more data than previous benchmark datasets. We provide a set of 25,000 highly polar movie reviews for training, and 25,000 for testing. There is additional unlabeled data for use as well.\"\n",
            "citation: \"@InProceedings{maas-EtAl:2011:ACL-HLT2011,\\n  author    = {Maas, Andrew L.  and  Daly, Raymond E.  and  Pham, Peter T.  and  Huang, Dan  and  Ng, Andrew Y.  and  Potts, Christopher},\\n  title     = {Learning Word Vectors for Sentiment Analysis},\\n  booktitle = {Proceedings of the 49th Annual Meeting of the Association for Computational Linguistics: Human Language Technologies},\\n  month     = {June},\\n  year      = {2011},\\n  address   = {Portland, Oregon, USA},\\n  publisher = {Association for Computational Linguistics},\\n  pages     = {142--150},\\n  url       = {http://www.aclweb.org/anthology/P11-1015}\\n}\"\n",
            "size_in_bytes: 84125825\n",
            "location {\n",
            "  urls: \"http://ai.stanford.edu/~amaas/data/sentiment/\"\n",
            "}\n",
            "schema {\n",
            "  feature {\n",
            "    name: \"label\"\n",
            "    type: INT\n",
            "  }\n",
            "  feature {\n",
            "    name: \"text\"\n",
            "    type: INT\n",
            "    shape {\n",
            "      dim {\n",
            "        size: -1\n",
            "      }\n",
            "    }\n",
            "  }\n",
            "}\n",
            "splits {\n",
            "  name: \"test\"\n",
            "  num_shards: 10\n",
            "  statistics {\n",
            "    num_examples: 25000\n",
            "    features {\n",
            "      name: \"label\"\n",
            "      num_stats {\n",
            "        common_stats {\n",
            "          num_non_missing: 25000\n",
            "        }\n",
            "        max: 1.0\n",
            "      }\n",
            "    }\n",
            "    features {\n",
            "      name: \"text\"\n",
            "      num_stats {\n",
            "        common_stats {\n",
            "          num_non_missing: 25000\n",
            "        }\n",
            "        min: 10.0\n",
            "        max: 240.0\n",
            "      }\n",
            "    }\n",
            "  }\n",
            "  shard_lengths: 25000\n",
            "}\n",
            "splits {\n",
            "  name: \"train\"\n",
            "  num_shards: 10\n",
            "  statistics {\n",
            "    num_examples: 25000\n",
            "    features {\n",
            "      name: \"label\"\n",
            "      num_stats {\n",
            "        common_stats {\n",
            "          num_non_missing: 25000\n",
            "        }\n",
            "        max: 1.0\n",
            "      }\n",
            "    }\n",
            "    features {\n",
            "      name: \"text\"\n",
            "      num_stats {\n",
            "        common_stats {\n",
            "          num_non_missing: 25000\n",
            "        }\n",
            "        min: 9.0\n",
            "        max: 240.0\n",
            "      }\n",
            "    }\n",
            "  }\n",
            "  shard_lengths: 25000\n",
            "}\n",
            "splits {\n",
            "  name: \"unsupervised\"\n",
            "  num_shards: 20\n",
            "  statistics {\n",
            "    num_examples: 50000\n",
            "    features {\n",
            "      name: \"label\"\n",
            "      num_stats {\n",
            "        common_stats {\n",
            "          num_non_missing: 50000\n",
            "        }\n",
            "        min: -1.0\n",
            "        max: -1.0\n",
            "      }\n",
            "    }\n",
            "    features {\n",
            "      name: \"text\"\n",
            "      num_stats {\n",
            "        common_stats {\n",
            "          num_non_missing: 50000\n",
            "        }\n",
            "        min: 10.0\n",
            "        max: 240.0\n",
            "      }\n",
            "    }\n",
            "  }\n",
            "  shard_lengths: 50000\n",
            "}\n",
            "supervised_keys {\n",
            "  input: \"text\"\n",
            "  output: \"label\"\n",
            "}\n",
            "version: \"1.0.0\"\n",
            "download_size: 84125825\n",
            "config_name: \"bytes\"\n",
            "config_description: \"Uses byte-level text encoding with `tfds.deprecated.text.ByteTextEncoder`\"\n",
            "\u001b[0m\n",
            "W0827 10:26:32.149508 139799616919424 text_feature.py:61] TFDS datasets with text encoding are deprecated and will be removed in a future version. Instead, you should use the plain text version and tokenize the text using `tensorflow_text` (See: https://www.tensorflow.org/tutorials/tensorflow_text/intro#tfdata_example)\n",
            "I0827 10:26:32.149727 139799616919424 dataset_info.py:361] Load dataset info from /root/tensorflow_datasets/imdb_reviews/subwords8k/1.0.0\n",
            "I0827 10:26:32.191381 139799616919424 download_and_prepare.py:138] download_and_prepare for dataset imdb_reviews/subwords8k/1.0.0...\n",
            "I0827 10:26:32.191634 139799616919424 dataset_builder.py:299] Reusing dataset imdb_reviews (/root/tensorflow_datasets/imdb_reviews/subwords8k/1.0.0)\n",
            "\u001b[1mname: \"imdb_reviews\"\n",
            "description: \"Large Movie Review Dataset.\\nThis is a dataset for binary sentiment classification containing substantially more data than previous benchmark datasets. We provide a set of 25,000 highly polar movie reviews for training, and 25,000 for testing. There is additional unlabeled data for use as well.\"\n",
            "citation: \"@InProceedings{maas-EtAl:2011:ACL-HLT2011,\\n  author    = {Maas, Andrew L.  and  Daly, Raymond E.  and  Pham, Peter T.  and  Huang, Dan  and  Ng, Andrew Y.  and  Potts, Christopher},\\n  title     = {Learning Word Vectors for Sentiment Analysis},\\n  booktitle = {Proceedings of the 49th Annual Meeting of the Association for Computational Linguistics: Human Language Technologies},\\n  month     = {June},\\n  year      = {2011},\\n  address   = {Portland, Oregon, USA},\\n  publisher = {Association for Computational Linguistics},\\n  pages     = {142--150},\\n  url       = {http://www.aclweb.org/anthology/P11-1015}\\n}\"\n",
            "size_in_bytes: 84125825\n",
            "location {\n",
            "  urls: \"http://ai.stanford.edu/~amaas/data/sentiment/\"\n",
            "}\n",
            "schema {\n",
            "  feature {\n",
            "    name: \"label\"\n",
            "    type: INT\n",
            "  }\n",
            "  feature {\n",
            "    name: \"text\"\n",
            "    type: INT\n",
            "    shape {\n",
            "      dim {\n",
            "        size: -1\n",
            "      }\n",
            "    }\n",
            "  }\n",
            "}\n",
            "splits {\n",
            "  name: \"test\"\n",
            "  num_shards: 10\n",
            "  statistics {\n",
            "    num_examples: 25000\n",
            "    features {\n",
            "      name: \"label\"\n",
            "      num_stats {\n",
            "        common_stats {\n",
            "          num_non_missing: 25000\n",
            "        }\n",
            "        max: 1.0\n",
            "      }\n",
            "    }\n",
            "    features {\n",
            "      name: \"text\"\n",
            "      num_stats {\n",
            "        common_stats {\n",
            "          num_non_missing: 25000\n",
            "        }\n",
            "        min: 1.0\n",
            "        max: 8168.0\n",
            "      }\n",
            "    }\n",
            "  }\n",
            "  shard_lengths: 25000\n",
            "}\n",
            "splits {\n",
            "  name: \"train\"\n",
            "  num_shards: 10\n",
            "  statistics {\n",
            "    num_examples: 25000\n",
            "    features {\n",
            "      name: \"label\"\n",
            "      num_stats {\n",
            "        common_stats {\n",
            "          num_non_missing: 25000\n",
            "        }\n",
            "        max: 1.0\n",
            "      }\n",
            "    }\n",
            "    features {\n",
            "      name: \"text\"\n",
            "      num_stats {\n",
            "        common_stats {\n",
            "          num_non_missing: 25000\n",
            "        }\n",
            "        min: 1.0\n",
            "        max: 8168.0\n",
            "      }\n",
            "    }\n",
            "  }\n",
            "  shard_lengths: 25000\n",
            "}\n",
            "splits {\n",
            "  name: \"unsupervised\"\n",
            "  num_shards: 20\n",
            "  statistics {\n",
            "    num_examples: 50000\n",
            "    features {\n",
            "      name: \"label\"\n",
            "      num_stats {\n",
            "        common_stats {\n",
            "          num_non_missing: 50000\n",
            "        }\n",
            "        min: -1.0\n",
            "        max: -1.0\n",
            "      }\n",
            "    }\n",
            "    features {\n",
            "      name: \"text\"\n",
            "      num_stats {\n",
            "        common_stats {\n",
            "          num_non_missing: 50000\n",
            "        }\n",
            "        min: 1.0\n",
            "        max: 8168.0\n",
            "      }\n",
            "    }\n",
            "  }\n",
            "  shard_lengths: 50000\n",
            "}\n",
            "supervised_keys {\n",
            "  input: \"text\"\n",
            "  output: \"label\"\n",
            "}\n",
            "version: \"1.0.0\"\n",
            "download_size: 84125825\n",
            "config_name: \"subwords8k\"\n",
            "config_description: \"Uses `tfds.deprecated.text.SubwordTextEncoder` with 8k vocab size\"\n",
            "\u001b[0m\n",
            "W0827 10:26:32.192224 139799616919424 text_feature.py:61] TFDS datasets with text encoding are deprecated and will be removed in a future version. Instead, you should use the plain text version and tokenize the text using `tensorflow_text` (See: https://www.tensorflow.org/tutorials/tensorflow_text/intro#tfdata_example)\n",
            "I0827 10:26:32.192511 139799616919424 dataset_info.py:361] Load dataset info from /root/tensorflow_datasets/imdb_reviews/subwords32k/1.0.0\n",
            "I0827 10:26:32.342118 139799616919424 download_and_prepare.py:138] download_and_prepare for dataset imdb_reviews/subwords32k/1.0.0...\n",
            "I0827 10:26:32.342428 139799616919424 dataset_builder.py:299] Reusing dataset imdb_reviews (/root/tensorflow_datasets/imdb_reviews/subwords32k/1.0.0)\n",
            "\u001b[1mname: \"imdb_reviews\"\n",
            "description: \"Large Movie Review Dataset.\\nThis is a dataset for binary sentiment classification containing substantially more data than previous benchmark datasets. We provide a set of 25,000 highly polar movie reviews for training, and 25,000 for testing. There is additional unlabeled data for use as well.\"\n",
            "citation: \"@InProceedings{maas-EtAl:2011:ACL-HLT2011,\\n  author    = {Maas, Andrew L.  and  Daly, Raymond E.  and  Pham, Peter T.  and  Huang, Dan  and  Ng, Andrew Y.  and  Potts, Christopher},\\n  title     = {Learning Word Vectors for Sentiment Analysis},\\n  booktitle = {Proceedings of the 49th Annual Meeting of the Association for Computational Linguistics: Human Language Technologies},\\n  month     = {June},\\n  year      = {2011},\\n  address   = {Portland, Oregon, USA},\\n  publisher = {Association for Computational Linguistics},\\n  pages     = {142--150},\\n  url       = {http://www.aclweb.org/anthology/P11-1015}\\n}\"\n",
            "size_in_bytes: 84125825\n",
            "location {\n",
            "  urls: \"http://ai.stanford.edu/~amaas/data/sentiment/\"\n",
            "}\n",
            "schema {\n",
            "  feature {\n",
            "    name: \"label\"\n",
            "    type: INT\n",
            "  }\n",
            "  feature {\n",
            "    name: \"text\"\n",
            "    type: INT\n",
            "    shape {\n",
            "      dim {\n",
            "        size: -1\n",
            "      }\n",
            "    }\n",
            "  }\n",
            "}\n",
            "splits {\n",
            "  name: \"test\"\n",
            "  num_shards: 10\n",
            "  statistics {\n",
            "    num_examples: 25000\n",
            "    features {\n",
            "      name: \"label\"\n",
            "      num_stats {\n",
            "        common_stats {\n",
            "          num_non_missing: 25000\n",
            "        }\n",
            "        max: 1.0\n",
            "      }\n",
            "    }\n",
            "    features {\n",
            "      name: \"text\"\n",
            "      num_stats {\n",
            "        common_stats {\n",
            "          num_non_missing: 25000\n",
            "        }\n",
            "        min: 1.0\n",
            "        max: 32633.0\n",
            "      }\n",
            "    }\n",
            "  }\n",
            "  shard_lengths: 25000\n",
            "}\n",
            "splits {\n",
            "  name: \"train\"\n",
            "  num_shards: 10\n",
            "  statistics {\n",
            "    num_examples: 25000\n",
            "    features {\n",
            "      name: \"label\"\n",
            "      num_stats {\n",
            "        common_stats {\n",
            "          num_non_missing: 25000\n",
            "        }\n",
            "        max: 1.0\n",
            "      }\n",
            "    }\n",
            "    features {\n",
            "      name: \"text\"\n",
            "      num_stats {\n",
            "        common_stats {\n",
            "          num_non_missing: 25000\n",
            "        }\n",
            "        min: 1.0\n",
            "        max: 32633.0\n",
            "      }\n",
            "    }\n",
            "  }\n",
            "  shard_lengths: 25000\n",
            "}\n",
            "splits {\n",
            "  name: \"unsupervised\"\n",
            "  num_shards: 20\n",
            "  statistics {\n",
            "    num_examples: 50000\n",
            "    features {\n",
            "      name: \"label\"\n",
            "      num_stats {\n",
            "        common_stats {\n",
            "          num_non_missing: 50000\n",
            "        }\n",
            "        min: -1.0\n",
            "        max: -1.0\n",
            "      }\n",
            "    }\n",
            "    features {\n",
            "      name: \"text\"\n",
            "      num_stats {\n",
            "        common_stats {\n",
            "          num_non_missing: 50000\n",
            "        }\n",
            "        min: 1.0\n",
            "        max: 32633.0\n",
            "      }\n",
            "    }\n",
            "  }\n",
            "  shard_lengths: 50000\n",
            "}\n",
            "supervised_keys {\n",
            "  input: \"text\"\n",
            "  output: \"label\"\n",
            "}\n",
            "version: \"1.0.0\"\n",
            "download_size: 84125825\n",
            "config_name: \"subwords32k\"\n",
            "config_description: \"Uses `tfds.deprecated.text.SubwordTextEncoder` with 32k vocab size\"\n",
            "\u001b[0m\n"
          ],
          "name": "stdout"
        }
      ]
    },
    {
      "cell_type": "code",
      "metadata": {
        "id": "bRc-UUujdLD6"
      },
      "source": [
        "####  Dataset Splits (Training, Test, Validation)\n",
        "#### .8934 Training, .0470 Test, .0596 Validation"
      ],
      "execution_count": null,
      "outputs": []
    },
    {
      "cell_type": "code",
      "metadata": {
        "colab": {
          "base_uri": "https://localhost:8080/"
        },
        "id": "3TXXMh7Hdr47",
        "outputId": "d6a5207d-cb6e-456f-d1ee-3d57f91a6bb1"
      },
      "source": [
        "len(train_dataset),len(validation_dataset),len(test_dataset) \n",
        "# len(train_dataset),len(test_dataset) "
      ],
      "execution_count": null,
      "outputs": [
        {
          "output_type": "execute_result",
          "data": {
            "text/plain": [
              "(23750, 1250, 25000)"
            ]
          },
          "metadata": {},
          "execution_count": 29
        }
      ]
    },
    {
      "cell_type": "markdown",
      "metadata": {
        "id": "e3ISb8oinPnR"
      },
      "source": [
        "### Review Distribution of Categorical Labels for the 114000 training data (news articles)"
      ]
    },
    {
      "cell_type": "code",
      "metadata": {
        "colab": {
          "base_uri": "https://localhost:8080/"
        },
        "id": "Itjr5Erroxv9",
        "outputId": "47b6115f-d9db-46a2-9c96-15b0ba234b4c"
      },
      "source": [
        "from collections import Counter\n",
        "train_categories = [categories[label] for label in train_dataset.map(lambda text, label: label).as_numpy_iterator()]\n",
        "Counter(train_categories).most_common()"
      ],
      "execution_count": null,
      "outputs": [
        {
          "output_type": "execute_result",
          "data": {
            "text/plain": [
              "[('neg', 11912), ('pos', 11838)]"
            ]
          },
          "metadata": {},
          "execution_count": 30
        }
      ]
    },
    {
      "cell_type": "markdown",
      "metadata": {
        "id": "nWA4c2ir7g6p"
      },
      "source": [
        "Review Example with Interger Label(text, label pairs):"
      ]
    },
    {
      "cell_type": "markdown",
      "metadata": {
        "id": "icCNaXSirCnm"
      },
      "source": [
        "Review Example with Interger Label Encoded Classification(text, label pairs):"
      ]
    },
    {
      "cell_type": "code",
      "metadata": {
        "id": "g469sP9PYbQT",
        "colab": {
          "base_uri": "https://localhost:8080/"
        },
        "outputId": "3dee483a-da5d-41c8-ed36-bdcee898c8f2"
      },
      "source": [
        "for example, label in train_dataset.take(1):\n",
        "  print('text: ', example.numpy())\n",
        "  print('class: ', categories[label.numpy()])"
      ],
      "execution_count": null,
      "outputs": [
        {
          "output_type": "stream",
          "text": [
            "text:  b\"This was an absolutely terrible movie. Don't be lured in by Christopher Walken or Michael Ironside. Both are great actors, but this must simply be their worst role in history. Even their great acting could not redeem this movie's ridiculous storyline. This movie is an early nineties US propaganda piece. The most pathetic scenes were those when the Columbian rebels were making their cases for revolutions. Maria Conchita Alonso appeared phony, and her pseudo-love affair with Walken was nothing but a pathetic emotional plug in a movie that was devoid of any real meaning. I am disappointed that there are movies like this, ruining actor's like Christopher Walken's good name. I could barely sit through it.\"\n",
            "class:  neg\n"
          ],
          "name": "stdout"
        }
      ]
    },
    {
      "cell_type": "markdown",
      "metadata": {
        "id": "z2qVJzcEluH_"
      },
      "source": [
        "#### Preprocessing Shuffle Data for Training and Create Batches of `(text, label)` pairs:"
      ]
    },
    {
      "cell_type": "code",
      "metadata": {
        "id": "dDsCaZCDYZgm"
      },
      "source": [
        "BUFFER_SIZE = 10000\n",
        "BATCH_SIZE = 64"
      ],
      "execution_count": null,
      "outputs": []
    },
    {
      "cell_type": "code",
      "metadata": {
        "id": "VznrltNOnUc5"
      },
      "source": [
        "train_dataset = train_dataset.shuffle(BUFFER_SIZE).batch(BATCH_SIZE).prefetch(tf.data.experimental.AUTOTUNE)\n",
        "validation_dataset = validation_dataset.shuffle(BUFFER_SIZE).batch(BATCH_SIZE).prefetch(tf.data.experimental.AUTOTUNE)\n",
        "test_dataset = test_dataset.batch(BATCH_SIZE).prefetch(tf.data.experimental.AUTOTUNE)"
      ],
      "execution_count": null,
      "outputs": []
    },
    {
      "cell_type": "code",
      "metadata": {
        "id": "ZQ8KIlvwwt7f"
      },
      "source": [
        "train_dataset_e1 = train_dataset\n",
        "validation_dataset_e1 = validation_dataset\n",
        "test_dataset_e1 = test_dataset"
      ],
      "execution_count": null,
      "outputs": []
    },
    {
      "cell_type": "code",
      "metadata": {
        "colab": {
          "base_uri": "https://localhost:8080/"
        },
        "id": "jqkvdcFv41wC",
        "outputId": "dcd1f065-c744-4e4e-cb58-a656bb2c4e3f"
      },
      "source": [
        "for example, label in train_dataset.take(2):\n",
        "  print('texts: ', example.numpy()[:3])\n",
        "  print()\n",
        "  print('labels: ', label.numpy()[:3])"
      ],
      "execution_count": null,
      "outputs": [
        {
          "output_type": "stream",
          "text": [
            "texts:  [b'Claustrophobic camera angles that do not help the movie: Too long face only shots where you most of the time get the feeling that the lower half of the film is missing (that the screen is cut off), because there seems to be important actions going on, but you cannot see them. There is anyway already too much confusion in the movie, so these viewing angles make it worse and do not contribute to artful visuals. <br /><br />I like artfully made movies and unconventional camera work. I can handle deep and slow movies. But this one is trying too hard to be something artful and fails in my opinion painfully.<br /><br />Nothing to get attached to, to any of the characters, because they are not worked out well enough. To work out characters more is needed, than just minute long face shots, at least with this set of script+director+actors.<br /><br />I wonder whether some of the not so good acting is due to the script and director or due to the actors. <br /><br />I will stay away from films both written and directed by Le You for sure in the future. <br /><br />What an annoying film even for someone who would be interested in that part of history, and for someone who spent time in Shanghai.'\n",
            " b'Just got my copy of this DVD two disc set and while not perfect, I found the overall experience to be a fun way to waste some time. I have to say right up front that I am a huge fan of Zombie movies, and I truly think that the fine people who made these films must be too. I also have a soft spot for people who are trying, sometimes against all odds, to live a dream. And again, these people are doing it. Is this some award-winning collection of amazing film? No. Not even close. But for what they do on their meager budgets, these films should be recommended. For me, the bottom line is always, was I entertained? Did I have a good time with this movie? And here the answer to both was \"Yes.\" The first in the series is also the most raw. It opens with some kind of accident at a nuclear facility and people melt down or something. Cut to some years later and a new housing community is built over the old reactor site. Some kids making a video fall into a hole and find themselves trapped in the bottom levels of the facility. They get rescued, but the hole is not sealed and the people from the opening start lumbering out of the hole. Soon, the whole town is overtaken by the undead. And these zombies are fun. They go from cool rot makeup to the cheapest slap on white-face ever, but they are fun. The whole movie culminates in a showdown between the final survivors of the area and the undead, with our heroes going into the reactor\\'s lower levels to take out the flesh eating zombies and seal the hole forever! Pretty cheesy, but I think it was meant to be. Still, it moves very fast, has buckets of gruesome effects and really tries to have some style. The acting is uneven, but a few good performances shine through and one really should listen to the commentary track. I went back and watched it again with that on and found it to be a good bit of information on the trials and fun that the crew and cast experienced on the movie. Director Todd Sheets seems pretty proud of this, his first film, but also has no delusions. He knows it\\'s a trashy zombie movie, but he does show respect to people involved. Also, Sheets has a great sense of humor and some humble integrity that others could learn from in the movie field. The behind the scenes of Zombie Bloodbath is pretty fun as well. I felt it was almost as entertaining as the film it was made for. There are some great interviews and behind the scenes footage, mixed with news stories about the film from some major places like CNN, FOX and MTV. Over all, a fun little film that is VERY rough around the edges, but still had me laughing and enjoying the ride! I have seen many DV films, and some shot of video films, and many are quite dull, but this one really wasn\\'t. While newer DV films are technically superior, they just aren\\'t fun! Overall, this is a solid, if a bit flawed, release with plenty of extras and TONS of gore and splatter. While not breaking any grand rules of move making, I found the series to be fun and always a laugh, so I give this set a solid recommendation. Todd Sheets was not trying to make award winning art here folks, he was trying, sometimes against all odds it seems, to make fun zero budget, splattery horror and to that end, he has succeeded in spades.'\n",
            " b'I love horror movies that brings out a real amount of mystery like say \"silent hill\" ( which i found to be quite good, but still, was missing something ) and movies that keeps you guessing, this i thought was one of those movies. At first the movie starts out with some really good suspense and builds up a good starting point for a good horror scene, but after that it just rolls down the hill and from there it only goes faster and faster down. I mentioned silent hill at first for a reason because i can see a lot of \"stolen\" themes from that movie in here.. All in all i would say, watch silent hill instead of this one, its better, its more scary, it has a lot more suspense and also the ending is a lot better.. And best of all, you wont feel ripped off as i did with this one.. This just seems to be one of those \"i like that movie so I\\'m gonna re-make it in my own really bad version\" kinda movie.. Oh and one more thing... Lordi.. in a horror movie... thats like trying to scare a kid with a care bear who has \"hug me and i will love you forever\" written on the stomach of it..']\n",
            "\n",
            "labels:  [0 1 0]\n",
            "texts:  [b\"To be honest i had heard this was pretty bad before i decided to watch it, but i'm never one to let others influence my viewings, in fact i'm more likely to watch something out of defiance!. Bullwhip had one thing going for me before the viewing anyway, the fact that Rhonda Fleming and those gorgeous eyes was in it had me interested right away. The picture isn't very good, and is in fact very morally dubious, all the characters are corrupt and shifty in one way shape or form, all motivated by greed or egocentric victories, this is all well and good if the surrounding film can do justice to a bunch of despicable people and create a taut climax shuddering picture. Sadly it doesn't, and as the finale fills your eyes with sugar you can't help shouting out that you have been cheated into watching a pretty bad film, nobody in the cast come out with any credit, with lead man Guy Madison painfully wooden in the extreme.<br /><br />Not even the lovely Rhonda can make me recommend this to anyone, 3/10\"\n",
            " b\"The 1960's were a time of change and awakening for most people. Social upheaval and unrest were commonplace as people spoke-out about their views. Racial tensions, politics, the Vietnam War, sexual promiscuity, and drug use were all part of the daily fabric, and the daily news. This film attempted to encapsulate these historical aspects into an entertaining movie, and largely succeeded.<br /><br />In this film, two families are followed: one white, one black. During the first half of the film, the story follows each family on a equal basis through social and family struggles. Unfortunately, the second half of the movie is nearly dedicated to the white family. Admittedly, there are more characters in this family, and the story lines are intermingled, but equal consideration is not given to the racial aspects of this century.<br /><br />On the whole, the acting is well done and historical footage is mixed with color and black and white original footage to give a documentary feel to the movie. The movie is a work of fiction, but clips of well-known historical figures are used to set the time-line.<br /><br />I enjoyed the movie but the situations were predictable and the storyline was one-sided.\"\n",
            " b\"It's terrific when a funny movie doesn't make smile you. What a pity!! This film is very boring and so long. It's simply painfull. The story is staggering without goal and no fun.<br /><br />You feel better when it's finished.\"]\n",
            "\n",
            "labels:  [0 0 0]\n"
          ],
          "name": "stdout"
        }
      ]
    },
    {
      "cell_type": "code",
      "metadata": {
        "colab": {
          "base_uri": "https://localhost:8080/"
        },
        "id": "HQ_8Srl7Yi2Y",
        "outputId": "1460bbc2-22c8-4daf-aad1-fd11bbad8735"
      },
      "source": [
        "for example, label in train_dataset.take(2):\n",
        "  print('texts: ', example.numpy()[:3])\n",
        "  print()\n",
        "  print('labels: ', [categories[n] for n in label.numpy()[:3]])\n",
        "  print()"
      ],
      "execution_count": null,
      "outputs": [
        {
          "output_type": "stream",
          "text": [
            "texts:  [b'I heard tell that Madonna was briefly considered for the Catherine Tremell role. Compared to Sharon Stone, Madonna is too coarse and BAUERISCH. She\\'s not even close. <br /><br />EVIL INCARNATE: Sharon Stone is a bit long in the tooth, the ameliorative effects of modern chemistry and surgery notwithstanding. However, she artfully treats us to a frightening personification of evil beyond redemption. In the obligatory sex scene, she projects pure, crystalline lust. Especially her hooded, luminous eyes and a face flat with pleasure. Thanks to brilliant use of lighting and other stage techniques, the harsh lines of age are only occasionally manifest. Rather, she seems to have a slight golden glow (YES, YEATS). <br /><br />The locations gave us a view of London that is a welcome departure from the usual Londonscapes .The Catherine character is so powerful and menacing that I thank my lucky stars that our paths never crossed. I wouldn\\'t have had a chance.<br /><br />THE ORIGINAL BASIC INSTINCT; ATTEMPTS AT CENSORSHIP: I must briefly comment on the original 1992 film, set in San Francisco, a beautiful city worthy of this film. It is outstanding, from the music to the locations to the sets, and so on. Paul Verhoven pulled striking performances out of the cast and crew. <br /><br />That the main Baddie was a woman did not escape the scrutiny of Bay Area Gay and Lesbian activist groups. Attempts at censorship were vehemently denied. SWELL. These philosophical pygmies demanded editorial control over the script, insisting on re-writes that would promote their political and psychiatrically driven agendas. Example: Sanctimoniously alleging sexism and misogyny, they demanded that the lead role be switched from BAD GIRL to BAD GUY. <br /><br />On locations in San Francisco, the gentle, tolerant activists did their best to sabotage filming of the scenes with noise, flashing lights and other tactics. The Executive Producers, Mario Kassar and Andrew Vajna, vowed to fight any efforts to restrict the artistic freedom guaranteed in our democracy and obtained restraining orders against the disruptive tactics. <br /><br />BLOWBACK: Thanks to the fulminating activists, the film got huge national press coverage - millions of dollars worth of free advertising. Their calls for viewers to boycott the film resulted in a backlash that had customers waiting in long lines wherever the film was launched. It also received widespread critical acclaim. It was, in the words of the reptilian Hackett in NETWORK, \"A BIG- TITTED HIT!\" Sorry, Gentle Reader; I just couldn\\'t resist that one. Yes, it\\'s a gibe.<br /><br />In conclusion, I believe that both BASIC INSTINCT 1 AND 2, with their brilliant musical scores, aesthetics and acting, are works of art <br /><br />that deserve protection under our Constitution.'\n",
            " b\"I can't add an awful lot to the positive reviews already on here - great acting, balanced writing, multi-faceted characters, a great anti-hero in Tony, great commentary on millennial American life. The integral use of psychiatry coupled with Tony's mother issues are especially fresh and humorous. Several other characters add a lot of depth - Hesh's interesting history as an outsider muscling in, Ralphie's total irredeemable viciousness, Chris' dual desires in life, and so on.<br /><br />I have to dig into some of the criticisms however, especially the 'it glorifies violence/belittles Italian-Americans' one.Most of the writers and actors are Italian-American, would they attack themselves? There are several positive Italian-American characters - Artie Bucco the chef, Dr. Melfi and her family and the Cusamanos next door to the Sopranos. Indeed, Dr Melfi's ex-husband notes in season 1 that only a tiny minority of Italian-Americans have ever had Mob connections (certainly smaller than the proportion of African-Americans involved in crime, dare I say it. In both cases poverty and lack of opportunity are the biggest causes).<br /><br />Most of the characters don't really choose the life they have; family background or circumstances largely corner them into it. Outsiders (even of Italian stock) who attempt to integrate into it usually meet distressing ends - Matthew and his friend in season 2, for example. If you criticise this show, I assume Frasier made you want to be a psychiatrist, or Will & Grace made you want to go homosexual? Presumably you won't listen to rap music that discusses gangs, or r'n'b which discusses promiscuity, or rock music which discusses drugs (or any other combination)? People aren't as stupid as some of you make out....<br /><br />Not everything is perfect however. A lot of characters have only appeared once, when by all logic they should have been seen or at least mentioned in previous episodes - Tracee the dancer, Meadow's friend Ally, Uncle Junior's ladyfriend (supposedly for 20 years until they split in season 1).\"\n",
            " b\"THE LAST WAVE is never going to win over the mainstream audience. It is a slow-moving but fascinating film for those who are willing to go along with it. An Australian properties lawyer is asked to take on the case of five aborigines accused in the murder of one of their own. All sorts of portents and omens soon pop up, as the man's death involves a tribal issue that was not meant for white man's court, and pretty soon the lawyer is having trouble distinguishing reality from fantasy. It looks like the end of the world may be at hand, and he and the aborigines may know this but no one else does. Richard Chamberlain as the lawyer is at his peak here. David Guptil, a familiar face from several other Australian flicks and a decent actor, is one of the five aborigines on trial. THE LAST WAVE is simply not for everyone, anymore than is MAGNOLIA (both happen to have strange things falling from the sky). Check it out on a slow Saturday night.\"]\n",
            "\n",
            "labels:  ['pos', 'pos', 'pos']\n",
            "\n",
            "texts:  [b\"The complaints are valid, to me the biggest problem is that this soap opera is too aimed for women. I am okay with these night time soaps, like Grey's Anatomy, or Ugly Betty, or West Wing, because there are stories that are interesting even with the given that they will never end. However, when the idea parallels the daytime soaps aimed at just putting hunky men (Taye Diggs, Tim Daly, and Chris Lowell) into sexual tension and romps, and numerous ridiculous difficult situations in a so-called little hospital, it seems like General Hospital...or a female counterpart to Baywatch. That was what men wanted and they had it, so if this is what women want so be it, but the idea that this is a high brow show (or something men will watch) is unrealistic.\"\n",
            " b\"It's funny how your life can change in a second... To attend ''The Waterdance'' for the first time it was an unforgettable experience, the way you need to get used to a new way of life it can seem frightening, and to notice that there are other people going by a similar situation it can help you to go on. <br /><br />Eric Stoltz's performances and mainly of Helen Hunt (oh man!, Helen is the purest and graceful woman in earth...) are wonderful, Wesley Snipes also surprises in one of your last serious roles. A film simple and at the same time deep that doesn't get to leave us indifferent to the message that is transmitted: enjoy each moment of your life...<br /><br />Really to a film as that the any hour is not attended!!! (sorry, it's a Brazilian expression...).\"\n",
            " b'Ladies and Gentlemen,please don\\'t get fooled by \"A Stanley Kubrick\" film tag.This is a very bad film which unfortunately has been hailed as one of the deadliest horror films ever made.Horror films should create such a fear that during nights people should shiver their hearts out while thinking about a true horror film.In Shining,there is no real horror at all but what we find instead is just a naive,foolish attempt made to create chilling horror.Everyone knows as to how good the attempts are if they are different from reality.All that is good in the film is the view of the icy valley. The hotel where most of the actors were lodged appears good too.A word about the actors Jack Nicholson looks like a lost,lazy soul who is never really sure of what he is supposed to do.There is not much to be said of a bald,colored actor who for the most of times is busy pampering a kid actor.No need to blame the bad weather for the tragedy.It cannot be avoided as the film has been made and poor Kubrick is not alive to make any changes.']\n",
            "\n",
            "labels:  ['neg', 'pos', 'neg']\n",
            "\n"
          ],
          "name": "stdout"
        }
      ]
    },
    {
      "cell_type": "markdown",
      "metadata": {
        "id": "s5eWCo88voPY"
      },
      "source": [
        "## Create the Text Encoder"
      ]
    },
    {
      "cell_type": "markdown",
      "metadata": {
        "id": "TFevcItw15P_"
      },
      "source": [
        "The raw text loaded by `tfds` needs to be processed before it can be used in a model. The simplest way to process text for training is using the `experimental.preprocessing.TextVectorization` layer. This layer has many capabilities, but this tutorial sticks to the default behavior."
      ]
    },
    {
      "cell_type": "markdown",
      "metadata": {
        "id": "UalGMKAzyRRf"
      },
      "source": [
        "Create the layer, and pass the dataset's text to the layer's `.adapt` method:\n",
        "The processing of each sample contains the following steps:\n",
        "\n",
        "    standardize each sample (usually lowercasing + punctuation stripping)\n",
        "    split each sample into substrings (usually words)\n",
        "    recombine substrings into tokens (usually ngrams)\n",
        "    index tokens (associate a unique int value with each token)\n",
        "    transform each sample using this index, either into a vector of ints or a dense float vector.\n"
      ]
    },
    {
      "cell_type": "markdown",
      "metadata": {
        "id": "BLaLcPcXsY95"
      },
      "source": [
        "The `.adapt` method sets the layer's vocabulary. Here are the first 20 tokens. After the padding and unknown tokens they're sorted by frequency: "
      ]
    },
    {
      "cell_type": "code",
      "metadata": {
        "id": "uC25Lu1Yvuqy"
      },
      "source": [
        "VOCAB_SIZE=1000\n",
        "encoder = tf.keras.layers.experimental.preprocessing.TextVectorization(\n",
        "    max_tokens=VOCAB_SIZE)\n",
        "encoder.adapt(train_dataset.map(lambda text, label: text))"
      ],
      "execution_count": null,
      "outputs": []
    },
    {
      "cell_type": "code",
      "metadata": {
        "id": "s5tP4VcSkTvY",
        "colab": {
          "base_uri": "https://localhost:8080/"
        },
        "outputId": "142d9b79-1a92-4f48-e03a-70a11dc64bcf"
      },
      "source": [
        "vocab = np.array(encoder.get_vocabulary())\n",
        "len(vocab)"
      ],
      "execution_count": null,
      "outputs": [
        {
          "output_type": "execute_result",
          "data": {
            "text/plain": [
              "1000"
            ]
          },
          "metadata": {},
          "execution_count": 38
        }
      ]
    },
    {
      "cell_type": "code",
      "metadata": {
        "id": "tBoyjjWg0Ac9",
        "colab": {
          "base_uri": "https://localhost:8080/"
        },
        "outputId": "2d407e1d-def8-4ceb-b6b4-250a215e07ad"
      },
      "source": [
        "vocab = np.array(encoder.get_vocabulary())\n",
        "vocab[:20]"
      ],
      "execution_count": null,
      "outputs": [
        {
          "output_type": "execute_result",
          "data": {
            "text/plain": [
              "array(['', '[UNK]', 'the', 'and', 'a', 'of', 'to', 'is', 'in', 'it', 'i',\n",
              "       'this', 'that', 'br', 'was', 'as', 'for', 'with', 'movie', 'but'],\n",
              "      dtype='<U14')"
            ]
          },
          "metadata": {},
          "execution_count": 39
        }
      ]
    },
    {
      "cell_type": "markdown",
      "metadata": {
        "id": "-rPfbSyoruu3"
      },
      "source": [
        "Here are the 20 least frequent words."
      ]
    },
    {
      "cell_type": "code",
      "metadata": {
        "colab": {
          "base_uri": "https://localhost:8080/"
        },
        "id": "O6tWoBiwrzyX",
        "outputId": "873d1b52-d492-4e0b-f638-68a820588866"
      },
      "source": [
        "vocab[-20:]"
      ],
      "execution_count": null,
      "outputs": [
        {
          "output_type": "execute_result",
          "data": {
            "text/plain": [
              "array(['portrayed', 'jane', 'inside', 'mark', 'dumb', 'unlike', 'missing',\n",
              "       'gay', 'fighting', 'air', 'married', 'fantasy', 'pay', 'fails',\n",
              "       'match', 'fire', 'fairly', 'ideas', 'political', 'sadly'],\n",
              "      dtype='<U14')"
            ]
          },
          "metadata": {},
          "execution_count": 40
        }
      ]
    },
    {
      "cell_type": "markdown",
      "metadata": {
        "id": "mjId5pua3jHQ"
      },
      "source": [
        "Once the vocabulary is set, the layer can encode text into indices. The tensors of indices are 0-padded to the longest sequence in the batch (unless you set a fixed `output_sequence_length`):<br>\n",
        "Default Batch Size = 32"
      ]
    },
    {
      "cell_type": "code",
      "metadata": {
        "id": "RGc7C9WiwRWs",
        "colab": {
          "base_uri": "https://localhost:8080/"
        },
        "outputId": "09534d6f-3227-48f1-85db-f291f629937a"
      },
      "source": [
        "encoded_example = encoder(example)[:3].numpy()\n",
        "encoded_example"
      ],
      "execution_count": null,
      "outputs": [
        {
          "output_type": "execute_result",
          "data": {
            "text/plain": [
              "array([[  2,   1,  24, ...,   0,   0,   0],\n",
              "       [ 30, 164,  87, ...,   0,   0,   0],\n",
              "       [  1,   3,   1, ...,   0,   0,   0]])"
            ]
          },
          "metadata": {},
          "execution_count": 41
        }
      ]
    },
    {
      "cell_type": "markdown",
      "metadata": {
        "id": "F5cjz0bS39IN"
      },
      "source": [
        "With the default settings, the process is not completely reversible. There are three main reasons for that:\n",
        "\n",
        "1. The default value for `preprocessing.TextVectorization`'s `standardize` argument is `\"lower_and_strip_punctuation\"`.\n",
        "2. The limited vocabulary size and lack of character-based fallback results in some unknown tokens."
      ]
    },
    {
      "cell_type": "code",
      "metadata": {
        "colab": {
          "base_uri": "https://localhost:8080/"
        },
        "id": "N_tD0QY5wXaK",
        "outputId": "84c55c8d-afe8-4802-b176-eb8c7af2ec7d"
      },
      "source": [
        "for n in range(3):\n",
        "  print(\"Original: \", example[n].numpy())\n",
        "  print(\"Round-trip: \", \" \".join(vocab[encoded_example[n]]))\n",
        "  print()"
      ],
      "execution_count": null,
      "outputs": [
        {
          "output_type": "stream",
          "text": [
            "Original:  b\"The complaints are valid, to me the biggest problem is that this soap opera is too aimed for women. I am okay with these night time soaps, like Grey's Anatomy, or Ugly Betty, or West Wing, because there are stories that are interesting even with the given that they will never end. However, when the idea parallels the daytime soaps aimed at just putting hunky men (Taye Diggs, Tim Daly, and Chris Lowell) into sexual tension and romps, and numerous ridiculous difficult situations in a so-called little hospital, it seems like General Hospital...or a female counterpart to Baywatch. That was what men wanted and they had it, so if this is what women want so be it, but the idea that this is a high brow show (or something men will watch) is unrealistic.\"\n",
            "Round-trip:  the [UNK] are [UNK] to me the [UNK] problem is that this [UNK] [UNK] is too [UNK] for women i am okay with these night time [UNK] like [UNK] [UNK] or [UNK] [UNK] or [UNK] [UNK] because there are stories that are interesting even with the given that they will never end however when the idea [UNK] the [UNK] [UNK] [UNK] at just [UNK] [UNK] men [UNK] [UNK] [UNK] [UNK] and [UNK] [UNK] into sexual [UNK] and [UNK] and [UNK] ridiculous difficult [UNK] in a [UNK] little [UNK] it seems like general [UNK] a female [UNK] to [UNK] that was what men wanted and they had it so if this is what women want so be it but the idea that this is a high [UNK] show or something men will watch is [UNK]                                                                                                                                                                                                                                                                                                                                                                                                                                                                                                               \n",
            "\n",
            "Original:  b\"It's funny how your life can change in a second... To attend ''The Waterdance'' for the first time it was an unforgettable experience, the way you need to get used to a new way of life it can seem frightening, and to notice that there are other people going by a similar situation it can help you to go on. <br /><br />Eric Stoltz's performances and mainly of Helen Hunt (oh man!, Helen is the purest and graceful woman in earth...) are wonderful, Wesley Snipes also surprises in one of your last serious roles. A film simple and at the same time deep that doesn't get to leave us indifferent to the message that is transmitted: enjoy each moment of your life...<br /><br />Really to a film as that the any hour is not attended!!! (sorry, it's a Brazilian expression...).\"\n",
            "Round-trip:  its funny how your life can change in a second to [UNK] the [UNK] for the first time it was an [UNK] experience the way you need to get used to a new way of life it can seem [UNK] and to [UNK] that there are other people going by a similar situation it can help you to go on br br [UNK] [UNK] performances and [UNK] of [UNK] [UNK] oh man [UNK] is the [UNK] and [UNK] woman in earth are wonderful [UNK] [UNK] also [UNK] in one of your last serious roles a film simple and at the same time deep that doesnt get to leave us [UNK] to the message that is [UNK] enjoy each moment of your [UNK] br really to a film as that the any hour is not [UNK] sorry its a [UNK] [UNK]                                                                                                                                                                                                                                                                                                                                                                                                                                                                                                         \n",
            "\n",
            "Original:  b'Ladies and Gentlemen,please don\\'t get fooled by \"A Stanley Kubrick\" film tag.This is a very bad film which unfortunately has been hailed as one of the deadliest horror films ever made.Horror films should create such a fear that during nights people should shiver their hearts out while thinking about a true horror film.In Shining,there is no real horror at all but what we find instead is just a naive,foolish attempt made to create chilling horror.Everyone knows as to how good the attempts are if they are different from reality.All that is good in the film is the view of the icy valley. The hotel where most of the actors were lodged appears good too.A word about the actors Jack Nicholson looks like a lost,lazy soul who is never really sure of what he is supposed to do.There is not much to be said of a bald,colored actor who for the most of times is busy pampering a kid actor.No need to blame the bad weather for the tragedy.It cannot be avoided as the film has been made and poor Kubrick is not alive to make any changes.'\n",
            "Round-trip:  [UNK] and [UNK] dont get [UNK] by a [UNK] [UNK] film [UNK] is a very bad film which unfortunately has been [UNK] as one of the [UNK] horror films ever [UNK] films should create such a [UNK] that during [UNK] people should [UNK] their [UNK] out while thinking about a true horror [UNK] [UNK] is no real horror at all but what we find instead is just a [UNK] attempt made to create [UNK] [UNK] knows as to how good the attempts are if they are different from [UNK] that is good in the film is the view of the [UNK] [UNK] the [UNK] where most of the actors were [UNK] appears good [UNK] word about the actors jack [UNK] looks like a [UNK] [UNK] who is never really sure of what he is supposed to [UNK] is not much to be said of a [UNK] actor who for the most of times is [UNK] [UNK] a kid [UNK] need to [UNK] the bad [UNK] for the [UNK] cannot be [UNK] as the film has been made and poor [UNK] is not [UNK] to make any [UNK]                                                                                                                                                                                                                                                                                                                                                                                                                                                          \n",
            "\n"
          ],
          "name": "stdout"
        }
      ]
    },
    {
      "cell_type": "markdown",
      "metadata": {
        "id": "bjUqGVBxGw-t"
      },
      "source": [
        "## Create the model"
      ]
    },
    {
      "cell_type": "markdown",
      "metadata": {
        "id": "W7zsmInBOCPO"
      },
      "source": [
        "![A drawing of the information flow in the model](https://github.com/tensorflow/docs/blob/master/site/en/tutorials/text/images/bidirectional.png?raw=1)"
      ]
    },
    {
      "cell_type": "markdown",
      "metadata": {
        "id": "bgs6nnSTGw-t"
      },
      "source": [
        "Above is a diagram of the model. \n",
        "\n",
        "1. This model can be build as a `tf.keras.Sequential`.\n",
        "\n",
        "1. The first layer is the `encoder`, which converts the text to a sequence of token indices.\n",
        "\n",
        "2. After the encoder is an embedding layer. An embedding layer stores one vector per word. When called, it converts the sequences of word indices to sequences of vectors. These vectors are trainable. After training (on enough data), words with similar meanings often have similar vectors.\n",
        "\n",
        "  This index-lookup is much more efficient than the equivalent operation of passing a one-hot encoded vector through a `tf.keras.layers.Dense` layer.\n",
        "\n",
        "3. A recurrent neural network (RNN) processes sequence input by iterating through the elements. RNNs pass the outputs from one timestep to their input on the next timestep.\n",
        "\n",
        "  The `tf.keras.layers.Bidirectional` wrapper can also be used with an RNN layer. This propagates the input forward and backwards through the RNN layer and then concatenates the final output. \n",
        "\n",
        "  * The main advantage to a bidirectional RNN is that the signal from the beginning of the input doesn't need to be processed all the way through every timestep to affect the output.  \n",
        "\n",
        "  * The main disadvantage of a bidirectional RNN is that you can't efficiently stream predictions as words are being added to the end.\n",
        "\n",
        "1. After the RNN has converted the sequence to a single vector the two `layers.Dense` do some final processing, and convert from this vector representation to a single logit as the classification output. \n"
      ]
    },
    {
      "cell_type": "markdown",
      "metadata": {
        "id": "9EODAFUjNaDC"
      },
      "source": [
        "<div class=\"alert alert-block alert-info\">\n",
        "    <b>tf.keras.layers.Bidirectional</b><br>\n",
        "    https://www.tensorflow.org/api_docs/python/tf/keras/layers/Bidirectional\n",
        "    </div>"
      ]
    },
    {
      "cell_type": "markdown",
      "metadata": {
        "id": "-6Qzwsj5QH0S"
      },
      "source": [
        "<img src=\"https://github.com/djp840/MSDS_458_Public/blob/master/images/BidirectionalRNN.png?raw=1\">"
      ]
    },
    {
      "cell_type": "markdown",
      "metadata": {
        "id": "3QOk9b2Nw9Zu"
      },
      "source": [
        "#Experiment C-a: LSTM - Bidirectional "
      ]
    },
    {
      "cell_type": "code",
      "metadata": {
        "id": "LwfoBkmRYcP3"
      },
      "source": [
        "num_classes = 2\n",
        "modelca = tf.keras.Sequential([\n",
        "                              encoder\n",
        "                              ,tf.keras.layers.Embedding(input_dim=len(encoder.get_vocabulary())\n",
        "                              ,output_dim=64\n",
        "                                # Use masking to handle the variable sequence lengths\n",
        "                              ,mask_zero=True)\n",
        "                              ,tf.keras.layers.Bidirectional(tf.keras.layers.LSTM(64))\n",
        "                              ,tf.keras.layers.Dense(64, activation='relu')\n",
        "                              ,tf.keras.layers.Dense(num_classes,activation='softmax')  \n",
        "])"
      ],
      "execution_count": null,
      "outputs": []
    },
    {
      "cell_type": "markdown",
      "metadata": {
        "id": "dfNGE58PNaDD"
      },
      "source": [
        "<div class=\"alert alert-block alert-success\"> \n",
        "Please note that we choose to Keras sequential model here since all the layers in the model only have single input and produce single output. </div>"
      ]
    },
    {
      "cell_type": "markdown",
      "metadata": {
        "id": "KTqE1NQXNaDD"
      },
      "source": [
        "<div class=\"alert alert-block alert-info\"> \n",
        "<b>tf.keras.Model</b><br>\n",
        "https://www.tensorflow.org/api_docs/python/tf/keras/Model\n",
        "</div>  "
      ]
    },
    {
      "cell_type": "markdown",
      "metadata": {
        "id": "RztlbCugEFaI"
      },
      "source": [
        "## Compile Model "
      ]
    },
    {
      "cell_type": "markdown",
      "metadata": {
        "id": "aNazQp3lEDv7"
      },
      "source": [
        "<div class=\"alert alert-block alert-info\">\n",
        "<b>tf.keras.losses.SparseCategoricalCrossentropy</b><br>\n",
        "https://www.tensorflow.org/api_docs/python/tf/keras/losses/SparseCategoricalCrossentropy</div>"
      ]
    },
    {
      "cell_type": "code",
      "metadata": {
        "id": "ZmWbBazIDe_-"
      },
      "source": [
        "modelca.compile(optimizer=tf.keras.optimizers.Adam(1e-4)\n",
        "              ,loss=tf.keras.losses.SparseCategoricalCrossentropy() # if we set from_logits=True we don not have specify a softmax activation function in the last layer\n",
        "              ,metrics=['accuracy'])"
      ],
      "execution_count": null,
      "outputs": []
    },
    {
      "cell_type": "markdown",
      "metadata": {
        "id": "QIGmIGkkouUb"
      },
      "source": [
        "Please note that Keras sequential model is used here since all the layers in the model only have single input and produce single output. In case you want to use stateful RNN layer, you might want to build your model with Keras functional API or model subclassing so that you can retrieve and reuse the RNN layer states. Please check [Keras RNN guide](https://www.tensorflow.org/guide/keras/rnn#rnn_state_reuse) for more details."
      ]
    },
    {
      "cell_type": "markdown",
      "metadata": {
        "id": "kF-PsCk1LwjY"
      },
      "source": [
        "The embedding layer [uses masking](../../guide/keras/masking_and_padding) to handle the varying sequence-lengths. All the layers after the `Embedding` support masking:"
      ]
    },
    {
      "cell_type": "code",
      "metadata": {
        "colab": {
          "base_uri": "https://localhost:8080/"
        },
        "id": "87a8-CwfKebw",
        "outputId": "7ae30eb4-7762-4bb2-8fed-15ab98416d7b"
      },
      "source": [
        "print([layer.supports_masking for layer in modelca.layers])"
      ],
      "execution_count": null,
      "outputs": [
        {
          "output_type": "stream",
          "text": [
            "[False, True, True, True, True]\n"
          ],
          "name": "stdout"
        }
      ]
    },
    {
      "cell_type": "markdown",
      "metadata": {
        "id": "zIwH3nto596k"
      },
      "source": [
        "## Train the model"
      ]
    },
    {
      "cell_type": "markdown",
      "metadata": {
        "id": "7oHB6X8i0u2H"
      },
      "source": [
        "<div class=\"alert alert-block alert-success\">\n",
        "    <b>Module: tf.keras.callbacks</b></div>"
      ]
    },
    {
      "cell_type": "markdown",
      "metadata": {
        "id": "th1k9Dha0vCl"
      },
      "source": [
        "<div class=\"alert alert-block alert-info\">\n",
        "<b>tf.keras.callbacks.EarlyStopping</b><br>\n",
        "https://www.tensorflow.org/api_docs/python/tf/keras/callbacks/EarlyStopping</div>\n",
        "\n",
        "<div class=\"alert alert-block alert-info\">\n",
        "<b>tf.keras.callbacks.ModelCheckpoint</b><br>\n",
        "https://www.tensorflow.org/api_docs/python/tf/keras/callbacks/ModelCheckpoint</div>"
      ]
    },
    {
      "cell_type": "code",
      "metadata": {
        "colab": {
          "base_uri": "https://localhost:8080/"
        },
        "id": "hw86wWS4YgR2",
        "outputId": "093946a0-ed56-441a-e8ee-55a59884cdea"
      },
      "source": [
        "start = datetime.datetime.now()\n",
        "historyca = modelca.fit(train_dataset\n",
        "                    ,epochs = 200\n",
        "                    ,validation_data=validation_dataset\n",
        "                    ,callbacks=[tf.keras.callbacks.EarlyStopping(monitor='val_accuracy', patience=2)]\n",
        "                    )\n",
        "Modelca_Train_Time = datetime.datetime.now()-start\n",
        "print(Modelca_Train_Time)"
      ],
      "execution_count": null,
      "outputs": [
        {
          "output_type": "stream",
          "text": [
            "Epoch 1/200\n",
            "372/372 [==============================] - 42s 78ms/step - loss: 0.6573 - accuracy: 0.6019 - val_loss: 0.4903 - val_accuracy: 0.7576\n",
            "Epoch 2/200\n",
            "372/372 [==============================] - 28s 73ms/step - loss: 0.4438 - accuracy: 0.8008 - val_loss: 0.4349 - val_accuracy: 0.8296\n",
            "Epoch 3/200\n",
            "372/372 [==============================] - 28s 73ms/step - loss: 0.3629 - accuracy: 0.8460 - val_loss: 0.3466 - val_accuracy: 0.8576\n",
            "Epoch 4/200\n",
            "372/372 [==============================] - 28s 73ms/step - loss: 0.3307 - accuracy: 0.8622 - val_loss: 0.3275 - val_accuracy: 0.8688\n",
            "Epoch 5/200\n",
            "372/372 [==============================] - 28s 73ms/step - loss: 0.3169 - accuracy: 0.8668 - val_loss: 0.3182 - val_accuracy: 0.8624\n",
            "Epoch 6/200\n",
            "372/372 [==============================] - 28s 73ms/step - loss: 0.3085 - accuracy: 0.8720 - val_loss: 0.3192 - val_accuracy: 0.8720\n",
            "Epoch 7/200\n",
            "372/372 [==============================] - 28s 73ms/step - loss: 0.3057 - accuracy: 0.8732 - val_loss: 0.3139 - val_accuracy: 0.8680\n",
            "Epoch 8/200\n",
            "372/372 [==============================] - 28s 73ms/step - loss: 0.3002 - accuracy: 0.8748 - val_loss: 0.3224 - val_accuracy: 0.8600\n",
            "0:04:27.410066\n"
          ],
          "name": "stdout"
        }
      ]
    },
    {
      "cell_type": "code",
      "metadata": {
        "colab": {
          "base_uri": "https://localhost:8080/"
        },
        "id": "BaNbXi43YgUT",
        "outputId": "f0884c81-d992-469c-83f4-1a75aed1440d"
      },
      "source": [
        "test_loss, test_acc = modelca.evaluate(test_dataset)\n",
        "\n",
        "print('Test Loss: {}'.format(test_loss))\n",
        "print('Test Accuracy: {}'.format(test_acc))"
      ],
      "execution_count": null,
      "outputs": [
        {
          "output_type": "stream",
          "text": [
            "391/391 [==============================] - 16s 40ms/step - loss: 0.3184 - accuracy: 0.8627\n",
            "Test Loss: 0.3183911442756653\n",
            "Test Accuracy: 0.8626800179481506\n"
          ],
          "name": "stdout"
        }
      ]
    },
    {
      "cell_type": "markdown",
      "metadata": {
        "id": "OUZyCyI33fPU"
      },
      "source": [
        "## Plotting Performance Metrics - Single Layer Bidirectional RNN"
      ]
    },
    {
      "cell_type": "markdown",
      "metadata": {
        "id": "uFK6utDG3fjX"
      },
      "source": [
        "We use Matplotlib to create 2 plots--displaying the training and validation loss (resp. accuracy) for each (training) epoch side by side."
      ]
    },
    {
      "cell_type": "code",
      "metadata": {
        "colab": {
          "base_uri": "https://localhost:8080/"
        },
        "id": "HzEOTxsc1JTJ",
        "outputId": "66e205af-7a45-4cf0-aa3c-4a3c14215509"
      },
      "source": [
        "history_dictca = historyca.history\n",
        "history_dictca.keys()"
      ],
      "execution_count": null,
      "outputs": [
        {
          "output_type": "execute_result",
          "data": {
            "text/plain": [
              "dict_keys(['loss', 'accuracy', 'val_loss', 'val_accuracy'])"
            ]
          },
          "metadata": {},
          "execution_count": 50
        }
      ]
    },
    {
      "cell_type": "code",
      "metadata": {
        "colab": {
          "base_uri": "https://localhost:8080/",
          "height": 295
        },
        "id": "2VV8VwoA1Je1",
        "outputId": "e3c7a956-4aa1-419b-fd1e-782be3d0eb69"
      },
      "source": [
        "history_dfca=pd.DataFrame(history_dictca)\n",
        "history_dfca.tail(10).round(3)"
      ],
      "execution_count": null,
      "outputs": [
        {
          "output_type": "execute_result",
          "data": {
            "text/html": [
              "<div>\n",
              "<style scoped>\n",
              "    .dataframe tbody tr th:only-of-type {\n",
              "        vertical-align: middle;\n",
              "    }\n",
              "\n",
              "    .dataframe tbody tr th {\n",
              "        vertical-align: top;\n",
              "    }\n",
              "\n",
              "    .dataframe thead th {\n",
              "        text-align: right;\n",
              "    }\n",
              "</style>\n",
              "<table border=\"1\" class=\"dataframe\">\n",
              "  <thead>\n",
              "    <tr style=\"text-align: right;\">\n",
              "      <th></th>\n",
              "      <th>loss</th>\n",
              "      <th>accuracy</th>\n",
              "      <th>val_loss</th>\n",
              "      <th>val_accuracy</th>\n",
              "    </tr>\n",
              "  </thead>\n",
              "  <tbody>\n",
              "    <tr>\n",
              "      <th>0</th>\n",
              "      <td>0.657</td>\n",
              "      <td>0.602</td>\n",
              "      <td>0.490</td>\n",
              "      <td>0.758</td>\n",
              "    </tr>\n",
              "    <tr>\n",
              "      <th>1</th>\n",
              "      <td>0.444</td>\n",
              "      <td>0.801</td>\n",
              "      <td>0.435</td>\n",
              "      <td>0.830</td>\n",
              "    </tr>\n",
              "    <tr>\n",
              "      <th>2</th>\n",
              "      <td>0.363</td>\n",
              "      <td>0.846</td>\n",
              "      <td>0.347</td>\n",
              "      <td>0.858</td>\n",
              "    </tr>\n",
              "    <tr>\n",
              "      <th>3</th>\n",
              "      <td>0.331</td>\n",
              "      <td>0.862</td>\n",
              "      <td>0.327</td>\n",
              "      <td>0.869</td>\n",
              "    </tr>\n",
              "    <tr>\n",
              "      <th>4</th>\n",
              "      <td>0.317</td>\n",
              "      <td>0.867</td>\n",
              "      <td>0.318</td>\n",
              "      <td>0.862</td>\n",
              "    </tr>\n",
              "    <tr>\n",
              "      <th>5</th>\n",
              "      <td>0.308</td>\n",
              "      <td>0.872</td>\n",
              "      <td>0.319</td>\n",
              "      <td>0.872</td>\n",
              "    </tr>\n",
              "    <tr>\n",
              "      <th>6</th>\n",
              "      <td>0.306</td>\n",
              "      <td>0.873</td>\n",
              "      <td>0.314</td>\n",
              "      <td>0.868</td>\n",
              "    </tr>\n",
              "    <tr>\n",
              "      <th>7</th>\n",
              "      <td>0.300</td>\n",
              "      <td>0.875</td>\n",
              "      <td>0.322</td>\n",
              "      <td>0.860</td>\n",
              "    </tr>\n",
              "  </tbody>\n",
              "</table>\n",
              "</div>"
            ],
            "text/plain": [
              "    loss  accuracy  val_loss  val_accuracy\n",
              "0  0.657     0.602     0.490         0.758\n",
              "1  0.444     0.801     0.435         0.830\n",
              "2  0.363     0.846     0.347         0.858\n",
              "3  0.331     0.862     0.327         0.869\n",
              "4  0.317     0.867     0.318         0.862\n",
              "5  0.308     0.872     0.319         0.872\n",
              "6  0.306     0.873     0.314         0.868\n",
              "7  0.300     0.875     0.322         0.860"
            ]
          },
          "metadata": {},
          "execution_count": 51
        }
      ]
    },
    {
      "cell_type": "code",
      "metadata": {
        "id": "NvA2u5do1JqA"
      },
      "source": [
        "losses = historyca.history['loss']\n",
        "accs = historyca.history['accuracy']\n",
        "val_losses = historyca.history['val_loss']\n",
        "val_accs = historyca.history['val_accuracy']\n",
        "epochs = len(losses)"
      ],
      "execution_count": null,
      "outputs": []
    },
    {
      "cell_type": "code",
      "metadata": {
        "colab": {
          "base_uri": "https://localhost:8080/",
          "height": 265
        },
        "id": "JGoRjq2T1SUp",
        "outputId": "bdd9db99-40f9-4c48-c84d-4ed62352f1c6"
      },
      "source": [
        "plt.figure(figsize=(16, 4))\n",
        "for i, metrics in enumerate(zip([losses, accs], [val_losses, val_accs], ['Loss', 'Accuracy'])):\n",
        "    plt.subplot(1, 2, i + 1)\n",
        "    plt.plot(range(epochs), metrics[0], label='Training {}'.format(metrics[2]))\n",
        "    plt.plot(range(epochs), metrics[1], label='Validation {}'.format(metrics[2]))\n",
        "    plt.legend()\n",
        "plt.show()"
      ],
      "execution_count": null,
      "outputs": [
        {
          "output_type": "display_data",
          "data": {
            "image/png": "[encoded data removed]",
            "text/plain": [
              "<Figure size 1152x288 with 2 Axes>"
            ]
          },
          "metadata": {
            "needs_background": "light"
          }
        }
      ]
    },
    {
      "cell_type": "markdown",
      "metadata": {
        "id": "bawulBahPZQq"
      },
      "source": [
        "## Model Architecture Summary Single Layer Bidirectional RNN"
      ]
    },
    {
      "cell_type": "code",
      "metadata": {
        "colab": {
          "base_uri": "https://localhost:8080/"
        },
        "id": "KVd7MMCoOjMp",
        "outputId": "ff52f372-beda-4d5c-d10a-c105b05aa51c"
      },
      "source": [
        "modelca.summary()"
      ],
      "execution_count": null,
      "outputs": [
        {
          "output_type": "stream",
          "text": [
            "Model: \"sequential\"\n",
            "_________________________________________________________________\n",
            "Layer (type)                 Output Shape              Param #   \n",
            "=================================================================\n",
            "text_vectorization_2 (TextVe (None, None)              0         \n",
            "_________________________________________________________________\n",
            "embedding (Embedding)        (None, None, 64)          64000     \n",
            "_________________________________________________________________\n",
            "bidirectional (Bidirectional (None, 128)               66048     \n",
            "_________________________________________________________________\n",
            "dense (Dense)                (None, 64)                8256      \n",
            "_________________________________________________________________\n",
            "dense_1 (Dense)              (None, 2)                 130       \n",
            "=================================================================\n",
            "Total params: 138,434\n",
            "Trainable params: 138,434\n",
            "Non-trainable params: 0\n",
            "_________________________________________________________________\n"
          ],
          "name": "stdout"
        }
      ]
    },
    {
      "cell_type": "code",
      "metadata": {
        "colab": {
          "base_uri": "https://localhost:8080/",
          "height": 644
        },
        "id": "2o0oUFPAOjht",
        "outputId": "d34c3e6f-93b3-436c-e077-bdfe66894983"
      },
      "source": [
        "keras.utils.plot_model(modelca, \"BiDirectionalLSTM.png\", show_shapes=True)"
      ],
      "execution_count": null,
      "outputs": [
        {
          "output_type": "execute_result",
          "data": {
            "image/png": "[encoded data removed]",
            "text/plain": [
              "<IPython.core.display.Image object>"
            ]
          },
          "metadata": {},
          "execution_count": 55
        }
      ]
    },
    {
      "cell_type": "markdown",
      "metadata": {
        "id": "gPdOuWFzUSjb"
      },
      "source": [
        "#Experiment C-b: LSTM - Bidirectional - 2 Layers - 50% dropout"
      ]
    },
    {
      "cell_type": "markdown",
      "metadata": {
        "id": "7g1evcaRpTKm"
      },
      "source": [
        "## Stack two or more LSTM layers\n",
        "\n",
        "Keras recurrent layers have two available modes that are controlled by the `return_sequences` constructor argument:\n",
        "\n",
        "* If `False` it returns only the last output for each input sequence (a 2D tensor of shape (batch_size, output_features)). This is the default, used in the previous model.\n",
        "\n",
        "* If `True` the full sequences of successive outputs for each timestep is returned (a 3D tensor of shape `(batch_size, timesteps, output_features)`).\n",
        "\n",
        "Here is what the flow of information looks like with `return_sequences=True`:\n",
        "\n",
        "![layered_bidirectional]?raw=1\""
      ]
    },
    {
      "cell_type": "markdown",
      "metadata": {
        "id": "wbSClCrG1z8l"
      },
      "source": [
        "The interesting thing about using an `RNN` with `return_sequences=True` is that the output still has 3-axes, like the input, so it can be passed to another RNN layer, like this:"
      ]
    },
    {
      "cell_type": "markdown",
      "metadata": {
        "id": "TJTx1dsTRUtW"
      },
      "source": [
        "<img src=\"https://github.com/djp840/MSDS_458_Public/blob/master/images/multilayerBidirectionalLSTM.png?raw=1\">"
      ]
    },
    {
      "cell_type": "code",
      "metadata": {
        "id": "jo1jjO3vn0jo"
      },
      "source": [
        "modelcb = tf.keras.Sequential([\n",
        "                              encoder\n",
        "                              ,tf.keras.layers.Embedding(len(encoder.get_vocabulary()), 64, mask_zero=True)\n",
        "                              ,tf.keras.layers.Bidirectional(tf.keras.layers.LSTM(64,  return_sequences=True))\n",
        "                              ,tf.keras.layers.Bidirectional(tf.keras.layers.LSTM(32))\n",
        "                              ,tf.keras.layers.Dense(64, activation='relu')\n",
        "                              ,tf.keras.layers.Dropout(0.25)\n",
        "                              ,tf.keras.layers.Dense(num_classes,activation='softmax')   # not binary since there are num_classes categories\n",
        "])"
      ],
      "execution_count": null,
      "outputs": []
    },
    {
      "cell_type": "markdown",
      "metadata": {
        "id": "iukhoA9vR7gx"
      },
      "source": [
        "<div class=\"alert alert-block alert-info\">\n",
        "<b>tf.keras.losses.SparseCategoricalCrossentropy</b><br>\n",
        "https://www.tensorflow.org/api_docs/python/tf/keras/losses/SparseCategoricalCrossentropy</div>"
      ]
    },
    {
      "cell_type": "code",
      "metadata": {
        "id": "_zjWuJesR72x"
      },
      "source": [
        "modelcb.compile(optimizer='adam'\n",
        "              ,loss=tf.keras.losses.SparseCategoricalCrossentropy() # if we set from_logits=True we do not have specify a softmax activation function in the last layer\n",
        "              ,metrics=['accuracy'])"
      ],
      "execution_count": null,
      "outputs": []
    },
    {
      "cell_type": "code",
      "metadata": {
        "colab": {
          "base_uri": "https://localhost:8080/"
        },
        "id": "LeSE-YjdqAeN",
        "outputId": "30a18067-b679-4536-d8da-c6604a87ac60"
      },
      "source": [
        "start = datetime.datetime.now()\n",
        "historycb = modelcb.fit(train_dataset\n",
        "                    ,epochs=200\n",
        "                    ,validation_data=validation_dataset\n",
        "                   # ,validation_steps=30\n",
        "                    ,callbacks=[tf.keras.callbacks.EarlyStopping(monitor='val_accuracy', patience=2)]\n",
        "                    )\n",
        "Modelcb_Train_Time = datetime.datetime.now()-start\n",
        "print(Modelcb_Train_Time)"
      ],
      "execution_count": null,
      "outputs": [
        {
          "output_type": "stream",
          "text": [
            "Epoch 1/200\n",
            "372/372 [==============================] - 64s 139ms/step - loss: 0.4665 - accuracy: 0.7638 - val_loss: 0.3724 - val_accuracy: 0.8328\n",
            "Epoch 2/200\n",
            "372/372 [==============================] - 48s 128ms/step - loss: 0.3580 - accuracy: 0.8463 - val_loss: 0.3386 - val_accuracy: 0.8552\n",
            "Epoch 3/200\n",
            "372/372 [==============================] - 48s 129ms/step - loss: 0.3257 - accuracy: 0.8620 - val_loss: 0.3326 - val_accuracy: 0.8536\n",
            "Epoch 4/200\n",
            "372/372 [==============================] - 49s 130ms/step - loss: 0.3014 - accuracy: 0.8724 - val_loss: 0.3335 - val_accuracy: 0.8552\n",
            "0:03:29.546681\n"
          ],
          "name": "stdout"
        }
      ]
    },
    {
      "cell_type": "code",
      "metadata": {
        "colab": {
          "base_uri": "https://localhost:8080/"
        },
        "id": "_LdwilM1qPM3",
        "outputId": "107eb733-ed46-4ff2-990a-b807a575d172"
      },
      "source": [
        "test_loss, test_acc = modelcb.evaluate(test_dataset)\n",
        "\n",
        "print('Test Loss: {}'.format(test_loss))\n",
        "print('Test Accuracy: {}'.format(test_acc))"
      ],
      "execution_count": null,
      "outputs": [
        {
          "output_type": "stream",
          "text": [
            "391/391 [==============================] - 26s 66ms/step - loss: 0.3303 - accuracy: 0.8582\n",
            "Test Loss: 0.33025529980659485\n",
            "Test Accuracy: 0.858240008354187\n"
          ],
          "name": "stdout"
        }
      ]
    },
    {
      "cell_type": "markdown",
      "metadata": {
        "id": "x44eh6w-SjPa"
      },
      "source": [
        "## Plotting Performance Metrics - Multi-Layer Bidirectional RNN"
      ]
    },
    {
      "cell_type": "markdown",
      "metadata": {
        "id": "7YwGAxu3SjbG"
      },
      "source": [
        "We use Matplotlib to create 2 plots--displaying the training and validation loss (resp. accuracy) for each (training) epoch side by side."
      ]
    },
    {
      "cell_type": "code",
      "metadata": {
        "colab": {
          "base_uri": "https://localhost:8080/"
        },
        "id": "l5Wa2bx7Suny",
        "outputId": "883030c4-cbb2-4650-e2b5-62160158d17a"
      },
      "source": [
        "history_dictcb = historycb.history\n",
        "history_dictcb.keys()"
      ],
      "execution_count": null,
      "outputs": [
        {
          "output_type": "execute_result",
          "data": {
            "text/plain": [
              "dict_keys(['loss', 'accuracy', 'val_loss', 'val_accuracy'])"
            ]
          },
          "metadata": {},
          "execution_count": 60
        }
      ]
    },
    {
      "cell_type": "code",
      "metadata": {
        "colab": {
          "base_uri": "https://localhost:8080/",
          "height": 172
        },
        "id": "cwzqjLbrSurM",
        "outputId": "7d375d27-d259-4bb2-a1d4-c684c2fccd22"
      },
      "source": [
        "historycb_df=pd.DataFrame(history_dictcb)\n",
        "historycb_df.tail().round(3)"
      ],
      "execution_count": null,
      "outputs": [
        {
          "output_type": "execute_result",
          "data": {
            "text/html": [
              "<div>\n",
              "<style scoped>\n",
              "    .dataframe tbody tr th:only-of-type {\n",
              "        vertical-align: middle;\n",
              "    }\n",
              "\n",
              "    .dataframe tbody tr th {\n",
              "        vertical-align: top;\n",
              "    }\n",
              "\n",
              "    .dataframe thead th {\n",
              "        text-align: right;\n",
              "    }\n",
              "</style>\n",
              "<table border=\"1\" class=\"dataframe\">\n",
              "  <thead>\n",
              "    <tr style=\"text-align: right;\">\n",
              "      <th></th>\n",
              "      <th>loss</th>\n",
              "      <th>accuracy</th>\n",
              "      <th>val_loss</th>\n",
              "      <th>val_accuracy</th>\n",
              "    </tr>\n",
              "  </thead>\n",
              "  <tbody>\n",
              "    <tr>\n",
              "      <th>0</th>\n",
              "      <td>0.466</td>\n",
              "      <td>0.764</td>\n",
              "      <td>0.372</td>\n",
              "      <td>0.833</td>\n",
              "    </tr>\n",
              "    <tr>\n",
              "      <th>1</th>\n",
              "      <td>0.358</td>\n",
              "      <td>0.846</td>\n",
              "      <td>0.339</td>\n",
              "      <td>0.855</td>\n",
              "    </tr>\n",
              "    <tr>\n",
              "      <th>2</th>\n",
              "      <td>0.326</td>\n",
              "      <td>0.862</td>\n",
              "      <td>0.333</td>\n",
              "      <td>0.854</td>\n",
              "    </tr>\n",
              "    <tr>\n",
              "      <th>3</th>\n",
              "      <td>0.301</td>\n",
              "      <td>0.872</td>\n",
              "      <td>0.334</td>\n",
              "      <td>0.855</td>\n",
              "    </tr>\n",
              "  </tbody>\n",
              "</table>\n",
              "</div>"
            ],
            "text/plain": [
              "    loss  accuracy  val_loss  val_accuracy\n",
              "0  0.466     0.764     0.372         0.833\n",
              "1  0.358     0.846     0.339         0.855\n",
              "2  0.326     0.862     0.333         0.854\n",
              "3  0.301     0.872     0.334         0.855"
            ]
          },
          "metadata": {},
          "execution_count": 61
        }
      ]
    },
    {
      "cell_type": "code",
      "metadata": {
        "id": "5CrnwjN7Suu5"
      },
      "source": [
        "losses = historycb.history['loss']\n",
        "accs = historycb.history['accuracy']\n",
        "val_losses = historycb.history['val_loss']\n",
        "val_accs = historycb.history['val_accuracy']\n",
        "epochs = len(losses)"
      ],
      "execution_count": null,
      "outputs": []
    },
    {
      "cell_type": "code",
      "metadata": {
        "colab": {
          "base_uri": "https://localhost:8080/",
          "height": 265
        },
        "id": "Uw20TBZxSuye",
        "outputId": "42a7358d-b521-4303-af72-316f962397f1"
      },
      "source": [
        "plt.figure(figsize=(16, 4))\n",
        "for i, metrics in enumerate(zip([losses, accs], [val_losses, val_accs], ['Loss', 'Accuracy'])):\n",
        "    plt.subplot(1, 2, i + 1)\n",
        "    plt.plot(range(epochs), metrics[0], label='Training {}'.format(metrics[2]))\n",
        "    plt.plot(range(epochs), metrics[1], label='Validation {}'.format(metrics[2]))\n",
        "    plt.legend()\n",
        "plt.show()"
      ],
      "execution_count": null,
      "outputs": [
        {
          "output_type": "display_data",
          "data": {
            "image/png": "[encoded data removed]",
            "text/plain": [
              "<Figure size 1152x288 with 2 Axes>"
            ]
          },
          "metadata": {
            "needs_background": "light"
          }
        }
      ]
    },
    {
      "cell_type": "markdown",
      "metadata": {
        "id": "WoWhNEnKyRRv"
      },
      "source": [
        "### Confusion Matrix"
      ]
    },
    {
      "cell_type": "code",
      "metadata": {
        "id": "TaRFsKvJyRRv"
      },
      "source": [
        "preds = modelcb.predict(test_dataset)"
      ],
      "execution_count": null,
      "outputs": []
    },
    {
      "cell_type": "code",
      "metadata": {
        "colab": {
          "base_uri": "https://localhost:8080/"
        },
        "id": "38sM3BdNyRRv",
        "outputId": "e9dac510-c9da-47f1-83f3-3f6e37d219f4"
      },
      "source": [
        "preds.shape"
      ],
      "execution_count": null,
      "outputs": [
        {
          "output_type": "execute_result",
          "data": {
            "text/plain": [
              "(25000, 2)"
            ]
          },
          "metadata": {},
          "execution_count": 65
        }
      ]
    },
    {
      "cell_type": "code",
      "metadata": {
        "id": "HLEVza9CyRRw"
      },
      "source": [
        "cm = sns.light_palette((260, 75, 60), input=\"husl\", as_cmap=True)"
      ],
      "execution_count": null,
      "outputs": []
    },
    {
      "cell_type": "code",
      "metadata": {
        "colab": {
          "base_uri": "https://localhost:8080/",
          "height": 80
        },
        "id": "QJ4Zct-xyRRw",
        "outputId": "55c2ac9c-5b77-4b4b-9a67-454695acacaa"
      },
      "source": [
        "df = pd.DataFrame(preds[0:15]\n",
        "                  ,columns = ['Positive','Negative']).T  #World','Sports','Business','Sci/Tech'\n",
        "df.style.format(\"{:.2%}\").background_gradient(cmap=cm)"
      ],
      "execution_count": null,
      "outputs": [
        {
          "output_type": "execute_result",
          "data": {
            "text/html": [
              "<style  type=\"text/css\" >\n",
              "#T_baae62ba_031a_11ec_b76f_0242ac1c0002row0_col0,#T_baae62ba_031a_11ec_b76f_0242ac1c0002row0_col2,#T_baae62ba_031a_11ec_b76f_0242ac1c0002row0_col3,#T_baae62ba_031a_11ec_b76f_0242ac1c0002row0_col8,#T_baae62ba_031a_11ec_b76f_0242ac1c0002row0_col10,#T_baae62ba_031a_11ec_b76f_0242ac1c0002row0_col11,#T_baae62ba_031a_11ec_b76f_0242ac1c0002row0_col12,#T_baae62ba_031a_11ec_b76f_0242ac1c0002row0_col13,#T_baae62ba_031a_11ec_b76f_0242ac1c0002row1_col1,#T_baae62ba_031a_11ec_b76f_0242ac1c0002row1_col4,#T_baae62ba_031a_11ec_b76f_0242ac1c0002row1_col5,#T_baae62ba_031a_11ec_b76f_0242ac1c0002row1_col6,#T_baae62ba_031a_11ec_b76f_0242ac1c0002row1_col7,#T_baae62ba_031a_11ec_b76f_0242ac1c0002row1_col9,#T_baae62ba_031a_11ec_b76f_0242ac1c0002row1_col14{\n",
              "            background-color:  #778ce4;\n",
              "            color:  #000000;\n",
              "        }#T_baae62ba_031a_11ec_b76f_0242ac1c0002row0_col1,#T_baae62ba_031a_11ec_b76f_0242ac1c0002row0_col4,#T_baae62ba_031a_11ec_b76f_0242ac1c0002row0_col5,#T_baae62ba_031a_11ec_b76f_0242ac1c0002row0_col6,#T_baae62ba_031a_11ec_b76f_0242ac1c0002row0_col7,#T_baae62ba_031a_11ec_b76f_0242ac1c0002row0_col9,#T_baae62ba_031a_11ec_b76f_0242ac1c0002row0_col14,#T_baae62ba_031a_11ec_b76f_0242ac1c0002row1_col0,#T_baae62ba_031a_11ec_b76f_0242ac1c0002row1_col2,#T_baae62ba_031a_11ec_b76f_0242ac1c0002row1_col3,#T_baae62ba_031a_11ec_b76f_0242ac1c0002row1_col8,#T_baae62ba_031a_11ec_b76f_0242ac1c0002row1_col10,#T_baae62ba_031a_11ec_b76f_0242ac1c0002row1_col11,#T_baae62ba_031a_11ec_b76f_0242ac1c0002row1_col12,#T_baae62ba_031a_11ec_b76f_0242ac1c0002row1_col13{\n",
              "            background-color:  #f0f1f2;\n",
              "            color:  #000000;\n",
              "        }</style><table id=\"T_baae62ba_031a_11ec_b76f_0242ac1c0002\" ><thead>    <tr>        <th class=\"blank level0\" ></th>        <th class=\"col_heading level0 col0\" >0</th>        <th class=\"col_heading level0 col1\" >1</th>        <th class=\"col_heading level0 col2\" >2</th>        <th class=\"col_heading level0 col3\" >3</th>        <th class=\"col_heading level0 col4\" >4</th>        <th class=\"col_heading level0 col5\" >5</th>        <th class=\"col_heading level0 col6\" >6</th>        <th class=\"col_heading level0 col7\" >7</th>        <th class=\"col_heading level0 col8\" >8</th>        <th class=\"col_heading level0 col9\" >9</th>        <th class=\"col_heading level0 col10\" >10</th>        <th class=\"col_heading level0 col11\" >11</th>        <th class=\"col_heading level0 col12\" >12</th>        <th class=\"col_heading level0 col13\" >13</th>        <th class=\"col_heading level0 col14\" >14</th>    </tr></thead><tbody>\n",
              "                <tr>\n",
              "                        <th id=\"T_baae62ba_031a_11ec_b76f_0242ac1c0002level0_row0\" class=\"row_heading level0 row0\" >Positive</th>\n",
              "                        <td id=\"T_baae62ba_031a_11ec_b76f_0242ac1c0002row0_col0\" class=\"data row0 col0\" >73.40%</td>\n",
              "                        <td id=\"T_baae62ba_031a_11ec_b76f_0242ac1c0002row0_col1\" class=\"data row0 col1\" >4.14%</td>\n",
              "                        <td id=\"T_baae62ba_031a_11ec_b76f_0242ac1c0002row0_col2\" class=\"data row0 col2\" >95.66%</td>\n",
              "                        <td id=\"T_baae62ba_031a_11ec_b76f_0242ac1c0002row0_col3\" class=\"data row0 col3\" >87.62%</td>\n",
              "                        <td id=\"T_baae62ba_031a_11ec_b76f_0242ac1c0002row0_col4\" class=\"data row0 col4\" >1.12%</td>\n",
              "                        <td id=\"T_baae62ba_031a_11ec_b76f_0242ac1c0002row0_col5\" class=\"data row0 col5\" >1.62%</td>\n",
              "                        <td id=\"T_baae62ba_031a_11ec_b76f_0242ac1c0002row0_col6\" class=\"data row0 col6\" >0.43%</td>\n",
              "                        <td id=\"T_baae62ba_031a_11ec_b76f_0242ac1c0002row0_col7\" class=\"data row0 col7\" >0.88%</td>\n",
              "                        <td id=\"T_baae62ba_031a_11ec_b76f_0242ac1c0002row0_col8\" class=\"data row0 col8\" >53.01%</td>\n",
              "                        <td id=\"T_baae62ba_031a_11ec_b76f_0242ac1c0002row0_col9\" class=\"data row0 col9\" >12.62%</td>\n",
              "                        <td id=\"T_baae62ba_031a_11ec_b76f_0242ac1c0002row0_col10\" class=\"data row0 col10\" >95.65%</td>\n",
              "                        <td id=\"T_baae62ba_031a_11ec_b76f_0242ac1c0002row0_col11\" class=\"data row0 col11\" >57.38%</td>\n",
              "                        <td id=\"T_baae62ba_031a_11ec_b76f_0242ac1c0002row0_col12\" class=\"data row0 col12\" >59.83%</td>\n",
              "                        <td id=\"T_baae62ba_031a_11ec_b76f_0242ac1c0002row0_col13\" class=\"data row0 col13\" >93.03%</td>\n",
              "                        <td id=\"T_baae62ba_031a_11ec_b76f_0242ac1c0002row0_col14\" class=\"data row0 col14\" >6.37%</td>\n",
              "            </tr>\n",
              "            <tr>\n",
              "                        <th id=\"T_baae62ba_031a_11ec_b76f_0242ac1c0002level0_row1\" class=\"row_heading level0 row1\" >Negative</th>\n",
              "                        <td id=\"T_baae62ba_031a_11ec_b76f_0242ac1c0002row1_col0\" class=\"data row1 col0\" >26.60%</td>\n",
              "                        <td id=\"T_baae62ba_031a_11ec_b76f_0242ac1c0002row1_col1\" class=\"data row1 col1\" >95.86%</td>\n",
              "                        <td id=\"T_baae62ba_031a_11ec_b76f_0242ac1c0002row1_col2\" class=\"data row1 col2\" >4.34%</td>\n",
              "                        <td id=\"T_baae62ba_031a_11ec_b76f_0242ac1c0002row1_col3\" class=\"data row1 col3\" >12.38%</td>\n",
              "                        <td id=\"T_baae62ba_031a_11ec_b76f_0242ac1c0002row1_col4\" class=\"data row1 col4\" >98.88%</td>\n",
              "                        <td id=\"T_baae62ba_031a_11ec_b76f_0242ac1c0002row1_col5\" class=\"data row1 col5\" >98.38%</td>\n",
              "                        <td id=\"T_baae62ba_031a_11ec_b76f_0242ac1c0002row1_col6\" class=\"data row1 col6\" >99.57%</td>\n",
              "                        <td id=\"T_baae62ba_031a_11ec_b76f_0242ac1c0002row1_col7\" class=\"data row1 col7\" >99.12%</td>\n",
              "                        <td id=\"T_baae62ba_031a_11ec_b76f_0242ac1c0002row1_col8\" class=\"data row1 col8\" >46.99%</td>\n",
              "                        <td id=\"T_baae62ba_031a_11ec_b76f_0242ac1c0002row1_col9\" class=\"data row1 col9\" >87.38%</td>\n",
              "                        <td id=\"T_baae62ba_031a_11ec_b76f_0242ac1c0002row1_col10\" class=\"data row1 col10\" >4.35%</td>\n",
              "                        <td id=\"T_baae62ba_031a_11ec_b76f_0242ac1c0002row1_col11\" class=\"data row1 col11\" >42.62%</td>\n",
              "                        <td id=\"T_baae62ba_031a_11ec_b76f_0242ac1c0002row1_col12\" class=\"data row1 col12\" >40.17%</td>\n",
              "                        <td id=\"T_baae62ba_031a_11ec_b76f_0242ac1c0002row1_col13\" class=\"data row1 col13\" >6.97%</td>\n",
              "                        <td id=\"T_baae62ba_031a_11ec_b76f_0242ac1c0002row1_col14\" class=\"data row1 col14\" >93.63%</td>\n",
              "            </tr>\n",
              "    </tbody></table>"
            ],
            "text/plain": [
              "<pandas.io.formats.style.Styler at 0x7f1fdbe410d0>"
            ]
          },
          "metadata": {},
          "execution_count": 67
        }
      ]
    },
    {
      "cell_type": "markdown",
      "metadata": {
        "id": "A3RlxHyPTCrD"
      },
      "source": [
        "#### Model Architecture Summary Single Layer Bidirectional RNN"
      ]
    },
    {
      "cell_type": "code",
      "metadata": {
        "colab": {
          "base_uri": "https://localhost:8080/"
        },
        "id": "idRIHfoySu12",
        "outputId": "3c50cefa-0366-4f9b-efec-95814e5a3f89"
      },
      "source": [
        "modelcb.summary()"
      ],
      "execution_count": null,
      "outputs": [
        {
          "output_type": "stream",
          "text": [
            "Model: \"sequential_1\"\n",
            "_________________________________________________________________\n",
            "Layer (type)                 Output Shape              Param #   \n",
            "=================================================================\n",
            "text_vectorization_2 (TextVe (None, None)              0         \n",
            "_________________________________________________________________\n",
            "embedding_1 (Embedding)      (None, None, 64)          64000     \n",
            "_________________________________________________________________\n",
            "bidirectional_1 (Bidirection (None, None, 128)         66048     \n",
            "_________________________________________________________________\n",
            "bidirectional_2 (Bidirection (None, 64)                41216     \n",
            "_________________________________________________________________\n",
            "dense_2 (Dense)              (None, 64)                4160      \n",
            "_________________________________________________________________\n",
            "dropout (Dropout)            (None, 64)                0         \n",
            "_________________________________________________________________\n",
            "dense_3 (Dense)              (None, 2)                 130       \n",
            "=================================================================\n",
            "Total params: 175,554\n",
            "Trainable params: 175,554\n",
            "Non-trainable params: 0\n",
            "_________________________________________________________________\n"
          ],
          "name": "stdout"
        }
      ]
    },
    {
      "cell_type": "code",
      "metadata": {
        "colab": {
          "base_uri": "https://localhost:8080/",
          "height": 865
        },
        "id": "o01y6ZMVTF8J",
        "scrolled": false,
        "outputId": "58f54ff5-80ca-418a-e907-63453e539787"
      },
      "source": [
        "keras.utils.plot_model(modelcb, \"2Layer_BiDirectionalLSTM.png\", show_shapes=True)"
      ],
      "execution_count": null,
      "outputs": [
        {
          "output_type": "execute_result",
          "data": {
            "image/png": "[encoded data removed]",
            "text/plain": [
              "<IPython.core.display.Image object>"
            ]
          },
          "metadata": {},
          "execution_count": 69
        }
      ]
    },
    {
      "cell_type": "markdown",
      "metadata": {
        "id": "CE5Xkuyge45Q"
      },
      "source": [
        "#Experiment C-c: LSTM - Unidirectional  - 1 Layer"
      ]
    },
    {
      "cell_type": "code",
      "metadata": {
        "id": "MfmYTlbGfA8R"
      },
      "source": [
        "modelcc = tf.keras.Sequential([\n",
        "                              encoder\n",
        "                              ,tf.keras.layers.Embedding(len(encoder.get_vocabulary()), 64, mask_zero=True)\n",
        "                              ,tf.keras.layers.LSTM(64)\n",
        "                              ,tf.keras.layers.Dense(64, activation='relu')\n",
        "                              ,tf.keras.layers.Dropout(0.2)\n",
        "                              ,tf.keras.layers.Dense(num_classes,activation='softmax')   # not binary since there are num_classes categories\n",
        "])"
      ],
      "execution_count": null,
      "outputs": []
    },
    {
      "cell_type": "code",
      "metadata": {
        "id": "YsrX1IqEfA8R"
      },
      "source": [
        "modelcc.compile(optimizer='adam'\n",
        "              ,loss=tf.keras.losses.SparseCategoricalCrossentropy() # if we set from_logits=True we do not have specify a softmax activation function in the last layer\n",
        "              ,metrics=['accuracy'])"
      ],
      "execution_count": null,
      "outputs": []
    },
    {
      "cell_type": "code",
      "metadata": {
        "colab": {
          "base_uri": "https://localhost:8080/"
        },
        "id": "uLXzcEaGfA8S",
        "outputId": "a29d464d-36b5-4d46-96ff-3b1243fbeec7"
      },
      "source": [
        "start = datetime.datetime.now()\n",
        "historycc = modelcc.fit(train_dataset\n",
        "                    ,epochs=200\n",
        "                    ,validation_data=validation_dataset\n",
        "                    #,validation_steps=30\n",
        "                    ,callbacks=[tf.keras.callbacks.EarlyStopping(monitor='val_accuracy', patience=3)]\n",
        "                    )\n",
        "Modelcc_Train_Time = datetime.datetime.now()-start\n",
        "print(Modelcc_Train_Time)"
      ],
      "execution_count": null,
      "outputs": [
        {
          "output_type": "stream",
          "text": [
            "Epoch 1/200\n",
            "372/372 [==============================] - 20s 43ms/step - loss: 0.5625 - accuracy: 0.6991 - val_loss: 0.3742 - val_accuracy: 0.8368\n",
            "Epoch 2/200\n",
            "372/372 [==============================] - 16s 41ms/step - loss: 0.4608 - accuracy: 0.7847 - val_loss: 0.5406 - val_accuracy: 0.7152\n",
            "Epoch 3/200\n",
            "372/372 [==============================] - 16s 41ms/step - loss: 0.3910 - accuracy: 0.8327 - val_loss: 0.3512 - val_accuracy: 0.8520\n",
            "Epoch 4/200\n",
            "372/372 [==============================] - 16s 41ms/step - loss: 0.3433 - accuracy: 0.8576 - val_loss: 0.3433 - val_accuracy: 0.8504\n",
            "Epoch 5/200\n",
            "372/372 [==============================] - 16s 41ms/step - loss: 0.3198 - accuracy: 0.8679 - val_loss: 0.3286 - val_accuracy: 0.8584\n",
            "Epoch 6/200\n",
            "372/372 [==============================] - 16s 41ms/step - loss: 0.3029 - accuracy: 0.8743 - val_loss: 0.3352 - val_accuracy: 0.8552\n",
            "Epoch 7/200\n",
            "372/372 [==============================] - 16s 41ms/step - loss: 0.2941 - accuracy: 0.8781 - val_loss: 0.3639 - val_accuracy: 0.8400\n",
            "Epoch 8/200\n",
            "372/372 [==============================] - 16s 41ms/step - loss: 0.2886 - accuracy: 0.8795 - val_loss: 0.3487 - val_accuracy: 0.8536\n",
            "0:02:24.501988\n"
          ],
          "name": "stdout"
        }
      ]
    },
    {
      "cell_type": "code",
      "metadata": {
        "colab": {
          "base_uri": "https://localhost:8080/"
        },
        "id": "7PDZxXZVfA8S",
        "outputId": "0954875e-cebd-4f12-e490-dd054eae28cf"
      },
      "source": [
        "test_loss, test_acc = modelcc.evaluate(test_dataset)\n",
        "\n",
        "print('Test Loss: {}'.format(test_loss))\n",
        "print('Test Accuracy: {}'.format(test_acc))"
      ],
      "execution_count": null,
      "outputs": [
        {
          "output_type": "stream",
          "text": [
            "391/391 [==============================] - 10s 24ms/step - loss: 0.3523 - accuracy: 0.8501\n",
            "Test Loss: 0.352283239364624\n",
            "Test Accuracy: 0.8501200079917908\n"
          ],
          "name": "stdout"
        }
      ]
    },
    {
      "cell_type": "code",
      "metadata": {
        "colab": {
          "base_uri": "https://localhost:8080/"
        },
        "id": "sbX1WCOAgmjl",
        "outputId": "2bef188b-cc98-4550-b353-89651f8cb3d1"
      },
      "source": [
        "history_dictcc = historycc.history\n",
        "history_dictcc.keys()"
      ],
      "execution_count": null,
      "outputs": [
        {
          "output_type": "execute_result",
          "data": {
            "text/plain": [
              "dict_keys(['loss', 'accuracy', 'val_loss', 'val_accuracy'])"
            ]
          },
          "metadata": {},
          "execution_count": 74
        }
      ]
    },
    {
      "cell_type": "code",
      "metadata": {
        "colab": {
          "base_uri": "https://localhost:8080/",
          "height": 203
        },
        "id": "SwM_r_qTgf5p",
        "outputId": "c6e5b4b8-e333-426a-fa21-28090dc32ddf"
      },
      "source": [
        "historycc_df=pd.DataFrame(history_dictcc)\n",
        "historycc_df.tail().round(3)"
      ],
      "execution_count": null,
      "outputs": [
        {
          "output_type": "execute_result",
          "data": {
            "text/html": [
              "<div>\n",
              "<style scoped>\n",
              "    .dataframe tbody tr th:only-of-type {\n",
              "        vertical-align: middle;\n",
              "    }\n",
              "\n",
              "    .dataframe tbody tr th {\n",
              "        vertical-align: top;\n",
              "    }\n",
              "\n",
              "    .dataframe thead th {\n",
              "        text-align: right;\n",
              "    }\n",
              "</style>\n",
              "<table border=\"1\" class=\"dataframe\">\n",
              "  <thead>\n",
              "    <tr style=\"text-align: right;\">\n",
              "      <th></th>\n",
              "      <th>loss</th>\n",
              "      <th>accuracy</th>\n",
              "      <th>val_loss</th>\n",
              "      <th>val_accuracy</th>\n",
              "    </tr>\n",
              "  </thead>\n",
              "  <tbody>\n",
              "    <tr>\n",
              "      <th>3</th>\n",
              "      <td>0.343</td>\n",
              "      <td>0.858</td>\n",
              "      <td>0.343</td>\n",
              "      <td>0.850</td>\n",
              "    </tr>\n",
              "    <tr>\n",
              "      <th>4</th>\n",
              "      <td>0.320</td>\n",
              "      <td>0.868</td>\n",
              "      <td>0.329</td>\n",
              "      <td>0.858</td>\n",
              "    </tr>\n",
              "    <tr>\n",
              "      <th>5</th>\n",
              "      <td>0.303</td>\n",
              "      <td>0.874</td>\n",
              "      <td>0.335</td>\n",
              "      <td>0.855</td>\n",
              "    </tr>\n",
              "    <tr>\n",
              "      <th>6</th>\n",
              "      <td>0.294</td>\n",
              "      <td>0.878</td>\n",
              "      <td>0.364</td>\n",
              "      <td>0.840</td>\n",
              "    </tr>\n",
              "    <tr>\n",
              "      <th>7</th>\n",
              "      <td>0.289</td>\n",
              "      <td>0.879</td>\n",
              "      <td>0.349</td>\n",
              "      <td>0.854</td>\n",
              "    </tr>\n",
              "  </tbody>\n",
              "</table>\n",
              "</div>"
            ],
            "text/plain": [
              "    loss  accuracy  val_loss  val_accuracy\n",
              "3  0.343     0.858     0.343         0.850\n",
              "4  0.320     0.868     0.329         0.858\n",
              "5  0.303     0.874     0.335         0.855\n",
              "6  0.294     0.878     0.364         0.840\n",
              "7  0.289     0.879     0.349         0.854"
            ]
          },
          "metadata": {},
          "execution_count": 75
        }
      ]
    },
    {
      "cell_type": "code",
      "metadata": {
        "colab": {
          "base_uri": "https://localhost:8080/"
        },
        "id": "jt0DskIai2ob",
        "outputId": "ec7f2f02-a5e4-4791-ae5f-7bf01a958094"
      },
      "source": [
        "modelcc.summary()"
      ],
      "execution_count": null,
      "outputs": [
        {
          "output_type": "stream",
          "text": [
            "Model: \"sequential_2\"\n",
            "_________________________________________________________________\n",
            "Layer (type)                 Output Shape              Param #   \n",
            "=================================================================\n",
            "text_vectorization_2 (TextVe (None, None)              0         \n",
            "_________________________________________________________________\n",
            "embedding_2 (Embedding)      (None, None, 64)          64000     \n",
            "_________________________________________________________________\n",
            "lstm_3 (LSTM)                (None, 64)                33024     \n",
            "_________________________________________________________________\n",
            "dense_4 (Dense)              (None, 64)                4160      \n",
            "_________________________________________________________________\n",
            "dropout_1 (Dropout)          (None, 64)                0         \n",
            "_________________________________________________________________\n",
            "dense_5 (Dense)              (None, 2)                 130       \n",
            "=================================================================\n",
            "Total params: 101,314\n",
            "Trainable params: 101,314\n",
            "Non-trainable params: 0\n",
            "_________________________________________________________________\n"
          ],
          "name": "stdout"
        }
      ]
    },
    {
      "cell_type": "markdown",
      "metadata": {
        "id": "W8L7diXOEbQg"
      },
      "source": [
        "#Experiment C-d: LSTM - Bidirectional with Regularization"
      ]
    },
    {
      "cell_type": "code",
      "metadata": {
        "id": "RmKpK2ScEbQh"
      },
      "source": [
        "num_classes = 2\n",
        "modelcd = tf.keras.Sequential([\n",
        "                              encoder\n",
        "                              ,tf.keras.layers.Embedding(input_dim=len(encoder.get_vocabulary()) ,output_dim=64 ,mask_zero=True)\n",
        "                              ,tf.keras.layers.Bidirectional(tf.keras.layers.LSTM(64))\n",
        "                              ,tf.keras.layers.Dense(64, activation='relu')\n",
        "                              ,tf.keras.layers.Dropout(0.25)\n",
        "                              ,tf.keras.layers.Dense(64, activation='relu')\n",
        "                              ,tf.keras.layers.Dense(num_classes,activation='softmax')   # num_classes = 4\n",
        "])"
      ],
      "execution_count": null,
      "outputs": []
    },
    {
      "cell_type": "code",
      "metadata": {
        "id": "dpnm4hT7EbQi"
      },
      "source": [
        "modelcd.compile(optimizer=tf.keras.optimizers.Adam(1e-4)\n",
        "              ,loss=tf.keras.losses.SparseCategoricalCrossentropy() # if we set from_logits=True we don not have specify a softmax activation function in the last layer\n",
        "              ,metrics=['accuracy'])"
      ],
      "execution_count": null,
      "outputs": []
    },
    {
      "cell_type": "code",
      "metadata": {
        "colab": {
          "base_uri": "https://localhost:8080/"
        },
        "id": "Y_yml1LQEbQj",
        "outputId": "8a83c3d9-12fb-43ad-d4d1-0c8037d7b564"
      },
      "source": [
        "start = datetime.datetime.now()\n",
        "historycd = modelcd.fit(train_dataset\n",
        "                    ,epochs = 200\n",
        "                    ,validation_data=validation_dataset\n",
        "                    ,callbacks=[tf.keras.callbacks.EarlyStopping(monitor='val_accuracy', patience=2)]\n",
        "                    )\n",
        "Modelcd_Train_Time = datetime.datetime.now()-start\n",
        "print(Modelcd_Train_Time)"
      ],
      "execution_count": null,
      "outputs": [
        {
          "output_type": "stream",
          "text": [
            "Epoch 1/200\n",
            "372/372 [==============================] - 35s 78ms/step - loss: 0.6266 - accuracy: 0.6414 - val_loss: 0.4369 - val_accuracy: 0.8000\n",
            "Epoch 2/200\n",
            "372/372 [==============================] - 28s 73ms/step - loss: 0.3873 - accuracy: 0.8318 - val_loss: 0.3495 - val_accuracy: 0.8512\n",
            "Epoch 3/200\n",
            "372/372 [==============================] - 28s 73ms/step - loss: 0.3354 - accuracy: 0.8587 - val_loss: 0.3333 - val_accuracy: 0.8616\n",
            "Epoch 4/200\n",
            "372/372 [==============================] - 28s 73ms/step - loss: 0.3176 - accuracy: 0.8665 - val_loss: 0.3223 - val_accuracy: 0.8680\n",
            "Epoch 5/200\n",
            "372/372 [==============================] - 28s 73ms/step - loss: 0.3102 - accuracy: 0.8702 - val_loss: 0.3136 - val_accuracy: 0.8712\n",
            "Epoch 6/200\n",
            "372/372 [==============================] - 27s 72ms/step - loss: 0.3043 - accuracy: 0.8740 - val_loss: 0.3191 - val_accuracy: 0.8616\n",
            "Epoch 7/200\n",
            "372/372 [==============================] - 28s 73ms/step - loss: 0.3011 - accuracy: 0.8771 - val_loss: 0.3153 - val_accuracy: 0.8664\n",
            "0:04:00.973732\n"
          ],
          "name": "stdout"
        }
      ]
    },
    {
      "cell_type": "code",
      "metadata": {
        "colab": {
          "base_uri": "https://localhost:8080/"
        },
        "id": "W0fARiTJEbQk",
        "outputId": "85379297-0bf7-4eae-e9b0-7fdb5f3814ed"
      },
      "source": [
        "test_loss, test_acc = modelcd.evaluate(test_dataset)\n",
        "\n",
        "print('Test Loss: {}'.format(test_loss))\n",
        "print('Test Accuracy: {}'.format(test_acc))"
      ],
      "execution_count": null,
      "outputs": [
        {
          "output_type": "stream",
          "text": [
            "391/391 [==============================] - 16s 40ms/step - loss: 0.3233 - accuracy: 0.8584\n",
            "Test Loss: 0.3232964873313904\n",
            "Test Accuracy: 0.8583999872207642\n"
          ],
          "name": "stdout"
        }
      ]
    },
    {
      "cell_type": "code",
      "metadata": {
        "colab": {
          "base_uri": "https://localhost:8080/"
        },
        "id": "gjfvFM7gEbQl",
        "outputId": "a2279d87-3f82-4bba-b8ed-e82b3c0d4625"
      },
      "source": [
        "history_dictcd = historycd.history\n",
        "history_dictcd.keys()"
      ],
      "execution_count": null,
      "outputs": [
        {
          "output_type": "execute_result",
          "data": {
            "text/plain": [
              "dict_keys(['loss', 'accuracy', 'val_loss', 'val_accuracy'])"
            ]
          },
          "metadata": {},
          "execution_count": 81
        }
      ]
    },
    {
      "cell_type": "code",
      "metadata": {
        "colab": {
          "base_uri": "https://localhost:8080/",
          "height": 265
        },
        "id": "ja-DaEf7EbQm",
        "outputId": "ebe4da02-6c85-4d2d-8d1d-83ab202ba51d"
      },
      "source": [
        "history_dfcd = pd.DataFrame(history_dictcd)\n",
        "history_dfcd.tail(10).round(3)"
      ],
      "execution_count": null,
      "outputs": [
        {
          "output_type": "execute_result",
          "data": {
            "text/html": [
              "<div>\n",
              "<style scoped>\n",
              "    .dataframe tbody tr th:only-of-type {\n",
              "        vertical-align: middle;\n",
              "    }\n",
              "\n",
              "    .dataframe tbody tr th {\n",
              "        vertical-align: top;\n",
              "    }\n",
              "\n",
              "    .dataframe thead th {\n",
              "        text-align: right;\n",
              "    }\n",
              "</style>\n",
              "<table border=\"1\" class=\"dataframe\">\n",
              "  <thead>\n",
              "    <tr style=\"text-align: right;\">\n",
              "      <th></th>\n",
              "      <th>loss</th>\n",
              "      <th>accuracy</th>\n",
              "      <th>val_loss</th>\n",
              "      <th>val_accuracy</th>\n",
              "    </tr>\n",
              "  </thead>\n",
              "  <tbody>\n",
              "    <tr>\n",
              "      <th>0</th>\n",
              "      <td>0.627</td>\n",
              "      <td>0.641</td>\n",
              "      <td>0.437</td>\n",
              "      <td>0.800</td>\n",
              "    </tr>\n",
              "    <tr>\n",
              "      <th>1</th>\n",
              "      <td>0.387</td>\n",
              "      <td>0.832</td>\n",
              "      <td>0.350</td>\n",
              "      <td>0.851</td>\n",
              "    </tr>\n",
              "    <tr>\n",
              "      <th>2</th>\n",
              "      <td>0.335</td>\n",
              "      <td>0.859</td>\n",
              "      <td>0.333</td>\n",
              "      <td>0.862</td>\n",
              "    </tr>\n",
              "    <tr>\n",
              "      <th>3</th>\n",
              "      <td>0.318</td>\n",
              "      <td>0.867</td>\n",
              "      <td>0.322</td>\n",
              "      <td>0.868</td>\n",
              "    </tr>\n",
              "    <tr>\n",
              "      <th>4</th>\n",
              "      <td>0.310</td>\n",
              "      <td>0.870</td>\n",
              "      <td>0.314</td>\n",
              "      <td>0.871</td>\n",
              "    </tr>\n",
              "    <tr>\n",
              "      <th>5</th>\n",
              "      <td>0.304</td>\n",
              "      <td>0.874</td>\n",
              "      <td>0.319</td>\n",
              "      <td>0.862</td>\n",
              "    </tr>\n",
              "    <tr>\n",
              "      <th>6</th>\n",
              "      <td>0.301</td>\n",
              "      <td>0.877</td>\n",
              "      <td>0.315</td>\n",
              "      <td>0.866</td>\n",
              "    </tr>\n",
              "  </tbody>\n",
              "</table>\n",
              "</div>"
            ],
            "text/plain": [
              "    loss  accuracy  val_loss  val_accuracy\n",
              "0  0.627     0.641     0.437         0.800\n",
              "1  0.387     0.832     0.350         0.851\n",
              "2  0.335     0.859     0.333         0.862\n",
              "3  0.318     0.867     0.322         0.868\n",
              "4  0.310     0.870     0.314         0.871\n",
              "5  0.304     0.874     0.319         0.862\n",
              "6  0.301     0.877     0.315         0.866"
            ]
          },
          "metadata": {},
          "execution_count": 82
        }
      ]
    },
    {
      "cell_type": "code",
      "metadata": {
        "colab": {
          "base_uri": "https://localhost:8080/"
        },
        "id": "4Uu-VA8PEbQm",
        "outputId": "06894b55-4f57-4e98-cdcd-29af3fee3917"
      },
      "source": [
        "modelcd.summary()"
      ],
      "execution_count": null,
      "outputs": [
        {
          "output_type": "stream",
          "text": [
            "Model: \"sequential_3\"\n",
            "_________________________________________________________________\n",
            "Layer (type)                 Output Shape              Param #   \n",
            "=================================================================\n",
            "text_vectorization_2 (TextVe (None, None)              0         \n",
            "_________________________________________________________________\n",
            "embedding_3 (Embedding)      (None, None, 64)          64000     \n",
            "_________________________________________________________________\n",
            "bidirectional_3 (Bidirection (None, 128)               66048     \n",
            "_________________________________________________________________\n",
            "dense_6 (Dense)              (None, 64)                8256      \n",
            "_________________________________________________________________\n",
            "dropout_2 (Dropout)          (None, 64)                0         \n",
            "_________________________________________________________________\n",
            "dense_7 (Dense)              (None, 64)                4160      \n",
            "_________________________________________________________________\n",
            "dense_8 (Dense)              (None, 2)                 130       \n",
            "=================================================================\n",
            "Total params: 142,594\n",
            "Trainable params: 142,594\n",
            "Non-trainable params: 0\n",
            "_________________________________________________________________\n"
          ],
          "name": "stdout"
        }
      ]
    },
    {
      "cell_type": "markdown",
      "metadata": {
        "id": "DqiN64k_EYlT"
      },
      "source": [
        "#Experiment C-e: LSTM - Unidirectional without Regularization"
      ]
    },
    {
      "cell_type": "code",
      "metadata": {
        "id": "3M1NgBK4I5Sw"
      },
      "source": [
        "modelce = tf.keras.Sequential([\n",
        "                              encoder\n",
        "                              ,tf.keras.layers.Embedding(len(encoder.get_vocabulary()), 64, mask_zero=True)\n",
        "                              ,tf.keras.layers.LSTM(64)\n",
        "                              ,tf.keras.layers.Dense(32, activation='relu')\n",
        "                              ,tf.keras.layers.Dense(num_classes,activation='softmax')   # not binary since there are num_classes categories\n",
        "])"
      ],
      "execution_count": null,
      "outputs": []
    },
    {
      "cell_type": "code",
      "metadata": {
        "id": "LSY_60-rI5Sx"
      },
      "source": [
        "modelce.compile(optimizer='adam'\n",
        "              ,loss=tf.keras.losses.SparseCategoricalCrossentropy() # if we set from_logits=True we do not have specify a softmax activation function in the last layer\n",
        "              ,metrics=['accuracy'])"
      ],
      "execution_count": null,
      "outputs": []
    },
    {
      "cell_type": "code",
      "metadata": {
        "colab": {
          "base_uri": "https://localhost:8080/"
        },
        "id": "l5fQmOZLI5Sx",
        "outputId": "5f23dca0-b5e1-4046-f1a6-ebb3cd19578c"
      },
      "source": [
        "start = datetime.datetime.now()\n",
        "historyce = modelce.fit(train_dataset\n",
        "                    ,epochs=200\n",
        "                    ,validation_data=validation_dataset\n",
        "                    #,validation_steps=30\n",
        "                    ,callbacks=[tf.keras.callbacks.EarlyStopping(monitor='val_accuracy', patience=2)]\n",
        "                    )\n",
        "Modelce_Train_Time = datetime.datetime.now()-start\n",
        "print(Modelce_Train_Time)"
      ],
      "execution_count": null,
      "outputs": [
        {
          "output_type": "stream",
          "text": [
            "Epoch 1/200\n",
            "372/372 [==============================] - 21s 44ms/step - loss: 0.5556 - accuracy: 0.6972 - val_loss: 0.4135 - val_accuracy: 0.8136\n",
            "Epoch 2/200\n",
            "372/372 [==============================] - 16s 41ms/step - loss: 0.3886 - accuracy: 0.8326 - val_loss: 0.3435 - val_accuracy: 0.8512\n",
            "Epoch 3/200\n",
            "372/372 [==============================] - 16s 41ms/step - loss: 0.3357 - accuracy: 0.8602 - val_loss: 0.3557 - val_accuracy: 0.8480\n",
            "Epoch 4/200\n",
            "372/372 [==============================] - 16s 41ms/step - loss: 0.3191 - accuracy: 0.8680 - val_loss: 0.3325 - val_accuracy: 0.8600\n",
            "Epoch 5/200\n",
            "372/372 [==============================] - 16s 42ms/step - loss: 0.3041 - accuracy: 0.8746 - val_loss: 0.3297 - val_accuracy: 0.8584\n",
            "Epoch 6/200\n",
            "372/372 [==============================] - 16s 41ms/step - loss: 0.2984 - accuracy: 0.8759 - val_loss: 0.3628 - val_accuracy: 0.8488\n",
            "0:01:54.184782\n"
          ],
          "name": "stdout"
        }
      ]
    },
    {
      "cell_type": "code",
      "metadata": {
        "colab": {
          "base_uri": "https://localhost:8080/"
        },
        "id": "77DapWG2I5Sy",
        "outputId": "14a5d0a3-549d-4e95-dd9b-f65e2799379b"
      },
      "source": [
        "test_loss, test_acc = modelce.evaluate(test_dataset)\n",
        "\n",
        "print('Test Loss: {}'.format(test_loss))\n",
        "print('Test Accuracy: {}'.format(test_acc))"
      ],
      "execution_count": null,
      "outputs": [
        {
          "output_type": "stream",
          "text": [
            "391/391 [==============================] - 10s 25ms/step - loss: 0.3512 - accuracy: 0.8496\n",
            "Test Loss: 0.3512252867221832\n",
            "Test Accuracy: 0.8496000170707703\n"
          ],
          "name": "stdout"
        }
      ]
    },
    {
      "cell_type": "code",
      "metadata": {
        "colab": {
          "base_uri": "https://localhost:8080/"
        },
        "id": "9UQNBtS_I5Sz",
        "outputId": "a899048f-3c16-4198-a5cd-162947877f1c"
      },
      "source": [
        "history_dictce = historyce.history\n",
        "history_dictce.keys()"
      ],
      "execution_count": null,
      "outputs": [
        {
          "output_type": "execute_result",
          "data": {
            "text/plain": [
              "dict_keys(['loss', 'accuracy', 'val_loss', 'val_accuracy'])"
            ]
          },
          "metadata": {},
          "execution_count": 88
        }
      ]
    },
    {
      "cell_type": "code",
      "metadata": {
        "colab": {
          "base_uri": "https://localhost:8080/",
          "height": 203
        },
        "id": "jkwwZOCtI5S0",
        "outputId": "b8e31bdd-a1ed-4246-f5ca-341d28243f99"
      },
      "source": [
        "historyce_df=pd.DataFrame(history_dictce)\n",
        "historyce_df.tail().round(3)"
      ],
      "execution_count": null,
      "outputs": [
        {
          "output_type": "execute_result",
          "data": {
            "text/html": [
              "<div>\n",
              "<style scoped>\n",
              "    .dataframe tbody tr th:only-of-type {\n",
              "        vertical-align: middle;\n",
              "    }\n",
              "\n",
              "    .dataframe tbody tr th {\n",
              "        vertical-align: top;\n",
              "    }\n",
              "\n",
              "    .dataframe thead th {\n",
              "        text-align: right;\n",
              "    }\n",
              "</style>\n",
              "<table border=\"1\" class=\"dataframe\">\n",
              "  <thead>\n",
              "    <tr style=\"text-align: right;\">\n",
              "      <th></th>\n",
              "      <th>loss</th>\n",
              "      <th>accuracy</th>\n",
              "      <th>val_loss</th>\n",
              "      <th>val_accuracy</th>\n",
              "    </tr>\n",
              "  </thead>\n",
              "  <tbody>\n",
              "    <tr>\n",
              "      <th>1</th>\n",
              "      <td>0.389</td>\n",
              "      <td>0.833</td>\n",
              "      <td>0.343</td>\n",
              "      <td>0.851</td>\n",
              "    </tr>\n",
              "    <tr>\n",
              "      <th>2</th>\n",
              "      <td>0.336</td>\n",
              "      <td>0.860</td>\n",
              "      <td>0.356</td>\n",
              "      <td>0.848</td>\n",
              "    </tr>\n",
              "    <tr>\n",
              "      <th>3</th>\n",
              "      <td>0.319</td>\n",
              "      <td>0.868</td>\n",
              "      <td>0.333</td>\n",
              "      <td>0.860</td>\n",
              "    </tr>\n",
              "    <tr>\n",
              "      <th>4</th>\n",
              "      <td>0.304</td>\n",
              "      <td>0.875</td>\n",
              "      <td>0.330</td>\n",
              "      <td>0.858</td>\n",
              "    </tr>\n",
              "    <tr>\n",
              "      <th>5</th>\n",
              "      <td>0.298</td>\n",
              "      <td>0.876</td>\n",
              "      <td>0.363</td>\n",
              "      <td>0.849</td>\n",
              "    </tr>\n",
              "  </tbody>\n",
              "</table>\n",
              "</div>"
            ],
            "text/plain": [
              "    loss  accuracy  val_loss  val_accuracy\n",
              "1  0.389     0.833     0.343         0.851\n",
              "2  0.336     0.860     0.356         0.848\n",
              "3  0.319     0.868     0.333         0.860\n",
              "4  0.304     0.875     0.330         0.858\n",
              "5  0.298     0.876     0.363         0.849"
            ]
          },
          "metadata": {},
          "execution_count": 89
        }
      ]
    },
    {
      "cell_type": "code",
      "metadata": {
        "colab": {
          "base_uri": "https://localhost:8080/"
        },
        "id": "udrctNMGI5S1",
        "outputId": "3365470b-11a7-4ae2-fd81-2e5dc7a54f59"
      },
      "source": [
        "modelce.summary()"
      ],
      "execution_count": null,
      "outputs": [
        {
          "output_type": "stream",
          "text": [
            "Model: \"sequential_4\"\n",
            "_________________________________________________________________\n",
            "Layer (type)                 Output Shape              Param #   \n",
            "=================================================================\n",
            "text_vectorization_2 (TextVe (None, None)              0         \n",
            "_________________________________________________________________\n",
            "embedding_4 (Embedding)      (None, None, 64)          64000     \n",
            "_________________________________________________________________\n",
            "lstm_5 (LSTM)                (None, 64)                33024     \n",
            "_________________________________________________________________\n",
            "dense_9 (Dense)              (None, 32)                2080      \n",
            "_________________________________________________________________\n",
            "dense_10 (Dense)             (None, 2)                 66        \n",
            "=================================================================\n",
            "Total params: 99,170\n",
            "Trainable params: 99,170\n",
            "Non-trainable params: 0\n",
            "_________________________________________________________________\n"
          ],
          "name": "stdout"
        }
      ]
    },
    {
      "cell_type": "markdown",
      "metadata": {
        "id": "5yt3qaH1I5Sw"
      },
      "source": [
        "#Experiment C-f: LSTM - Bidirectional  - 2 Layer without Regularization"
      ]
    },
    {
      "cell_type": "code",
      "metadata": {
        "id": "fPSsSShuEYlU"
      },
      "source": [
        "num_classes = 2\n",
        "\n",
        "modelcf = tf.keras.Sequential([\n",
        "                              encoder\n",
        "                              ,tf.keras.layers.Embedding(len(encoder.get_vocabulary()), 64, mask_zero=True)\n",
        "                              ,tf.keras.layers.Bidirectional(tf.keras.layers.LSTM(64,  return_sequences=True))\n",
        "                              ,tf.keras.layers.Bidirectional(tf.keras.layers.LSTM(32))\n",
        "                              ,tf.keras.layers.Dense(64, activation='relu')\n",
        "                              #,tf.keras.layers.Dropout(0.5)\n",
        "                              ,tf.keras.layers.Dense(num_classes,activation='softmax')   # not binary since there are num_classes categories\n",
        "])"
      ],
      "execution_count": null,
      "outputs": []
    },
    {
      "cell_type": "code",
      "metadata": {
        "id": "bfCEapFEEYlV"
      },
      "source": [
        "modelcf.compile(optimizer=tf.keras.optimizers.Adam(1e-4)\n",
        "              ,loss=tf.keras.losses.SparseCategoricalCrossentropy() # if we set from_logits=True we don not have specify a softmax activation function in the last layer\n",
        "              ,metrics=['accuracy'])"
      ],
      "execution_count": null,
      "outputs": []
    },
    {
      "cell_type": "code",
      "metadata": {
        "colab": {
          "base_uri": "https://localhost:8080/"
        },
        "id": "Frpw1LlLEYlV",
        "outputId": "98c67dca-f976-45cc-cca6-83d2c1b5ab83"
      },
      "source": [
        "start = datetime.datetime.now()\n",
        "historycf = modelcf.fit(train_dataset\n",
        "                    ,epochs = 200\n",
        "                    ,validation_data=validation_dataset\n",
        "                    ,callbacks=[tf.keras.callbacks.EarlyStopping(monitor='val_accuracy', patience=2)]\n",
        "                    )\n",
        "Modelcf_Train_Time = datetime.datetime.now()-start\n",
        "print(Modelcf_Train_Time)"
      ],
      "execution_count": null,
      "outputs": [
        {
          "output_type": "stream",
          "text": [
            "Epoch 1/200\n",
            "372/372 [==============================] - 64s 137ms/step - loss: 0.5850 - accuracy: 0.6745 - val_loss: 0.4121 - val_accuracy: 0.8072\n",
            "Epoch 2/200\n",
            "372/372 [==============================] - 48s 127ms/step - loss: 0.3555 - accuracy: 0.8463 - val_loss: 0.3553 - val_accuracy: 0.8408\n",
            "Epoch 3/200\n",
            "372/372 [==============================] - 48s 127ms/step - loss: 0.3202 - accuracy: 0.8662 - val_loss: 0.3139 - val_accuracy: 0.8640\n",
            "Epoch 4/200\n",
            "372/372 [==============================] - 48s 128ms/step - loss: 0.3140 - accuracy: 0.8680 - val_loss: 0.3082 - val_accuracy: 0.8672\n",
            "Epoch 5/200\n",
            "372/372 [==============================] - 48s 129ms/step - loss: 0.3028 - accuracy: 0.8741 - val_loss: 0.3208 - val_accuracy: 0.8640\n",
            "Epoch 6/200\n",
            "372/372 [==============================] - 48s 128ms/step - loss: 0.2976 - accuracy: 0.8769 - val_loss: 0.3286 - val_accuracy: 0.8560\n",
            "0:06:40.749918\n"
          ],
          "name": "stdout"
        }
      ]
    },
    {
      "cell_type": "code",
      "metadata": {
        "colab": {
          "base_uri": "https://localhost:8080/"
        },
        "id": "DvxjceVCEYlW",
        "outputId": "da871cd9-5d59-4737-d707-f13efc0c4ff1"
      },
      "source": [
        "test_loss, test_acc = modelcf.evaluate(test_dataset)\n",
        "\n",
        "print('Test Loss: {}'.format(test_loss))\n",
        "print('Test Accuracy: {}'.format(test_acc))"
      ],
      "execution_count": null,
      "outputs": [
        {
          "output_type": "stream",
          "text": [
            "391/391 [==============================] - 26s 66ms/step - loss: 0.3250 - accuracy: 0.8575\n",
            "Test Loss: 0.3249647915363312\n",
            "Test Accuracy: 0.8575199842453003\n"
          ],
          "name": "stdout"
        }
      ]
    },
    {
      "cell_type": "code",
      "metadata": {
        "colab": {
          "base_uri": "https://localhost:8080/"
        },
        "id": "PrukhKhpEYlX",
        "outputId": "427a4158-b7a4-443b-dfd9-6bf18d19cbcb"
      },
      "source": [
        "history_dictcf = historycf.history\n",
        "history_dictcf.keys()"
      ],
      "execution_count": null,
      "outputs": [
        {
          "output_type": "execute_result",
          "data": {
            "text/plain": [
              "dict_keys(['loss', 'accuracy', 'val_loss', 'val_accuracy'])"
            ]
          },
          "metadata": {},
          "execution_count": 95
        }
      ]
    },
    {
      "cell_type": "code",
      "metadata": {
        "colab": {
          "base_uri": "https://localhost:8080/",
          "height": 234
        },
        "id": "jIGA5x-iEYlY",
        "outputId": "e4a358bf-51cd-47d5-c417-3d7909cf5810"
      },
      "source": [
        "history_dfcf=pd.DataFrame(history_dictcf)\n",
        "history_dfcf.tail(10).round(3)"
      ],
      "execution_count": null,
      "outputs": [
        {
          "output_type": "execute_result",
          "data": {
            "text/html": [
              "<div>\n",
              "<style scoped>\n",
              "    .dataframe tbody tr th:only-of-type {\n",
              "        vertical-align: middle;\n",
              "    }\n",
              "\n",
              "    .dataframe tbody tr th {\n",
              "        vertical-align: top;\n",
              "    }\n",
              "\n",
              "    .dataframe thead th {\n",
              "        text-align: right;\n",
              "    }\n",
              "</style>\n",
              "<table border=\"1\" class=\"dataframe\">\n",
              "  <thead>\n",
              "    <tr style=\"text-align: right;\">\n",
              "      <th></th>\n",
              "      <th>loss</th>\n",
              "      <th>accuracy</th>\n",
              "      <th>val_loss</th>\n",
              "      <th>val_accuracy</th>\n",
              "    </tr>\n",
              "  </thead>\n",
              "  <tbody>\n",
              "    <tr>\n",
              "      <th>0</th>\n",
              "      <td>0.585</td>\n",
              "      <td>0.674</td>\n",
              "      <td>0.412</td>\n",
              "      <td>0.807</td>\n",
              "    </tr>\n",
              "    <tr>\n",
              "      <th>1</th>\n",
              "      <td>0.355</td>\n",
              "      <td>0.846</td>\n",
              "      <td>0.355</td>\n",
              "      <td>0.841</td>\n",
              "    </tr>\n",
              "    <tr>\n",
              "      <th>2</th>\n",
              "      <td>0.320</td>\n",
              "      <td>0.866</td>\n",
              "      <td>0.314</td>\n",
              "      <td>0.864</td>\n",
              "    </tr>\n",
              "    <tr>\n",
              "      <th>3</th>\n",
              "      <td>0.314</td>\n",
              "      <td>0.868</td>\n",
              "      <td>0.308</td>\n",
              "      <td>0.867</td>\n",
              "    </tr>\n",
              "    <tr>\n",
              "      <th>4</th>\n",
              "      <td>0.303</td>\n",
              "      <td>0.874</td>\n",
              "      <td>0.321</td>\n",
              "      <td>0.864</td>\n",
              "    </tr>\n",
              "    <tr>\n",
              "      <th>5</th>\n",
              "      <td>0.298</td>\n",
              "      <td>0.877</td>\n",
              "      <td>0.329</td>\n",
              "      <td>0.856</td>\n",
              "    </tr>\n",
              "  </tbody>\n",
              "</table>\n",
              "</div>"
            ],
            "text/plain": [
              "    loss  accuracy  val_loss  val_accuracy\n",
              "0  0.585     0.674     0.412         0.807\n",
              "1  0.355     0.846     0.355         0.841\n",
              "2  0.320     0.866     0.314         0.864\n",
              "3  0.314     0.868     0.308         0.867\n",
              "4  0.303     0.874     0.321         0.864\n",
              "5  0.298     0.877     0.329         0.856"
            ]
          },
          "metadata": {},
          "execution_count": 96
        }
      ]
    },
    {
      "cell_type": "code",
      "metadata": {
        "colab": {
          "base_uri": "https://localhost:8080/"
        },
        "id": "DzuXYz2QEYlZ",
        "outputId": "7fca008d-9889-49fd-91ee-d513e23954c9"
      },
      "source": [
        "modelcf.summary()"
      ],
      "execution_count": null,
      "outputs": [
        {
          "output_type": "stream",
          "text": [
            "Model: \"sequential_5\"\n",
            "_________________________________________________________________\n",
            "Layer (type)                 Output Shape              Param #   \n",
            "=================================================================\n",
            "text_vectorization_2 (TextVe (None, None)              0         \n",
            "_________________________________________________________________\n",
            "embedding_5 (Embedding)      (None, None, 64)          64000     \n",
            "_________________________________________________________________\n",
            "bidirectional_4 (Bidirection (None, None, 128)         66048     \n",
            "_________________________________________________________________\n",
            "bidirectional_5 (Bidirection (None, 64)                41216     \n",
            "_________________________________________________________________\n",
            "dense_11 (Dense)             (None, 64)                4160      \n",
            "_________________________________________________________________\n",
            "dense_12 (Dense)             (None, 2)                 130       \n",
            "=================================================================\n",
            "Total params: 175,554\n",
            "Trainable params: 175,554\n",
            "Non-trainable params: 0\n",
            "_________________________________________________________________\n"
          ],
          "name": "stdout"
        }
      ]
    },
    {
      "cell_type": "markdown",
      "metadata": {
        "id": "z5PdNtndA0Ul"
      },
      "source": [
        "## Experiment C-g: LSTM - Bidirectional - 2 Layer with Dropout and L1 Regularization"
      ]
    },
    {
      "cell_type": "code",
      "metadata": {
        "id": "V6SOH3HPAuyM"
      },
      "source": [
        "num_classes = 2\n",
        "\n",
        "modelcg = tf.keras.Sequential([\n",
        "                              encoder\n",
        "                              ,tf.keras.layers.Embedding(len(encoder.get_vocabulary()), 64, mask_zero=True)\n",
        "                              ,tf.keras.layers.Bidirectional(tf.keras.layers.LSTM(64,  return_sequences=True))\n",
        "                              ,tf.keras.layers.Bidirectional(tf.keras.layers.LSTM(32))\n",
        "                              ,tf.keras.layers.Dense(64, activation='relu')\n",
        "                              ,tf.keras.layers.Dropout(0.20)\n",
        "                              ,tf.keras.layers.Dense(32, activation='relu',kernel_regularizer=tf.keras.regularizers.L2(0.001))\n",
        "                              ,tf.keras.layers.Dense(num_classes,activation='softmax')   # not binary since there are num_classes categories\n",
        "])"
      ],
      "execution_count": null,
      "outputs": []
    },
    {
      "cell_type": "code",
      "metadata": {
        "id": "mfF5vSKXA6dE"
      },
      "source": [
        "modelcg.compile(optimizer=tf.keras.optimizers.Adam(1e-4)\n",
        "              ,loss=tf.keras.losses.SparseCategoricalCrossentropy() # if we set from_logits=True we don not have specify a softmax activation function in the last layer\n",
        "              ,metrics=['accuracy'])"
      ],
      "execution_count": null,
      "outputs": []
    },
    {
      "cell_type": "code",
      "metadata": {
        "colab": {
          "base_uri": "https://localhost:8080/"
        },
        "id": "joEqmYybA7Bc",
        "outputId": "4184d600-9f97-471e-fb4a-56b99a594642"
      },
      "source": [
        "start = datetime.datetime.now()\n",
        "historycg = modelcg.fit(train_dataset\n",
        "                    ,epochs = 200\n",
        "                    ,validation_data=validation_dataset\n",
        "                    ,callbacks=[tf.keras.callbacks.EarlyStopping(monitor='val_accuracy', patience=2)]\n",
        "                    )\n",
        "Modelcg_Train_Time = datetime.datetime.now()-start\n",
        "print(Modelcg_Train_Time)"
      ],
      "execution_count": null,
      "outputs": [
        {
          "output_type": "stream",
          "text": [
            "Epoch 1/200\n",
            "372/372 [==============================] - 64s 137ms/step - loss: 0.6486 - accuracy: 0.6393 - val_loss: 0.4338 - val_accuracy: 0.8280\n",
            "Epoch 2/200\n",
            "372/372 [==============================] - 48s 127ms/step - loss: 0.3967 - accuracy: 0.8403 - val_loss: 0.3586 - val_accuracy: 0.8504\n",
            "Epoch 3/200\n",
            "372/372 [==============================] - 48s 128ms/step - loss: 0.3510 - accuracy: 0.8648 - val_loss: 0.3449 - val_accuracy: 0.8616\n",
            "Epoch 4/200\n",
            "372/372 [==============================] - 48s 128ms/step - loss: 0.3319 - accuracy: 0.8715 - val_loss: 0.3474 - val_accuracy: 0.8664\n",
            "Epoch 5/200\n",
            "372/372 [==============================] - 48s 127ms/step - loss: 0.3200 - accuracy: 0.8762 - val_loss: 0.3311 - val_accuracy: 0.8672\n",
            "Epoch 6/200\n",
            "372/372 [==============================] - 47s 126ms/step - loss: 0.3155 - accuracy: 0.8755 - val_loss: 0.3301 - val_accuracy: 0.8664\n",
            "Epoch 7/200\n",
            "372/372 [==============================] - 47s 126ms/step - loss: 0.3103 - accuracy: 0.8772 - val_loss: 0.3321 - val_accuracy: 0.8680\n",
            "Epoch 8/200\n",
            "372/372 [==============================] - 48s 126ms/step - loss: 0.3018 - accuracy: 0.8813 - val_loss: 0.3901 - val_accuracy: 0.8256\n",
            "Epoch 9/200\n",
            "372/372 [==============================] - 48s 127ms/step - loss: 0.2990 - accuracy: 0.8835 - val_loss: 0.3310 - val_accuracy: 0.8648\n",
            "0:10:11.789959\n"
          ],
          "name": "stdout"
        }
      ]
    },
    {
      "cell_type": "code",
      "metadata": {
        "colab": {
          "base_uri": "https://localhost:8080/"
        },
        "id": "-nbd7-jpA9pT",
        "outputId": "b0715433-9c37-4c82-a619-9fcc150200b5"
      },
      "source": [
        "test_loss, test_acc = modelcg.evaluate(test_dataset)\n",
        "\n",
        "print('Test Loss: {}'.format(test_loss))\n",
        "print('Test Accuracy: {}'.format(test_acc))"
      ],
      "execution_count": null,
      "outputs": [
        {
          "output_type": "stream",
          "text": [
            "391/391 [==============================] - 25s 65ms/step - loss: 0.3307 - accuracy: 0.8619\n",
            "Test Loss: 0.3306925892829895\n",
            "Test Accuracy: 0.8619199991226196\n"
          ],
          "name": "stdout"
        }
      ]
    },
    {
      "cell_type": "code",
      "metadata": {
        "colab": {
          "base_uri": "https://localhost:8080/"
        },
        "id": "E4qkMbpyBA-H",
        "outputId": "df112ea0-365f-4c80-c738-479502bf6ca9"
      },
      "source": [
        "history_dictcg = historycg.history\n",
        "history_dictcg.keys()"
      ],
      "execution_count": null,
      "outputs": [
        {
          "output_type": "execute_result",
          "data": {
            "text/plain": [
              "dict_keys(['loss', 'accuracy', 'val_loss', 'val_accuracy'])"
            ]
          },
          "metadata": {},
          "execution_count": 118
        }
      ]
    },
    {
      "cell_type": "code",
      "metadata": {
        "colab": {
          "base_uri": "https://localhost:8080/",
          "height": 326
        },
        "id": "VwAlBRIdBDdY",
        "outputId": "1f63ff79-c5dd-4132-ccde-9b3a08cfb74e"
      },
      "source": [
        "history_dfcg = pd.DataFrame(history_dictcg)\n",
        "history_dfcg.tail(10).round(3)"
      ],
      "execution_count": null,
      "outputs": [
        {
          "output_type": "execute_result",
          "data": {
            "text/html": [
              "<div>\n",
              "<style scoped>\n",
              "    .dataframe tbody tr th:only-of-type {\n",
              "        vertical-align: middle;\n",
              "    }\n",
              "\n",
              "    .dataframe tbody tr th {\n",
              "        vertical-align: top;\n",
              "    }\n",
              "\n",
              "    .dataframe thead th {\n",
              "        text-align: right;\n",
              "    }\n",
              "</style>\n",
              "<table border=\"1\" class=\"dataframe\">\n",
              "  <thead>\n",
              "    <tr style=\"text-align: right;\">\n",
              "      <th></th>\n",
              "      <th>loss</th>\n",
              "      <th>accuracy</th>\n",
              "      <th>val_loss</th>\n",
              "      <th>val_accuracy</th>\n",
              "    </tr>\n",
              "  </thead>\n",
              "  <tbody>\n",
              "    <tr>\n",
              "      <th>0</th>\n",
              "      <td>0.649</td>\n",
              "      <td>0.639</td>\n",
              "      <td>0.434</td>\n",
              "      <td>0.828</td>\n",
              "    </tr>\n",
              "    <tr>\n",
              "      <th>1</th>\n",
              "      <td>0.397</td>\n",
              "      <td>0.840</td>\n",
              "      <td>0.359</td>\n",
              "      <td>0.850</td>\n",
              "    </tr>\n",
              "    <tr>\n",
              "      <th>2</th>\n",
              "      <td>0.351</td>\n",
              "      <td>0.865</td>\n",
              "      <td>0.345</td>\n",
              "      <td>0.862</td>\n",
              "    </tr>\n",
              "    <tr>\n",
              "      <th>3</th>\n",
              "      <td>0.332</td>\n",
              "      <td>0.871</td>\n",
              "      <td>0.347</td>\n",
              "      <td>0.866</td>\n",
              "    </tr>\n",
              "    <tr>\n",
              "      <th>4</th>\n",
              "      <td>0.320</td>\n",
              "      <td>0.876</td>\n",
              "      <td>0.331</td>\n",
              "      <td>0.867</td>\n",
              "    </tr>\n",
              "    <tr>\n",
              "      <th>5</th>\n",
              "      <td>0.315</td>\n",
              "      <td>0.875</td>\n",
              "      <td>0.330</td>\n",
              "      <td>0.866</td>\n",
              "    </tr>\n",
              "    <tr>\n",
              "      <th>6</th>\n",
              "      <td>0.310</td>\n",
              "      <td>0.877</td>\n",
              "      <td>0.332</td>\n",
              "      <td>0.868</td>\n",
              "    </tr>\n",
              "    <tr>\n",
              "      <th>7</th>\n",
              "      <td>0.302</td>\n",
              "      <td>0.881</td>\n",
              "      <td>0.390</td>\n",
              "      <td>0.826</td>\n",
              "    </tr>\n",
              "    <tr>\n",
              "      <th>8</th>\n",
              "      <td>0.299</td>\n",
              "      <td>0.883</td>\n",
              "      <td>0.331</td>\n",
              "      <td>0.865</td>\n",
              "    </tr>\n",
              "  </tbody>\n",
              "</table>\n",
              "</div>"
            ],
            "text/plain": [
              "    loss  accuracy  val_loss  val_accuracy\n",
              "0  0.649     0.639     0.434         0.828\n",
              "1  0.397     0.840     0.359         0.850\n",
              "2  0.351     0.865     0.345         0.862\n",
              "3  0.332     0.871     0.347         0.866\n",
              "4  0.320     0.876     0.331         0.867\n",
              "5  0.315     0.875     0.330         0.866\n",
              "6  0.310     0.877     0.332         0.868\n",
              "7  0.302     0.881     0.390         0.826\n",
              "8  0.299     0.883     0.331         0.865"
            ]
          },
          "metadata": {},
          "execution_count": 119
        }
      ]
    },
    {
      "cell_type": "code",
      "metadata": {
        "colab": {
          "base_uri": "https://localhost:8080/"
        },
        "id": "ofvA6dkeBF4p",
        "outputId": "2e895c82-ff33-4dd5-e172-0a8e2025d10a"
      },
      "source": [
        "modelcg.summary()"
      ],
      "execution_count": null,
      "outputs": [
        {
          "output_type": "stream",
          "text": [
            "Model: \"sequential_8\"\n",
            "_________________________________________________________________\n",
            "Layer (type)                 Output Shape              Param #   \n",
            "=================================================================\n",
            "text_vectorization_2 (TextVe (None, None)              0         \n",
            "_________________________________________________________________\n",
            "embedding_8 (Embedding)      (None, None, 64)          64000     \n",
            "_________________________________________________________________\n",
            "bidirectional_6 (Bidirection (None, None, 128)         66048     \n",
            "_________________________________________________________________\n",
            "bidirectional_7 (Bidirection (None, 64)                41216     \n",
            "_________________________________________________________________\n",
            "dense_17 (Dense)             (None, 64)                4160      \n",
            "_________________________________________________________________\n",
            "dropout_4 (Dropout)          (None, 64)                0         \n",
            "_________________________________________________________________\n",
            "dense_18 (Dense)             (None, 32)                2080      \n",
            "_________________________________________________________________\n",
            "dense_19 (Dense)             (None, 2)                 66        \n",
            "=================================================================\n",
            "Total params: 177,570\n",
            "Trainable params: 177,570\n",
            "Non-trainable params: 0\n",
            "_________________________________________________________________\n"
          ],
          "name": "stdout"
        }
      ]
    },
    {
      "cell_type": "markdown",
      "metadata": {
        "id": "APnDW9A1BS2h"
      },
      "source": [
        "## Experiment C-h: LSTM - Bidirectional - 2 Layer with Dropout and L1 L2 Regularization"
      ]
    },
    {
      "cell_type": "code",
      "metadata": {
        "id": "RBj_C5CVBIRY"
      },
      "source": [
        "num_classes = 2\n",
        "\n",
        "modelch = tf.keras.Sequential([\n",
        "                              encoder\n",
        "                              ,tf.keras.layers.Embedding(len(encoder.get_vocabulary()), 64, mask_zero=True)\n",
        "                              ,tf.keras.layers.Bidirectional(tf.keras.layers.LSTM(64,  return_sequences=True))\n",
        "                              ,tf.keras.layers.Bidirectional(tf.keras.layers.LSTM(32))\n",
        "                              ,tf.keras.layers.Dense(64, activation='relu')\n",
        "                              ,tf.keras.layers.Dropout(0.50)\n",
        "                              ,tf.keras.layers.Dense(62, activation='relu',kernel_regularizer=tf.keras.regularizers.L1L2(0.001))\n",
        "                              ,tf.keras.layers.Dense(num_classes,activation='softmax')   # not binary since there are num_classes categories\n",
        "])"
      ],
      "execution_count": null,
      "outputs": []
    },
    {
      "cell_type": "code",
      "metadata": {
        "id": "RqX4qzjDBewb"
      },
      "source": [
        "modelch.compile(optimizer=tf.keras.optimizers.Adam(1e-4)\n",
        "              ,loss=tf.keras.losses.SparseCategoricalCrossentropy() # if we set from_logits=True we don not have specify a softmax activation function in the last layer\n",
        "              ,metrics=['accuracy'])"
      ],
      "execution_count": null,
      "outputs": []
    },
    {
      "cell_type": "code",
      "metadata": {
        "colab": {
          "base_uri": "https://localhost:8080/"
        },
        "id": "xDBKtZn0Bhan",
        "outputId": "ba440a46-c33b-4188-9836-5561a08c91cc"
      },
      "source": [
        "start = datetime.datetime.now()\n",
        "historych = modelch.fit(train_dataset\n",
        "                    ,epochs = 200\n",
        "                    ,validation_data=validation_dataset\n",
        "                    ,callbacks=[tf.keras.callbacks.EarlyStopping(monitor='val_accuracy', patience=2)]\n",
        "                    )\n",
        "Modelch_Train_Time = datetime.datetime.now()-start\n",
        "print(Modelch_Train_Time)"
      ],
      "execution_count": null,
      "outputs": [
        {
          "output_type": "stream",
          "text": [
            "Epoch 1/200\n",
            "372/372 [==============================] - 189s 448ms/step - loss: 1.0076 - accuracy: 0.6181 - val_loss: 0.7815 - val_accuracy: 0.7688\n",
            "Epoch 2/200\n",
            "372/372 [==============================] - 160s 428ms/step - loss: 0.6623 - accuracy: 0.8317 - val_loss: 0.5767 - val_accuracy: 0.8488\n",
            "Epoch 3/200\n",
            "372/372 [==============================] - 156s 417ms/step - loss: 0.5332 - accuracy: 0.8604 - val_loss: 0.4786 - val_accuracy: 0.8648\n",
            "Epoch 4/200\n",
            "372/372 [==============================] - 159s 425ms/step - loss: 0.4582 - accuracy: 0.8680 - val_loss: 0.4273 - val_accuracy: 0.8616\n",
            "Epoch 5/200\n",
            "372/372 [==============================] - 156s 416ms/step - loss: 0.4089 - accuracy: 0.8735 - val_loss: 0.3878 - val_accuracy: 0.8704\n",
            "Epoch 6/200\n",
            "372/372 [==============================] - 157s 419ms/step - loss: 0.3780 - accuracy: 0.8755 - val_loss: 0.3883 - val_accuracy: 0.8640\n",
            "Epoch 7/200\n",
            "372/372 [==============================] - 156s 416ms/step - loss: 0.3577 - accuracy: 0.8775 - val_loss: 0.3597 - val_accuracy: 0.8640\n",
            "0:20:53.724666\n"
          ],
          "name": "stdout"
        }
      ]
    },
    {
      "cell_type": "code",
      "metadata": {
        "colab": {
          "base_uri": "https://localhost:8080/"
        },
        "id": "J9TN2AO3BkpE",
        "outputId": "fbe52795-ff2d-4de4-949d-215c2d9e1be5"
      },
      "source": [
        "test_loss, test_acc = modelch.evaluate(test_dataset)\n",
        "\n",
        "print('Test Loss: {}'.format(test_loss))\n",
        "print('Test Accuracy: {}'.format(test_acc))"
      ],
      "execution_count": null,
      "outputs": [
        {
          "output_type": "stream",
          "text": [
            "391/391 [==============================] - 82s 211ms/step - loss: 0.3602 - accuracy: 0.8654\n",
            "Test Loss: 0.36019179224967957\n",
            "Test Accuracy: 0.8654400110244751\n"
          ],
          "name": "stdout"
        }
      ]
    },
    {
      "cell_type": "code",
      "metadata": {
        "colab": {
          "base_uri": "https://localhost:8080/"
        },
        "id": "xB3yzQM7CloQ",
        "outputId": "21f1294d-f6e0-484c-896d-75361b9a5543"
      },
      "source": [
        "history_dictch = historych.history\n",
        "history_dictch.keys()"
      ],
      "execution_count": null,
      "outputs": [
        {
          "output_type": "execute_result",
          "data": {
            "text/plain": [
              "dict_keys(['loss', 'accuracy', 'val_loss', 'val_accuracy'])"
            ]
          },
          "metadata": {},
          "execution_count": 47
        }
      ]
    },
    {
      "cell_type": "code",
      "metadata": {
        "colab": {
          "base_uri": "https://localhost:8080/",
          "height": 265
        },
        "id": "amlcdIVBD0iI",
        "outputId": "51a27ddd-aee2-400d-be95-cb9aec9a9f15"
      },
      "source": [
        "history_dfch = pd.DataFrame(history_dictch)\n",
        "history_dfch.tail(10).round(3)"
      ],
      "execution_count": null,
      "outputs": [
        {
          "output_type": "execute_result",
          "data": {
            "text/html": [
              "<div>\n",
              "<style scoped>\n",
              "    .dataframe tbody tr th:only-of-type {\n",
              "        vertical-align: middle;\n",
              "    }\n",
              "\n",
              "    .dataframe tbody tr th {\n",
              "        vertical-align: top;\n",
              "    }\n",
              "\n",
              "    .dataframe thead th {\n",
              "        text-align: right;\n",
              "    }\n",
              "</style>\n",
              "<table border=\"1\" class=\"dataframe\">\n",
              "  <thead>\n",
              "    <tr style=\"text-align: right;\">\n",
              "      <th></th>\n",
              "      <th>loss</th>\n",
              "      <th>accuracy</th>\n",
              "      <th>val_loss</th>\n",
              "      <th>val_accuracy</th>\n",
              "    </tr>\n",
              "  </thead>\n",
              "  <tbody>\n",
              "    <tr>\n",
              "      <th>0</th>\n",
              "      <td>1.008</td>\n",
              "      <td>0.618</td>\n",
              "      <td>0.782</td>\n",
              "      <td>0.769</td>\n",
              "    </tr>\n",
              "    <tr>\n",
              "      <th>1</th>\n",
              "      <td>0.662</td>\n",
              "      <td>0.832</td>\n",
              "      <td>0.577</td>\n",
              "      <td>0.849</td>\n",
              "    </tr>\n",
              "    <tr>\n",
              "      <th>2</th>\n",
              "      <td>0.533</td>\n",
              "      <td>0.860</td>\n",
              "      <td>0.479</td>\n",
              "      <td>0.865</td>\n",
              "    </tr>\n",
              "    <tr>\n",
              "      <th>3</th>\n",
              "      <td>0.458</td>\n",
              "      <td>0.868</td>\n",
              "      <td>0.427</td>\n",
              "      <td>0.862</td>\n",
              "    </tr>\n",
              "    <tr>\n",
              "      <th>4</th>\n",
              "      <td>0.409</td>\n",
              "      <td>0.873</td>\n",
              "      <td>0.388</td>\n",
              "      <td>0.870</td>\n",
              "    </tr>\n",
              "    <tr>\n",
              "      <th>5</th>\n",
              "      <td>0.378</td>\n",
              "      <td>0.875</td>\n",
              "      <td>0.388</td>\n",
              "      <td>0.864</td>\n",
              "    </tr>\n",
              "    <tr>\n",
              "      <th>6</th>\n",
              "      <td>0.358</td>\n",
              "      <td>0.878</td>\n",
              "      <td>0.360</td>\n",
              "      <td>0.864</td>\n",
              "    </tr>\n",
              "  </tbody>\n",
              "</table>\n",
              "</div>"
            ],
            "text/plain": [
              "    loss  accuracy  val_loss  val_accuracy\n",
              "0  1.008     0.618     0.782         0.769\n",
              "1  0.662     0.832     0.577         0.849\n",
              "2  0.533     0.860     0.479         0.865\n",
              "3  0.458     0.868     0.427         0.862\n",
              "4  0.409     0.873     0.388         0.870\n",
              "5  0.378     0.875     0.388         0.864\n",
              "6  0.358     0.878     0.360         0.864"
            ]
          },
          "metadata": {},
          "execution_count": 48
        }
      ]
    },
    {
      "cell_type": "code",
      "metadata": {
        "colab": {
          "base_uri": "https://localhost:8080/"
        },
        "id": "sJxEHtICD4fL",
        "outputId": "5f1f265a-3d90-4c2f-92ff-c79b77655353"
      },
      "source": [
        "modelch.summary()"
      ],
      "execution_count": null,
      "outputs": [
        {
          "output_type": "stream",
          "text": [
            "Model: \"sequential\"\n",
            "_________________________________________________________________\n",
            "Layer (type)                 Output Shape              Param #   \n",
            "=================================================================\n",
            "text_vectorization_2 (TextVe (None, None)              0         \n",
            "_________________________________________________________________\n",
            "embedding (Embedding)        (None, None, 64)          64000     \n",
            "_________________________________________________________________\n",
            "bidirectional (Bidirectional (None, None, 128)         66048     \n",
            "_________________________________________________________________\n",
            "bidirectional_1 (Bidirection (None, 64)                41216     \n",
            "_________________________________________________________________\n",
            "dense (Dense)                (None, 64)                4160      \n",
            "_________________________________________________________________\n",
            "dropout (Dropout)            (None, 64)                0         \n",
            "_________________________________________________________________\n",
            "dense_1 (Dense)              (None, 62)                4030      \n",
            "_________________________________________________________________\n",
            "dense_2 (Dense)              (None, 2)                 126       \n",
            "=================================================================\n",
            "Total params: 179,580\n",
            "Trainable params: 179,580\n",
            "Non-trainable params: 0\n",
            "_________________________________________________________________\n"
          ],
          "name": "stdout"
        }
      ]
    },
    {
      "cell_type": "code",
      "metadata": {
        "colab": {
          "base_uri": "https://localhost:8080/",
          "height": 976
        },
        "id": "s93mb1EwO7WF",
        "outputId": "3cb4e3b9-8cdc-45ae-ab50-febfb3bb7b10"
      },
      "source": [
        "keras.utils.plot_model(modelch, \"2Layer_BiDirectionalLSTM.png\", show_shapes=True)"
      ],
      "execution_count": null,
      "outputs": [
        {
          "output_type": "execute_result",
          "data": {
            "image/png": "[encoded data removed]",
            "text/plain": [
              "<IPython.core.display.Image object>"
            ]
          },
          "metadata": {},
          "execution_count": 50
        }
      ]
    },
    {
      "cell_type": "markdown",
      "metadata": {
        "id": "_JF_uHuWPN6D"
      },
      "source": [
        "## Plotting Performance Metrics - Multi-Layer Bidirectional RNN"
      ]
    },
    {
      "cell_type": "markdown",
      "metadata": {
        "id": "BuIS_bniPN6D"
      },
      "source": [
        "We use Matplotlib to create 2 plots--displaying the training and validation loss (resp. accuracy) for each (training) epoch side by side."
      ]
    },
    {
      "cell_type": "code",
      "metadata": {
        "colab": {
          "base_uri": "https://localhost:8080/"
        },
        "id": "guL-ukyRPN6D",
        "outputId": "56dd7d6a-b809-4f97-cb91-42968e4d1304"
      },
      "source": [
        "history_dictch = historych.history\n",
        "history_dictch.keys()"
      ],
      "execution_count": null,
      "outputs": [
        {
          "output_type": "execute_result",
          "data": {
            "text/plain": [
              "dict_keys(['loss', 'accuracy', 'val_loss', 'val_accuracy'])"
            ]
          },
          "metadata": {},
          "execution_count": 51
        }
      ]
    },
    {
      "cell_type": "code",
      "metadata": {
        "colab": {
          "base_uri": "https://localhost:8080/",
          "height": 204
        },
        "id": "rfkneHWDPN6D",
        "outputId": "d3cf98d7-5c2c-4524-ef7b-264389d797ba"
      },
      "source": [
        "historych_df=pd.DataFrame(history_dictch)\n",
        "historych_df.tail().round(3)"
      ],
      "execution_count": null,
      "outputs": [
        {
          "output_type": "execute_result",
          "data": {
            "text/html": [
              "<div>\n",
              "<style scoped>\n",
              "    .dataframe tbody tr th:only-of-type {\n",
              "        vertical-align: middle;\n",
              "    }\n",
              "\n",
              "    .dataframe tbody tr th {\n",
              "        vertical-align: top;\n",
              "    }\n",
              "\n",
              "    .dataframe thead th {\n",
              "        text-align: right;\n",
              "    }\n",
              "</style>\n",
              "<table border=\"1\" class=\"dataframe\">\n",
              "  <thead>\n",
              "    <tr style=\"text-align: right;\">\n",
              "      <th></th>\n",
              "      <th>loss</th>\n",
              "      <th>accuracy</th>\n",
              "      <th>val_loss</th>\n",
              "      <th>val_accuracy</th>\n",
              "    </tr>\n",
              "  </thead>\n",
              "  <tbody>\n",
              "    <tr>\n",
              "      <th>2</th>\n",
              "      <td>0.533</td>\n",
              "      <td>0.860</td>\n",
              "      <td>0.479</td>\n",
              "      <td>0.865</td>\n",
              "    </tr>\n",
              "    <tr>\n",
              "      <th>3</th>\n",
              "      <td>0.458</td>\n",
              "      <td>0.868</td>\n",
              "      <td>0.427</td>\n",
              "      <td>0.862</td>\n",
              "    </tr>\n",
              "    <tr>\n",
              "      <th>4</th>\n",
              "      <td>0.409</td>\n",
              "      <td>0.873</td>\n",
              "      <td>0.388</td>\n",
              "      <td>0.870</td>\n",
              "    </tr>\n",
              "    <tr>\n",
              "      <th>5</th>\n",
              "      <td>0.378</td>\n",
              "      <td>0.875</td>\n",
              "      <td>0.388</td>\n",
              "      <td>0.864</td>\n",
              "    </tr>\n",
              "    <tr>\n",
              "      <th>6</th>\n",
              "      <td>0.358</td>\n",
              "      <td>0.878</td>\n",
              "      <td>0.360</td>\n",
              "      <td>0.864</td>\n",
              "    </tr>\n",
              "  </tbody>\n",
              "</table>\n",
              "</div>"
            ],
            "text/plain": [
              "    loss  accuracy  val_loss  val_accuracy\n",
              "2  0.533     0.860     0.479         0.865\n",
              "3  0.458     0.868     0.427         0.862\n",
              "4  0.409     0.873     0.388         0.870\n",
              "5  0.378     0.875     0.388         0.864\n",
              "6  0.358     0.878     0.360         0.864"
            ]
          },
          "metadata": {},
          "execution_count": 52
        }
      ]
    },
    {
      "cell_type": "code",
      "metadata": {
        "id": "wvHRnvtjPN6D"
      },
      "source": [
        "losses = historych.history['loss']\n",
        "accs = historych.history['accuracy']\n",
        "val_losses = historych.history['val_loss']\n",
        "val_accs = historych.history['val_accuracy']\n",
        "epochs = len(losses)"
      ],
      "execution_count": null,
      "outputs": []
    },
    {
      "cell_type": "code",
      "metadata": {
        "colab": {
          "base_uri": "https://localhost:8080/",
          "height": 265
        },
        "id": "oeWyZh0lPN6E",
        "outputId": "84b4b9f3-4d7b-4431-cbf9-c64328f0b93d"
      },
      "source": [
        "plt.figure(figsize=(16, 4))\n",
        "for i, metrics in enumerate(zip([losses, accs], [val_losses, val_accs], ['Loss', 'Accuracy'])):\n",
        "    plt.subplot(1, 2, i + 1)\n",
        "    plt.plot(range(epochs), metrics[0], label='Training {}'.format(metrics[2]))\n",
        "    plt.plot(range(epochs), metrics[1], label='Validation {}'.format(metrics[2]))\n",
        "    plt.legend()\n",
        "plt.show()"
      ],
      "execution_count": null,
      "outputs": [
        {
          "output_type": "display_data",
          "data": {
            "image/png": "[encoded data removed]",
            "text/plain": [
              "<Figure size 1152x288 with 2 Axes>"
            ]
          },
          "metadata": {
            "needs_background": "light"
          }
        }
      ]
    },
    {
      "cell_type": "markdown",
      "metadata": {
        "id": "L7ArrnkvPN6E"
      },
      "source": [
        "### Confusion Matrix"
      ]
    },
    {
      "cell_type": "code",
      "metadata": {
        "id": "BGo-oz0qPN6E"
      },
      "source": [
        "preds = modelch.predict(test_dataset)"
      ],
      "execution_count": null,
      "outputs": []
    },
    {
      "cell_type": "code",
      "metadata": {
        "colab": {
          "base_uri": "https://localhost:8080/"
        },
        "id": "mQZ5sh9mPN6E",
        "outputId": "730dc233-53a1-4a18-fc03-d7993aa9fd16"
      },
      "source": [
        "preds.shape"
      ],
      "execution_count": null,
      "outputs": [
        {
          "output_type": "execute_result",
          "data": {
            "text/plain": [
              "(25000, 2)"
            ]
          },
          "metadata": {},
          "execution_count": 56
        }
      ]
    },
    {
      "cell_type": "code",
      "metadata": {
        "id": "KEP1VQflPN6E"
      },
      "source": [
        "cm = sns.light_palette((260, 75, 60), input=\"husl\", as_cmap=True)"
      ],
      "execution_count": null,
      "outputs": []
    },
    {
      "cell_type": "code",
      "metadata": {
        "colab": {
          "base_uri": "https://localhost:8080/",
          "height": 81
        },
        "id": "nHi2a4RdPN6E",
        "outputId": "6c783a50-de1a-4ddf-f5b8-17b6d6cf159d"
      },
      "source": [
        "df = pd.DataFrame(preds[0:15]\n",
        "                  ,columns = ['Positive','Negative']).T  #World','Sports','Business','Sci/Tech'\n",
        "df.style.format(\"{:.2%}\").background_gradient(cmap=cm)"
      ],
      "execution_count": null,
      "outputs": [
        {
          "output_type": "execute_result",
          "data": {
            "text/html": [
              "<style  type=\"text/css\" >\n",
              "#T_e182860e_0726_11ec_a265_0242ac1c0002row0_col0,#T_e182860e_0726_11ec_a265_0242ac1c0002row0_col2,#T_e182860e_0726_11ec_a265_0242ac1c0002row0_col3,#T_e182860e_0726_11ec_a265_0242ac1c0002row0_col10,#T_e182860e_0726_11ec_a265_0242ac1c0002row0_col11,#T_e182860e_0726_11ec_a265_0242ac1c0002row0_col13,#T_e182860e_0726_11ec_a265_0242ac1c0002row1_col1,#T_e182860e_0726_11ec_a265_0242ac1c0002row1_col4,#T_e182860e_0726_11ec_a265_0242ac1c0002row1_col5,#T_e182860e_0726_11ec_a265_0242ac1c0002row1_col6,#T_e182860e_0726_11ec_a265_0242ac1c0002row1_col7,#T_e182860e_0726_11ec_a265_0242ac1c0002row1_col8,#T_e182860e_0726_11ec_a265_0242ac1c0002row1_col9,#T_e182860e_0726_11ec_a265_0242ac1c0002row1_col12,#T_e182860e_0726_11ec_a265_0242ac1c0002row1_col14{\n",
              "            background-color:  #778ce4;\n",
              "            color:  #000000;\n",
              "        }#T_e182860e_0726_11ec_a265_0242ac1c0002row0_col1,#T_e182860e_0726_11ec_a265_0242ac1c0002row0_col4,#T_e182860e_0726_11ec_a265_0242ac1c0002row0_col5,#T_e182860e_0726_11ec_a265_0242ac1c0002row0_col6,#T_e182860e_0726_11ec_a265_0242ac1c0002row0_col7,#T_e182860e_0726_11ec_a265_0242ac1c0002row0_col8,#T_e182860e_0726_11ec_a265_0242ac1c0002row0_col9,#T_e182860e_0726_11ec_a265_0242ac1c0002row0_col12,#T_e182860e_0726_11ec_a265_0242ac1c0002row0_col14,#T_e182860e_0726_11ec_a265_0242ac1c0002row1_col0,#T_e182860e_0726_11ec_a265_0242ac1c0002row1_col2,#T_e182860e_0726_11ec_a265_0242ac1c0002row1_col3,#T_e182860e_0726_11ec_a265_0242ac1c0002row1_col10,#T_e182860e_0726_11ec_a265_0242ac1c0002row1_col11,#T_e182860e_0726_11ec_a265_0242ac1c0002row1_col13{\n",
              "            background-color:  #f0f1f2;\n",
              "            color:  #000000;\n",
              "        }</style><table id=\"T_e182860e_0726_11ec_a265_0242ac1c0002\" ><thead>    <tr>        <th class=\"blank level0\" ></th>        <th class=\"col_heading level0 col0\" >0</th>        <th class=\"col_heading level0 col1\" >1</th>        <th class=\"col_heading level0 col2\" >2</th>        <th class=\"col_heading level0 col3\" >3</th>        <th class=\"col_heading level0 col4\" >4</th>        <th class=\"col_heading level0 col5\" >5</th>        <th class=\"col_heading level0 col6\" >6</th>        <th class=\"col_heading level0 col7\" >7</th>        <th class=\"col_heading level0 col8\" >8</th>        <th class=\"col_heading level0 col9\" >9</th>        <th class=\"col_heading level0 col10\" >10</th>        <th class=\"col_heading level0 col11\" >11</th>        <th class=\"col_heading level0 col12\" >12</th>        <th class=\"col_heading level0 col13\" >13</th>        <th class=\"col_heading level0 col14\" >14</th>    </tr></thead><tbody>\n",
              "                <tr>\n",
              "                        <th id=\"T_e182860e_0726_11ec_a265_0242ac1c0002level0_row0\" class=\"row_heading level0 row0\" >Positive</th>\n",
              "                        <td id=\"T_e182860e_0726_11ec_a265_0242ac1c0002row0_col0\" class=\"data row0 col0\" >69.07%</td>\n",
              "                        <td id=\"T_e182860e_0726_11ec_a265_0242ac1c0002row0_col1\" class=\"data row0 col1\" >5.85%</td>\n",
              "                        <td id=\"T_e182860e_0726_11ec_a265_0242ac1c0002row0_col2\" class=\"data row0 col2\" >95.83%</td>\n",
              "                        <td id=\"T_e182860e_0726_11ec_a265_0242ac1c0002row0_col3\" class=\"data row0 col3\" >91.50%</td>\n",
              "                        <td id=\"T_e182860e_0726_11ec_a265_0242ac1c0002row0_col4\" class=\"data row0 col4\" >4.27%</td>\n",
              "                        <td id=\"T_e182860e_0726_11ec_a265_0242ac1c0002row0_col5\" class=\"data row0 col5\" >3.35%</td>\n",
              "                        <td id=\"T_e182860e_0726_11ec_a265_0242ac1c0002row0_col6\" class=\"data row0 col6\" >0.69%</td>\n",
              "                        <td id=\"T_e182860e_0726_11ec_a265_0242ac1c0002row0_col7\" class=\"data row0 col7\" >1.11%</td>\n",
              "                        <td id=\"T_e182860e_0726_11ec_a265_0242ac1c0002row0_col8\" class=\"data row0 col8\" >13.96%</td>\n",
              "                        <td id=\"T_e182860e_0726_11ec_a265_0242ac1c0002row0_col9\" class=\"data row0 col9\" >39.26%</td>\n",
              "                        <td id=\"T_e182860e_0726_11ec_a265_0242ac1c0002row0_col10\" class=\"data row0 col10\" >95.60%</td>\n",
              "                        <td id=\"T_e182860e_0726_11ec_a265_0242ac1c0002row0_col11\" class=\"data row0 col11\" >76.84%</td>\n",
              "                        <td id=\"T_e182860e_0726_11ec_a265_0242ac1c0002row0_col12\" class=\"data row0 col12\" >21.31%</td>\n",
              "                        <td id=\"T_e182860e_0726_11ec_a265_0242ac1c0002row0_col13\" class=\"data row0 col13\" >92.77%</td>\n",
              "                        <td id=\"T_e182860e_0726_11ec_a265_0242ac1c0002row0_col14\" class=\"data row0 col14\" >19.04%</td>\n",
              "            </tr>\n",
              "            <tr>\n",
              "                        <th id=\"T_e182860e_0726_11ec_a265_0242ac1c0002level0_row1\" class=\"row_heading level0 row1\" >Negative</th>\n",
              "                        <td id=\"T_e182860e_0726_11ec_a265_0242ac1c0002row1_col0\" class=\"data row1 col0\" >30.93%</td>\n",
              "                        <td id=\"T_e182860e_0726_11ec_a265_0242ac1c0002row1_col1\" class=\"data row1 col1\" >94.15%</td>\n",
              "                        <td id=\"T_e182860e_0726_11ec_a265_0242ac1c0002row1_col2\" class=\"data row1 col2\" >4.17%</td>\n",
              "                        <td id=\"T_e182860e_0726_11ec_a265_0242ac1c0002row1_col3\" class=\"data row1 col3\" >8.50%</td>\n",
              "                        <td id=\"T_e182860e_0726_11ec_a265_0242ac1c0002row1_col4\" class=\"data row1 col4\" >95.73%</td>\n",
              "                        <td id=\"T_e182860e_0726_11ec_a265_0242ac1c0002row1_col5\" class=\"data row1 col5\" >96.65%</td>\n",
              "                        <td id=\"T_e182860e_0726_11ec_a265_0242ac1c0002row1_col6\" class=\"data row1 col6\" >99.31%</td>\n",
              "                        <td id=\"T_e182860e_0726_11ec_a265_0242ac1c0002row1_col7\" class=\"data row1 col7\" >98.89%</td>\n",
              "                        <td id=\"T_e182860e_0726_11ec_a265_0242ac1c0002row1_col8\" class=\"data row1 col8\" >86.04%</td>\n",
              "                        <td id=\"T_e182860e_0726_11ec_a265_0242ac1c0002row1_col9\" class=\"data row1 col9\" >60.74%</td>\n",
              "                        <td id=\"T_e182860e_0726_11ec_a265_0242ac1c0002row1_col10\" class=\"data row1 col10\" >4.40%</td>\n",
              "                        <td id=\"T_e182860e_0726_11ec_a265_0242ac1c0002row1_col11\" class=\"data row1 col11\" >23.16%</td>\n",
              "                        <td id=\"T_e182860e_0726_11ec_a265_0242ac1c0002row1_col12\" class=\"data row1 col12\" >78.69%</td>\n",
              "                        <td id=\"T_e182860e_0726_11ec_a265_0242ac1c0002row1_col13\" class=\"data row1 col13\" >7.23%</td>\n",
              "                        <td id=\"T_e182860e_0726_11ec_a265_0242ac1c0002row1_col14\" class=\"data row1 col14\" >80.96%</td>\n",
              "            </tr>\n",
              "    </tbody></table>"
            ],
            "text/plain": [
              "<pandas.io.formats.style.Styler at 0x7f43a69b80d0>"
            ]
          },
          "metadata": {},
          "execution_count": 58
        }
      ]
    },
    {
      "cell_type": "code",
      "metadata": {
        "id": "42bTasrWN-Lk"
      },
      "source": [
        "## kernel_regularizer =tf.keras.regularizers.l2( l=0.01)"
      ],
      "execution_count": null,
      "outputs": []
    },
    {
      "cell_type": "markdown",
      "metadata": {
        "id": "Onx8TG8rhGX8"
      },
      "source": [
        "#====================================="
      ]
    },
    {
      "cell_type": "markdown",
      "metadata": {
        "id": "shGaSXs4hG-D"
      },
      "source": [
        "#Experiment B-a: RNN  - 1 Layer"
      ]
    },
    {
      "cell_type": "code",
      "metadata": {
        "id": "NAN78vdChG-E"
      },
      "source": [
        "modelba = tf.keras.Sequential([\n",
        "                              encoder\n",
        "                              ,tf.keras.layers.Embedding(len(encoder.get_vocabulary()), 64, mask_zero=True)\n",
        "                              ,tf.keras.layers.SimpleRNN(64)\n",
        "                              ,tf.keras.layers.Dense(64, activation='relu')\n",
        "                              ,tf.keras.layers.Dropout(0.2)\n",
        "                              ,tf.keras.layers.Dense(num_classes,activation='softmax')   # not binary since there are num_classes categories\n",
        "])"
      ],
      "execution_count": null,
      "outputs": []
    },
    {
      "cell_type": "code",
      "metadata": {
        "id": "-RrxeeVHhG-E"
      },
      "source": [
        "modelba.compile(optimizer='adam'\n",
        "              ,loss=tf.keras.losses.SparseCategoricalCrossentropy() # if we set from_logits=True we do not have specify a softmax activation function in the last layer\n",
        "              ,metrics=['accuracy'])"
      ],
      "execution_count": null,
      "outputs": []
    },
    {
      "cell_type": "code",
      "metadata": {
        "colab": {
          "base_uri": "https://localhost:8080/"
        },
        "id": "tiaLqwLBhG-E",
        "outputId": "1f38c2cd-29b7-4f5b-84a3-e64e97cf314a"
      },
      "source": [
        "start = datetime.datetime.now()\n",
        "historyba = modelba.fit(train_dataset\n",
        "                    ,epochs=200\n",
        "                    ,validation_data=validation_dataset\n",
        "                    #,validation_steps=30\n",
        "                    ,callbacks=[tf.keras.callbacks.EarlyStopping(monitor='val_accuracy', patience=3)]\n",
        "                    )\n",
        "Modelba_Train_Time = datetime.datetime.now()-start\n",
        "print(Modelba_Train_Time)"
      ],
      "execution_count": null,
      "outputs": [
        {
          "output_type": "stream",
          "text": [
            "Epoch 1/200\n",
            "372/372 [==============================] - 434s 1s/step - loss: 0.6611 - accuracy: 0.5744 - val_loss: 0.6654 - val_accuracy: 0.5816\n",
            "Epoch 2/200\n",
            "372/372 [==============================] - 434s 1s/step - loss: 0.6580 - accuracy: 0.5944 - val_loss: 0.6350 - val_accuracy: 0.6264\n",
            "Epoch 3/200\n",
            "372/372 [==============================] - 433s 1s/step - loss: 0.6226 - accuracy: 0.6433 - val_loss: 0.6185 - val_accuracy: 0.6384\n",
            "Epoch 4/200\n",
            "372/372 [==============================] - 435s 1s/step - loss: 0.6079 - accuracy: 0.6780 - val_loss: 0.6652 - val_accuracy: 0.5992\n",
            "Epoch 5/200\n",
            "372/372 [==============================] - 436s 1s/step - loss: 0.6178 - accuracy: 0.6506 - val_loss: 0.6090 - val_accuracy: 0.6584\n",
            "Epoch 6/200\n",
            "372/372 [==============================] - 428s 1s/step - loss: 0.5554 - accuracy: 0.7113 - val_loss: 0.4938 - val_accuracy: 0.7688\n",
            "Epoch 7/200\n",
            "372/372 [==============================] - 429s 1s/step - loss: 0.4522 - accuracy: 0.7961 - val_loss: 0.4145 - val_accuracy: 0.8256\n",
            "Epoch 8/200\n",
            "372/372 [==============================] - 435s 1s/step - loss: 0.3978 - accuracy: 0.8285 - val_loss: 0.4011 - val_accuracy: 0.8288\n",
            "Epoch 9/200\n",
            "372/372 [==============================] - 433s 1s/step - loss: 0.4062 - accuracy: 0.8290 - val_loss: 0.4471 - val_accuracy: 0.8056\n",
            "Epoch 10/200\n",
            "372/372 [==============================] - 434s 1s/step - loss: 0.3869 - accuracy: 0.8331 - val_loss: 0.6081 - val_accuracy: 0.6656\n",
            "Epoch 11/200\n",
            "372/372 [==============================] - 436s 1s/step - loss: 0.4415 - accuracy: 0.8028 - val_loss: 0.5049 - val_accuracy: 0.8096\n",
            "1:20:10.385124\n"
          ],
          "name": "stdout"
        }
      ]
    },
    {
      "cell_type": "code",
      "metadata": {
        "colab": {
          "base_uri": "https://localhost:8080/"
        },
        "id": "a35XkAx8hG-E",
        "outputId": "65bc5302-c5a2-4718-bfe6-f9bd786e1582"
      },
      "source": [
        "test_loss, test_acc = modelba.evaluate(test_dataset)\n",
        "\n",
        "print('Test Loss: {}'.format(test_loss))\n",
        "print('Test Accuracy: {}'.format(test_acc))"
      ],
      "execution_count": null,
      "outputs": [
        {
          "output_type": "stream",
          "text": [
            "391/391 [==============================] - 35s 90ms/step - loss: 0.4693 - accuracy: 0.8130\n",
            "Test Loss: 0.46925434470176697\n",
            "Test Accuracy: 0.8129600286483765\n"
          ],
          "name": "stdout"
        }
      ]
    },
    {
      "cell_type": "code",
      "metadata": {
        "colab": {
          "base_uri": "https://localhost:8080/"
        },
        "id": "31nZMaY5hG-E",
        "outputId": "df46b2dd-f232-4fba-9c11-c25660b11384"
      },
      "source": [
        "history_dictba = historyba.history\n",
        "history_dictba.keys()"
      ],
      "execution_count": null,
      "outputs": [
        {
          "output_type": "execute_result",
          "data": {
            "text/plain": [
              "dict_keys(['loss', 'accuracy', 'val_loss', 'val_accuracy'])"
            ]
          },
          "metadata": {},
          "execution_count": 102
        }
      ]
    },
    {
      "cell_type": "code",
      "metadata": {
        "colab": {
          "base_uri": "https://localhost:8080/",
          "height": 203
        },
        "id": "d12OkNM9hG-E",
        "outputId": "8b80f4b2-3912-4cb3-831b-808506ab0028"
      },
      "source": [
        "historyba_df=pd.DataFrame(history_dictba)\n",
        "historyba_df.tail().round(3)"
      ],
      "execution_count": null,
      "outputs": [
        {
          "output_type": "execute_result",
          "data": {
            "text/html": [
              "<div>\n",
              "<style scoped>\n",
              "    .dataframe tbody tr th:only-of-type {\n",
              "        vertical-align: middle;\n",
              "    }\n",
              "\n",
              "    .dataframe tbody tr th {\n",
              "        vertical-align: top;\n",
              "    }\n",
              "\n",
              "    .dataframe thead th {\n",
              "        text-align: right;\n",
              "    }\n",
              "</style>\n",
              "<table border=\"1\" class=\"dataframe\">\n",
              "  <thead>\n",
              "    <tr style=\"text-align: right;\">\n",
              "      <th></th>\n",
              "      <th>loss</th>\n",
              "      <th>accuracy</th>\n",
              "      <th>val_loss</th>\n",
              "      <th>val_accuracy</th>\n",
              "    </tr>\n",
              "  </thead>\n",
              "  <tbody>\n",
              "    <tr>\n",
              "      <th>6</th>\n",
              "      <td>0.452</td>\n",
              "      <td>0.796</td>\n",
              "      <td>0.414</td>\n",
              "      <td>0.826</td>\n",
              "    </tr>\n",
              "    <tr>\n",
              "      <th>7</th>\n",
              "      <td>0.398</td>\n",
              "      <td>0.829</td>\n",
              "      <td>0.401</td>\n",
              "      <td>0.829</td>\n",
              "    </tr>\n",
              "    <tr>\n",
              "      <th>8</th>\n",
              "      <td>0.406</td>\n",
              "      <td>0.829</td>\n",
              "      <td>0.447</td>\n",
              "      <td>0.806</td>\n",
              "    </tr>\n",
              "    <tr>\n",
              "      <th>9</th>\n",
              "      <td>0.387</td>\n",
              "      <td>0.833</td>\n",
              "      <td>0.608</td>\n",
              "      <td>0.666</td>\n",
              "    </tr>\n",
              "    <tr>\n",
              "      <th>10</th>\n",
              "      <td>0.442</td>\n",
              "      <td>0.803</td>\n",
              "      <td>0.505</td>\n",
              "      <td>0.810</td>\n",
              "    </tr>\n",
              "  </tbody>\n",
              "</table>\n",
              "</div>"
            ],
            "text/plain": [
              "     loss  accuracy  val_loss  val_accuracy\n",
              "6   0.452     0.796     0.414         0.826\n",
              "7   0.398     0.829     0.401         0.829\n",
              "8   0.406     0.829     0.447         0.806\n",
              "9   0.387     0.833     0.608         0.666\n",
              "10  0.442     0.803     0.505         0.810"
            ]
          },
          "metadata": {},
          "execution_count": 103
        }
      ]
    },
    {
      "cell_type": "code",
      "metadata": {
        "colab": {
          "base_uri": "https://localhost:8080/"
        },
        "id": "TxMVG7-ki5Xz",
        "outputId": "4f0c3dc0-df7f-45fa-f055-4ee27a10c9f1"
      },
      "source": [
        "modelba.summary()"
      ],
      "execution_count": null,
      "outputs": [
        {
          "output_type": "stream",
          "text": [
            "Model: \"sequential_6\"\n",
            "_________________________________________________________________\n",
            "Layer (type)                 Output Shape              Param #   \n",
            "=================================================================\n",
            "text_vectorization_2 (TextVe (None, None)              0         \n",
            "_________________________________________________________________\n",
            "embedding_6 (Embedding)      (None, None, 64)          64000     \n",
            "_________________________________________________________________\n",
            "simple_rnn (SimpleRNN)       (None, 64)                8256      \n",
            "_________________________________________________________________\n",
            "dense_13 (Dense)             (None, 64)                4160      \n",
            "_________________________________________________________________\n",
            "dropout_3 (Dropout)          (None, 64)                0         \n",
            "_________________________________________________________________\n",
            "dense_14 (Dense)             (None, 2)                 130       \n",
            "=================================================================\n",
            "Total params: 76,546\n",
            "Trainable params: 76,546\n",
            "Non-trainable params: 0\n",
            "_________________________________________________________________\n"
          ],
          "name": "stdout"
        }
      ]
    },
    {
      "cell_type": "markdown",
      "metadata": {
        "id": "8o-3Jv-QEFHu"
      },
      "source": [
        "## Experiment B-c: RNN - 1 Layer"
      ]
    },
    {
      "cell_type": "code",
      "metadata": {
        "id": "wukCwyFgEXes"
      },
      "source": [
        "modelbc = tf.keras.Sequential([\n",
        "                              encoder\n",
        "                              ,tf.keras.layers.Embedding(len(encoder.get_vocabulary()), 64, mask_zero=True)\n",
        "                              ,tf.keras.layers.SimpleRNN(64)\n",
        "                              ,tf.keras.layers.Dense(64, activation='relu')\n",
        "                              ,tf.keras.layers.Dropout(0.20)\n",
        "                              ,tf.keras.layers.Dense(64, activation='relu',kernel_regularizer=tf.keras.regularizers.L1(0.001))\n",
        "                              ,tf.keras.layers.Dense(num_classes,activation='softmax')   # not binary since there are num_classes categories\n",
        "])"
      ],
      "execution_count": null,
      "outputs": []
    },
    {
      "cell_type": "code",
      "metadata": {
        "id": "v09EumJ_FCLj"
      },
      "source": [
        "modelbc.compile(optimizer='adam'\n",
        "              ,loss=tf.keras.losses.SparseCategoricalCrossentropy() # if we set from_logits=True we do not have specify a softmax activation function in the last layer\n",
        "              ,metrics=['accuracy'])"
      ],
      "execution_count": null,
      "outputs": []
    },
    {
      "cell_type": "code",
      "metadata": {
        "colab": {
          "base_uri": "https://localhost:8080/"
        },
        "id": "fDqalc5hFI6j",
        "outputId": "a8bae03f-70d3-41c6-f8fb-5997e66fef48"
      },
      "source": [
        "start = datetime.datetime.now()\n",
        "historybc = modelbc.fit(train_dataset\n",
        "                    ,epochs=200\n",
        "                    ,validation_data=validation_dataset\n",
        "                    #,validation_steps=30\n",
        "                    ,callbacks=[tf.keras.callbacks.EarlyStopping(monitor='val_accuracy', patience=3)]\n",
        "                    )\n",
        "Modelbc_Train_Time = datetime.datetime.now()-start\n",
        "print(Modelbc_Train_Time)"
      ],
      "execution_count": null,
      "outputs": [
        {
          "output_type": "stream",
          "text": [
            "Epoch 1/200\n",
            "372/372 [==============================] - 436s 1s/step - loss: 0.8458 - accuracy: 0.5101 - val_loss: 0.7263 - val_accuracy: 0.5424\n",
            "Epoch 2/200\n",
            "372/372 [==============================] - 435s 1s/step - loss: 0.7134 - accuracy: 0.5046 - val_loss: 0.7005 - val_accuracy: 0.5384\n",
            "Epoch 3/200\n",
            "372/372 [==============================] - 430s 1s/step - loss: 0.6984 - accuracy: 0.5109 - val_loss: 0.6962 - val_accuracy: 0.4856\n",
            "Epoch 4/200\n",
            "372/372 [==============================] - 433s 1s/step - loss: 0.6949 - accuracy: 0.5105 - val_loss: 0.6934 - val_accuracy: 0.5384\n",
            "0:29:01.009529\n"
          ],
          "name": "stdout"
        }
      ]
    },
    {
      "cell_type": "code",
      "metadata": {
        "colab": {
          "base_uri": "https://localhost:8080/"
        },
        "id": "un4XbKy-FSKg",
        "outputId": "4b65f562-e1b8-4f69-da0b-1f0c4c55413c"
      },
      "source": [
        "test_loss, test_acc = modelbc.evaluate(test_dataset)\n",
        "\n",
        "print('Test Loss: {}'.format(test_loss))\n",
        "print('Test Accuracy: {}'.format(test_acc))"
      ],
      "execution_count": null,
      "outputs": [
        {
          "output_type": "stream",
          "text": [
            "391/391 [==============================] - 35s 89ms/step - loss: 0.6949 - accuracy: 0.5083\n",
            "Test Loss: 0.6948842406272888\n",
            "Test Accuracy: 0.5083199739456177\n"
          ],
          "name": "stdout"
        }
      ]
    },
    {
      "cell_type": "code",
      "metadata": {
        "colab": {
          "base_uri": "https://localhost:8080/"
        },
        "id": "iMAPXvNFFeqB",
        "outputId": "ab5650e5-83c8-44c2-e322-f3b983633858"
      },
      "source": [
        "history_dictbc = historybc.history\n",
        "history_dictbc.keys()"
      ],
      "execution_count": null,
      "outputs": [
        {
          "output_type": "execute_result",
          "data": {
            "text/plain": [
              "dict_keys(['loss', 'accuracy', 'val_loss', 'val_accuracy'])"
            ]
          },
          "metadata": {},
          "execution_count": 132
        }
      ]
    },
    {
      "cell_type": "code",
      "metadata": {
        "colab": {
          "base_uri": "https://localhost:8080/",
          "height": 172
        },
        "id": "FQmogTVnFl9L",
        "outputId": "34b69e7d-a011-474c-a230-2775c77a7be2"
      },
      "source": [
        "historybc_df=pd.DataFrame(history_dictbc)\n",
        "historybc_df.tail().round(3)"
      ],
      "execution_count": null,
      "outputs": [
        {
          "output_type": "execute_result",
          "data": {
            "text/html": [
              "<div>\n",
              "<style scoped>\n",
              "    .dataframe tbody tr th:only-of-type {\n",
              "        vertical-align: middle;\n",
              "    }\n",
              "\n",
              "    .dataframe tbody tr th {\n",
              "        vertical-align: top;\n",
              "    }\n",
              "\n",
              "    .dataframe thead th {\n",
              "        text-align: right;\n",
              "    }\n",
              "</style>\n",
              "<table border=\"1\" class=\"dataframe\">\n",
              "  <thead>\n",
              "    <tr style=\"text-align: right;\">\n",
              "      <th></th>\n",
              "      <th>loss</th>\n",
              "      <th>accuracy</th>\n",
              "      <th>val_loss</th>\n",
              "      <th>val_accuracy</th>\n",
              "    </tr>\n",
              "  </thead>\n",
              "  <tbody>\n",
              "    <tr>\n",
              "      <th>0</th>\n",
              "      <td>0.846</td>\n",
              "      <td>0.510</td>\n",
              "      <td>0.726</td>\n",
              "      <td>0.542</td>\n",
              "    </tr>\n",
              "    <tr>\n",
              "      <th>1</th>\n",
              "      <td>0.713</td>\n",
              "      <td>0.505</td>\n",
              "      <td>0.700</td>\n",
              "      <td>0.538</td>\n",
              "    </tr>\n",
              "    <tr>\n",
              "      <th>2</th>\n",
              "      <td>0.698</td>\n",
              "      <td>0.511</td>\n",
              "      <td>0.696</td>\n",
              "      <td>0.486</td>\n",
              "    </tr>\n",
              "    <tr>\n",
              "      <th>3</th>\n",
              "      <td>0.695</td>\n",
              "      <td>0.511</td>\n",
              "      <td>0.693</td>\n",
              "      <td>0.538</td>\n",
              "    </tr>\n",
              "  </tbody>\n",
              "</table>\n",
              "</div>"
            ],
            "text/plain": [
              "    loss  accuracy  val_loss  val_accuracy\n",
              "0  0.846     0.510     0.726         0.542\n",
              "1  0.713     0.505     0.700         0.538\n",
              "2  0.698     0.511     0.696         0.486\n",
              "3  0.695     0.511     0.693         0.538"
            ]
          },
          "metadata": {},
          "execution_count": 133
        }
      ]
    },
    {
      "cell_type": "code",
      "metadata": {
        "colab": {
          "base_uri": "https://localhost:8080/"
        },
        "id": "X-02wC-YFoSO",
        "outputId": "298e0b96-74f2-450a-8d39-8b61f23b99e0"
      },
      "source": [
        "modelbc.summary()"
      ],
      "execution_count": null,
      "outputs": [
        {
          "output_type": "stream",
          "text": [
            "Model: \"sequential_10\"\n",
            "_________________________________________________________________\n",
            "Layer (type)                 Output Shape              Param #   \n",
            "=================================================================\n",
            "text_vectorization_2 (TextVe (None, None)              0         \n",
            "_________________________________________________________________\n",
            "embedding_10 (Embedding)     (None, None, 64)          64000     \n",
            "_________________________________________________________________\n",
            "simple_rnn_2 (SimpleRNN)     (None, 64)                8256      \n",
            "_________________________________________________________________\n",
            "dense_23 (Dense)             (None, 64)                4160      \n",
            "_________________________________________________________________\n",
            "dropout_6 (Dropout)          (None, 64)                0         \n",
            "_________________________________________________________________\n",
            "dense_24 (Dense)             (None, 64)                4160      \n",
            "_________________________________________________________________\n",
            "dense_25 (Dense)             (None, 2)                 130       \n",
            "=================================================================\n",
            "Total params: 80,706\n",
            "Trainable params: 80,706\n",
            "Non-trainable params: 0\n",
            "_________________________________________________________________\n"
          ],
          "name": "stdout"
        }
      ]
    },
    {
      "cell_type": "markdown",
      "metadata": {
        "id": "mShOwCion-Of"
      },
      "source": [
        "#Experiment B-b: RNN  - 2 Layer - Unidirectional without Regularization"
      ]
    },
    {
      "cell_type": "code",
      "metadata": {
        "id": "6ea23v2Kn-Of"
      },
      "source": [
        "modelbb = tf.keras.Sequential([\n",
        "                              encoder\n",
        "                              ,tf.keras.layers.Embedding(len(encoder.get_vocabulary()), 64, mask_zero=True)\n",
        "                              ,tf.keras.layers.SimpleRNN(64)\n",
        "                              ,tf.keras.layers.Dense(64, activation='relu')\n",
        "                              ,tf.keras.layers.Dense(num_classes,activation='softmax')   # not binary since there are num_classes categories\n",
        "])"
      ],
      "execution_count": null,
      "outputs": []
    },
    {
      "cell_type": "code",
      "metadata": {
        "id": "9-kgQP5wn-Of"
      },
      "source": [
        "modelbb.compile(optimizer='adam'\n",
        "              ,loss=tf.keras.losses.SparseCategoricalCrossentropy() # if we set from_logits=True we do not have specify a softmax activation function in the last layer\n",
        "              ,metrics=['accuracy'])"
      ],
      "execution_count": null,
      "outputs": []
    },
    {
      "cell_type": "code",
      "metadata": {
        "colab": {
          "base_uri": "https://localhost:8080/"
        },
        "id": "zkN8FML3n-Of",
        "outputId": "98068765-5ed4-4543-c29b-66aa06b4483c"
      },
      "source": [
        "start = datetime.datetime.now()\n",
        "historybb = modelbb.fit(train_dataset\n",
        "                    ,epochs=100\n",
        "                    ,validation_data=validation_dataset\n",
        "                    #,validation_steps=30\n",
        "                    ,callbacks=[tf.keras.callbacks.EarlyStopping(monitor='val_accuracy', patience=2)]\n",
        "                    )\n",
        "Modelbb_Train_Time = datetime.datetime.now()-start\n",
        "print(Modelbb_Train_Time)"
      ],
      "execution_count": null,
      "outputs": [
        {
          "output_type": "stream",
          "text": [
            "Epoch 1/100\n",
            "372/372 [==============================] - 436s 1s/step - loss: 0.6889 - accuracy: 0.5413 - val_loss: 0.6733 - val_accuracy: 0.5832\n",
            "Epoch 2/100\n",
            "372/372 [==============================] - 434s 1s/step - loss: 0.6397 - accuracy: 0.6241 - val_loss: 0.6158 - val_accuracy: 0.6424\n",
            "Epoch 3/100\n",
            "372/372 [==============================] - 439s 1s/step - loss: 0.5707 - accuracy: 0.6990 - val_loss: 0.5013 - val_accuracy: 0.7648\n",
            "Epoch 4/100\n",
            "372/372 [==============================] - 436s 1s/step - loss: 0.5773 - accuracy: 0.6891 - val_loss: 0.5755 - val_accuracy: 0.6920\n",
            "Epoch 5/100\n",
            "372/372 [==============================] - 437s 1s/step - loss: 0.6030 - accuracy: 0.6624 - val_loss: 0.6402 - val_accuracy: 0.6328\n",
            "0:36:39.156141\n"
          ],
          "name": "stdout"
        }
      ]
    },
    {
      "cell_type": "code",
      "metadata": {
        "colab": {
          "base_uri": "https://localhost:8080/"
        },
        "id": "hxSk10RPn-Of",
        "outputId": "5e42d05a-2eb7-4a21-90a1-67b8056655b4"
      },
      "source": [
        "test_loss, test_acc = modelbb.evaluate(test_dataset)\n",
        "\n",
        "print('Test Loss: {}'.format(test_loss))\n",
        "print('Test Accuracy: {}'.format(test_acc))"
      ],
      "execution_count": null,
      "outputs": [
        {
          "output_type": "stream",
          "text": [
            "391/391 [==============================] - 35s 90ms/step - loss: 0.4693 - accuracy: 0.8130\n",
            "Test Loss: 0.46925434470176697\n",
            "Test Accuracy: 0.8129600286483765\n"
          ],
          "name": "stdout"
        }
      ]
    },
    {
      "cell_type": "code",
      "metadata": {
        "colab": {
          "base_uri": "https://localhost:8080/"
        },
        "id": "Mw1JefQPn-Og",
        "outputId": "244c0d23-4a64-483c-f5b5-769474797b0e"
      },
      "source": [
        "history_dictbb = historybb.history\n",
        "history_dictbb.keys()"
      ],
      "execution_count": null,
      "outputs": [
        {
          "output_type": "execute_result",
          "data": {
            "text/plain": [
              "dict_keys(['loss', 'accuracy', 'val_loss', 'val_accuracy'])"
            ]
          },
          "metadata": {},
          "execution_count": 112
        }
      ]
    },
    {
      "cell_type": "code",
      "metadata": {
        "colab": {
          "base_uri": "https://localhost:8080/",
          "height": 203
        },
        "id": "1a7HzlFXn-Og",
        "outputId": "5ae821f3-77de-4135-a307-e0c838a6f527"
      },
      "source": [
        "historybb_df=pd.DataFrame(history_dictbb)\n",
        "historybb_df.tail().round(3)"
      ],
      "execution_count": null,
      "outputs": [
        {
          "output_type": "execute_result",
          "data": {
            "text/html": [
              "<div>\n",
              "<style scoped>\n",
              "    .dataframe tbody tr th:only-of-type {\n",
              "        vertical-align: middle;\n",
              "    }\n",
              "\n",
              "    .dataframe tbody tr th {\n",
              "        vertical-align: top;\n",
              "    }\n",
              "\n",
              "    .dataframe thead th {\n",
              "        text-align: right;\n",
              "    }\n",
              "</style>\n",
              "<table border=\"1\" class=\"dataframe\">\n",
              "  <thead>\n",
              "    <tr style=\"text-align: right;\">\n",
              "      <th></th>\n",
              "      <th>loss</th>\n",
              "      <th>accuracy</th>\n",
              "      <th>val_loss</th>\n",
              "      <th>val_accuracy</th>\n",
              "    </tr>\n",
              "  </thead>\n",
              "  <tbody>\n",
              "    <tr>\n",
              "      <th>0</th>\n",
              "      <td>0.689</td>\n",
              "      <td>0.541</td>\n",
              "      <td>0.673</td>\n",
              "      <td>0.583</td>\n",
              "    </tr>\n",
              "    <tr>\n",
              "      <th>1</th>\n",
              "      <td>0.640</td>\n",
              "      <td>0.624</td>\n",
              "      <td>0.616</td>\n",
              "      <td>0.642</td>\n",
              "    </tr>\n",
              "    <tr>\n",
              "      <th>2</th>\n",
              "      <td>0.571</td>\n",
              "      <td>0.699</td>\n",
              "      <td>0.501</td>\n",
              "      <td>0.765</td>\n",
              "    </tr>\n",
              "    <tr>\n",
              "      <th>3</th>\n",
              "      <td>0.577</td>\n",
              "      <td>0.689</td>\n",
              "      <td>0.576</td>\n",
              "      <td>0.692</td>\n",
              "    </tr>\n",
              "    <tr>\n",
              "      <th>4</th>\n",
              "      <td>0.603</td>\n",
              "      <td>0.662</td>\n",
              "      <td>0.640</td>\n",
              "      <td>0.633</td>\n",
              "    </tr>\n",
              "  </tbody>\n",
              "</table>\n",
              "</div>"
            ],
            "text/plain": [
              "    loss  accuracy  val_loss  val_accuracy\n",
              "0  0.689     0.541     0.673         0.583\n",
              "1  0.640     0.624     0.616         0.642\n",
              "2  0.571     0.699     0.501         0.765\n",
              "3  0.577     0.689     0.576         0.692\n",
              "4  0.603     0.662     0.640         0.633"
            ]
          },
          "metadata": {},
          "execution_count": 113
        }
      ]
    },
    {
      "cell_type": "code",
      "metadata": {
        "colab": {
          "base_uri": "https://localhost:8080/"
        },
        "id": "C7HDDnrXn-Og",
        "outputId": "12ab5bfe-0dcf-4283-c129-cf581dc22c06"
      },
      "source": [
        "modelbb.summary()"
      ],
      "execution_count": null,
      "outputs": [
        {
          "output_type": "stream",
          "text": [
            "Model: \"sequential_6\"\n",
            "_________________________________________________________________\n",
            "Layer (type)                 Output Shape              Param #   \n",
            "=================================================================\n",
            "text_vectorization_2 (TextVe (None, None)              0         \n",
            "_________________________________________________________________\n",
            "embedding_6 (Embedding)      (None, None, 64)          64000     \n",
            "_________________________________________________________________\n",
            "simple_rnn (SimpleRNN)       (None, 64)                8256      \n",
            "_________________________________________________________________\n",
            "dense_13 (Dense)             (None, 64)                4160      \n",
            "_________________________________________________________________\n",
            "dropout_3 (Dropout)          (None, 64)                0         \n",
            "_________________________________________________________________\n",
            "dense_14 (Dense)             (None, 2)                 130       \n",
            "=================================================================\n",
            "Total params: 76,546\n",
            "Trainable params: 76,546\n",
            "Non-trainable params: 0\n",
            "_________________________________________________________________\n"
          ],
          "name": "stdout"
        }
      ]
    },
    {
      "cell_type": "markdown",
      "metadata": {
        "id": "1fgwe32NOZLa"
      },
      "source": [
        "==================================================="
      ]
    },
    {
      "cell_type": "markdown",
      "metadata": {
        "id": "QKTKumQS159r"
      },
      "source": [
        "# Experiment D-a - Conv1D"
      ]
    },
    {
      "cell_type": "code",
      "metadata": {
        "id": "mIK6d8R2159r"
      },
      "source": [
        "modelda = tf.keras.Sequential([\n",
        "                              encoder\n",
        "                              ,tf.keras.layers.Embedding(len(encoder.get_vocabulary()), 64, mask_zero=True) \n",
        "                              ,tf.keras.layers.Conv1D(64, 5, activation='relu')\n",
        "                              ,tf.keras.layers.GlobalMaxPooling1D()   #Pooling Layer decreases sensitivity to features, thereby creating more generalised data for better test results.\n",
        "                              ,tf.keras.layers.Dense(64, activation='relu')\n",
        "                              ,tf.keras.layers.Dropout(0.2)\n",
        "                              ,tf.keras.layers.Dense(num_classes,activation='softmax')   # not binary since there are num_classes categories\n",
        "])"
      ],
      "execution_count": null,
      "outputs": []
    },
    {
      "cell_type": "code",
      "metadata": {
        "id": "YuRzBcG4159r"
      },
      "source": [
        "modelda.compile(optimizer='adam'\n",
        "              ,loss=tf.keras.losses.SparseCategoricalCrossentropy() # if we set from_logits=True we do not have specify a softmax activation function in the last layer\n",
        "              ,metrics=['accuracy'])"
      ],
      "execution_count": null,
      "outputs": []
    },
    {
      "cell_type": "code",
      "metadata": {
        "colab": {
          "base_uri": "https://localhost:8080/"
        },
        "id": "ffRAr52x159r",
        "outputId": "515a0996-6ace-4c59-962c-7c10f779cb5b"
      },
      "source": [
        "start = datetime.datetime.now()\n",
        "historyda = modelda.fit(train_dataset\n",
        "                    ,epochs = 200\n",
        "                    ,validation_data=validation_dataset\n",
        "                    ,callbacks=[tf.keras.callbacks.EarlyStopping(monitor='val_accuracy', patience=2)]\n",
        "                    )\n",
        "Modelda_Train_Time = datetime.datetime.now()-start\n",
        "print(Modelda_Train_Time)"
      ],
      "execution_count": null,
      "outputs": [
        {
          "output_type": "stream",
          "text": [
            "Epoch 1/200\n",
            "372/372 [==============================] - 51s 69ms/step - loss: 0.4697 - accuracy: 0.7634 - val_loss: 0.3407 - val_accuracy: 0.8472\n",
            "Epoch 2/200\n",
            "372/372 [==============================] - 15s 38ms/step - loss: 0.2905 - accuracy: 0.8791 - val_loss: 0.3119 - val_accuracy: 0.8688\n",
            "Epoch 3/200\n",
            "372/372 [==============================] - 13s 33ms/step - loss: 0.2136 - accuracy: 0.9174 - val_loss: 0.3180 - val_accuracy: 0.8680\n",
            "Epoch 4/200\n",
            "372/372 [==============================] - 12s 30ms/step - loss: 0.1437 - accuracy: 0.9486 - val_loss: 0.3530 - val_accuracy: 0.8616\n",
            "0:01:31.738292\n"
          ],
          "name": "stdout"
        }
      ]
    },
    {
      "cell_type": "code",
      "metadata": {
        "colab": {
          "base_uri": "https://localhost:8080/"
        },
        "id": "IgY-iGJq159s",
        "outputId": "b48a576c-5e00-41aa-b28b-504f2b08a89a"
      },
      "source": [
        "test_loss, test_acc = modelda.evaluate(test_dataset)\n",
        "\n",
        "print('Test Loss: {}'.format(test_loss))\n",
        "print('Test Accuracy: {}'.format(test_acc))"
      ],
      "execution_count": null,
      "outputs": [
        {
          "output_type": "stream",
          "text": [
            "391/391 [==============================] - 9s 23ms/step - loss: 0.3423 - accuracy: 0.8668\n",
            "Test Loss: 0.34230202436447144\n",
            "Test Accuracy: 0.8667600154876709\n"
          ],
          "name": "stdout"
        }
      ]
    },
    {
      "cell_type": "code",
      "metadata": {
        "colab": {
          "base_uri": "https://localhost:8080/"
        },
        "id": "zXtqXXNB159s",
        "outputId": "fe984109-56d8-4c0e-c96b-dc8bba03d5d4"
      },
      "source": [
        "history_dictda = historyda.history\n",
        "history_dictda.keys()"
      ],
      "execution_count": null,
      "outputs": [
        {
          "output_type": "execute_result",
          "data": {
            "text/plain": [
              "dict_keys(['loss', 'accuracy', 'val_loss', 'val_accuracy'])"
            ]
          },
          "metadata": {},
          "execution_count": 63
        }
      ]
    },
    {
      "cell_type": "code",
      "metadata": {
        "colab": {
          "base_uri": "https://localhost:8080/",
          "height": 172
        },
        "id": "sl0v8h8g159s",
        "outputId": "a43fa099-2850-4170-f8ec-a199770e6d67"
      },
      "source": [
        "historyda_df=pd.DataFrame(history_dictda)\n",
        "historyda_df.tail().round(3)"
      ],
      "execution_count": null,
      "outputs": [
        {
          "output_type": "execute_result",
          "data": {
            "text/html": [
              "<div>\n",
              "<style scoped>\n",
              "    .dataframe tbody tr th:only-of-type {\n",
              "        vertical-align: middle;\n",
              "    }\n",
              "\n",
              "    .dataframe tbody tr th {\n",
              "        vertical-align: top;\n",
              "    }\n",
              "\n",
              "    .dataframe thead th {\n",
              "        text-align: right;\n",
              "    }\n",
              "</style>\n",
              "<table border=\"1\" class=\"dataframe\">\n",
              "  <thead>\n",
              "    <tr style=\"text-align: right;\">\n",
              "      <th></th>\n",
              "      <th>loss</th>\n",
              "      <th>accuracy</th>\n",
              "      <th>val_loss</th>\n",
              "      <th>val_accuracy</th>\n",
              "    </tr>\n",
              "  </thead>\n",
              "  <tbody>\n",
              "    <tr>\n",
              "      <th>0</th>\n",
              "      <td>0.470</td>\n",
              "      <td>0.763</td>\n",
              "      <td>0.341</td>\n",
              "      <td>0.847</td>\n",
              "    </tr>\n",
              "    <tr>\n",
              "      <th>1</th>\n",
              "      <td>0.291</td>\n",
              "      <td>0.879</td>\n",
              "      <td>0.312</td>\n",
              "      <td>0.869</td>\n",
              "    </tr>\n",
              "    <tr>\n",
              "      <th>2</th>\n",
              "      <td>0.214</td>\n",
              "      <td>0.917</td>\n",
              "      <td>0.318</td>\n",
              "      <td>0.868</td>\n",
              "    </tr>\n",
              "    <tr>\n",
              "      <th>3</th>\n",
              "      <td>0.144</td>\n",
              "      <td>0.949</td>\n",
              "      <td>0.353</td>\n",
              "      <td>0.862</td>\n",
              "    </tr>\n",
              "  </tbody>\n",
              "</table>\n",
              "</div>"
            ],
            "text/plain": [
              "    loss  accuracy  val_loss  val_accuracy\n",
              "0  0.470     0.763     0.341         0.847\n",
              "1  0.291     0.879     0.312         0.869\n",
              "2  0.214     0.917     0.318         0.868\n",
              "3  0.144     0.949     0.353         0.862"
            ]
          },
          "metadata": {},
          "execution_count": 64
        }
      ]
    },
    {
      "cell_type": "code",
      "metadata": {
        "colab": {
          "base_uri": "https://localhost:8080/"
        },
        "id": "llTU3jvD159s",
        "outputId": "565b10a5-c593-4dab-9382-902dc1bad4ca"
      },
      "source": [
        "modelda.summary()"
      ],
      "execution_count": null,
      "outputs": [
        {
          "output_type": "stream",
          "text": [
            "Model: \"sequential_1\"\n",
            "_________________________________________________________________\n",
            "Layer (type)                 Output Shape              Param #   \n",
            "=================================================================\n",
            "text_vectorization_2 (TextVe (None, None)              0         \n",
            "_________________________________________________________________\n",
            "embedding_1 (Embedding)      (None, None, 64)          64000     \n",
            "_________________________________________________________________\n",
            "conv1d (Conv1D)              (None, None, 64)          20544     \n",
            "_________________________________________________________________\n",
            "global_max_pooling1d (Global (None, 64)                0         \n",
            "_________________________________________________________________\n",
            "dense_3 (Dense)              (None, 64)                4160      \n",
            "_________________________________________________________________\n",
            "dropout_1 (Dropout)          (None, 64)                0         \n",
            "_________________________________________________________________\n",
            "dense_4 (Dense)              (None, 2)                 130       \n",
            "=================================================================\n",
            "Total params: 88,834\n",
            "Trainable params: 88,834\n",
            "Non-trainable params: 0\n",
            "_________________________________________________________________\n"
          ],
          "name": "stdout"
        }
      ]
    },
    {
      "cell_type": "code",
      "metadata": {
        "colab": {
          "base_uri": "https://localhost:8080/",
          "height": 865
        },
        "id": "TZ9Bbp8NP9tj",
        "outputId": "4b0ecbf1-ac22-46e5-80fb-d28a5b880a59"
      },
      "source": [
        "keras.utils.plot_model(modelda, \"2Layer_BiDirectionalLSTM.png\", show_shapes=True)"
      ],
      "execution_count": null,
      "outputs": [
        {
          "output_type": "execute_result",
          "data": {
            "image/png": "[encoded data removed]",
            "text/plain": [
              "<IPython.core.display.Image object>"
            ]
          },
          "metadata": {},
          "execution_count": 66
        }
      ]
    },
    {
      "cell_type": "markdown",
      "metadata": {
        "id": "4V5ORW2uP9tk"
      },
      "source": [
        "## Plotting Performance Metrics - Multi-Layer Bidirectional RNN"
      ]
    },
    {
      "cell_type": "markdown",
      "metadata": {
        "id": "dH9xXWAlP9tk"
      },
      "source": [
        "We use Matplotlib to create 2 plots--displaying the training and validation loss (resp. accuracy) for each (training) epoch side by side."
      ]
    },
    {
      "cell_type": "code",
      "metadata": {
        "colab": {
          "base_uri": "https://localhost:8080/"
        },
        "id": "STYQscCRP9tk",
        "outputId": "00938b85-6060-4626-9588-39404341aac2"
      },
      "source": [
        "history_dictda = historyda.history\n",
        "history_dictda.keys()"
      ],
      "execution_count": null,
      "outputs": [
        {
          "output_type": "execute_result",
          "data": {
            "text/plain": [
              "dict_keys(['loss', 'accuracy', 'val_loss', 'val_accuracy'])"
            ]
          },
          "metadata": {},
          "execution_count": 67
        }
      ]
    },
    {
      "cell_type": "code",
      "metadata": {
        "colab": {
          "base_uri": "https://localhost:8080/",
          "height": 172
        },
        "id": "EP1_KH0gP9tk",
        "outputId": "221992d2-5a47-4c7c-b0f7-c754c11af25c"
      },
      "source": [
        "historyda_df=pd.DataFrame(history_dictda)\n",
        "historyda_df.tail().round(3)"
      ],
      "execution_count": null,
      "outputs": [
        {
          "output_type": "execute_result",
          "data": {
            "text/html": [
              "<div>\n",
              "<style scoped>\n",
              "    .dataframe tbody tr th:only-of-type {\n",
              "        vertical-align: middle;\n",
              "    }\n",
              "\n",
              "    .dataframe tbody tr th {\n",
              "        vertical-align: top;\n",
              "    }\n",
              "\n",
              "    .dataframe thead th {\n",
              "        text-align: right;\n",
              "    }\n",
              "</style>\n",
              "<table border=\"1\" class=\"dataframe\">\n",
              "  <thead>\n",
              "    <tr style=\"text-align: right;\">\n",
              "      <th></th>\n",
              "      <th>loss</th>\n",
              "      <th>accuracy</th>\n",
              "      <th>val_loss</th>\n",
              "      <th>val_accuracy</th>\n",
              "    </tr>\n",
              "  </thead>\n",
              "  <tbody>\n",
              "    <tr>\n",
              "      <th>0</th>\n",
              "      <td>0.470</td>\n",
              "      <td>0.763</td>\n",
              "      <td>0.341</td>\n",
              "      <td>0.847</td>\n",
              "    </tr>\n",
              "    <tr>\n",
              "      <th>1</th>\n",
              "      <td>0.291</td>\n",
              "      <td>0.879</td>\n",
              "      <td>0.312</td>\n",
              "      <td>0.869</td>\n",
              "    </tr>\n",
              "    <tr>\n",
              "      <th>2</th>\n",
              "      <td>0.214</td>\n",
              "      <td>0.917</td>\n",
              "      <td>0.318</td>\n",
              "      <td>0.868</td>\n",
              "    </tr>\n",
              "    <tr>\n",
              "      <th>3</th>\n",
              "      <td>0.144</td>\n",
              "      <td>0.949</td>\n",
              "      <td>0.353</td>\n",
              "      <td>0.862</td>\n",
              "    </tr>\n",
              "  </tbody>\n",
              "</table>\n",
              "</div>"
            ],
            "text/plain": [
              "    loss  accuracy  val_loss  val_accuracy\n",
              "0  0.470     0.763     0.341         0.847\n",
              "1  0.291     0.879     0.312         0.869\n",
              "2  0.214     0.917     0.318         0.868\n",
              "3  0.144     0.949     0.353         0.862"
            ]
          },
          "metadata": {},
          "execution_count": 68
        }
      ]
    },
    {
      "cell_type": "code",
      "metadata": {
        "id": "o2sXFXbmP9tk"
      },
      "source": [
        "losses = historyda.history['loss']\n",
        "accs = historyda.history['accuracy']\n",
        "val_losses = historyda.history['val_loss']\n",
        "val_accs = historyda.history['val_accuracy']\n",
        "epochs = len(losses)"
      ],
      "execution_count": null,
      "outputs": []
    },
    {
      "cell_type": "code",
      "metadata": {
        "colab": {
          "base_uri": "https://localhost:8080/",
          "height": 265
        },
        "id": "RT_r9wMZP9tl",
        "outputId": "63f71f1d-ec78-4bb5-8122-b01c26e03de8"
      },
      "source": [
        "plt.figure(figsize=(16, 4))\n",
        "for i, metrics in enumerate(zip([losses, accs], [val_losses, val_accs], ['Loss', 'Accuracy'])):\n",
        "    plt.subplot(1, 2, i + 1)\n",
        "    plt.plot(range(epochs), metrics[0], label='Training {}'.format(metrics[2]))\n",
        "    plt.plot(range(epochs), metrics[1], label='Validation {}'.format(metrics[2]))\n",
        "    plt.legend()\n",
        "plt.show()"
      ],
      "execution_count": null,
      "outputs": [
        {
          "output_type": "display_data",
          "data": {
            "image/png": "[encoded data removed]",
            "text/plain": [
              "<Figure size 1152x288 with 2 Axes>"
            ]
          },
          "metadata": {
            "needs_background": "light"
          }
        }
      ]
    },
    {
      "cell_type": "markdown",
      "metadata": {
        "id": "FvTyHqB3P9tl"
      },
      "source": [
        "### Confusion Matrix"
      ]
    },
    {
      "cell_type": "code",
      "metadata": {
        "id": "H9CFHBG4P9tl"
      },
      "source": [
        "preds = modelda.predict(test_dataset)"
      ],
      "execution_count": null,
      "outputs": []
    },
    {
      "cell_type": "code",
      "metadata": {
        "colab": {
          "base_uri": "https://localhost:8080/"
        },
        "id": "2Rb7uap-P9tl",
        "outputId": "763bd287-69e2-4db2-b5cf-8f463e55625d"
      },
      "source": [
        "preds.shape"
      ],
      "execution_count": null,
      "outputs": [
        {
          "output_type": "execute_result",
          "data": {
            "text/plain": [
              "(25000, 2)"
            ]
          },
          "metadata": {},
          "execution_count": 72
        }
      ]
    },
    {
      "cell_type": "code",
      "metadata": {
        "id": "bqoO6cHjP9tl"
      },
      "source": [
        "cm = sns.light_palette((260, 75, 60), input=\"husl\", as_cmap=True)"
      ],
      "execution_count": null,
      "outputs": []
    },
    {
      "cell_type": "code",
      "metadata": {
        "colab": {
          "base_uri": "https://localhost:8080/",
          "height": 81
        },
        "id": "N3gPhTSTP9tl",
        "outputId": "a42c3037-7494-47b0-e370-7369f81e800e"
      },
      "source": [
        "df = pd.DataFrame(preds[0:15]\n",
        "                  ,columns = ['Positive','Negative']).T  #World','Sports','Business','Sci/Tech'\n",
        "df.style.format(\"{:.2%}\").background_gradient(cmap=cm)"
      ],
      "execution_count": null,
      "outputs": [
        {
          "output_type": "execute_result",
          "data": {
            "text/html": [
              "<style  type=\"text/css\" >\n",
              "#T_381bc930_0727_11ec_a265_0242ac1c0002row0_col0,#T_381bc930_0727_11ec_a265_0242ac1c0002row0_col1,#T_381bc930_0727_11ec_a265_0242ac1c0002row0_col4,#T_381bc930_0727_11ec_a265_0242ac1c0002row0_col5,#T_381bc930_0727_11ec_a265_0242ac1c0002row0_col6,#T_381bc930_0727_11ec_a265_0242ac1c0002row0_col7,#T_381bc930_0727_11ec_a265_0242ac1c0002row0_col8,#T_381bc930_0727_11ec_a265_0242ac1c0002row0_col9,#T_381bc930_0727_11ec_a265_0242ac1c0002row0_col12,#T_381bc930_0727_11ec_a265_0242ac1c0002row0_col14,#T_381bc930_0727_11ec_a265_0242ac1c0002row1_col2,#T_381bc930_0727_11ec_a265_0242ac1c0002row1_col3,#T_381bc930_0727_11ec_a265_0242ac1c0002row1_col10,#T_381bc930_0727_11ec_a265_0242ac1c0002row1_col11,#T_381bc930_0727_11ec_a265_0242ac1c0002row1_col13{\n",
              "            background-color:  #f0f1f2;\n",
              "            color:  #000000;\n",
              "        }#T_381bc930_0727_11ec_a265_0242ac1c0002row0_col2,#T_381bc930_0727_11ec_a265_0242ac1c0002row0_col3,#T_381bc930_0727_11ec_a265_0242ac1c0002row0_col10,#T_381bc930_0727_11ec_a265_0242ac1c0002row0_col11,#T_381bc930_0727_11ec_a265_0242ac1c0002row0_col13,#T_381bc930_0727_11ec_a265_0242ac1c0002row1_col0,#T_381bc930_0727_11ec_a265_0242ac1c0002row1_col1,#T_381bc930_0727_11ec_a265_0242ac1c0002row1_col4,#T_381bc930_0727_11ec_a265_0242ac1c0002row1_col5,#T_381bc930_0727_11ec_a265_0242ac1c0002row1_col6,#T_381bc930_0727_11ec_a265_0242ac1c0002row1_col7,#T_381bc930_0727_11ec_a265_0242ac1c0002row1_col8,#T_381bc930_0727_11ec_a265_0242ac1c0002row1_col9,#T_381bc930_0727_11ec_a265_0242ac1c0002row1_col12,#T_381bc930_0727_11ec_a265_0242ac1c0002row1_col14{\n",
              "            background-color:  #778ce4;\n",
              "            color:  #000000;\n",
              "        }</style><table id=\"T_381bc930_0727_11ec_a265_0242ac1c0002\" ><thead>    <tr>        <th class=\"blank level0\" ></th>        <th class=\"col_heading level0 col0\" >0</th>        <th class=\"col_heading level0 col1\" >1</th>        <th class=\"col_heading level0 col2\" >2</th>        <th class=\"col_heading level0 col3\" >3</th>        <th class=\"col_heading level0 col4\" >4</th>        <th class=\"col_heading level0 col5\" >5</th>        <th class=\"col_heading level0 col6\" >6</th>        <th class=\"col_heading level0 col7\" >7</th>        <th class=\"col_heading level0 col8\" >8</th>        <th class=\"col_heading level0 col9\" >9</th>        <th class=\"col_heading level0 col10\" >10</th>        <th class=\"col_heading level0 col11\" >11</th>        <th class=\"col_heading level0 col12\" >12</th>        <th class=\"col_heading level0 col13\" >13</th>        <th class=\"col_heading level0 col14\" >14</th>    </tr></thead><tbody>\n",
              "                <tr>\n",
              "                        <th id=\"T_381bc930_0727_11ec_a265_0242ac1c0002level0_row0\" class=\"row_heading level0 row0\" >Positive</th>\n",
              "                        <td id=\"T_381bc930_0727_11ec_a265_0242ac1c0002row0_col0\" class=\"data row0 col0\" >25.91%</td>\n",
              "                        <td id=\"T_381bc930_0727_11ec_a265_0242ac1c0002row0_col1\" class=\"data row0 col1\" >0.23%</td>\n",
              "                        <td id=\"T_381bc930_0727_11ec_a265_0242ac1c0002row0_col2\" class=\"data row0 col2\" >98.79%</td>\n",
              "                        <td id=\"T_381bc930_0727_11ec_a265_0242ac1c0002row0_col3\" class=\"data row0 col3\" >93.35%</td>\n",
              "                        <td id=\"T_381bc930_0727_11ec_a265_0242ac1c0002row0_col4\" class=\"data row0 col4\" >0.13%</td>\n",
              "                        <td id=\"T_381bc930_0727_11ec_a265_0242ac1c0002row0_col5\" class=\"data row0 col5\" >3.51%</td>\n",
              "                        <td id=\"T_381bc930_0727_11ec_a265_0242ac1c0002row0_col6\" class=\"data row0 col6\" >0.06%</td>\n",
              "                        <td id=\"T_381bc930_0727_11ec_a265_0242ac1c0002row0_col7\" class=\"data row0 col7\" >0.69%</td>\n",
              "                        <td id=\"T_381bc930_0727_11ec_a265_0242ac1c0002row0_col8\" class=\"data row0 col8\" >34.86%</td>\n",
              "                        <td id=\"T_381bc930_0727_11ec_a265_0242ac1c0002row0_col9\" class=\"data row0 col9\" >19.95%</td>\n",
              "                        <td id=\"T_381bc930_0727_11ec_a265_0242ac1c0002row0_col10\" class=\"data row0 col10\" >99.99%</td>\n",
              "                        <td id=\"T_381bc930_0727_11ec_a265_0242ac1c0002row0_col11\" class=\"data row0 col11\" >82.73%</td>\n",
              "                        <td id=\"T_381bc930_0727_11ec_a265_0242ac1c0002row0_col12\" class=\"data row0 col12\" >2.97%</td>\n",
              "                        <td id=\"T_381bc930_0727_11ec_a265_0242ac1c0002row0_col13\" class=\"data row0 col13\" >51.20%</td>\n",
              "                        <td id=\"T_381bc930_0727_11ec_a265_0242ac1c0002row0_col14\" class=\"data row0 col14\" >12.98%</td>\n",
              "            </tr>\n",
              "            <tr>\n",
              "                        <th id=\"T_381bc930_0727_11ec_a265_0242ac1c0002level0_row1\" class=\"row_heading level0 row1\" >Negative</th>\n",
              "                        <td id=\"T_381bc930_0727_11ec_a265_0242ac1c0002row1_col0\" class=\"data row1 col0\" >74.09%</td>\n",
              "                        <td id=\"T_381bc930_0727_11ec_a265_0242ac1c0002row1_col1\" class=\"data row1 col1\" >99.77%</td>\n",
              "                        <td id=\"T_381bc930_0727_11ec_a265_0242ac1c0002row1_col2\" class=\"data row1 col2\" >1.21%</td>\n",
              "                        <td id=\"T_381bc930_0727_11ec_a265_0242ac1c0002row1_col3\" class=\"data row1 col3\" >6.65%</td>\n",
              "                        <td id=\"T_381bc930_0727_11ec_a265_0242ac1c0002row1_col4\" class=\"data row1 col4\" >99.87%</td>\n",
              "                        <td id=\"T_381bc930_0727_11ec_a265_0242ac1c0002row1_col5\" class=\"data row1 col5\" >96.49%</td>\n",
              "                        <td id=\"T_381bc930_0727_11ec_a265_0242ac1c0002row1_col6\" class=\"data row1 col6\" >99.94%</td>\n",
              "                        <td id=\"T_381bc930_0727_11ec_a265_0242ac1c0002row1_col7\" class=\"data row1 col7\" >99.31%</td>\n",
              "                        <td id=\"T_381bc930_0727_11ec_a265_0242ac1c0002row1_col8\" class=\"data row1 col8\" >65.14%</td>\n",
              "                        <td id=\"T_381bc930_0727_11ec_a265_0242ac1c0002row1_col9\" class=\"data row1 col9\" >80.05%</td>\n",
              "                        <td id=\"T_381bc930_0727_11ec_a265_0242ac1c0002row1_col10\" class=\"data row1 col10\" >0.01%</td>\n",
              "                        <td id=\"T_381bc930_0727_11ec_a265_0242ac1c0002row1_col11\" class=\"data row1 col11\" >17.27%</td>\n",
              "                        <td id=\"T_381bc930_0727_11ec_a265_0242ac1c0002row1_col12\" class=\"data row1 col12\" >97.03%</td>\n",
              "                        <td id=\"T_381bc930_0727_11ec_a265_0242ac1c0002row1_col13\" class=\"data row1 col13\" >48.80%</td>\n",
              "                        <td id=\"T_381bc930_0727_11ec_a265_0242ac1c0002row1_col14\" class=\"data row1 col14\" >87.02%</td>\n",
              "            </tr>\n",
              "    </tbody></table>"
            ],
            "text/plain": [
              "<pandas.io.formats.style.Styler at 0x7f43a5dc3410>"
            ]
          },
          "metadata": {},
          "execution_count": 74
        }
      ]
    },
    {
      "cell_type": "markdown",
      "metadata": {
        "id": "VZIIxSkQ20CG"
      },
      "source": [
        "# Experiment D-b - Conv1D with maxpooling without dropout"
      ]
    },
    {
      "cell_type": "code",
      "metadata": {
        "id": "rQ6H4ge720CG"
      },
      "source": [
        "modeldb = tf.keras.Sequential([\n",
        "                              encoder\n",
        "                              ,tf.keras.layers.Embedding(len(encoder.get_vocabulary()), 64, mask_zero=True) \n",
        "                              ,tf.keras.layers.Conv1D(64, 2, activation='relu')\n",
        "                              ,tf.keras.layers.GlobalMaxPooling1D()   #Pooling Layer decreases sensitivity to features, thereby creating more generalised data for better test results.\n",
        "                              ,tf.keras.layers.Dense(64, activation='relu')\n",
        "                              #,tf.keras.layers.Dropout(0.2)\n",
        "                              ,tf.keras.layers.Dense(num_classes,activation='softmax')   # not binary since there are num_classes categories\n",
        "])"
      ],
      "execution_count": null,
      "outputs": []
    },
    {
      "cell_type": "code",
      "metadata": {
        "id": "thvGybN720CG"
      },
      "source": [
        "modeldb.compile(optimizer='adam'\n",
        "              ,loss=tf.keras.losses.SparseCategoricalCrossentropy() # if we set from_logits=True we do not have specify a softmax activation function in the last layer\n",
        "              ,metrics=['accuracy'])"
      ],
      "execution_count": null,
      "outputs": []
    },
    {
      "cell_type": "code",
      "metadata": {
        "colab": {
          "base_uri": "https://localhost:8080/"
        },
        "id": "JYsLbuJo20CG",
        "outputId": "5cfbf899-dd16-41d8-87c9-415cc99dac1a"
      },
      "source": [
        "start = datetime.datetime.now()\n",
        "historydb = modeldb.fit(train_dataset\n",
        "                    ,epochs = 200\n",
        "                    ,validation_data=validation_dataset\n",
        "                    ,callbacks=[tf.keras.callbacks.EarlyStopping(monitor='val_accuracy', patience=4)]\n",
        "                    )\n",
        "Modeldb_Train_Time = datetime.datetime.now()-start\n",
        "print(Modeldb_Train_Time)"
      ],
      "execution_count": null,
      "outputs": [
        {
          "output_type": "stream",
          "text": [
            "Epoch 1/200\n",
            "372/372 [==============================] - 13s 31ms/step - loss: 0.4456 - accuracy: 0.7910 - val_loss: 0.3621 - val_accuracy: 0.8312\n",
            "Epoch 2/200\n",
            "372/372 [==============================] - 7s 18ms/step - loss: 0.3022 - accuracy: 0.8702 - val_loss: 0.3337 - val_accuracy: 0.8520\n",
            "Epoch 3/200\n",
            "372/372 [==============================] - 6s 16ms/step - loss: 0.2515 - accuracy: 0.8963 - val_loss: 0.3228 - val_accuracy: 0.8568\n",
            "Epoch 4/200\n",
            "372/372 [==============================] - 6s 15ms/step - loss: 0.2068 - accuracy: 0.9178 - val_loss: 0.3478 - val_accuracy: 0.8504\n",
            "Epoch 5/200\n",
            "372/372 [==============================] - 6s 14ms/step - loss: 0.1736 - accuracy: 0.9331 - val_loss: 0.3722 - val_accuracy: 0.8592\n",
            "Epoch 6/200\n",
            "372/372 [==============================] - 6s 14ms/step - loss: 0.1398 - accuracy: 0.9483 - val_loss: 0.4030 - val_accuracy: 0.8552\n",
            "Epoch 7/200\n",
            "372/372 [==============================] - 5s 13ms/step - loss: 0.1078 - accuracy: 0.9630 - val_loss: 0.4643 - val_accuracy: 0.8416\n",
            "Epoch 8/200\n",
            "372/372 [==============================] - 5s 13ms/step - loss: 0.0792 - accuracy: 0.9740 - val_loss: 0.4896 - val_accuracy: 0.8520\n",
            "Epoch 9/200\n",
            "372/372 [==============================] - 5s 14ms/step - loss: 0.0523 - accuracy: 0.9839 - val_loss: 0.5513 - val_accuracy: 0.8440\n",
            "0:01:16.267558\n"
          ],
          "name": "stdout"
        }
      ]
    },
    {
      "cell_type": "code",
      "metadata": {
        "colab": {
          "base_uri": "https://localhost:8080/"
        },
        "id": "OsF_Epj320CG",
        "outputId": "cc03bf01-3ff2-4275-fb63-ba1ed1cd4708"
      },
      "source": [
        "test_loss, test_acc = modeldb.evaluate(test_dataset)\n",
        "\n",
        "print('Test Loss: {}'.format(test_loss))\n",
        "print('Test Accuracy: {}'.format(test_acc))"
      ],
      "execution_count": null,
      "outputs": [
        {
          "output_type": "stream",
          "text": [
            "391/391 [==============================] - 4s 11ms/step - loss: 0.5253 - accuracy: 0.8557\n",
            "Test Loss: 0.5252521634101868\n",
            "Test Accuracy: 0.855679988861084\n"
          ],
          "name": "stdout"
        }
      ]
    },
    {
      "cell_type": "code",
      "metadata": {
        "colab": {
          "base_uri": "https://localhost:8080/"
        },
        "id": "RFzJ-aDm20CG",
        "outputId": "680f6d2c-44a7-46a8-fd00-23fd901020a9"
      },
      "source": [
        "history_dictdb = historydb.history\n",
        "history_dictdb.keys()"
      ],
      "execution_count": null,
      "outputs": [
        {
          "output_type": "execute_result",
          "data": {
            "text/plain": [
              "dict_keys(['loss', 'accuracy', 'val_loss', 'val_accuracy'])"
            ]
          },
          "metadata": {},
          "execution_count": 190
        }
      ]
    },
    {
      "cell_type": "code",
      "metadata": {
        "colab": {
          "base_uri": "https://localhost:8080/",
          "height": 203
        },
        "id": "FMrrtg2W20CG",
        "outputId": "6d05ea9c-e417-482e-8686-f010b5244ca3"
      },
      "source": [
        "historydb_df=pd.DataFrame(history_dictdb)\n",
        "historydb_df.tail().round(3)"
      ],
      "execution_count": null,
      "outputs": [
        {
          "output_type": "execute_result",
          "data": {
            "text/html": [
              "<div>\n",
              "<style scoped>\n",
              "    .dataframe tbody tr th:only-of-type {\n",
              "        vertical-align: middle;\n",
              "    }\n",
              "\n",
              "    .dataframe tbody tr th {\n",
              "        vertical-align: top;\n",
              "    }\n",
              "\n",
              "    .dataframe thead th {\n",
              "        text-align: right;\n",
              "    }\n",
              "</style>\n",
              "<table border=\"1\" class=\"dataframe\">\n",
              "  <thead>\n",
              "    <tr style=\"text-align: right;\">\n",
              "      <th></th>\n",
              "      <th>loss</th>\n",
              "      <th>accuracy</th>\n",
              "      <th>val_loss</th>\n",
              "      <th>val_accuracy</th>\n",
              "    </tr>\n",
              "  </thead>\n",
              "  <tbody>\n",
              "    <tr>\n",
              "      <th>4</th>\n",
              "      <td>0.174</td>\n",
              "      <td>0.933</td>\n",
              "      <td>0.372</td>\n",
              "      <td>0.859</td>\n",
              "    </tr>\n",
              "    <tr>\n",
              "      <th>5</th>\n",
              "      <td>0.140</td>\n",
              "      <td>0.948</td>\n",
              "      <td>0.403</td>\n",
              "      <td>0.855</td>\n",
              "    </tr>\n",
              "    <tr>\n",
              "      <th>6</th>\n",
              "      <td>0.108</td>\n",
              "      <td>0.963</td>\n",
              "      <td>0.464</td>\n",
              "      <td>0.842</td>\n",
              "    </tr>\n",
              "    <tr>\n",
              "      <th>7</th>\n",
              "      <td>0.079</td>\n",
              "      <td>0.974</td>\n",
              "      <td>0.490</td>\n",
              "      <td>0.852</td>\n",
              "    </tr>\n",
              "    <tr>\n",
              "      <th>8</th>\n",
              "      <td>0.052</td>\n",
              "      <td>0.984</td>\n",
              "      <td>0.551</td>\n",
              "      <td>0.844</td>\n",
              "    </tr>\n",
              "  </tbody>\n",
              "</table>\n",
              "</div>"
            ],
            "text/plain": [
              "    loss  accuracy  val_loss  val_accuracy\n",
              "4  0.174     0.933     0.372         0.859\n",
              "5  0.140     0.948     0.403         0.855\n",
              "6  0.108     0.963     0.464         0.842\n",
              "7  0.079     0.974     0.490         0.852\n",
              "8  0.052     0.984     0.551         0.844"
            ]
          },
          "metadata": {},
          "execution_count": 191
        }
      ]
    },
    {
      "cell_type": "code",
      "metadata": {
        "colab": {
          "base_uri": "https://localhost:8080/"
        },
        "id": "KWFFVb3J20CH",
        "outputId": "ab61a99f-ca6a-49c5-a8d7-7dc07b7f63fa"
      },
      "source": [
        "modeldb.summary()"
      ],
      "execution_count": null,
      "outputs": [
        {
          "output_type": "stream",
          "text": [
            "Model: \"sequential_12\"\n",
            "_________________________________________________________________\n",
            "Layer (type)                 Output Shape              Param #   \n",
            "=================================================================\n",
            "text_vectorization_5 (TextVe (None, None)              0         \n",
            "_________________________________________________________________\n",
            "embedding_12 (Embedding)     (None, None, 64)          64000     \n",
            "_________________________________________________________________\n",
            "conv1d_1 (Conv1D)            (None, None, 64)          8256      \n",
            "_________________________________________________________________\n",
            "global_max_pooling1d_1 (Glob (None, 64)                0         \n",
            "_________________________________________________________________\n",
            "dense_28 (Dense)             (None, 64)                4160      \n",
            "_________________________________________________________________\n",
            "dense_29 (Dense)             (None, 2)                 130       \n",
            "=================================================================\n",
            "Total params: 76,546\n",
            "Trainable params: 76,546\n",
            "Non-trainable params: 0\n",
            "_________________________________________________________________\n"
          ],
          "name": "stdout"
        }
      ]
    },
    {
      "cell_type": "markdown",
      "metadata": {
        "id": "U4Rc57sH3Zm7"
      },
      "source": [
        "# Experiment D-c - Conv1D with Dropout"
      ]
    },
    {
      "cell_type": "code",
      "metadata": {
        "id": "Vgo3EutJ3Zm7"
      },
      "source": [
        "modeldc = tf.keras.Sequential([\n",
        "                              encoder\n",
        "                              ,tf.keras.layers.Embedding(len(encoder.get_vocabulary()), 64, mask_zero=True) \n",
        "                              ,tf.keras.layers.Conv1D(64, 5, activation='relu')\n",
        "                              ,tf.keras.layers.Conv1D(64, 5, activation='relu')\n",
        "                              ,tf.keras.layers.GlobalMaxPooling1D()   #Pooling Layer decreases sensitivity to features, thereby creating more generalised data for better test results.\n",
        "                              ,tf.keras.layers.Dense(64, activation='relu')\n",
        "                              ,tf.keras.layers.Dropout(0.25)\n",
        "                              ,tf.keras.layers.Dense(10, activation='relu')\n",
        "                              ,tf.keras.layers.Dense(1, activation='sigmoid')\n",
        "                              ,tf.keras.layers.Dense(num_classes,activation='softmax')   # not binary since there are num_classes categories\n",
        "])"
      ],
      "execution_count": null,
      "outputs": []
    },
    {
      "cell_type": "code",
      "metadata": {
        "id": "an4ZyZsF3Zm7"
      },
      "source": [
        "modeldc.compile(optimizer='adam'\n",
        "              ,loss=tf.keras.losses.SparseCategoricalCrossentropy() # if we set from_logits=True we do not have specify a softmax activation function in the last layer\n",
        "              ,metrics=['accuracy'])"
      ],
      "execution_count": null,
      "outputs": []
    },
    {
      "cell_type": "code",
      "metadata": {
        "colab": {
          "base_uri": "https://localhost:8080/"
        },
        "id": "vXLQjzrE3Zm8",
        "outputId": "b10b77bf-3080-4040-d376-d2668e82af25"
      },
      "source": [
        "start = datetime.datetime.now()\n",
        "historydc = modeldc.fit(train_dataset\n",
        "                    ,epochs = 200\n",
        "                    ,validation_data=validation_dataset\n",
        "                    ,callbacks=[tf.keras.callbacks.EarlyStopping(monitor='val_accuracy', patience=2)]\n",
        "                    )\n",
        "Modeldc_Train_Time = datetime.datetime.now()-start\n",
        "print(Modeldc_Train_Time)"
      ],
      "execution_count": null,
      "outputs": [
        {
          "output_type": "stream",
          "text": [
            "Epoch 1/200\n",
            "372/372 [==============================] - 11s 26ms/step - loss: 0.6952 - accuracy: 0.4983 - val_loss: 0.6933 - val_accuracy: 0.4696\n",
            "Epoch 2/200\n",
            "372/372 [==============================] - 8s 19ms/step - loss: 0.6932 - accuracy: 0.4969 - val_loss: 0.6931 - val_accuracy: 0.5296\n",
            "Epoch 3/200\n",
            "372/372 [==============================] - 8s 19ms/step - loss: 0.6932 - accuracy: 0.5010 - val_loss: 0.6939 - val_accuracy: 0.4704\n",
            "Epoch 4/200\n",
            "372/372 [==============================] - 8s 19ms/step - loss: 0.6932 - accuracy: 0.5016 - val_loss: 0.6933 - val_accuracy: 0.4704\n",
            "0:00:36.498505\n"
          ],
          "name": "stdout"
        }
      ]
    },
    {
      "cell_type": "code",
      "metadata": {
        "colab": {
          "base_uri": "https://localhost:8080/"
        },
        "id": "mKD_0cfm3Zm8",
        "outputId": "b98f1c15-49a1-4184-c9d5-b2490e7960d5"
      },
      "source": [
        "test_loss, test_acc = modeldc.evaluate(test_dataset)\n",
        "\n",
        "print('Test Loss: {}'.format(test_loss))\n",
        "print('Test Accuracy: {}'.format(test_acc))"
      ],
      "execution_count": null,
      "outputs": [
        {
          "output_type": "stream",
          "text": [
            "391/391 [==============================] - 5s 12ms/step - loss: 0.6931 - accuracy: 0.5000\n",
            "Test Loss: 0.6931494474411011\n",
            "Test Accuracy: 0.5\n"
          ],
          "name": "stdout"
        }
      ]
    },
    {
      "cell_type": "code",
      "metadata": {
        "colab": {
          "base_uri": "https://localhost:8080/"
        },
        "id": "UigsVeos3Zm8",
        "outputId": "caf8ff7e-2b18-4709-c8af-509e98041c9f"
      },
      "source": [
        "history_dictdc = historydc.history\n",
        "history_dictdc.keys()"
      ],
      "execution_count": null,
      "outputs": [
        {
          "output_type": "execute_result",
          "data": {
            "text/plain": [
              "dict_keys(['loss', 'accuracy', 'val_loss', 'val_accuracy'])"
            ]
          },
          "metadata": {},
          "execution_count": 197
        }
      ]
    },
    {
      "cell_type": "code",
      "metadata": {
        "colab": {
          "base_uri": "https://localhost:8080/",
          "height": 172
        },
        "id": "iBiN-ot_3Zm8",
        "outputId": "e6bcdb9e-758a-47d1-cecb-9532ed320f59"
      },
      "source": [
        "historydc_df=pd.DataFrame(history_dictdc)\n",
        "historydc_df.tail().round(3)"
      ],
      "execution_count": null,
      "outputs": [
        {
          "output_type": "execute_result",
          "data": {
            "text/html": [
              "<div>\n",
              "<style scoped>\n",
              "    .dataframe tbody tr th:only-of-type {\n",
              "        vertical-align: middle;\n",
              "    }\n",
              "\n",
              "    .dataframe tbody tr th {\n",
              "        vertical-align: top;\n",
              "    }\n",
              "\n",
              "    .dataframe thead th {\n",
              "        text-align: right;\n",
              "    }\n",
              "</style>\n",
              "<table border=\"1\" class=\"dataframe\">\n",
              "  <thead>\n",
              "    <tr style=\"text-align: right;\">\n",
              "      <th></th>\n",
              "      <th>loss</th>\n",
              "      <th>accuracy</th>\n",
              "      <th>val_loss</th>\n",
              "      <th>val_accuracy</th>\n",
              "    </tr>\n",
              "  </thead>\n",
              "  <tbody>\n",
              "    <tr>\n",
              "      <th>0</th>\n",
              "      <td>0.695</td>\n",
              "      <td>0.498</td>\n",
              "      <td>0.693</td>\n",
              "      <td>0.47</td>\n",
              "    </tr>\n",
              "    <tr>\n",
              "      <th>1</th>\n",
              "      <td>0.693</td>\n",
              "      <td>0.497</td>\n",
              "      <td>0.693</td>\n",
              "      <td>0.53</td>\n",
              "    </tr>\n",
              "    <tr>\n",
              "      <th>2</th>\n",
              "      <td>0.693</td>\n",
              "      <td>0.501</td>\n",
              "      <td>0.694</td>\n",
              "      <td>0.47</td>\n",
              "    </tr>\n",
              "    <tr>\n",
              "      <th>3</th>\n",
              "      <td>0.693</td>\n",
              "      <td>0.502</td>\n",
              "      <td>0.693</td>\n",
              "      <td>0.47</td>\n",
              "    </tr>\n",
              "  </tbody>\n",
              "</table>\n",
              "</div>"
            ],
            "text/plain": [
              "    loss  accuracy  val_loss  val_accuracy\n",
              "0  0.695     0.498     0.693          0.47\n",
              "1  0.693     0.497     0.693          0.53\n",
              "2  0.693     0.501     0.694          0.47\n",
              "3  0.693     0.502     0.693          0.47"
            ]
          },
          "metadata": {},
          "execution_count": 198
        }
      ]
    },
    {
      "cell_type": "code",
      "metadata": {
        "colab": {
          "base_uri": "https://localhost:8080/"
        },
        "id": "OtdJ21K_3Zm8",
        "outputId": "83f33e9f-e16c-45f1-9672-21ea22b9f996"
      },
      "source": [
        "modeldc.summary()"
      ],
      "execution_count": null,
      "outputs": [
        {
          "output_type": "stream",
          "text": [
            "Model: \"sequential_13\"\n",
            "_________________________________________________________________\n",
            "Layer (type)                 Output Shape              Param #   \n",
            "=================================================================\n",
            "text_vectorization_5 (TextVe (None, None)              0         \n",
            "_________________________________________________________________\n",
            "embedding_13 (Embedding)     (None, None, 64)          64000     \n",
            "_________________________________________________________________\n",
            "conv1d_2 (Conv1D)            (None, None, 64)          20544     \n",
            "_________________________________________________________________\n",
            "conv1d_3 (Conv1D)            (None, None, 64)          20544     \n",
            "_________________________________________________________________\n",
            "global_max_pooling1d_2 (Glob (None, 64)                0         \n",
            "_________________________________________________________________\n",
            "dense_30 (Dense)             (None, 64)                4160      \n",
            "_________________________________________________________________\n",
            "dropout_8 (Dropout)          (None, 64)                0         \n",
            "_________________________________________________________________\n",
            "dense_31 (Dense)             (None, 10)                650       \n",
            "_________________________________________________________________\n",
            "dense_32 (Dense)             (None, 1)                 11        \n",
            "_________________________________________________________________\n",
            "dense_33 (Dense)             (None, 2)                 4         \n",
            "=================================================================\n",
            "Total params: 109,913\n",
            "Trainable params: 109,913\n",
            "Non-trainable params: 0\n",
            "_________________________________________________________________\n"
          ],
          "name": "stdout"
        }
      ]
    }
  ]
}