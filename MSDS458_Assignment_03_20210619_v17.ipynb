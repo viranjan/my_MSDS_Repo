{
  "nbformat": 4,
  "nbformat_minor": 0,
  "metadata": {
    "accelerator": "GPU",
    "colab": {
      "name": "MSDS458_Assignment_03_20210619_DEV_v16.ipynb",
      "provenance": [],
      "collapsed_sections": [],
      "toc_visible": true,
      "machine_shape": "hm"
    },
    "kernelspec": {
      "display_name": "Python 3",
      "language": "python",
      "name": "python3"
    },
    "language_info": {
      "codemirror_mode": {
        "name": "ipython",
        "version": 3
      },
      "file_extension": ".py",
      "mimetype": "text/x-python",
      "name": "python",
      "nbconvert_exporter": "python",
      "pygments_lexer": "ipython3",
      "version": "3.6.9"
    },
    "toc": {
      "base_numbering": 1,
      "nav_menu": {},
      "number_sections": false,
      "sideBar": true,
      "skip_h1_title": false,
      "title_cell": "Table of Contents",
      "title_sidebar": "Contents",
      "toc_cell": false,
      "toc_position": {},
      "toc_section_display": true,
      "toc_window_display": false
    }
  },
  "cells": [
    {
      "cell_type": "markdown",
      "metadata": {
        "id": "Cfh9kVB-rpjo"
      },
      "source": [
        "<img src=\"https://github.com/djp840/MSDS_458_Public/blob/master/images/NorthwesternHeader.png?raw=1\">"
      ]
    },
    {
      "cell_type": "markdown",
      "metadata": {
        "id": "pRAx1f1ir1St"
      },
      "source": [
        "## MSDS458 Research Assignment 3"
      ]
    },
    {
      "cell_type": "markdown",
      "metadata": {
        "id": "jQnyR1_aFk-t"
      },
      "source": [
        "### Analyze AG_NEWS_SUBSET Data <br>\n",
        "\n",
        "AG is a collection of more than 1 million news articles. News articles have been gathered from more than 2000 news sources by ComeToMyHead in more than 1 year of activity. ComeToMyHead is an academic news search engine which has been running since July, 2004. The dataset is provided by the academic comunity for research purposes in data mining (clustering, classification, etc), information retrieval (ranking, search, etc), xml, data compression, data streaming, and any other non-commercial activity.<br> \n",
        "\n",
        "For more information, please refer to the link http://www.di.unipi.it/~gulli/AG_corpus_of_news_articles.html<br> \n",
        "\n",
        "\n",
        "The AG's news topic classification dataset is constructed by choosing 4 largest classes (**World**, **Sports**, **Business**, and **Sci/Tech**) from the original corpus. Each class contains 30,000 training samples and 1,900 testing samples. The total number of training samples is 120,000 and testing 7,600.<br>\n",
        "\n",
        "Homepage: https://arxiv.org/abs/1509.01626<br>\n",
        "\n",
        "Source code: tfds.text.AGNewsSubset\n",
        "\n",
        "Versions:\n",
        "\n",
        "1.0.0 (default): No release notes.\n",
        "Download size: 11.24 MiB\n",
        "\n",
        "Dataset size: 35.79 MiB"
      ]
    },
    {
      "cell_type": "markdown",
      "metadata": {
        "id": "oGBlk-2-NaCn"
      },
      "source": [
        "<div class=\"alert alert-block alert-success\">\n",
        "    <b>More Technical</b>: Throughout the notebook. This types of boxes provide more technical details and extra references about what you are seeing. They contain helpful tips, but you can safely skip them the first time you run through the code.\n",
        "</div>"
      ]
    },
    {
      "cell_type": "markdown",
      "metadata": {
        "id": "t-Jjr3rNr5PR"
      },
      "source": [
        "## Import packages "
      ]
    },
    {
      "cell_type": "code",
      "metadata": {
        "id": "mbrX9qUZvfs1"
      },
      "source": [
        "import datetime\n",
        "from packaging import version\n",
        "from collections import Counter\n",
        "import numpy as np\n",
        "import pandas as pd\n",
        "import matplotlib.pyplot as plt\n",
        "import seaborn as sns\n",
        "\n",
        "# TensorFlow and tf.keras\n",
        "import tensorflow as tf\n",
        "from tensorflow import keras\n",
        "import tensorflow_datasets as tfds"
      ],
      "execution_count": 1,
      "outputs": []
    },
    {
      "cell_type": "code",
      "metadata": {
        "id": "Rn-mj2I3yRRJ"
      },
      "source": [
        "#tf.get_logger().setLevel('INFO')"
      ],
      "execution_count": 2,
      "outputs": []
    },
    {
      "cell_type": "code",
      "metadata": {
        "id": "q0H8HuzHrWwN"
      },
      "source": [
        "%matplotlib inline\n",
        "np.set_printoptions(precision=3, suppress=True)"
      ],
      "execution_count": 3,
      "outputs": []
    },
    {
      "cell_type": "markdown",
      "metadata": {
        "id": "b2iqmNYKxw3A"
      },
      "source": [
        "### Create a Helper Function to Plot Graphs:"
      ]
    },
    {
      "cell_type": "code",
      "metadata": {
        "id": "gg13oDZNxxMp"
      },
      "source": [
        "def plot_graphs(history, metric):\n",
        "  plt.plot(history.history[metric])\n",
        "  plt.plot(history.history['val_'+metric], '')\n",
        "  plt.xlabel(\"Epochs\")\n",
        "  plt.ylabel(metric)\n",
        "  plt.legend([metric, 'val_'+metric])"
      ],
      "execution_count": 4,
      "outputs": []
    },
    {
      "cell_type": "markdown",
      "metadata": {
        "id": "iKucNfkrsqrP"
      },
      "source": [
        "### Verify TensorFlow Version and Keras Version"
      ]
    },
    {
      "cell_type": "code",
      "metadata": {
        "colab": {
          "base_uri": "https://localhost:8080/"
        },
        "id": "g_BoGg9JrWzj",
        "outputId": "2370d763-86ee-4648-8d37-d631853ecf52"
      },
      "source": [
        "print(\"This notebook requires TensorFlow 2.0 or above\")\n",
        "print(\"TensorFlow version: \", tf.__version__)\n",
        "assert version.parse(tf.__version__).release[0] >=2"
      ],
      "execution_count": 5,
      "outputs": [
        {
          "output_type": "stream",
          "text": [
            "This notebook requires TensorFlow 2.0 or above\n",
            "TensorFlow version:  2.5.0\n"
          ],
          "name": "stdout"
        }
      ]
    },
    {
      "cell_type": "code",
      "metadata": {
        "colab": {
          "base_uri": "https://localhost:8080/"
        },
        "id": "U_bLWHP4rW3b",
        "outputId": "0c893013-01f5-44fe-fcb9-598cef6b8449"
      },
      "source": [
        "print(\"Keras version: \", keras.__version__)"
      ],
      "execution_count": 6,
      "outputs": [
        {
          "output_type": "stream",
          "text": [
            "Keras version:  2.5.0\n"
          ],
          "name": "stdout"
        }
      ]
    },
    {
      "cell_type": "markdown",
      "metadata": {
        "id": "-mFyXjJmtJ3E"
      },
      "source": [
        "### Mount Google Drive to Colab Environment"
      ]
    },
    {
      "cell_type": "code",
      "metadata": {
        "id": "CXm3H81YrW8-"
      },
      "source": [
        "#from google.colab import drive\n",
        "#drive.mount('/content/gdrive')"
      ],
      "execution_count": 7,
      "outputs": []
    },
    {
      "cell_type": "markdown",
      "metadata": {
        "id": "X6s4xhh5ysp6"
      },
      "source": [
        "###  TensorFlow Datasets Information<br>\n",
        "<div class=\"alert alert-block alert-info\">\n",
        "    <b> ag_news_subset</b><br>\n",
        "    See https://www.tensorflow.org/datasets/catalog/ag_news_subset\n",
        "    </div>"
      ]
    },
    {
      "cell_type": "markdown",
      "metadata": {
        "id": "cL3ewSkAF4yF"
      },
      "source": [
        "Get all the words in the documents (as well as the number of words in each document) by using the encoder to get the indices associated with each token and then translating the indices to tokens. But first we need to get the \"unpadded\" new articles so that we can get their length."
      ]
    },
    {
      "cell_type": "code",
      "metadata": {
        "colab": {
          "base_uri": "https://localhost:8080/"
        },
        "id": "VNj2HSxNtTNS",
        "scrolled": false,
        "outputId": "ccb05e1b-1b3b-4a1a-89c3-a48ac934bbf3"
      },
      "source": [
        "#register  ag_news_subset so that tfds.load doesn't generate a checksum (mismatch) error\n",
        "!python -m tensorflow_datasets.scripts.download_and_prepare --register_checksums --datasets=ag_news_subset\n",
        "\n",
        "# https://www.tensorflow.org/datasets/splits\n",
        "# The full `train` and `test` splits, interleaved together.\n",
        "ri = tfds.core.ReadInstruction('train') + tfds.core.ReadInstruction('test')\n",
        "dataset_all, info = tfds.load('ag_news_subset', with_info=True,  split=ri, as_supervised=True)"
      ],
      "execution_count": 8,
      "outputs": [
        {
          "output_type": "stream",
          "text": [
            "2021-06-20 14:20:20.553179: I tensorflow/stream_executor/platform/default/dso_loader.cc:53] Successfully opened dynamic library libcudart.so.11.0\n",
            "I0620 14:20:22.823386 140033375434624 download_and_prepare.py:200] Running download_and_prepare for dataset(s):\n",
            "ag_news_subset\n",
            "2021-06-20 14:20:22.841730: I tensorflow/core/platform/cloud/google_auth_provider.cc:180] Attempting an empty bearer token since no token was retrieved from files, and GCE metadata check was skipped.\n",
            "2021-06-20 14:20:22.981106: I tensorflow/core/platform/cloud/google_auth_provider.cc:180] Attempting an empty bearer token since no token was retrieved from files, and GCE metadata check was skipped.\n",
            "2021-06-20 14:20:23.108822: I tensorflow/core/platform/cloud/google_auth_provider.cc:180] Attempting an empty bearer token since no token was retrieved from files, and GCE metadata check was skipped.\n",
            "I0620 14:20:23.231711 140033375434624 dataset_info.py:434] Load pre-computed DatasetInfo (eg: splits, num examples,...) from GCS: ag_news_subset/1.0.0\n",
            "2021-06-20 14:20:23.245311: I tensorflow/core/platform/cloud/google_auth_provider.cc:180] Attempting an empty bearer token since no token was retrieved from files, and GCE metadata check was skipped.\n",
            "2021-06-20 14:20:23.596565: I tensorflow/core/platform/cloud/google_auth_provider.cc:180] Attempting an empty bearer token since no token was retrieved from files, and GCE metadata check was skipped.\n",
            "I0620 14:20:23.971614 140033375434624 dataset_info.py:361] Load dataset info from /tmp/tmpjojkq578tfds\n",
            "I0620 14:20:23.973852 140033375434624 download_and_prepare.py:138] download_and_prepare for dataset ag_news_subset/1.0.0...\n",
            "I0620 14:20:23.974288 140033375434624 dataset_builder.py:357] Generating dataset ag_news_subset (/root/tensorflow_datasets/ag_news_subset/1.0.0)\n",
            "\u001b[1mDownloading and preparing dataset ag_news_subset/1.0.0 (download: 11.24 MiB, generated: 35.79 MiB, total: 47.03 MiB) to /root/tensorflow_datasets/ag_news_subset/1.0.0...\u001b[0m\n",
            "2021-06-20 14:20:24.147654: I tensorflow/core/platform/cloud/google_auth_provider.cc:180] Attempting an empty bearer token since no token was retrieved from files, and GCE metadata check was skipped.\n",
            "2021-06-20 14:20:24.270098: I tensorflow/core/platform/cloud/google_auth_provider.cc:180] Attempting an empty bearer token since no token was retrieved from files, and GCE metadata check was skipped.\n",
            "Dl Completed...: 0 url [00:00, ? url/s]\n",
            "Dl Size...: 0 MiB [00:00, ? MiB/s]\u001b[A\n",
            "\n",
            "Extraction completed...: 0 file [00:00, ? file/s]\u001b[A\u001b[AI0620 14:20:24.398679 140033375434624 download_manager.py:476] Downloading https://drive.google.com/uc?export=download&id=0Bz8a_Dbh9QhbUDNpeUdjb0wxRms into /root/tensorflow_datasets/downloads/ucexport_download_id_0Bz8a_Dbh9QhbUDNpeUdjb0wxj4g1umFAV8OV-uDwxSJR0LdxO_k1jxMuFWwAfNX9jos.tmp.9b0d85b980ac4ac8a1e4408d0f987771...\n",
            "Dl Completed...:   0% 0/1 [00:00<?, ? url/s]\n",
            "Dl Size...: 0 MiB [00:00, ? MiB/s]\u001b[A\n",
            "\n",
            "Dl Completed...:   0% 0/1 [00:08<?, ? url/s]\n",
            "Dl Size...: 0 MiB [00:08, ? MiB/s]\u001b[A\n",
            "\n",
            "Extraction completed...: 0 file [00:08, ? file/s]\u001b[A\u001b[A\n",
            "Dl Completed...:   0% 0/1 [00:09<?, ? url/s]\n",
            "Dl Size...: 1 MiB [00:09,  9.03s/ MiB]\u001b[A\n",
            "\n",
            "Dl Completed...:   0% 0/1 [00:09<?, ? url/s]\n",
            "Dl Size...: 2 MiB [00:09,  9.03s/ MiB]\u001b[A\n",
            "\n",
            "Dl Completed...:   0% 0/1 [00:09<?, ? url/s]\n",
            "Dl Size...: 3 MiB [00:09,  9.03s/ MiB]\u001b[A\n",
            "\n",
            "Extraction completed...: 0 file [00:09, ? file/s]\u001b[A\u001b[A\n",
            "Dl Completed...:   0% 0/1 [00:09<?, ? url/s]\n",
            "Dl Size...: 4 MiB [00:09,  6.34s/ MiB]\u001b[A\n",
            "\n",
            "Dl Completed...:   0% 0/1 [00:09<?, ? url/s]\n",
            "Dl Size...: 5 MiB [00:09,  6.34s/ MiB]\u001b[A\n",
            "\n",
            "Dl Completed...:   0% 0/1 [00:09<?, ? url/s]\n",
            "Dl Size...: 6 MiB [00:09,  6.34s/ MiB]\u001b[A\n",
            "\n",
            "Dl Completed...:   0% 0/1 [00:09<?, ? url/s]\n",
            "Dl Size...: 7 MiB [00:09,  6.34s/ MiB]\u001b[A\n",
            "\n",
            "Extraction completed...: 0 file [00:09, ? file/s]\u001b[A\u001b[A\n",
            "Dl Completed...:   0% 0/1 [00:09<?, ? url/s]\n",
            "Dl Size...: 8 MiB [00:09,  4.44s/ MiB]\u001b[A\n",
            "\n",
            "Dl Completed...:   0% 0/1 [00:09<?, ? url/s]\n",
            "Dl Size...: 9 MiB [00:09,  4.44s/ MiB]\u001b[A\n",
            "\n",
            "Dl Completed...:   0% 0/1 [00:09<?, ? url/s]\n",
            "Dl Size...: 10 MiB [00:09,  4.44s/ MiB]\u001b[A\n",
            "\n",
            "Dl Completed...:   0% 0/1 [00:09<?, ? url/s]\n",
            "Dl Size...: 11 MiB [00:09,  4.44s/ MiB]\u001b[A\n",
            "\n",
            "Dl Completed...: 100% 1/1 [00:09<00:00,  9.30s/ url]\n",
            "Dl Size...: 11 MiB [00:09,  4.44s/ MiB]\u001b[A\n",
            "\n",
            "Dl Completed...: 100% 1/1 [00:09<00:00,  9.30s/ url]\n",
            "Dl Size...: 11 MiB [00:09,  4.44s/ MiB]\u001b[A\n",
            "\n",
            "Extraction completed...:   0% 0/1 [00:09<?, ? file/s]\u001b[A\u001b[A\n",
            "\n",
            "Dl Completed...: 100% 1/1 [00:09<00:00,  9.30s/ url]\n",
            "Dl Size...: 11 MiB [00:09,  4.44s/ MiB]\u001b[A\n",
            "\n",
            "Extraction completed...: 100% 1/1 [00:09<00:00,  9.68s/ file]\u001b[A\u001b[A\n",
            "Extraction completed...: 100% 1/1 [00:09<00:00,  9.69s/ file]\n",
            "\n",
            "Dl Size...: 11 MiB [00:09,  1.14 MiB/s]\n",
            "\n",
            "Dl Completed...: 100% 1/1 [00:09<00:00,  9.69s/ url]\n",
            "I0620 14:20:34.083413 140033375434624 dataset_builder.py:970] Generating split train\n",
            "Shuffling and writing examples to /root/tensorflow_datasets/ag_news_subset/1.0.0.incompleteTEJ1ZW/ag_news_subset-train.tfrecord\n",
            "100% 119490/120000 [00:00<00:18, 27.77 examples/s]I0620 14:21:06.629969 140033375434624 tfrecords_writer.py:226] Done writing /root/tensorflow_datasets/ag_news_subset/1.0.0.incompleteTEJ1ZW/ag_news_subset-train.tfrecord. Shard lengths: [120000]\n",
            "I0620 14:21:06.649533 140033375434624 dataset_builder.py:970] Generating split test\n",
            "Shuffling and writing examples to /root/tensorflow_datasets/ag_news_subset/1.0.0.incompleteTEJ1ZW/ag_news_subset-test.tfrecord\n",
            "  0% 0/7600 [00:00<?, ? examples/s]I0620 14:21:08.822903 140033375434624 tfrecords_writer.py:226] Done writing /root/tensorflow_datasets/ag_news_subset/1.0.0.incompleteTEJ1ZW/ag_news_subset-test.tfrecord. Shard lengths: [7600]\n",
            "I0620 14:21:08.824360 140033375434624 dataset_builder.py:412] Skipping computing stats for mode ComputeStatsMode.SKIP.\n",
            "\u001b[1mDataset ag_news_subset downloaded and prepared to /root/tensorflow_datasets/ag_news_subset/1.0.0. Subsequent calls will reuse this data.\u001b[0m\n",
            "\u001b[1mname: \"ag_news_subset\"\n",
            "description: \"AG is a collection of more than 1 million news articles.\\nNews articles have been gathered from more than 2000  news sources by ComeToMyHead in more than 1 year of activity.\\nComeToMyHead is an academic news search engine which has been running since July, 2004.\\nThe dataset is provided by the academic comunity for research purposes in data mining (clustering, classification, etc),\\ninformation retrieval (ranking, search, etc), xml, data compression, data streaming,\\nand any other non-commercial activity.\\nFor more information, please refer to the link http://www.di.unipi.it/~gulli/AG_corpus_of_news_articles.html .\\n\\nThe AG\\'s news topic classification dataset is constructed by Xiang Zhang (xiang.zhang@nyu.edu) from the dataset above.\\nIt is used as a text classification benchmark in the following paper:\\nXiang Zhang, Junbo Zhao, Yann LeCun. Character-level Convolutional Networks for Text Classification. Advances in Neural Information Processing Systems 28 (NIPS 2015).\\n\\nThe AG\\'s news topic classification dataset is constructed by choosing 4 largest classes from the original corpus.\\nEach class contains 30,000 training samples and 1,900 testing samples.\\nThe total number of training samples is 120,000 and testing 7,600.\"\n",
            "citation: \"@misc{zhang2015characterlevel,\\n    title={Character-level Convolutional Networks for Text Classification},\\n    author={Xiang Zhang and Junbo Zhao and Yann LeCun},\\n    year={2015},\\n    eprint={1509.01626},\\n    archivePrefix={arXiv},\\n    primaryClass={cs.LG}\\n}\"\n",
            "location {\n",
            "  urls: \"https://arxiv.org/abs/1509.01626\"\n",
            "}\n",
            "splits {\n",
            "  name: \"test\"\n",
            "  shard_lengths: 7600\n",
            "  num_bytes: 2226751\n",
            "}\n",
            "splits {\n",
            "  name: \"train\"\n",
            "  shard_lengths: 120000\n",
            "  num_bytes: 35301386\n",
            "}\n",
            "supervised_keys {\n",
            "  input: \"description\"\n",
            "  output: \"label\"\n",
            "}\n",
            "version: \"1.0.0\"\n",
            "download_size: 11784327\n",
            "\u001b[0m\n"
          ],
          "name": "stdout"
        }
      ]
    },
    {
      "cell_type": "markdown",
      "metadata": {
        "id": "Bzs2FWbQIf5m"
      },
      "source": [
        "###  Exploratory Analysis AG News Subset"
      ]
    },
    {
      "cell_type": "markdown",
      "metadata": {
        "id": "m7514-j4I4B-"
      },
      "source": [
        "**Get information about the ag_news_subset dataset. We combined the training and test data for a total of 127,600 news articles.**"
      ]
    },
    {
      "cell_type": "code",
      "metadata": {
        "colab": {
          "base_uri": "https://localhost:8080/"
        },
        "id": "eJNcnZbRtTQ2",
        "outputId": "faea6f30-4e90-4b34-ccf3-720e38d962f9"
      },
      "source": [
        "print(info)"
      ],
      "execution_count": 9,
      "outputs": [
        {
          "output_type": "stream",
          "text": [
            "tfds.core.DatasetInfo(\n",
            "    name='ag_news_subset',\n",
            "    version=1.0.0,\n",
            "    description='AG is a collection of more than 1 million news articles.\n",
            "News articles have been gathered from more than 2000  news sources by ComeToMyHead in more than 1 year of activity.\n",
            "ComeToMyHead is an academic news search engine which has been running since July, 2004.\n",
            "The dataset is provided by the academic comunity for research purposes in data mining (clustering, classification, etc),\n",
            "information retrieval (ranking, search, etc), xml, data compression, data streaming,\n",
            "and any other non-commercial activity.\n",
            "For more information, please refer to the link http://www.di.unipi.it/~gulli/AG_corpus_of_news_articles.html .\n",
            "\n",
            "The AG's news topic classification dataset is constructed by Xiang Zhang (xiang.zhang@nyu.edu) from the dataset above.\n",
            "It is used as a text classification benchmark in the following paper:\n",
            "Xiang Zhang, Junbo Zhao, Yann LeCun. Character-level Convolutional Networks for Text Classification. Advances in Neural Information Processing Systems 28 (NIPS 2015).\n",
            "\n",
            "The AG's news topic classification dataset is constructed by choosing 4 largest classes from the original corpus.\n",
            "Each class contains 30,000 training samples and 1,900 testing samples.\n",
            "The total number of training samples is 120,000 and testing 7,600.',\n",
            "    homepage='https://arxiv.org/abs/1509.01626',\n",
            "    features=FeaturesDict({\n",
            "        'description': Text(shape=(), dtype=tf.string),\n",
            "        'label': ClassLabel(shape=(), dtype=tf.int64, num_classes=4),\n",
            "        'title': Text(shape=(), dtype=tf.string),\n",
            "    }),\n",
            "    total_num_examples=127600,\n",
            "    splits={\n",
            "        'test': 7600,\n",
            "        'train': 120000,\n",
            "    },\n",
            "    supervised_keys=('description', 'label'),\n",
            "    citation=\"\"\"@misc{zhang2015characterlevel,\n",
            "        title={Character-level Convolutional Networks for Text Classification},\n",
            "        author={Xiang Zhang and Junbo Zhao and Yann LeCun},\n",
            "        year={2015},\n",
            "        eprint={1509.01626},\n",
            "        archivePrefix={arXiv},\n",
            "        primaryClass={cs.LG}\n",
            "    }\"\"\",\n",
            "    redistribution_info=,\n",
            ")\n",
            "\n"
          ],
          "name": "stdout"
        }
      ]
    },
    {
      "cell_type": "code",
      "metadata": {
        "colab": {
          "base_uri": "https://localhost:8080/",
          "height": 245
        },
        "id": "w6GaSzMRqrIR",
        "outputId": "eaefb16a-d90c-47f3-b9f6-43722ab51259"
      },
      "source": [
        "tfds.as_dataframe(dataset_all.take(10),info)"
      ],
      "execution_count": 10,
      "outputs": [
        {
          "output_type": "execute_result",
          "data": {
            "text/html": [
              "<style  type=\"text/css\" >\n",
              "</style><table id=\"T_c40806f0_d1d2_11eb_9cdb_0242ac1c0002\" ><thead>    <tr>        <th class=\"blank level0\" ></th>        <th class=\"col_heading level0 col0\" >description</th>        <th class=\"col_heading level0 col1\" >label</th>    </tr></thead><tbody>\n",
              "                <tr>\n",
              "                        <th id=\"T_c40806f0_d1d2_11eb_9cdb_0242ac1c0002level0_row0\" class=\"row_heading level0 row0\" >0</th>\n",
              "                        <td id=\"T_c40806f0_d1d2_11eb_9cdb_0242ac1c0002row0_col0\" class=\"data row0 col0\" >AMD #39;s new dual-core Opteron chip is designed mainly for corporate computing applications, including databases, Web services, and financial transactions.</td>\n",
              "                        <td id=\"T_c40806f0_d1d2_11eb_9cdb_0242ac1c0002row0_col1\" class=\"data row0 col1\" >3 (Sci/Tech)</td>\n",
              "            </tr>\n",
              "            <tr>\n",
              "                        <th id=\"T_c40806f0_d1d2_11eb_9cdb_0242ac1c0002level0_row1\" class=\"row_heading level0 row1\" >1</th>\n",
              "                        <td id=\"T_c40806f0_d1d2_11eb_9cdb_0242ac1c0002row1_col0\" class=\"data row1 col0\" >Reuters - Major League Baseball\\Monday announced a decision on the appeal filed by Chicago Cubs\\pitcher Kerry Wood regarding a suspension stemming from an\\incident earlier this season.</td>\n",
              "                        <td id=\"T_c40806f0_d1d2_11eb_9cdb_0242ac1c0002row1_col1\" class=\"data row1 col1\" >1 (Sports)</td>\n",
              "            </tr>\n",
              "            <tr>\n",
              "                        <th id=\"T_c40806f0_d1d2_11eb_9cdb_0242ac1c0002level0_row2\" class=\"row_heading level0 row2\" >2</th>\n",
              "                        <td id=\"T_c40806f0_d1d2_11eb_9cdb_0242ac1c0002row2_col0\" class=\"data row2 col0\" >President Bush #39;s quot;revenue-neutral quot; tax reform needs losers to balance its winners, and people claiming the federal deduction for state and local taxes may be in administration planners #39; sights, news reports say.</td>\n",
              "                        <td id=\"T_c40806f0_d1d2_11eb_9cdb_0242ac1c0002row2_col1\" class=\"data row2 col1\" >2 (Business)</td>\n",
              "            </tr>\n",
              "            <tr>\n",
              "                        <th id=\"T_c40806f0_d1d2_11eb_9cdb_0242ac1c0002level0_row3\" class=\"row_heading level0 row3\" >3</th>\n",
              "                        <td id=\"T_c40806f0_d1d2_11eb_9cdb_0242ac1c0002row3_col0\" class=\"data row3 col0\" >Britain will run out of leading scientists unless science education is improved, says Professor Colin Pillinger.</td>\n",
              "                        <td id=\"T_c40806f0_d1d2_11eb_9cdb_0242ac1c0002row3_col1\" class=\"data row3 col1\" >3 (Sci/Tech)</td>\n",
              "            </tr>\n",
              "            <tr>\n",
              "                        <th id=\"T_c40806f0_d1d2_11eb_9cdb_0242ac1c0002level0_row4\" class=\"row_heading level0 row4\" >4</th>\n",
              "                        <td id=\"T_c40806f0_d1d2_11eb_9cdb_0242ac1c0002row4_col0\" class=\"data row4 col0\" >London, England (Sports Network) - England midfielder Steven Gerrard injured his groin late in Thursday #39;s training session, but is hopeful he will be ready for Saturday #39;s World Cup qualifier against Austria.</td>\n",
              "                        <td id=\"T_c40806f0_d1d2_11eb_9cdb_0242ac1c0002row4_col1\" class=\"data row4 col1\" >1 (Sports)</td>\n",
              "            </tr>\n",
              "            <tr>\n",
              "                        <th id=\"T_c40806f0_d1d2_11eb_9cdb_0242ac1c0002level0_row5\" class=\"row_heading level0 row5\" >5</th>\n",
              "                        <td id=\"T_c40806f0_d1d2_11eb_9cdb_0242ac1c0002row5_col0\" class=\"data row5 col0\" >TOKYO - Sony Corp. is banking on the \\$3 billion deal to acquire Hollywood studio Metro-Goldwyn-Mayer Inc...</td>\n",
              "                        <td id=\"T_c40806f0_d1d2_11eb_9cdb_0242ac1c0002row5_col1\" class=\"data row5 col1\" >0 (World)</td>\n",
              "            </tr>\n",
              "            <tr>\n",
              "                        <th id=\"T_c40806f0_d1d2_11eb_9cdb_0242ac1c0002level0_row6\" class=\"row_heading level0 row6\" >6</th>\n",
              "                        <td id=\"T_c40806f0_d1d2_11eb_9cdb_0242ac1c0002row6_col0\" class=\"data row6 col0\" >Giant pandas may well prefer bamboo to laptops, but wireless technology is helping researchers in China in their efforts to protect the engandered animals living in the remote Wolong Nature Reserve.</td>\n",
              "                        <td id=\"T_c40806f0_d1d2_11eb_9cdb_0242ac1c0002row6_col1\" class=\"data row6 col1\" >3 (Sci/Tech)</td>\n",
              "            </tr>\n",
              "            <tr>\n",
              "                        <th id=\"T_c40806f0_d1d2_11eb_9cdb_0242ac1c0002level0_row7\" class=\"row_heading level0 row7\" >7</th>\n",
              "                        <td id=\"T_c40806f0_d1d2_11eb_9cdb_0242ac1c0002row7_col0\" class=\"data row7 col0\" >VILNIUS, Lithuania - Lithuania #39;s main parties formed an alliance to try to keep a Russian-born tycoon and his populist promises out of the government in Sunday #39;s second round of parliamentary elections in this Baltic country.</td>\n",
              "                        <td id=\"T_c40806f0_d1d2_11eb_9cdb_0242ac1c0002row7_col1\" class=\"data row7 col1\" >0 (World)</td>\n",
              "            </tr>\n",
              "            <tr>\n",
              "                        <th id=\"T_c40806f0_d1d2_11eb_9cdb_0242ac1c0002level0_row8\" class=\"row_heading level0 row8\" >8</th>\n",
              "                        <td id=\"T_c40806f0_d1d2_11eb_9cdb_0242ac1c0002row8_col0\" class=\"data row8 col0\" >Witnesses in the trial of a US soldier charged with abusing prisoners at Abu Ghraib have told the court that the CIA sometimes directed abuse and orders were received from military command to toughen interrogations.</td>\n",
              "                        <td id=\"T_c40806f0_d1d2_11eb_9cdb_0242ac1c0002row8_col1\" class=\"data row8 col1\" >0 (World)</td>\n",
              "            </tr>\n",
              "            <tr>\n",
              "                        <th id=\"T_c40806f0_d1d2_11eb_9cdb_0242ac1c0002level0_row9\" class=\"row_heading level0 row9\" >9</th>\n",
              "                        <td id=\"T_c40806f0_d1d2_11eb_9cdb_0242ac1c0002row9_col0\" class=\"data row9 col0\" >Dan Olsen of Ponte Vedra Beach, Fla., shot a 7-under 65 Thursday to take a one-shot lead after two rounds of the PGA Tour qualifying tournament.</td>\n",
              "                        <td id=\"T_c40806f0_d1d2_11eb_9cdb_0242ac1c0002row9_col1\" class=\"data row9 col1\" >1 (Sports)</td>\n",
              "            </tr>\n",
              "    </tbody></table>"
            ],
            "text/plain": [
              "                                         description  label\n",
              "0  b'AMD #39;s new dual-core Opteron chip is desi...      3\n",
              "1  b'Reuters - Major League Baseball\\\\Monday anno...      1\n",
              "2  b'President Bush #39;s  quot;revenue-neutral q...      2\n",
              "3  b'Britain will run out of leading scientists u...      3\n",
              "4  b'London, England (Sports Network) - England m...      1\n",
              "5  b'TOKYO - Sony Corp. is banking on the \\\\$3 bi...      0\n",
              "6  b'Giant pandas may well prefer bamboo to lapto...      3\n",
              "7  b'VILNIUS, Lithuania - Lithuania #39;s main pa...      0\n",
              "8  b'Witnesses in the trial of a US soldier charg...      0\n",
              "9  b'Dan Olsen of Ponte Vedra Beach, Fla., shot a...      1"
            ]
          },
          "metadata": {
            "tags": []
          },
          "execution_count": 10
        }
      ]
    },
    {
      "cell_type": "markdown",
      "metadata": {
        "id": "RoG_cOcMMKgC"
      },
      "source": [
        "### Review Labels (Categories) "
      ]
    },
    {
      "cell_type": "code",
      "metadata": {
        "colab": {
          "base_uri": "https://localhost:8080/"
        },
        "id": "4uBCsL_8tTUU",
        "outputId": "81e1618c-5785-4e31-c761-85c00969eaf9"
      },
      "source": [
        "print(f'There are {info.features[\"label\"].num_classes} classes in the dataset.')\n",
        "print(f'The class names are {info.features[\"label\"].names}')"
      ],
      "execution_count": 11,
      "outputs": [
        {
          "output_type": "stream",
          "text": [
            "There are 4 classes in the dataset.\n",
            "The class names are ['World', 'Sports', 'Business', 'Sci/Tech']\n"
          ],
          "name": "stdout"
        }
      ]
    },
    {
      "cell_type": "code",
      "metadata": {
        "colab": {
          "base_uri": "https://localhost:8080/"
        },
        "id": "fRbULmnCtTXo",
        "outputId": "4bd2c2a9-b63b-49c0-80da-081818f5da54"
      },
      "source": [
        "# classes dictionary\n",
        "categories =dict(enumerate(info.features[\"label\"].names))\n",
        "categories"
      ],
      "execution_count": 12,
      "outputs": [
        {
          "output_type": "execute_result",
          "data": {
            "text/plain": [
              "{0: 'World', 1: 'Sports', 2: 'Business', 3: 'Sci/Tech'}"
            ]
          },
          "metadata": {
            "tags": []
          },
          "execution_count": 12
        }
      ]
    },
    {
      "cell_type": "markdown",
      "metadata": {
        "id": "xXQzudk9MmOs"
      },
      "source": [
        "The 127,600 news articles are evenly distributed among the 4 categories"
      ]
    },
    {
      "cell_type": "code",
      "metadata": {
        "colab": {
          "base_uri": "https://localhost:8080/"
        },
        "id": "PRtOaULstTbJ",
        "outputId": "0cb930ec-b3a5-4790-880f-94a2ac6d3169"
      },
      "source": [
        "train_categories = [categories[label] for label in dataset_all.map(lambda text, label: label).as_numpy_iterator()]\n",
        "Counter(train_categories).most_common()"
      ],
      "execution_count": 13,
      "outputs": [
        {
          "output_type": "execute_result",
          "data": {
            "text/plain": [
              "[('Sci/Tech', 31900), ('Sports', 31900), ('Business', 31900), ('World', 31900)]"
            ]
          },
          "metadata": {
            "tags": []
          },
          "execution_count": 13
        }
      ]
    },
    {
      "cell_type": "markdown",
      "metadata": {
        "id": "k6-1-zvxdS8f"
      },
      "source": [
        "We will use the tf.keras.layers.experimental.preprocessing.TextVectorization layer to transform each news article into a \"list\" of non-negative integers representing the tokens in the news article.\n",
        "\n",
        "For the purpose of training our models each such \"encoding\" will have a fixed length corresponding to the news article(s) with the most tokens. Shorter articles will be right-padded with zeros in the encoding. Also to speed up the training process, we will set max_tokens = 1000 so that words not in the vabulary set of top 1000 most common tokes are encoded as 1. But first we set max_tokens = None (which is the default value) in order to get the vocabulary size of the corpus.\n"
      ]
    },
    {
      "cell_type": "code",
      "metadata": {
        "colab": {
          "base_uri": "https://localhost:8080/"
        },
        "id": "WYY7P-aaeU4Z",
        "outputId": "437e85ef-860c-4001-a756-abb868157b29"
      },
      "source": [
        "%%time\n",
        "encoder = tf.keras.layers.experimental.preprocessing.TextVectorization(max_tokens=None)\n",
        "encoder.adapt(dataset_all.map(lambda text, label: text))\n",
        "vocab = np.array(encoder.get_vocabulary())"
      ],
      "execution_count": 14,
      "outputs": [
        {
          "output_type": "stream",
          "text": [
            "WARNING:tensorflow:AutoGraph could not transform <function <lambda> at 0x7f6ab038e3b0> and will run it as-is.\n",
            "Cause: could not parse the source code of <function <lambda> at 0x7f6ab038e3b0>: no matching AST found\n",
            "To silence this warning, decorate the function with @tf.autograph.experimental.do_not_convert\n"
          ],
          "name": "stdout"
        },
        {
          "output_type": "stream",
          "text": [
            "WARNING:tensorflow:AutoGraph could not transform <function <lambda> at 0x7f6ab038e3b0> and will run it as-is.\n",
            "Cause: could not parse the source code of <function <lambda> at 0x7f6ab038e3b0>: no matching AST found\n",
            "To silence this warning, decorate the function with @tf.autograph.experimental.do_not_convert\n"
          ],
          "name": "stderr"
        },
        {
          "output_type": "stream",
          "text": [
            "WARNING: AutoGraph could not transform <function <lambda> at 0x7f6ab038e3b0> and will run it as-is.\n",
            "Cause: could not parse the source code of <function <lambda> at 0x7f6ab038e3b0>: no matching AST found\n",
            "To silence this warning, decorate the function with @tf.autograph.experimental.do_not_convert\n",
            "CPU times: user 2min, sys: 31.7 s, total: 2min 32s\n",
            "Wall time: 1min 8s\n"
          ],
          "name": "stdout"
        }
      ]
    },
    {
      "cell_type": "code",
      "metadata": {
        "colab": {
          "base_uri": "https://localhost:8080/"
        },
        "id": "iKGVb8_Jeyig",
        "outputId": "bb8fe257-a4d3-4c8c-895d-4f9d340d7c8a"
      },
      "source": [
        "print(f\"There are {len(vocab)} vocabulary words in the corpus.\")"
      ],
      "execution_count": 15,
      "outputs": [
        {
          "output_type": "stream",
          "text": [
            "There are 95976 vocabulary words in the corpus.\n"
          ],
          "name": "stdout"
        }
      ]
    },
    {
      "cell_type": "markdown",
      "metadata": {
        "id": "PlQ3s9QUe3CX"
      },
      "source": [
        "There are 95976 vocabulary words in the corpus.\n",
        "\n",
        "The .adapt method sets the layer's vocabulary. Here are the first 20 tokens. After the padding and unknown tokens they're sorted by frequency:"
      ]
    },
    {
      "cell_type": "code",
      "metadata": {
        "colab": {
          "base_uri": "https://localhost:8080/"
        },
        "id": "_Z2Io_yoe8zW",
        "outputId": "67c28d90-8eee-4a8b-a719-fd577fca3dc7"
      },
      "source": [
        "vocab[:20]"
      ],
      "execution_count": 16,
      "outputs": [
        {
          "output_type": "execute_result",
          "data": {
            "text/plain": [
              "array(['', '[UNK]', 'the', 'a', 'to', 'of', 'in', 'and', 'on', 'for',\n",
              "       'that', '39s', 'with', 'its', 'as', 'at', 'is', 'said', 'by', 'it'],\n",
              "      dtype='<U150')"
            ]
          },
          "metadata": {
            "tags": []
          },
          "execution_count": 16
        }
      ]
    },
    {
      "cell_type": "markdown",
      "metadata": {
        "id": "wJ0MQCTAfdCL"
      },
      "source": [
        "Let us get the total number of words in the corpus and the sizes of the news articles"
      ]
    },
    {
      "cell_type": "code",
      "metadata": {
        "colab": {
          "base_uri": "https://localhost:8080/"
        },
        "id": "l3TlBRwMfXde",
        "outputId": "948bc932-a09f-46d3-cdf9-423e06c8a2e8"
      },
      "source": [
        "%%time\n",
        "doc_sizes = []\n",
        "corpus = []\n",
        "for example, _ in dataset_all.as_numpy_iterator():\n",
        "  enc_example = encoder(example)\n",
        "  doc_sizes.append(len(enc_example))\n",
        "  corpus+=list(enc_example.numpy())"
      ],
      "execution_count": 17,
      "outputs": [
        {
          "output_type": "stream",
          "text": [
            "CPU times: user 14min 9s, sys: 2min 25s, total: 16min 35s\n",
            "Wall time: 13min 7s\n"
          ],
          "name": "stdout"
        }
      ]
    },
    {
      "cell_type": "code",
      "metadata": {
        "colab": {
          "base_uri": "https://localhost:8080/"
        },
        "id": "XEbVpRHyfXqU",
        "outputId": "cd672efa-6d77-4733-99d2-2859014975d6"
      },
      "source": [
        "print(f\"There are {len(corpus)} words in the corpus of {len(doc_sizes)} news articles.\")\n",
        "print(f\"Each news article has between {min(doc_sizes)} and {max(doc_sizes)} tokens in it.\")"
      ],
      "execution_count": 18,
      "outputs": [
        {
          "output_type": "stream",
          "text": [
            "There are 3909695 words in the corpus of 127600 news articles.\n",
            "Each news article has between 3 and 173 tokens in it.\n"
          ],
          "name": "stdout"
        }
      ]
    },
    {
      "cell_type": "code",
      "metadata": {
        "colab": {
          "base_uri": "https://localhost:8080/",
          "height": 550
        },
        "id": "mgtVVxL-i8Uo",
        "outputId": "a984b1c4-ad46-4ed3-ed1e-a64b5edf11af"
      },
      "source": [
        "plt.figure(figsize=(15,9))\n",
        "plt.hist(doc_sizes, bins=20,range = (0,120))\n",
        "plt.xlabel(\"Tokens Per Document\")\n",
        "plt.ylabel(\"Number of AG News Articles\");"
      ],
      "execution_count": 19,
      "outputs": [
        {
          "output_type": "display_data",
          "data": {
            "image/png": "[encoded data removed]",
            "text/plain": [
              "<Figure size 1080x648 with 1 Axes>"
            ]
          },
          "metadata": {
            "tags": [],
            "needs_background": "light"
          }
        }
      ]
    },
    {
      "cell_type": "markdown",
      "metadata": {
        "id": "gu7roRaAjDYH"
      },
      "source": [
        "Encode the news articles using the top 1000 most common words in the corpus"
      ]
    },
    {
      "cell_type": "code",
      "metadata": {
        "colab": {
          "base_uri": "https://localhost:8080/"
        },
        "id": "Z4fN-QeAjCFZ",
        "outputId": "d89d2c03-2813-4050-a2a1-d50804096cce"
      },
      "source": [
        "%%time\n",
        "encoder_1000 = tf.keras.layers.experimental.preprocessing.TextVectorization(max_tokens=1000)\n",
        "encoder_1000.adapt(dataset_all.map(lambda text, label: text))\n",
        "vocab_1000 = np.array(encoder_1000.get_vocabulary());"
      ],
      "execution_count": 20,
      "outputs": [
        {
          "output_type": "stream",
          "text": [
            "WARNING:tensorflow:AutoGraph could not transform <function <lambda> at 0x7f6a54d84440> and will run it as-is.\n",
            "Cause: could not parse the source code of <function <lambda> at 0x7f6a54d84440>: no matching AST found\n",
            "To silence this warning, decorate the function with @tf.autograph.experimental.do_not_convert\n"
          ],
          "name": "stdout"
        },
        {
          "output_type": "stream",
          "text": [
            "WARNING:tensorflow:AutoGraph could not transform <function <lambda> at 0x7f6a54d84440> and will run it as-is.\n",
            "Cause: could not parse the source code of <function <lambda> at 0x7f6a54d84440>: no matching AST found\n",
            "To silence this warning, decorate the function with @tf.autograph.experimental.do_not_convert\n"
          ],
          "name": "stderr"
        },
        {
          "output_type": "stream",
          "text": [
            "WARNING: AutoGraph could not transform <function <lambda> at 0x7f6a54d84440> and will run it as-is.\n",
            "Cause: could not parse the source code of <function <lambda> at 0x7f6a54d84440>: no matching AST found\n",
            "To silence this warning, decorate the function with @tf.autograph.experimental.do_not_convert\n",
            "CPU times: user 1min 55s, sys: 34 s, total: 2min 29s\n",
            "Wall time: 1min 7s\n"
          ],
          "name": "stdout"
        }
      ]
    },
    {
      "cell_type": "markdown",
      "metadata": {
        "id": "M65FlO5QjeFb"
      },
      "source": [
        "The .adapt method sets the layer's vocabulary. Here are the first 20 tokens. After the padding and unknown tokens they're sorted by frequency:"
      ]
    },
    {
      "cell_type": "code",
      "metadata": {
        "colab": {
          "base_uri": "https://localhost:8080/"
        },
        "id": "BBTFJ-RUjcug",
        "outputId": "0366f0e9-ea89-477b-8028-e28b85f59db5"
      },
      "source": [
        "vocab_1000[:20]"
      ],
      "execution_count": 21,
      "outputs": [
        {
          "output_type": "execute_result",
          "data": {
            "text/plain": [
              "array(['', '[UNK]', 'the', 'a', 'to', 'of', 'in', 'and', 'on', 'for',\n",
              "       'that', '39s', 'with', 'its', 'as', 'at', 'is', 'said', 'by', 'it'],\n",
              "      dtype='<U14')"
            ]
          },
          "metadata": {
            "tags": []
          },
          "execution_count": 21
        }
      ]
    },
    {
      "cell_type": "markdown",
      "metadata": {
        "id": "pejvLRAMjlZJ"
      },
      "source": [
        "In particular, 0 is use for padding, 1 for the unknown words, 2 for the common word, i.e. 'the', etc. Let us look at the same example we encoded previously using the encoder for all the vocabulary words. Note that there are now five 1's denoting words that are not in the top 1000 in frequency.\n",
        "\n",
        "We encode the same example as before using the new encoder. Note that there are now 5 out of vocabulary words."
      ]
    },
    {
      "cell_type": "code",
      "metadata": {
        "colab": {
          "base_uri": "https://localhost:8080/"
        },
        "id": "4Am3_fw5jqBV",
        "outputId": "c33b5e77-5635-42f7-8531-70ac73373f80"
      },
      "source": [
        "example = \"the dog ran after a red ball as it rolled by the hat on the ground.\"\n",
        "encoder_1000(example)"
      ],
      "execution_count": 22,
      "outputs": [
        {
          "output_type": "execute_result",
          "data": {
            "text/plain": [
              "<tf.Tensor: shape=(16,), dtype=int64, numpy=\n",
              "array([  2,   1,   1,  29,   3, 232,   1,  14,  19,   1,  18,   2,   1,\n",
              "         8,   2, 999])>"
            ]
          },
          "metadata": {
            "tags": []
          },
          "execution_count": 22
        }
      ]
    },
    {
      "cell_type": "code",
      "metadata": {
        "colab": {
          "base_uri": "https://localhost:8080/"
        },
        "id": "J4OtDWMxjuos",
        "outputId": "a94a1c86-a273-463c-b616-bb16818f2894"
      },
      "source": [
        "for word in example.split():\n",
        "  print(f'\"{word}\" is {\"*not* \" if word not in vocab_1000  else \"\"}in the vocabulary.')"
      ],
      "execution_count": 23,
      "outputs": [
        {
          "output_type": "stream",
          "text": [
            "\"the\" is in the vocabulary.\n",
            "\"dog\" is *not* in the vocabulary.\n",
            "\"ran\" is *not* in the vocabulary.\n",
            "\"after\" is in the vocabulary.\n",
            "\"a\" is in the vocabulary.\n",
            "\"red\" is in the vocabulary.\n",
            "\"ball\" is *not* in the vocabulary.\n",
            "\"as\" is in the vocabulary.\n",
            "\"it\" is in the vocabulary.\n",
            "\"rolled\" is *not* in the vocabulary.\n",
            "\"by\" is in the vocabulary.\n",
            "\"the\" is in the vocabulary.\n",
            "\"hat\" is *not* in the vocabulary.\n",
            "\"on\" is in the vocabulary.\n",
            "\"the\" is in the vocabulary.\n",
            "\"ground.\" is *not* in the vocabulary.\n"
          ],
          "name": "stdout"
        }
      ]
    },
    {
      "cell_type": "markdown",
      "metadata": {
        "id": "DbrBW9_zjzOA"
      },
      "source": [
        "We want to determine the number of non-vocabulary words in each news articles (denoted by 1s in the encoding)"
      ]
    },
    {
      "cell_type": "code",
      "metadata": {
        "colab": {
          "base_uri": "https://localhost:8080/"
        },
        "id": "JoPf9hvsj5h0",
        "outputId": "ff7f5c77-3c4e-45bb-d525-9752aeacaff7"
      },
      "source": [
        "%%time\n",
        "doc1000_sizes = []\n",
        "corpus1000 = []\n",
        "count1000=0\n",
        "useless = 0\n",
        "# stop = 0\n",
        "percents = []\n",
        "for example, _ in dataset_all.as_numpy_iterator():\n",
        "  # stop+=1\n",
        "  # if stop > 5: break\n",
        "  enc_example = encoder_1000(example)\n",
        "  num_ones = tf.math.count_nonzero(enc_example==1).numpy()\n",
        "  percent_ones = round(num_ones*100/len(enc_example))\n",
        "  # print(f\"{percent_ones}%\")\n",
        "  percents.append(percent_ones)\n",
        "\n",
        "  s = set(list(enc_example.numpy()))\n",
        "  if s == {1}: useless+=1\n",
        "\n",
        "  doc1000_sizes.append(len(enc_example))\n",
        "  corpus1000+=list(enc_example.numpy())\n",
        "\n",
        "  count1000 += tf.math.count_nonzero(enc_example>1)"
      ],
      "execution_count": 24,
      "outputs": [
        {
          "output_type": "stream",
          "text": [
            "CPU times: user 16min 26s, sys: 2min 47s, total: 19min 14s\n",
            "Wall time: 15min 28s\n"
          ],
          "name": "stdout"
        }
      ]
    },
    {
      "cell_type": "code",
      "metadata": {
        "colab": {
          "base_uri": "https://localhost:8080/"
        },
        "id": "2vy5wpoAkHCQ",
        "outputId": "d0002011-5690-402a-9888-291995ffa7f1"
      },
      "source": [
        "print(f\"Each news article has between {min(doc1000_sizes)} and {max(doc1000_sizes)} tokens in it.\")"
      ],
      "execution_count": 25,
      "outputs": [
        {
          "output_type": "stream",
          "text": [
            "Each news article has between 3 and 173 tokens in it.\n"
          ],
          "name": "stdout"
        }
      ]
    },
    {
      "cell_type": "code",
      "metadata": {
        "colab": {
          "base_uri": "https://localhost:8080/"
        },
        "id": "IZFeEWE0kXE5",
        "outputId": "70aa4440-21d1-471b-d639-3a36a9ba0f2c"
      },
      "source": [
        "Counter(percents).most_common(10)\n",
        "np.unique(percents, return_counts=True) "
      ],
      "execution_count": 26,
      "outputs": [
        {
          "output_type": "execute_result",
          "data": {
            "text/plain": [
              "(array([  0,   3,   4,   5,   6,   7,   8,   9,  10,  11,  12,  13,  14,\n",
              "         15,  16,  17,  18,  19,  20,  21,  22,  23,  24,  25,  26,  27,\n",
              "         28,  29,  30,  31,  32,  33,  34,  35,  36,  37,  38,  39,  40,\n",
              "         41,  42,  43,  44,  45,  46,  47,  48,  49,  50,  51,  52,  53,\n",
              "         54,  55,  56,  57,  58,  59,  60,  61,  62,  63,  64,  65,  66,\n",
              "         67,  68,  69,  70,  71,  72,  73,  74,  75,  76,  77,  78,  79,\n",
              "         80,  81,  82,  83,  84,  85,  86,  87,  88,  89,  90,  91,  92,\n",
              "         93,  95,  97, 100]),\n",
              " array([  12,    5,   20,   29,   49,   71,  120,  137,  172,  274,  486,\n",
              "         368,  682,  777,  828, 1346, 1376, 2123, 1610, 2863, 2687, 3018,\n",
              "        3957, 3315, 4605, 3934, 4148, 5737, 4954, 5072, 6123, 6165, 3255,\n",
              "        5095, 4596, 3438, 5880, 4205, 3109, 4063, 3555, 3030, 2904, 2294,\n",
              "        1967, 1716, 2174,  368, 2486,  234, 1246,  747,  573,  547,  520,\n",
              "         441,  348,  217,  250,  135,  234,   49,  131,  101,   11,  135,\n",
              "          40,   62,   33,   53,    8,   34,   10,   55,   10,    8,   15,\n",
              "           3,   27,    9,    5,   19,    1,    8,   12,    6,   16,   11,\n",
              "           5,    4,    2,    3,    1,    1,   22]))"
            ]
          },
          "metadata": {
            "tags": []
          },
          "execution_count": 26
        }
      ]
    },
    {
      "cell_type": "code",
      "metadata": {
        "colab": {
          "base_uri": "https://localhost:8080/",
          "height": 550
        },
        "id": "PPJDd74Hljwz",
        "outputId": "a2697f4e-5c21-4009-fe79-55d5489638c2"
      },
      "source": [
        "plt.figure(figsize=(15,9))\n",
        "plt.hist(percents, 20)\n",
        "plt.ylabel('Number of Documents')\n",
        "plt.xlabel('Percent of Non-Vocabulary Words in a Document');"
      ],
      "execution_count": 27,
      "outputs": [
        {
          "output_type": "display_data",
          "data": {
            "image/png": "[encoded data removed]",
            "text/plain": [
              "<Figure size 1080x648 with 1 Axes>"
            ]
          },
          "metadata": {
            "tags": [],
            "needs_background": "light"
          }
        }
      ]
    },
    {
      "cell_type": "code",
      "metadata": {
        "colab": {
          "base_uri": "https://localhost:8080/"
        },
        "id": "AXb2Q-gVlo08",
        "outputId": "895fd62f-6720-44ad-de37-09895c01acd3"
      },
      "source": [
        "print(f\"There are {count1000} top {len(vocab_1000)} vocabulary words in the corpus.\")"
      ],
      "execution_count": 28,
      "outputs": [
        {
          "output_type": "stream",
          "text": [
            "There are 2602670 top 1000 vocabulary words in the corpus.\n"
          ],
          "name": "stdout"
        }
      ]
    },
    {
      "cell_type": "markdown",
      "metadata": {
        "id": "aEPOPb63RNjv"
      },
      "source": [
        "### Preprocessing Data Create Input Pipeline"
      ]
    },
    {
      "cell_type": "code",
      "metadata": {
        "colab": {
          "base_uri": "https://localhost:8080/"
        },
        "id": "0_tU6cH0ncl0",
        "outputId": "d5481efe-d363-49c8-f7ee-66ed1f3dd85a"
      },
      "source": [
        "# register  ag_news_subset so that tfds.load doesn't generate a checksum (mismatch) error\n",
        "!python -m tensorflow_datasets.scripts.download_and_prepare --register_checksums --datasets=ag_news_subset\n",
        "\n",
        "# Example Approaches to Split Data Set\n",
        "# dataset, info = tfds.load('ag_news_subset', with_info=True,  split=['train[:]','test[:1000]', 'test[1000:]'],\n",
        "dataset, info = tfds.load('ag_news_subset', with_info=True,  split=['train[:95%]','train[95%:]', 'test[:]'],\n",
        "# dataset, info = tfds.load('ag_news_subset', with_info=True,  split=['train[:114000]','train[114000:]', 'test[:]'],\n",
        "                          as_supervised=True)\n",
        "train_dataset, validation_dataset, test_dataset = dataset\n",
        "# train_dataset, test_dataset = dataset['train'],dataset['test']"
      ],
      "execution_count": 29,
      "outputs": [
        {
          "output_type": "stream",
          "text": [
            "2021-06-20 14:52:33.253384: I tensorflow/stream_executor/platform/default/dso_loader.cc:53] Successfully opened dynamic library libcudart.so.11.0\n",
            "I0620 14:52:35.406958 139959616874368 download_and_prepare.py:200] Running download_and_prepare for dataset(s):\n",
            "ag_news_subset\n",
            "I0620 14:52:35.407740 139959616874368 dataset_info.py:361] Load dataset info from /root/tensorflow_datasets/ag_news_subset/1.0.0\n",
            "I0620 14:52:35.409274 139959616874368 download_and_prepare.py:138] download_and_prepare for dataset ag_news_subset/1.0.0...\n",
            "I0620 14:52:35.409451 139959616874368 dataset_builder.py:299] Reusing dataset ag_news_subset (/root/tensorflow_datasets/ag_news_subset/1.0.0)\n",
            "\u001b[1mname: \"ag_news_subset\"\n",
            "description: \"AG is a collection of more than 1 million news articles.\\nNews articles have been gathered from more than 2000  news sources by ComeToMyHead in more than 1 year of activity.\\nComeToMyHead is an academic news search engine which has been running since July, 2004.\\nThe dataset is provided by the academic comunity for research purposes in data mining (clustering, classification, etc),\\ninformation retrieval (ranking, search, etc), xml, data compression, data streaming,\\nand any other non-commercial activity.\\nFor more information, please refer to the link http://www.di.unipi.it/~gulli/AG_corpus_of_news_articles.html .\\n\\nThe AG\\'s news topic classification dataset is constructed by Xiang Zhang (xiang.zhang@nyu.edu) from the dataset above.\\nIt is used as a text classification benchmark in the following paper:\\nXiang Zhang, Junbo Zhao, Yann LeCun. Character-level Convolutional Networks for Text Classification. Advances in Neural Information Processing Systems 28 (NIPS 2015).\\n\\nThe AG\\'s news topic classification dataset is constructed by choosing 4 largest classes from the original corpus.\\nEach class contains 30,000 training samples and 1,900 testing samples.\\nThe total number of training samples is 120,000 and testing 7,600.\"\n",
            "citation: \"@misc{zhang2015characterlevel,\\n    title={Character-level Convolutional Networks for Text Classification},\\n    author={Xiang Zhang and Junbo Zhao and Yann LeCun},\\n    year={2015},\\n    eprint={1509.01626},\\n    archivePrefix={arXiv},\\n    primaryClass={cs.LG}\\n}\"\n",
            "location {\n",
            "  urls: \"https://arxiv.org/abs/1509.01626\"\n",
            "}\n",
            "splits {\n",
            "  name: \"test\"\n",
            "  shard_lengths: 7600\n",
            "  num_bytes: 2226751\n",
            "}\n",
            "splits {\n",
            "  name: \"train\"\n",
            "  shard_lengths: 120000\n",
            "  num_bytes: 35301386\n",
            "}\n",
            "supervised_keys {\n",
            "  input: \"description\"\n",
            "  output: \"label\"\n",
            "}\n",
            "version: \"1.0.0\"\n",
            "download_size: 11784327\n",
            "\u001b[0m\n"
          ],
          "name": "stdout"
        }
      ]
    },
    {
      "cell_type": "code",
      "metadata": {
        "id": "bRc-UUujdLD6"
      },
      "source": [
        "####  Dataset Splits (Training, Test, Validation)\n",
        "#### .8934 Training, .0470 Test, .0596 Validation"
      ],
      "execution_count": 30,
      "outputs": []
    },
    {
      "cell_type": "code",
      "metadata": {
        "colab": {
          "base_uri": "https://localhost:8080/"
        },
        "id": "3TXXMh7Hdr47",
        "outputId": "8d70619b-443a-410c-f8cb-3c85c422a47f"
      },
      "source": [
        "len(train_dataset),len(validation_dataset),len(test_dataset) \n",
        "# len(train_dataset),len(test_dataset) "
      ],
      "execution_count": 31,
      "outputs": [
        {
          "output_type": "execute_result",
          "data": {
            "text/plain": [
              "(114000, 6000, 7600)"
            ]
          },
          "metadata": {
            "tags": []
          },
          "execution_count": 31
        }
      ]
    },
    {
      "cell_type": "markdown",
      "metadata": {
        "id": "e3ISb8oinPnR"
      },
      "source": [
        "### Review Distribution of Categorical Labels for the 114000 training data (news articles)"
      ]
    },
    {
      "cell_type": "code",
      "metadata": {
        "colab": {
          "base_uri": "https://localhost:8080/"
        },
        "id": "Itjr5Erroxv9",
        "outputId": "e428da54-6c6b-4c2f-cc4a-048e82a6c294"
      },
      "source": [
        "from collections import Counter\n",
        "train_categories = [categories[label] for label in train_dataset.map(lambda text, label: label).as_numpy_iterator()]\n",
        "Counter(train_categories).most_common()"
      ],
      "execution_count": 32,
      "outputs": [
        {
          "output_type": "execute_result",
          "data": {
            "text/plain": [
              "[('Business', 28531), ('Sports', 28495), ('World', 28491), ('Sci/Tech', 28483)]"
            ]
          },
          "metadata": {
            "tags": []
          },
          "execution_count": 32
        }
      ]
    },
    {
      "cell_type": "markdown",
      "metadata": {
        "id": "nWA4c2ir7g6p"
      },
      "source": [
        "Review Example with Interger Label(text, label pairs):"
      ]
    },
    {
      "cell_type": "markdown",
      "metadata": {
        "id": "icCNaXSirCnm"
      },
      "source": [
        "Review Example with Interger Label Encoded Classification(text, label pairs):"
      ]
    },
    {
      "cell_type": "code",
      "metadata": {
        "colab": {
          "base_uri": "https://localhost:8080/"
        },
        "id": "g469sP9PYbQT",
        "outputId": "b4641363-1885-42e2-b86f-d84c0c1b6fad"
      },
      "source": [
        "for example, label in train_dataset.take(1):\n",
        "  print('text: ', example.numpy())\n",
        "  print('class: ', categories[label.numpy()])"
      ],
      "execution_count": 33,
      "outputs": [
        {
          "output_type": "stream",
          "text": [
            "text:  b'AMD #39;s new dual-core Opteron chip is designed mainly for corporate computing applications, including databases, Web services, and financial transactions.'\n",
            "class:  Sci/Tech\n"
          ],
          "name": "stdout"
        }
      ]
    },
    {
      "cell_type": "markdown",
      "metadata": {
        "id": "z2qVJzcEluH_"
      },
      "source": [
        "#### Preprocessing Shuffle Data for Training and Create Batches of `(text, label)` pairs:"
      ]
    },
    {
      "cell_type": "code",
      "metadata": {
        "id": "dDsCaZCDYZgm"
      },
      "source": [
        "BUFFER_SIZE = 10000\n",
        "BATCH_SIZE = 64"
      ],
      "execution_count": 34,
      "outputs": []
    },
    {
      "cell_type": "code",
      "metadata": {
        "id": "VznrltNOnUc5"
      },
      "source": [
        "train_dataset = train_dataset.shuffle(BUFFER_SIZE).batch(BATCH_SIZE).prefetch(tf.data.experimental.AUTOTUNE)\n",
        "validation_dataset = validation_dataset.shuffle(BUFFER_SIZE).batch(BATCH_SIZE).prefetch(tf.data.experimental.AUTOTUNE)\n",
        "test_dataset = test_dataset.batch(BATCH_SIZE).prefetch(tf.data.experimental.AUTOTUNE)"
      ],
      "execution_count": 35,
      "outputs": []
    },
    {
      "cell_type": "code",
      "metadata": {
        "colab": {
          "base_uri": "https://localhost:8080/"
        },
        "id": "jqkvdcFv41wC",
        "outputId": "537540bc-925a-4938-9aff-0c4c37c60699"
      },
      "source": [
        "for example, label in train_dataset.take(2):\n",
        "  print('texts: ', example.numpy()[:3])\n",
        "  print()\n",
        "  print('labels: ', label.numpy()[:3])"
      ],
      "execution_count": 36,
      "outputs": [
        {
          "output_type": "stream",
          "text": [
            "texts:  [b'Reuters - Vice President Dick Cheney has\\\\received a flu shot, aides said on Wednesday, citing his\\\\history of heart disease as a reason to qualify for a shot\\\\during a shortage.'\n",
            " b' CHICAGO (Reuters) - Northwest Airlines Corp. &lt;A HREF=\"http://www.investor.reuters.com/FullQuote.aspx?ticker=NWAC.O target=/stocks/quickinfo/fullquote\"&gt;NWAC.O&lt;/A&gt;, the  No. 4 U.S. air carrier, posted a quarterly loss on Wednesday as  high fuel prices and low fares weighed on the industry.'\n",
            " b'TORONTO (CP) - Russia #39;s Severstal has made an offer to buy Stelco Inc., in what #39;s believed to be one of several competing offers emerging for the restructuring but profitable Hamilton steel producer.']\n",
            "\n",
            "labels:  [0 2 2]\n",
            "texts:  [b'Nortel Networks Corp., North America #39;s largest telephone-equipment maker, said third-quarter revenue will decline from the second quarter #39;s \\\\$2.'\n",
            " b'A total lunar eclipse expected to create views of a blood-red moon will be visible tonight throughout most of North America - weather permitting.'\n",
            " b'AP - The safety of Celebrex and other pain relievers was questioned Wednesday as scientists in the United States and regulatory agencies in Europe said they feared such drugs might raise the same risk of heart problems as those blamed on the arthritis medicine Vioxx.']\n",
            "\n",
            "labels:  [2 3 3]\n"
          ],
          "name": "stdout"
        }
      ]
    },
    {
      "cell_type": "code",
      "metadata": {
        "colab": {
          "base_uri": "https://localhost:8080/"
        },
        "id": "HQ_8Srl7Yi2Y",
        "outputId": "86bb4bea-0386-49f7-c368-9a461dab4dd6"
      },
      "source": [
        "for example, label in train_dataset.take(2):\n",
        "  print('texts: ', example.numpy()[:3])\n",
        "  print()\n",
        "  print('labels: ', [categories[n] for n in label.numpy()[:3]])\n",
        "  print()"
      ],
      "execution_count": 37,
      "outputs": [
        {
          "output_type": "stream",
          "text": [
            "texts:  [b' WASHINGTON (Reuters) - U.S. industrial output growth nearly  stalled last month as production cuts at mines and utilities  nearly swamped a solid performance in factories, a report from  the Federal Reserve showed on Wednesday.'\n",
            " b'Images of Saturn sent back to Earth by the Cassini spacecraft reveal a newly discovered ring and at least one new moon, scientists say.'\n",
            " b'Visiting Pakistani President Pervez Musharraf agreed with the British Broadcasting Corporation (BBC) here on Monday that the war on terror had made the world less safeand was not addressing the underlying causes of conflict.']\n",
            "\n",
            "labels:  ['Business', 'Sci/Tech', 'World']\n",
            "\n",
            "texts:  [b'Canadian bonds gained on concern that the North American economy may slow as higher prices of oil translate into greater transportation and production costs.'\n",
            " b'Microsoft has teamed up with consumer electronics firm Thomson to launch set-top boxes supporting Microsoft TV #39;s Internet Protocol Television (IPTV) software platform.'\n",
            " b'The HyperTransport Technology Consortium today announced the first HyperTransport technology expansion connector specification. The new EATX Motherboard/Daughtercard ']\n",
            "\n",
            "labels:  ['Business', 'Sci/Tech', 'Sci/Tech']\n",
            "\n"
          ],
          "name": "stdout"
        }
      ]
    },
    {
      "cell_type": "markdown",
      "metadata": {
        "id": "s5eWCo88voPY"
      },
      "source": [
        "## Create the Text Encoder"
      ]
    },
    {
      "cell_type": "markdown",
      "metadata": {
        "id": "TFevcItw15P_"
      },
      "source": [
        "The raw text loaded by `tfds` needs to be processed before it can be used in a model. The simplest way to process text for training is using the `experimental.preprocessing.TextVectorization` layer. This layer has many capabilities, but this tutorial sticks to the default behavior."
      ]
    },
    {
      "cell_type": "markdown",
      "metadata": {
        "id": "UalGMKAzyRRf"
      },
      "source": [
        "Create the layer, and pass the dataset's text to the layer's `.adapt` method:\n",
        "The processing of each sample contains the following steps:\n",
        "\n",
        "    standardize each sample (usually lowercasing + punctuation stripping)\n",
        "    split each sample into substrings (usually words)\n",
        "    recombine substrings into tokens (usually ngrams)\n",
        "    index tokens (associate a unique int value with each token)\n",
        "    transform each sample using this index, either into a vector of ints or a dense float vector.\n"
      ]
    },
    {
      "cell_type": "markdown",
      "metadata": {
        "id": "BLaLcPcXsY95"
      },
      "source": [
        "The `.adapt` method sets the layer's vocabulary. Here are the first 20 tokens. After the padding and unknown tokens they're sorted by frequency: "
      ]
    },
    {
      "cell_type": "code",
      "metadata": {
        "id": "uC25Lu1Yvuqy"
      },
      "source": [
        "VOCAB_SIZE=1000\n",
        "encoder = tf.keras.layers.experimental.preprocessing.TextVectorization(\n",
        "    max_tokens=VOCAB_SIZE)\n",
        "encoder.adapt(train_dataset.map(lambda text, label: text))"
      ],
      "execution_count": 38,
      "outputs": []
    },
    {
      "cell_type": "code",
      "metadata": {
        "colab": {
          "base_uri": "https://localhost:8080/"
        },
        "id": "s5tP4VcSkTvY",
        "outputId": "cbd87b1e-9391-48eb-eb76-495eafa35cdc"
      },
      "source": [
        "vocab = np.array(encoder.get_vocabulary())\n",
        "len(vocab)"
      ],
      "execution_count": 39,
      "outputs": [
        {
          "output_type": "execute_result",
          "data": {
            "text/plain": [
              "1000"
            ]
          },
          "metadata": {
            "tags": []
          },
          "execution_count": 39
        }
      ]
    },
    {
      "cell_type": "code",
      "metadata": {
        "colab": {
          "base_uri": "https://localhost:8080/"
        },
        "id": "tBoyjjWg0Ac9",
        "outputId": "04059e88-b36c-4c53-8dc0-300e598a0473"
      },
      "source": [
        "vocab = np.array(encoder.get_vocabulary())\n",
        "vocab[:20]"
      ],
      "execution_count": 40,
      "outputs": [
        {
          "output_type": "execute_result",
          "data": {
            "text/plain": [
              "array(['', '[UNK]', 'the', 'a', 'to', 'of', 'in', 'and', 'on', 'for',\n",
              "       'that', '39s', 'with', 'its', 'as', 'at', 'is', 'said', 'by', 'it'],\n",
              "      dtype='<U14')"
            ]
          },
          "metadata": {
            "tags": []
          },
          "execution_count": 40
        }
      ]
    },
    {
      "cell_type": "markdown",
      "metadata": {
        "id": "-rPfbSyoruu3"
      },
      "source": [
        "Here are the 20 least frequent words."
      ]
    },
    {
      "cell_type": "code",
      "metadata": {
        "colab": {
          "base_uri": "https://localhost:8080/"
        },
        "id": "O6tWoBiwrzyX",
        "outputId": "c51cb668-4cb0-43b0-90ef-63172339474f"
      },
      "source": [
        "vocab[-20:]"
      ],
      "execution_count": 41,
      "outputs": [
        {
          "output_type": "execute_result",
          "data": {
            "text/plain": [
              "array(['black', 'turn', 'build', 'countrys', 'advanced', 'whose',\n",
              "       'crisis', 'create', '23', 'sources', 'body', 'militant', 'hope',\n",
              "       'event', 'started', 'ready', 'jones', 'lawsuit', 'focus',\n",
              "       'singapore'], dtype='<U14')"
            ]
          },
          "metadata": {
            "tags": []
          },
          "execution_count": 41
        }
      ]
    },
    {
      "cell_type": "markdown",
      "metadata": {
        "id": "mjId5pua3jHQ"
      },
      "source": [
        "Once the vocabulary is set, the layer can encode text into indices. The tensors of indices are 0-padded to the longest sequence in the batch (unless you set a fixed `output_sequence_length`):<br>\n",
        "Default Batch Size = 32"
      ]
    },
    {
      "cell_type": "code",
      "metadata": {
        "colab": {
          "base_uri": "https://localhost:8080/"
        },
        "id": "RGc7C9WiwRWs",
        "outputId": "1a4a3f8b-d861-4de6-ee89-53779ee3e0b2"
      },
      "source": [
        "encoded_example = encoder(example)[:3].numpy()\n",
        "encoded_example"
      ],
      "execution_count": 42,
      "outputs": [
        {
          "output_type": "execute_result",
          "data": {
            "text/plain": [
              "array([[460,   1,   1,   8,   1,  10,   2, 243, 151, 353, 107,   1,  14,\n",
              "        285,  94,   5,  70,   1,  62,   1,   1,   7, 661, 495,   0,   0,\n",
              "          0,   0,   0,   0,   0,   0,   0,   0,   0,   0,   0,   0,   0,\n",
              "          0,   0,   0,   0,   0,   0,   0],\n",
              "       [100,  20,   1,  47,  12, 448, 772, 327,   1,   4, 485,   1,   1,\n",
              "          1, 100, 870,  11, 104,   1, 562,   1,  90,   1,   0,   0,   0,\n",
              "          0,   0,   0,   0,   0,   0,   0,   0,   0,   0,   0,   0,   0,\n",
              "          0,   0,   0,   0,   0,   0,   0],\n",
              "       [  2,   1, 137,   1,  78,  98,   2,  39,   1, 137,   1,   1,   1,\n",
              "          2,  21,   1,   1,   0,   0,   0,   0,   0,   0,   0,   0,   0,\n",
              "          0,   0,   0,   0,   0,   0,   0,   0,   0,   0,   0,   0,   0,\n",
              "          0,   0,   0,   0,   0,   0,   0]])"
            ]
          },
          "metadata": {
            "tags": []
          },
          "execution_count": 42
        }
      ]
    },
    {
      "cell_type": "markdown",
      "metadata": {
        "id": "F5cjz0bS39IN"
      },
      "source": [
        "With the default settings, the process is not completely reversible. There are three main reasons for that:\n",
        "\n",
        "1. The default value for `preprocessing.TextVectorization`'s `standardize` argument is `\"lower_and_strip_punctuation\"`.\n",
        "2. The limited vocabulary size and lack of character-based fallback results in some unknown tokens."
      ]
    },
    {
      "cell_type": "code",
      "metadata": {
        "colab": {
          "base_uri": "https://localhost:8080/"
        },
        "id": "N_tD0QY5wXaK",
        "outputId": "f2de8ac2-3faf-4ad5-b556-8b9c5124dc26"
      },
      "source": [
        "for n in range(3):\n",
        "  print(\"Original: \", example[n].numpy())\n",
        "  print(\"Round-trip: \", \" \".join(vocab[encoded_example[n]]))\n",
        "  print()"
      ],
      "execution_count": 43,
      "outputs": [
        {
          "output_type": "stream",
          "text": [
            "Original:  b'Canadian bonds gained on concern that the North American economy may slow as higher prices of oil translate into greater transportation and production costs.'\n",
            "Round-trip:  canadian [UNK] [UNK] on [UNK] that the north american economy may [UNK] as higher prices of oil [UNK] into [UNK] [UNK] and production costs                      \n",
            "\n",
            "Original:  b'Microsoft has teamed up with consumer electronics firm Thomson to launch set-top boxes supporting Microsoft TV #39;s Internet Protocol Television (IPTV) software platform.'\n",
            "Round-trip:  microsoft has [UNK] up with consumer electronics firm [UNK] to launch [UNK] [UNK] [UNK] microsoft tv 39s internet [UNK] television [UNK] software [UNK]                       \n",
            "\n",
            "Original:  b'The HyperTransport Technology Consortium today announced the first HyperTransport technology expansion connector specification. The new EATX Motherboard/Daughtercard '\n",
            "Round-trip:  the [UNK] technology [UNK] today announced the first [UNK] technology [UNK] [UNK] [UNK] the new [UNK] [UNK]                             \n",
            "\n"
          ],
          "name": "stdout"
        }
      ]
    },
    {
      "cell_type": "markdown",
      "metadata": {
        "id": "bjUqGVBxGw-t"
      },
      "source": [
        "## Create the model"
      ]
    },
    {
      "cell_type": "markdown",
      "metadata": {
        "id": "W7zsmInBOCPO"
      },
      "source": [
        "![A drawing of the information flow in the model](https://github.com/tensorflow/docs/blob/master/site/en/tutorials/text/images/bidirectional.png?raw=1)"
      ]
    },
    {
      "cell_type": "markdown",
      "metadata": {
        "id": "bgs6nnSTGw-t"
      },
      "source": [
        "Above is a diagram of the model. \n",
        "\n",
        "1. This model can be build as a `tf.keras.Sequential`.\n",
        "\n",
        "1. The first layer is the `encoder`, which converts the text to a sequence of token indices.\n",
        "\n",
        "2. After the encoder is an embedding layer. An embedding layer stores one vector per word. When called, it converts the sequences of word indices to sequences of vectors. These vectors are trainable. After training (on enough data), words with similar meanings often have similar vectors.\n",
        "\n",
        "  This index-lookup is much more efficient than the equivalent operation of passing a one-hot encoded vector through a `tf.keras.layers.Dense` layer.\n",
        "\n",
        "3. A recurrent neural network (RNN) processes sequence input by iterating through the elements. RNNs pass the outputs from one timestep to their input on the next timestep.\n",
        "\n",
        "  The `tf.keras.layers.Bidirectional` wrapper can also be used with an RNN layer. This propagates the input forward and backwards through the RNN layer and then concatenates the final output. \n",
        "\n",
        "  * The main advantage to a bidirectional RNN is that the signal from the beginning of the input doesn't need to be processed all the way through every timestep to affect the output.  \n",
        "\n",
        "  * The main disadvantage of a bidirectional RNN is that you can't efficiently stream predictions as words are being added to the end.\n",
        "\n",
        "1. After the RNN has converted the sequence to a single vector the two `layers.Dense` do some final processing, and convert from this vector representation to a single logit as the classification output. \n"
      ]
    },
    {
      "cell_type": "markdown",
      "metadata": {
        "id": "9EODAFUjNaDC"
      },
      "source": [
        "<div class=\"alert alert-block alert-info\">\n",
        "    <b>tf.keras.layers.Bidirectional</b><br>\n",
        "    https://www.tensorflow.org/api_docs/python/tf/keras/layers/Bidirectional\n",
        "    </div>"
      ]
    },
    {
      "cell_type": "markdown",
      "metadata": {
        "id": "-6Qzwsj5QH0S"
      },
      "source": [
        "<img src=\"https://github.com/djp840/MSDS_458_Public/blob/master/images/BidirectionalRNN.png?raw=1\">"
      ]
    },
    {
      "cell_type": "code",
      "metadata": {
        "id": "LwfoBkmRYcP3"
      },
      "source": [
        "num_classes = 4\n",
        "model = tf.keras.Sequential([\n",
        "                              encoder\n",
        "                              ,tf.keras.layers.Embedding(input_dim=len(encoder.get_vocabulary())\n",
        "                              ,output_dim=64\n",
        "                                # Use masking to handle the variable sequence lengths\n",
        "                              ,mask_zero=True)\n",
        "                              ,tf.keras.layers.Bidirectional(tf.keras.layers.LSTM(64))\n",
        "                              ,tf.keras.layers.Dense(64, activation='relu')\n",
        "                              ,tf.keras.layers.Dense(num_classes,activation='softmax')   # num_classes = 4\n",
        "])"
      ],
      "execution_count": 44,
      "outputs": []
    },
    {
      "cell_type": "markdown",
      "metadata": {
        "id": "dfNGE58PNaDD"
      },
      "source": [
        "<div class=\"alert alert-block alert-success\"> \n",
        "Please note that we choose to Keras sequential model here since all the layers in the model only have single input and produce single output. </div>"
      ]
    },
    {
      "cell_type": "markdown",
      "metadata": {
        "id": "KTqE1NQXNaDD"
      },
      "source": [
        "<div class=\"alert alert-block alert-info\"> \n",
        "<b>tf.keras.Model</b><br>\n",
        "https://www.tensorflow.org/api_docs/python/tf/keras/Model\n",
        "</div>  "
      ]
    },
    {
      "cell_type": "markdown",
      "metadata": {
        "id": "RztlbCugEFaI"
      },
      "source": [
        "## Compile Model "
      ]
    },
    {
      "cell_type": "markdown",
      "metadata": {
        "id": "aNazQp3lEDv7"
      },
      "source": [
        "<div class=\"alert alert-block alert-info\">\n",
        "<b>tf.keras.losses.SparseCategoricalCrossentropy</b><br>\n",
        "https://www.tensorflow.org/api_docs/python/tf/keras/losses/SparseCategoricalCrossentropy</div>"
      ]
    },
    {
      "cell_type": "code",
      "metadata": {
        "id": "ZmWbBazIDe_-"
      },
      "source": [
        "model.compile(optimizer=tf.keras.optimizers.Adam(1e-4)\n",
        "              ,loss=tf.keras.losses.SparseCategoricalCrossentropy() # if we set from_logits=True we don not have specify a softmax activation function in the last layer\n",
        "              ,metrics=['accuracy'])"
      ],
      "execution_count": 45,
      "outputs": []
    },
    {
      "cell_type": "markdown",
      "metadata": {
        "id": "QIGmIGkkouUb"
      },
      "source": [
        "Please note that Keras sequential model is used here since all the layers in the model only have single input and produce single output. In case you want to use stateful RNN layer, you might want to build your model with Keras functional API or model subclassing so that you can retrieve and reuse the RNN layer states. Please check [Keras RNN guide](https://www.tensorflow.org/guide/keras/rnn#rnn_state_reuse) for more details."
      ]
    },
    {
      "cell_type": "markdown",
      "metadata": {
        "id": "kF-PsCk1LwjY"
      },
      "source": [
        "The embedding layer [uses masking](../../guide/keras/masking_and_padding) to handle the varying sequence-lengths. All the layers after the `Embedding` support masking:"
      ]
    },
    {
      "cell_type": "code",
      "metadata": {
        "colab": {
          "base_uri": "https://localhost:8080/"
        },
        "id": "87a8-CwfKebw",
        "outputId": "ea133252-0000-4686-c7c5-1b9d21e4e011"
      },
      "source": [
        "print([layer.supports_masking for layer in model.layers])"
      ],
      "execution_count": 46,
      "outputs": [
        {
          "output_type": "stream",
          "text": [
            "[False, True, True, True, True]\n"
          ],
          "name": "stdout"
        }
      ]
    },
    {
      "cell_type": "markdown",
      "metadata": {
        "id": "zIwH3nto596k"
      },
      "source": [
        "## Train the model"
      ]
    },
    {
      "cell_type": "markdown",
      "metadata": {
        "id": "7oHB6X8i0u2H"
      },
      "source": [
        "<div class=\"alert alert-block alert-success\">\n",
        "    <b>Module: tf.keras.callbacks</b></div>"
      ]
    },
    {
      "cell_type": "markdown",
      "metadata": {
        "id": "th1k9Dha0vCl"
      },
      "source": [
        "<div class=\"alert alert-block alert-info\">\n",
        "<b>tf.keras.callbacks.EarlyStopping</b><br>\n",
        "https://www.tensorflow.org/api_docs/python/tf/keras/callbacks/EarlyStopping</div>\n",
        "\n",
        "<div class=\"alert alert-block alert-info\">\n",
        "<b>tf.keras.callbacks.ModelCheckpoint</b><br>\n",
        "https://www.tensorflow.org/api_docs/python/tf/keras/callbacks/ModelCheckpoint</div>"
      ]
    },
    {
      "cell_type": "code",
      "metadata": {
        "colab": {
          "base_uri": "https://localhost:8080/"
        },
        "id": "hw86wWS4YgR2",
        "outputId": "ff206c6d-224d-45fa-cd65-b34113b4e45c"
      },
      "source": [
        "history = model.fit(train_dataset\n",
        "                    ,epochs = 200\n",
        "                    ,validation_data=validation_dataset\n",
        "                    ,callbacks=[tf.keras.callbacks.EarlyStopping(monitor='val_accuracy', patience=2)]\n",
        "                    )"
      ],
      "execution_count": 47,
      "outputs": [
        {
          "output_type": "stream",
          "text": [
            "Epoch 1/200\n",
            "1782/1782 [==============================] - 49s 20ms/step - loss: 0.7031 - accuracy: 0.7307 - val_loss: 0.4922 - val_accuracy: 0.8330\n",
            "Epoch 2/200\n",
            "1782/1782 [==============================] - 33s 18ms/step - loss: 0.4661 - accuracy: 0.8347 - val_loss: 0.4566 - val_accuracy: 0.8442\n",
            "Epoch 3/200\n",
            "1782/1782 [==============================] - 33s 18ms/step - loss: 0.4461 - accuracy: 0.8397 - val_loss: 0.4428 - val_accuracy: 0.8483\n",
            "Epoch 4/200\n",
            "1782/1782 [==============================] - 32s 18ms/step - loss: 0.4350 - accuracy: 0.8428 - val_loss: 0.4411 - val_accuracy: 0.8458\n",
            "Epoch 5/200\n",
            "1782/1782 [==============================] - 32s 18ms/step - loss: 0.4249 - accuracy: 0.8457 - val_loss: 0.4348 - val_accuracy: 0.8417\n"
          ],
          "name": "stdout"
        }
      ]
    },
    {
      "cell_type": "code",
      "metadata": {
        "colab": {
          "base_uri": "https://localhost:8080/"
        },
        "id": "BaNbXi43YgUT",
        "outputId": "c1c62b58-d132-4dd6-9d8e-20a1a5521151"
      },
      "source": [
        "test_loss, test_acc = model.evaluate(test_dataset)\n",
        "\n",
        "print('Test Loss: {}'.format(test_loss))\n",
        "print('Test Accuracy: {}'.format(test_acc))"
      ],
      "execution_count": 48,
      "outputs": [
        {
          "output_type": "stream",
          "text": [
            "119/119 [==============================] - 1s 9ms/step - loss: 0.4529 - accuracy: 0.8329\n",
            "Test Loss: 0.4528767764568329\n",
            "Test Accuracy: 0.8328947424888611\n"
          ],
          "name": "stdout"
        }
      ]
    },
    {
      "cell_type": "markdown",
      "metadata": {
        "id": "OUZyCyI33fPU"
      },
      "source": [
        "## Plotting Performance Metrics - Single Layer Bidirectional RNN"
      ]
    },
    {
      "cell_type": "markdown",
      "metadata": {
        "id": "uFK6utDG3fjX"
      },
      "source": [
        "We use Matplotlib to create 2 plots--displaying the training and validation loss (resp. accuracy) for each (training) epoch side by side."
      ]
    },
    {
      "cell_type": "code",
      "metadata": {
        "colab": {
          "base_uri": "https://localhost:8080/"
        },
        "id": "HzEOTxsc1JTJ",
        "outputId": "2be08095-1e09-4843-ddd0-6e489616cefd"
      },
      "source": [
        "history_dict = history.history\n",
        "history_dict.keys()"
      ],
      "execution_count": 49,
      "outputs": [
        {
          "output_type": "execute_result",
          "data": {
            "text/plain": [
              "dict_keys(['loss', 'accuracy', 'val_loss', 'val_accuracy'])"
            ]
          },
          "metadata": {
            "tags": []
          },
          "execution_count": 49
        }
      ]
    },
    {
      "cell_type": "code",
      "metadata": {
        "colab": {
          "base_uri": "https://localhost:8080/",
          "height": 206
        },
        "id": "2VV8VwoA1Je1",
        "outputId": "2ded4b6d-390e-4d12-c485-6c234cae6c2a"
      },
      "source": [
        "history_df=pd.DataFrame(history_dict)\n",
        "history_df.tail(10).round(3)"
      ],
      "execution_count": 50,
      "outputs": [
        {
          "output_type": "execute_result",
          "data": {
            "text/html": [
              "<div>\n",
              "<style scoped>\n",
              "    .dataframe tbody tr th:only-of-type {\n",
              "        vertical-align: middle;\n",
              "    }\n",
              "\n",
              "    .dataframe tbody tr th {\n",
              "        vertical-align: top;\n",
              "    }\n",
              "\n",
              "    .dataframe thead th {\n",
              "        text-align: right;\n",
              "    }\n",
              "</style>\n",
              "<table border=\"1\" class=\"dataframe\">\n",
              "  <thead>\n",
              "    <tr style=\"text-align: right;\">\n",
              "      <th></th>\n",
              "      <th>loss</th>\n",
              "      <th>accuracy</th>\n",
              "      <th>val_loss</th>\n",
              "      <th>val_accuracy</th>\n",
              "    </tr>\n",
              "  </thead>\n",
              "  <tbody>\n",
              "    <tr>\n",
              "      <th>0</th>\n",
              "      <td>0.703</td>\n",
              "      <td>0.731</td>\n",
              "      <td>0.492</td>\n",
              "      <td>0.833</td>\n",
              "    </tr>\n",
              "    <tr>\n",
              "      <th>1</th>\n",
              "      <td>0.466</td>\n",
              "      <td>0.835</td>\n",
              "      <td>0.457</td>\n",
              "      <td>0.844</td>\n",
              "    </tr>\n",
              "    <tr>\n",
              "      <th>2</th>\n",
              "      <td>0.446</td>\n",
              "      <td>0.840</td>\n",
              "      <td>0.443</td>\n",
              "      <td>0.848</td>\n",
              "    </tr>\n",
              "    <tr>\n",
              "      <th>3</th>\n",
              "      <td>0.435</td>\n",
              "      <td>0.843</td>\n",
              "      <td>0.441</td>\n",
              "      <td>0.846</td>\n",
              "    </tr>\n",
              "    <tr>\n",
              "      <th>4</th>\n",
              "      <td>0.425</td>\n",
              "      <td>0.846</td>\n",
              "      <td>0.435</td>\n",
              "      <td>0.842</td>\n",
              "    </tr>\n",
              "  </tbody>\n",
              "</table>\n",
              "</div>"
            ],
            "text/plain": [
              "    loss  accuracy  val_loss  val_accuracy\n",
              "0  0.703     0.731     0.492         0.833\n",
              "1  0.466     0.835     0.457         0.844\n",
              "2  0.446     0.840     0.443         0.848\n",
              "3  0.435     0.843     0.441         0.846\n",
              "4  0.425     0.846     0.435         0.842"
            ]
          },
          "metadata": {
            "tags": []
          },
          "execution_count": 50
        }
      ]
    },
    {
      "cell_type": "code",
      "metadata": {
        "id": "NvA2u5do1JqA"
      },
      "source": [
        "losses = history.history['loss']\n",
        "accs = history.history['accuracy']\n",
        "val_losses = history.history['val_loss']\n",
        "val_accs = history.history['val_accuracy']\n",
        "epochs = len(losses)"
      ],
      "execution_count": 51,
      "outputs": []
    },
    {
      "cell_type": "code",
      "metadata": {
        "colab": {
          "base_uri": "https://localhost:8080/",
          "height": 265
        },
        "id": "JGoRjq2T1SUp",
        "outputId": "ba97450a-6af3-4584-8c9f-e31ad054da55"
      },
      "source": [
        "plt.figure(figsize=(16, 4))\n",
        "for i, metrics in enumerate(zip([losses, accs], [val_losses, val_accs], ['Loss', 'Accuracy'])):\n",
        "    plt.subplot(1, 2, i + 1)\n",
        "    plt.plot(range(epochs), metrics[0], label='Training {}'.format(metrics[2]))\n",
        "    plt.plot(range(epochs), metrics[1], label='Validation {}'.format(metrics[2]))\n",
        "    plt.legend()\n",
        "plt.show()"
      ],
      "execution_count": 52,
      "outputs": [
        {
          "output_type": "display_data",
          "data": {
            "image/png": "[encoded data removed]",
            "text/plain": [
              "<Figure size 1152x288 with 2 Axes>"
            ]
          },
          "metadata": {
            "tags": [],
            "needs_background": "light"
          }
        }
      ]
    },
    {
      "cell_type": "markdown",
      "metadata": {
        "id": "bawulBahPZQq"
      },
      "source": [
        "## Model Architecture Summary Single Layer Bidirectional RNN"
      ]
    },
    {
      "cell_type": "code",
      "metadata": {
        "colab": {
          "base_uri": "https://localhost:8080/"
        },
        "id": "KVd7MMCoOjMp",
        "outputId": "0469b445-4f5b-42bf-eaaf-f5b589e695f9"
      },
      "source": [
        "model.summary()"
      ],
      "execution_count": 53,
      "outputs": [
        {
          "output_type": "stream",
          "text": [
            "Model: \"sequential\"\n",
            "_________________________________________________________________\n",
            "Layer (type)                 Output Shape              Param #   \n",
            "=================================================================\n",
            "text_vectorization_2 (TextVe (None, None)              0         \n",
            "_________________________________________________________________\n",
            "embedding (Embedding)        (None, None, 64)          64000     \n",
            "_________________________________________________________________\n",
            "bidirectional (Bidirectional (None, 128)               66048     \n",
            "_________________________________________________________________\n",
            "dense (Dense)                (None, 64)                8256      \n",
            "_________________________________________________________________\n",
            "dense_1 (Dense)              (None, 4)                 260       \n",
            "=================================================================\n",
            "Total params: 138,564\n",
            "Trainable params: 138,564\n",
            "Non-trainable params: 0\n",
            "_________________________________________________________________\n"
          ],
          "name": "stdout"
        }
      ]
    },
    {
      "cell_type": "code",
      "metadata": {
        "colab": {
          "base_uri": "https://localhost:8080/",
          "height": 644
        },
        "id": "2o0oUFPAOjht",
        "outputId": "4cbffb95-d019-4bb2-c5b7-8c9fdd15e34f"
      },
      "source": [
        "keras.utils.plot_model(model, \"BiDirectionalLSTM.png\", show_shapes=True)"
      ],
      "execution_count": 54,
      "outputs": [
        {
          "output_type": "execute_result",
          "data": {
            "image/png": "[encoded data removed]",
            "text/plain": [
              "<IPython.core.display.Image object>"
            ]
          },
          "metadata": {
            "tags": []
          },
          "execution_count": 54
        }
      ]
    },
    {
      "cell_type": "markdown",
      "metadata": {
        "id": "7g1evcaRpTKm"
      },
      "source": [
        "## Stack two or more LSTM layers\n",
        "\n",
        "Keras recurrent layers have two available modes that are controlled by the `return_sequences` constructor argument:\n",
        "\n",
        "* If `False` it returns only the last output for each input sequence (a 2D tensor of shape (batch_size, output_features)). This is the default, used in the previous model.\n",
        "\n",
        "* If `True` the full sequences of successive outputs for each timestep is returned (a 3D tensor of shape `(batch_size, timesteps, output_features)`).\n",
        "\n",
        "Here is what the flow of information looks like with `return_sequences=True`:\n",
        "\n",
        "![layered_bidirectional]?raw=1\""
      ]
    },
    {
      "cell_type": "markdown",
      "metadata": {
        "id": "wbSClCrG1z8l"
      },
      "source": [
        "The interesting thing about using an `RNN` with `return_sequences=True` is that the output still has 3-axes, like the input, so it can be passed to another RNN layer, like this:"
      ]
    },
    {
      "cell_type": "markdown",
      "metadata": {
        "id": "TJTx1dsTRUtW"
      },
      "source": [
        "<img src=\"https://github.com/djp840/MSDS_458_Public/blob/master/images/multilayerBidirectionalLSTM.png?raw=1\">"
      ]
    },
    {
      "cell_type": "code",
      "metadata": {
        "id": "jo1jjO3vn0jo"
      },
      "source": [
        "model2 = tf.keras.Sequential([\n",
        "                              encoder\n",
        "                              ,tf.keras.layers.Embedding(len(encoder.get_vocabulary()), 64, mask_zero=True)\n",
        "                              ,tf.keras.layers.Bidirectional(tf.keras.layers.LSTM(64,  return_sequences=True))\n",
        "                              ,tf.keras.layers.Bidirectional(tf.keras.layers.LSTM(32))\n",
        "                              ,tf.keras.layers.Dense(64, activation='relu')\n",
        "                              ,tf.keras.layers.Dropout(0.5)\n",
        "                              ,tf.keras.layers.Dense(num_classes,activation='softmax')   # not binary since there are num_classes categories\n",
        "])"
      ],
      "execution_count": 55,
      "outputs": []
    },
    {
      "cell_type": "markdown",
      "metadata": {
        "id": "iukhoA9vR7gx"
      },
      "source": [
        "<div class=\"alert alert-block alert-info\">\n",
        "<b>tf.keras.losses.SparseCategoricalCrossentropy</b><br>\n",
        "https://www.tensorflow.org/api_docs/python/tf/keras/losses/SparseCategoricalCrossentropy</div>"
      ]
    },
    {
      "cell_type": "code",
      "metadata": {
        "id": "_zjWuJesR72x"
      },
      "source": [
        "model2.compile(optimizer='adam'\n",
        "              ,loss=tf.keras.losses.SparseCategoricalCrossentropy() # if we set from_logits=True we do not have specify a softmax activation function in the last layer\n",
        "              ,metrics=['accuracy'])"
      ],
      "execution_count": 56,
      "outputs": []
    },
    {
      "cell_type": "code",
      "metadata": {
        "colab": {
          "base_uri": "https://localhost:8080/"
        },
        "id": "LeSE-YjdqAeN",
        "outputId": "065043bf-ceaf-4bad-c26a-77c41cb31bf1"
      },
      "source": [
        "history2 = model2.fit(train_dataset\n",
        "                    ,epochs=200\n",
        "                    ,validation_data=validation_dataset\n",
        "                    ,validation_steps=30\n",
        "                    ,callbacks=[tf.keras.callbacks.EarlyStopping(monitor='val_accuracy', patience=2)]\n",
        "                    )"
      ],
      "execution_count": 57,
      "outputs": [
        {
          "output_type": "stream",
          "text": [
            "Epoch 1/200\n",
            "1782/1782 [==============================] - 79s 33ms/step - loss: 0.5103 - accuracy: 0.8175 - val_loss: 0.4127 - val_accuracy: 0.8620\n",
            "Epoch 2/200\n",
            "1782/1782 [==============================] - 54s 30ms/step - loss: 0.4251 - accuracy: 0.8518 - val_loss: 0.3882 - val_accuracy: 0.8578\n",
            "Epoch 3/200\n",
            "1782/1782 [==============================] - 54s 30ms/step - loss: 0.4041 - accuracy: 0.8567 - val_loss: 0.3604 - val_accuracy: 0.8703\n",
            "Epoch 4/200\n",
            "1782/1782 [==============================] - 54s 30ms/step - loss: 0.3839 - accuracy: 0.8643 - val_loss: 0.3798 - val_accuracy: 0.8625\n",
            "Epoch 5/200\n",
            "1782/1782 [==============================] - 54s 30ms/step - loss: 0.3674 - accuracy: 0.8683 - val_loss: 0.3739 - val_accuracy: 0.8562\n"
          ],
          "name": "stdout"
        }
      ]
    },
    {
      "cell_type": "code",
      "metadata": {
        "colab": {
          "base_uri": "https://localhost:8080/"
        },
        "id": "_LdwilM1qPM3",
        "outputId": "11a6921f-8005-4429-d62e-09d4ca6a6512"
      },
      "source": [
        "test_loss, test_acc = model2.evaluate(test_dataset)\n",
        "\n",
        "print('Test Loss: {}'.format(test_loss))\n",
        "print('Test Accuracy: {}'.format(test_acc))"
      ],
      "execution_count": 58,
      "outputs": [
        {
          "output_type": "stream",
          "text": [
            "119/119 [==============================] - 2s 13ms/step - loss: 0.3941 - accuracy: 0.8629\n",
            "Test Loss: 0.3940558433532715\n",
            "Test Accuracy: 0.8628947138786316\n"
          ],
          "name": "stdout"
        }
      ]
    },
    {
      "cell_type": "markdown",
      "metadata": {
        "id": "x44eh6w-SjPa"
      },
      "source": [
        "## Plotting Performance Metrics - Multi-Layer Bidirectional RNN"
      ]
    },
    {
      "cell_type": "markdown",
      "metadata": {
        "id": "7YwGAxu3SjbG"
      },
      "source": [
        "We use Matplotlib to create 2 plots--displaying the training and validation loss (resp. accuracy) for each (training) epoch side by side."
      ]
    },
    {
      "cell_type": "code",
      "metadata": {
        "colab": {
          "base_uri": "https://localhost:8080/"
        },
        "id": "l5Wa2bx7Suny",
        "outputId": "2d185881-ccbe-4923-e445-33c197795bf8"
      },
      "source": [
        "history_dict2 = history2.history\n",
        "history_dict2.keys()"
      ],
      "execution_count": 59,
      "outputs": [
        {
          "output_type": "execute_result",
          "data": {
            "text/plain": [
              "dict_keys(['loss', 'accuracy', 'val_loss', 'val_accuracy'])"
            ]
          },
          "metadata": {
            "tags": []
          },
          "execution_count": 59
        }
      ]
    },
    {
      "cell_type": "code",
      "metadata": {
        "colab": {
          "base_uri": "https://localhost:8080/",
          "height": 206
        },
        "id": "cwzqjLbrSurM",
        "outputId": "92494400-336c-41d5-a5fb-056d55752b5c"
      },
      "source": [
        "history2_df=pd.DataFrame(history_dict2)\n",
        "history2_df.tail().round(3)"
      ],
      "execution_count": 60,
      "outputs": [
        {
          "output_type": "execute_result",
          "data": {
            "text/html": [
              "<div>\n",
              "<style scoped>\n",
              "    .dataframe tbody tr th:only-of-type {\n",
              "        vertical-align: middle;\n",
              "    }\n",
              "\n",
              "    .dataframe tbody tr th {\n",
              "        vertical-align: top;\n",
              "    }\n",
              "\n",
              "    .dataframe thead th {\n",
              "        text-align: right;\n",
              "    }\n",
              "</style>\n",
              "<table border=\"1\" class=\"dataframe\">\n",
              "  <thead>\n",
              "    <tr style=\"text-align: right;\">\n",
              "      <th></th>\n",
              "      <th>loss</th>\n",
              "      <th>accuracy</th>\n",
              "      <th>val_loss</th>\n",
              "      <th>val_accuracy</th>\n",
              "    </tr>\n",
              "  </thead>\n",
              "  <tbody>\n",
              "    <tr>\n",
              "      <th>0</th>\n",
              "      <td>0.510</td>\n",
              "      <td>0.817</td>\n",
              "      <td>0.413</td>\n",
              "      <td>0.862</td>\n",
              "    </tr>\n",
              "    <tr>\n",
              "      <th>1</th>\n",
              "      <td>0.425</td>\n",
              "      <td>0.852</td>\n",
              "      <td>0.388</td>\n",
              "      <td>0.858</td>\n",
              "    </tr>\n",
              "    <tr>\n",
              "      <th>2</th>\n",
              "      <td>0.404</td>\n",
              "      <td>0.857</td>\n",
              "      <td>0.360</td>\n",
              "      <td>0.870</td>\n",
              "    </tr>\n",
              "    <tr>\n",
              "      <th>3</th>\n",
              "      <td>0.384</td>\n",
              "      <td>0.864</td>\n",
              "      <td>0.380</td>\n",
              "      <td>0.863</td>\n",
              "    </tr>\n",
              "    <tr>\n",
              "      <th>4</th>\n",
              "      <td>0.367</td>\n",
              "      <td>0.868</td>\n",
              "      <td>0.374</td>\n",
              "      <td>0.856</td>\n",
              "    </tr>\n",
              "  </tbody>\n",
              "</table>\n",
              "</div>"
            ],
            "text/plain": [
              "    loss  accuracy  val_loss  val_accuracy\n",
              "0  0.510     0.817     0.413         0.862\n",
              "1  0.425     0.852     0.388         0.858\n",
              "2  0.404     0.857     0.360         0.870\n",
              "3  0.384     0.864     0.380         0.863\n",
              "4  0.367     0.868     0.374         0.856"
            ]
          },
          "metadata": {
            "tags": []
          },
          "execution_count": 60
        }
      ]
    },
    {
      "cell_type": "code",
      "metadata": {
        "id": "5CrnwjN7Suu5"
      },
      "source": [
        "losses = history2.history['loss']\n",
        "accs = history2.history['accuracy']\n",
        "val_losses = history2.history['val_loss']\n",
        "val_accs = history2.history['val_accuracy']\n",
        "epochs = len(losses)"
      ],
      "execution_count": 61,
      "outputs": []
    },
    {
      "cell_type": "code",
      "metadata": {
        "colab": {
          "base_uri": "https://localhost:8080/",
          "height": 265
        },
        "id": "Uw20TBZxSuye",
        "outputId": "e1dc3026-a47f-4e3c-c311-b0e285caf89c"
      },
      "source": [
        "plt.figure(figsize=(16, 4))\n",
        "for i, metrics in enumerate(zip([losses, accs], [val_losses, val_accs], ['Loss', 'Accuracy'])):\n",
        "    plt.subplot(1, 2, i + 1)\n",
        "    plt.plot(range(epochs), metrics[0], label='Training {}'.format(metrics[2]))\n",
        "    plt.plot(range(epochs), metrics[1], label='Validation {}'.format(metrics[2]))\n",
        "    plt.legend()\n",
        "plt.show()"
      ],
      "execution_count": 62,
      "outputs": [
        {
          "output_type": "display_data",
          "data": {
            "image/png": "[encoded data removed]",
            "text/plain": [
              "<Figure size 1152x288 with 2 Axes>"
            ]
          },
          "metadata": {
            "tags": [],
            "needs_background": "light"
          }
        }
      ]
    },
    {
      "cell_type": "markdown",
      "metadata": {
        "id": "WoWhNEnKyRRv"
      },
      "source": [
        "### Confusion Matrix"
      ]
    },
    {
      "cell_type": "code",
      "metadata": {
        "id": "TaRFsKvJyRRv"
      },
      "source": [
        "preds = model.predict(test_dataset)"
      ],
      "execution_count": 63,
      "outputs": []
    },
    {
      "cell_type": "code",
      "metadata": {
        "colab": {
          "base_uri": "https://localhost:8080/"
        },
        "id": "38sM3BdNyRRv",
        "outputId": "224571b1-e68e-44a9-c62a-8f8073010fa9"
      },
      "source": [
        "preds.shape"
      ],
      "execution_count": 64,
      "outputs": [
        {
          "output_type": "execute_result",
          "data": {
            "text/plain": [
              "(7600, 4)"
            ]
          },
          "metadata": {
            "tags": []
          },
          "execution_count": 64
        }
      ]
    },
    {
      "cell_type": "code",
      "metadata": {
        "id": "HLEVza9CyRRw"
      },
      "source": [
        "cm = sns.light_palette((260, 75, 60), input=\"husl\", as_cmap=True)"
      ],
      "execution_count": 65,
      "outputs": []
    },
    {
      "cell_type": "code",
      "metadata": {
        "colab": {
          "base_uri": "https://localhost:8080/",
          "height": 121
        },
        "id": "QJ4Zct-xyRRw",
        "outputId": "effd38ba-f989-4053-bee6-b5d96842e81d"
      },
      "source": [
        "df = pd.DataFrame(preds[0:15]\n",
        "                  ,columns = ['World','Sports','Business','Sci/Tech']).T\n",
        "df.style.format(\"{:.2%}\").background_gradient(cmap=cm)"
      ],
      "execution_count": 66,
      "outputs": [
        {
          "output_type": "execute_result",
          "data": {
            "text/html": [
              "<style  type=\"text/css\" >\n",
              "#T_65949e20_d1d8_11eb_9cdb_0242ac1c0002row0_col0,#T_65949e20_d1d8_11eb_9cdb_0242ac1c0002row0_col9,#T_65949e20_d1d8_11eb_9cdb_0242ac1c0002row1_col13,#T_65949e20_d1d8_11eb_9cdb_0242ac1c0002row2_col13{\n",
              "            background-color:  #edeef2;\n",
              "            color:  #000000;\n",
              "        }#T_65949e20_d1d8_11eb_9cdb_0242ac1c0002row0_col1,#T_65949e20_d1d8_11eb_9cdb_0242ac1c0002row0_col4,#T_65949e20_d1d8_11eb_9cdb_0242ac1c0002row0_col8,#T_65949e20_d1d8_11eb_9cdb_0242ac1c0002row0_col10,#T_65949e20_d1d8_11eb_9cdb_0242ac1c0002row0_col13,#T_65949e20_d1d8_11eb_9cdb_0242ac1c0002row0_col14,#T_65949e20_d1d8_11eb_9cdb_0242ac1c0002row1_col0,#T_65949e20_d1d8_11eb_9cdb_0242ac1c0002row1_col3,#T_65949e20_d1d8_11eb_9cdb_0242ac1c0002row1_col6,#T_65949e20_d1d8_11eb_9cdb_0242ac1c0002row1_col7,#T_65949e20_d1d8_11eb_9cdb_0242ac1c0002row2_col9,#T_65949e20_d1d8_11eb_9cdb_0242ac1c0002row2_col12,#T_65949e20_d1d8_11eb_9cdb_0242ac1c0002row3_col2,#T_65949e20_d1d8_11eb_9cdb_0242ac1c0002row3_col5,#T_65949e20_d1d8_11eb_9cdb_0242ac1c0002row3_col11{\n",
              "            background-color:  #778ce4;\n",
              "            color:  #000000;\n",
              "        }#T_65949e20_d1d8_11eb_9cdb_0242ac1c0002row0_col2,#T_65949e20_d1d8_11eb_9cdb_0242ac1c0002row0_col11,#T_65949e20_d1d8_11eb_9cdb_0242ac1c0002row1_col1,#T_65949e20_d1d8_11eb_9cdb_0242ac1c0002row1_col2,#T_65949e20_d1d8_11eb_9cdb_0242ac1c0002row1_col4,#T_65949e20_d1d8_11eb_9cdb_0242ac1c0002row1_col5,#T_65949e20_d1d8_11eb_9cdb_0242ac1c0002row1_col9,#T_65949e20_d1d8_11eb_9cdb_0242ac1c0002row1_col10,#T_65949e20_d1d8_11eb_9cdb_0242ac1c0002row1_col12,#T_65949e20_d1d8_11eb_9cdb_0242ac1c0002row1_col14,#T_65949e20_d1d8_11eb_9cdb_0242ac1c0002row2_col0,#T_65949e20_d1d8_11eb_9cdb_0242ac1c0002row2_col1,#T_65949e20_d1d8_11eb_9cdb_0242ac1c0002row2_col3,#T_65949e20_d1d8_11eb_9cdb_0242ac1c0002row2_col4,#T_65949e20_d1d8_11eb_9cdb_0242ac1c0002row2_col6,#T_65949e20_d1d8_11eb_9cdb_0242ac1c0002row2_col7,#T_65949e20_d1d8_11eb_9cdb_0242ac1c0002row2_col10,#T_65949e20_d1d8_11eb_9cdb_0242ac1c0002row2_col14,#T_65949e20_d1d8_11eb_9cdb_0242ac1c0002row3_col0,#T_65949e20_d1d8_11eb_9cdb_0242ac1c0002row3_col1,#T_65949e20_d1d8_11eb_9cdb_0242ac1c0002row3_col3,#T_65949e20_d1d8_11eb_9cdb_0242ac1c0002row3_col4,#T_65949e20_d1d8_11eb_9cdb_0242ac1c0002row3_col6,#T_65949e20_d1d8_11eb_9cdb_0242ac1c0002row3_col8,#T_65949e20_d1d8_11eb_9cdb_0242ac1c0002row3_col10,#T_65949e20_d1d8_11eb_9cdb_0242ac1c0002row3_col13,#T_65949e20_d1d8_11eb_9cdb_0242ac1c0002row3_col14{\n",
              "            background-color:  #f0f1f2;\n",
              "            color:  #000000;\n",
              "        }#T_65949e20_d1d8_11eb_9cdb_0242ac1c0002row0_col3,#T_65949e20_d1d8_11eb_9cdb_0242ac1c0002row0_col6{\n",
              "            background-color:  #eff0f2;\n",
              "            color:  #000000;\n",
              "        }#T_65949e20_d1d8_11eb_9cdb_0242ac1c0002row0_col5,#T_65949e20_d1d8_11eb_9cdb_0242ac1c0002row1_col8,#T_65949e20_d1d8_11eb_9cdb_0242ac1c0002row1_col11{\n",
              "            background-color:  #f0f0f2;\n",
              "            color:  #000000;\n",
              "        }#T_65949e20_d1d8_11eb_9cdb_0242ac1c0002row0_col7{\n",
              "            background-color:  #b4bfeb;\n",
              "            color:  #000000;\n",
              "        }#T_65949e20_d1d8_11eb_9cdb_0242ac1c0002row0_col12,#T_65949e20_d1d8_11eb_9cdb_0242ac1c0002row2_col8{\n",
              "            background-color:  #eeeff2;\n",
              "            color:  #000000;\n",
              "        }#T_65949e20_d1d8_11eb_9cdb_0242ac1c0002row2_col2{\n",
              "            background-color:  #ebecf2;\n",
              "            color:  #000000;\n",
              "        }#T_65949e20_d1d8_11eb_9cdb_0242ac1c0002row2_col5{\n",
              "            background-color:  #dbdff0;\n",
              "            color:  #000000;\n",
              "        }#T_65949e20_d1d8_11eb_9cdb_0242ac1c0002row2_col11,#T_65949e20_d1d8_11eb_9cdb_0242ac1c0002row3_col12{\n",
              "            background-color:  #efeff2;\n",
              "            color:  #000000;\n",
              "        }#T_65949e20_d1d8_11eb_9cdb_0242ac1c0002row3_col7{\n",
              "            background-color:  #eaebf1;\n",
              "            color:  #000000;\n",
              "        }#T_65949e20_d1d8_11eb_9cdb_0242ac1c0002row3_col9{\n",
              "            background-color:  #e3e6f1;\n",
              "            color:  #000000;\n",
              "        }</style><table id=\"T_65949e20_d1d8_11eb_9cdb_0242ac1c0002\" ><thead>    <tr>        <th class=\"blank level0\" ></th>        <th class=\"col_heading level0 col0\" >0</th>        <th class=\"col_heading level0 col1\" >1</th>        <th class=\"col_heading level0 col2\" >2</th>        <th class=\"col_heading level0 col3\" >3</th>        <th class=\"col_heading level0 col4\" >4</th>        <th class=\"col_heading level0 col5\" >5</th>        <th class=\"col_heading level0 col6\" >6</th>        <th class=\"col_heading level0 col7\" >7</th>        <th class=\"col_heading level0 col8\" >8</th>        <th class=\"col_heading level0 col9\" >9</th>        <th class=\"col_heading level0 col10\" >10</th>        <th class=\"col_heading level0 col11\" >11</th>        <th class=\"col_heading level0 col12\" >12</th>        <th class=\"col_heading level0 col13\" >13</th>        <th class=\"col_heading level0 col14\" >14</th>    </tr></thead><tbody>\n",
              "                <tr>\n",
              "                        <th id=\"T_65949e20_d1d8_11eb_9cdb_0242ac1c0002level0_row0\" class=\"row_heading level0 row0\" >World</th>\n",
              "                        <td id=\"T_65949e20_d1d8_11eb_9cdb_0242ac1c0002row0_col0\" class=\"data row0 col0\" >2.85%</td>\n",
              "                        <td id=\"T_65949e20_d1d8_11eb_9cdb_0242ac1c0002row0_col1\" class=\"data row0 col1\" >99.93%</td>\n",
              "                        <td id=\"T_65949e20_d1d8_11eb_9cdb_0242ac1c0002row0_col2\" class=\"data row0 col2\" >0.11%</td>\n",
              "                        <td id=\"T_65949e20_d1d8_11eb_9cdb_0242ac1c0002row0_col3\" class=\"data row0 col3\" >1.08%</td>\n",
              "                        <td id=\"T_65949e20_d1d8_11eb_9cdb_0242ac1c0002row0_col4\" class=\"data row0 col4\" >99.84%</td>\n",
              "                        <td id=\"T_65949e20_d1d8_11eb_9cdb_0242ac1c0002row0_col5\" class=\"data row0 col5\" >0.75%</td>\n",
              "                        <td id=\"T_65949e20_d1d8_11eb_9cdb_0242ac1c0002row0_col6\" class=\"data row0 col6\" >0.97%</td>\n",
              "                        <td id=\"T_65949e20_d1d8_11eb_9cdb_0242ac1c0002row0_col7\" class=\"data row0 col7\" >31.65%</td>\n",
              "                        <td id=\"T_65949e20_d1d8_11eb_9cdb_0242ac1c0002row0_col8\" class=\"data row0 col8\" >92.32%</td>\n",
              "                        <td id=\"T_65949e20_d1d8_11eb_9cdb_0242ac1c0002row0_col9\" class=\"data row0 col9\" >2.54%</td>\n",
              "                        <td id=\"T_65949e20_d1d8_11eb_9cdb_0242ac1c0002row0_col10\" class=\"data row0 col10\" >99.98%</td>\n",
              "                        <td id=\"T_65949e20_d1d8_11eb_9cdb_0242ac1c0002row0_col11\" class=\"data row0 col11\" >0.23%</td>\n",
              "                        <td id=\"T_65949e20_d1d8_11eb_9cdb_0242ac1c0002row0_col12\" class=\"data row0 col12\" >2.01%</td>\n",
              "                        <td id=\"T_65949e20_d1d8_11eb_9cdb_0242ac1c0002row0_col13\" class=\"data row0 col13\" >90.32%</td>\n",
              "                        <td id=\"T_65949e20_d1d8_11eb_9cdb_0242ac1c0002row0_col14\" class=\"data row0 col14\" >99.80%</td>\n",
              "            </tr>\n",
              "            <tr>\n",
              "                        <th id=\"T_65949e20_d1d8_11eb_9cdb_0242ac1c0002level0_row1\" class=\"row_heading level0 row1\" >Sports</th>\n",
              "                        <td id=\"T_65949e20_d1d8_11eb_9cdb_0242ac1c0002row1_col0\" class=\"data row1 col0\" >96.52%</td>\n",
              "                        <td id=\"T_65949e20_d1d8_11eb_9cdb_0242ac1c0002row1_col1\" class=\"data row1 col1\" >0.00%</td>\n",
              "                        <td id=\"T_65949e20_d1d8_11eb_9cdb_0242ac1c0002row1_col2\" class=\"data row1 col2\" >0.02%</td>\n",
              "                        <td id=\"T_65949e20_d1d8_11eb_9cdb_0242ac1c0002row1_col3\" class=\"data row1 col3\" >98.80%</td>\n",
              "                        <td id=\"T_65949e20_d1d8_11eb_9cdb_0242ac1c0002row1_col4\" class=\"data row1 col4\" >0.02%</td>\n",
              "                        <td id=\"T_65949e20_d1d8_11eb_9cdb_0242ac1c0002row1_col5\" class=\"data row1 col5\" >0.17%</td>\n",
              "                        <td id=\"T_65949e20_d1d8_11eb_9cdb_0242ac1c0002row1_col6\" class=\"data row1 col6\" >98.70%</td>\n",
              "                        <td id=\"T_65949e20_d1d8_11eb_9cdb_0242ac1c0002row1_col7\" class=\"data row1 col7\" >63.20%</td>\n",
              "                        <td id=\"T_65949e20_d1d8_11eb_9cdb_0242ac1c0002row1_col8\" class=\"data row1 col8\" >2.12%</td>\n",
              "                        <td id=\"T_65949e20_d1d8_11eb_9cdb_0242ac1c0002row1_col9\" class=\"data row1 col9\" >0.05%</td>\n",
              "                        <td id=\"T_65949e20_d1d8_11eb_9cdb_0242ac1c0002row1_col10\" class=\"data row1 col10\" >0.00%</td>\n",
              "                        <td id=\"T_65949e20_d1d8_11eb_9cdb_0242ac1c0002row1_col11\" class=\"data row1 col11\" >0.63%</td>\n",
              "                        <td id=\"T_65949e20_d1d8_11eb_9cdb_0242ac1c0002row1_col12\" class=\"data row1 col12\" >0.01%</td>\n",
              "                        <td id=\"T_65949e20_d1d8_11eb_9cdb_0242ac1c0002row1_col13\" class=\"data row1 col13\" >3.85%</td>\n",
              "                        <td id=\"T_65949e20_d1d8_11eb_9cdb_0242ac1c0002row1_col14\" class=\"data row1 col14\" >0.00%</td>\n",
              "            </tr>\n",
              "            <tr>\n",
              "                        <th id=\"T_65949e20_d1d8_11eb_9cdb_0242ac1c0002level0_row2\" class=\"row_heading level0 row2\" >Business</th>\n",
              "                        <td id=\"T_65949e20_d1d8_11eb_9cdb_0242ac1c0002row2_col0\" class=\"data row2 col0\" >0.17%</td>\n",
              "                        <td id=\"T_65949e20_d1d8_11eb_9cdb_0242ac1c0002row2_col1\" class=\"data row2 col1\" >0.06%</td>\n",
              "                        <td id=\"T_65949e20_d1d8_11eb_9cdb_0242ac1c0002row2_col2\" class=\"data row2 col2\" >4.62%</td>\n",
              "                        <td id=\"T_65949e20_d1d8_11eb_9cdb_0242ac1c0002row2_col3\" class=\"data row2 col3\" >0.03%</td>\n",
              "                        <td id=\"T_65949e20_d1d8_11eb_9cdb_0242ac1c0002row2_col4\" class=\"data row2 col4\" >0.11%</td>\n",
              "                        <td id=\"T_65949e20_d1d8_11eb_9cdb_0242ac1c0002row2_col5\" class=\"data row2 col5\" >14.84%</td>\n",
              "                        <td id=\"T_65949e20_d1d8_11eb_9cdb_0242ac1c0002row2_col6\" class=\"data row2 col6\" >0.06%</td>\n",
              "                        <td id=\"T_65949e20_d1d8_11eb_9cdb_0242ac1c0002row2_col7\" class=\"data row2 col7\" >0.90%</td>\n",
              "                        <td id=\"T_65949e20_d1d8_11eb_9cdb_0242ac1c0002row2_col8\" class=\"data row2 col8\" >3.82%</td>\n",
              "                        <td id=\"T_65949e20_d1d8_11eb_9cdb_0242ac1c0002row2_col9\" class=\"data row2 col9\" >88.04%</td>\n",
              "                        <td id=\"T_65949e20_d1d8_11eb_9cdb_0242ac1c0002row2_col10\" class=\"data row2 col10\" >0.02%</td>\n",
              "                        <td id=\"T_65949e20_d1d8_11eb_9cdb_0242ac1c0002row2_col11\" class=\"data row2 col11\" >1.39%</td>\n",
              "                        <td id=\"T_65949e20_d1d8_11eb_9cdb_0242ac1c0002row2_col12\" class=\"data row2 col12\" >96.77%</td>\n",
              "                        <td id=\"T_65949e20_d1d8_11eb_9cdb_0242ac1c0002row2_col13\" class=\"data row2 col13\" >4.15%</td>\n",
              "                        <td id=\"T_65949e20_d1d8_11eb_9cdb_0242ac1c0002row2_col14\" class=\"data row2 col14\" >0.18%</td>\n",
              "            </tr>\n",
              "            <tr>\n",
              "                        <th id=\"T_65949e20_d1d8_11eb_9cdb_0242ac1c0002level0_row3\" class=\"row_heading level0 row3\" >Sci/Tech</th>\n",
              "                        <td id=\"T_65949e20_d1d8_11eb_9cdb_0242ac1c0002row3_col0\" class=\"data row3 col0\" >0.46%</td>\n",
              "                        <td id=\"T_65949e20_d1d8_11eb_9cdb_0242ac1c0002row3_col1\" class=\"data row3 col1\" >0.00%</td>\n",
              "                        <td id=\"T_65949e20_d1d8_11eb_9cdb_0242ac1c0002row3_col2\" class=\"data row3 col2\" >95.25%</td>\n",
              "                        <td id=\"T_65949e20_d1d8_11eb_9cdb_0242ac1c0002row3_col3\" class=\"data row3 col3\" >0.09%</td>\n",
              "                        <td id=\"T_65949e20_d1d8_11eb_9cdb_0242ac1c0002row3_col4\" class=\"data row3 col4\" >0.03%</td>\n",
              "                        <td id=\"T_65949e20_d1d8_11eb_9cdb_0242ac1c0002row3_col5\" class=\"data row3 col5\" >84.24%</td>\n",
              "                        <td id=\"T_65949e20_d1d8_11eb_9cdb_0242ac1c0002row3_col6\" class=\"data row3 col6\" >0.27%</td>\n",
              "                        <td id=\"T_65949e20_d1d8_11eb_9cdb_0242ac1c0002row3_col7\" class=\"data row3 col7\" >4.25%</td>\n",
              "                        <td id=\"T_65949e20_d1d8_11eb_9cdb_0242ac1c0002row3_col8\" class=\"data row3 col8\" >1.74%</td>\n",
              "                        <td id=\"T_65949e20_d1d8_11eb_9cdb_0242ac1c0002row3_col9\" class=\"data row3 col9\" >9.38%</td>\n",
              "                        <td id=\"T_65949e20_d1d8_11eb_9cdb_0242ac1c0002row3_col10\" class=\"data row3 col10\" >0.00%</td>\n",
              "                        <td id=\"T_65949e20_d1d8_11eb_9cdb_0242ac1c0002row3_col11\" class=\"data row3 col11\" >97.75%</td>\n",
              "                        <td id=\"T_65949e20_d1d8_11eb_9cdb_0242ac1c0002row3_col12\" class=\"data row3 col12\" >1.22%</td>\n",
              "                        <td id=\"T_65949e20_d1d8_11eb_9cdb_0242ac1c0002row3_col13\" class=\"data row3 col13\" >1.67%</td>\n",
              "                        <td id=\"T_65949e20_d1d8_11eb_9cdb_0242ac1c0002row3_col14\" class=\"data row3 col14\" >0.02%</td>\n",
              "            </tr>\n",
              "    </tbody></table>"
            ],
            "text/plain": [
              "<pandas.io.formats.style.Styler at 0x7f6a2a0d4a90>"
            ]
          },
          "metadata": {
            "tags": []
          },
          "execution_count": 66
        }
      ]
    },
    {
      "cell_type": "markdown",
      "metadata": {
        "id": "A3RlxHyPTCrD"
      },
      "source": [
        "#### Model Architecture Summary Single Layer Bidirectional RNN"
      ]
    },
    {
      "cell_type": "code",
      "metadata": {
        "colab": {
          "base_uri": "https://localhost:8080/"
        },
        "id": "idRIHfoySu12",
        "outputId": "ed31f258-94ab-4e62-c17f-8c0f42d2ca25"
      },
      "source": [
        "model2.summary()"
      ],
      "execution_count": 67,
      "outputs": [
        {
          "output_type": "stream",
          "text": [
            "Model: \"sequential_1\"\n",
            "_________________________________________________________________\n",
            "Layer (type)                 Output Shape              Param #   \n",
            "=================================================================\n",
            "text_vectorization_2 (TextVe (None, None)              0         \n",
            "_________________________________________________________________\n",
            "embedding_1 (Embedding)      (None, None, 64)          64000     \n",
            "_________________________________________________________________\n",
            "bidirectional_1 (Bidirection (None, None, 128)         66048     \n",
            "_________________________________________________________________\n",
            "bidirectional_2 (Bidirection (None, 64)                41216     \n",
            "_________________________________________________________________\n",
            "dense_2 (Dense)              (None, 64)                4160      \n",
            "_________________________________________________________________\n",
            "dropout (Dropout)            (None, 64)                0         \n",
            "_________________________________________________________________\n",
            "dense_3 (Dense)              (None, 4)                 260       \n",
            "=================================================================\n",
            "Total params: 175,684\n",
            "Trainable params: 175,684\n",
            "Non-trainable params: 0\n",
            "_________________________________________________________________\n"
          ],
          "name": "stdout"
        }
      ]
    },
    {
      "cell_type": "code",
      "metadata": {
        "colab": {
          "base_uri": "https://localhost:8080/",
          "height": 865
        },
        "id": "o01y6ZMVTF8J",
        "scrolled": false,
        "outputId": "83fec439-e4ff-4392-95ed-7a217076c9fe"
      },
      "source": [
        "keras.utils.plot_model(model2, \"2Layer_BiDirectionalLSTM.png\", show_shapes=True)"
      ],
      "execution_count": 68,
      "outputs": [
        {
          "output_type": "execute_result",
          "data": {
            "image/png": "[encoded data removed]",
            "text/plain": [
              "<IPython.core.display.Image object>"
            ]
          },
          "metadata": {
            "tags": []
          },
          "execution_count": 68
        }
      ]
    },
    {
      "cell_type": "markdown",
      "metadata": {
        "id": "9xvpE3BaGw_V"
      },
      "source": [
        "Check out other existing recurrent layers such as [GRU layers](https://www.tensorflow.org/api_docs/python/tf/keras/layers/GRU).\n",
        "\n",
        "If you're interestied in building custom RNNs, see the [Keras RNN Guide](../../guide/keras/rnn.ipynb).\n"
      ]
    }
  ]
}